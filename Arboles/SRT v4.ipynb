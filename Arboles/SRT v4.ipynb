{
  "cells": [
    {
      "cell_type": "markdown",
      "metadata": {
        "id": "view-in-github",
        "colab_type": "text"
      },
      "source": [
        "<a href=\"https://colab.research.google.com/github/gabrielfernandorey/GGGR/blob/main/Arboles/SRT%20v4.ipynb\" target=\"_parent\"><img src=\"https://colab.research.google.com/assets/colab-badge.svg\" alt=\"Open In Colab\"/></a>"
      ]
    },
    {
      "cell_type": "markdown",
      "id": "be0217b9-8b6c-4429-8e76-7cce472452ad",
      "metadata": {
        "id": "be0217b9-8b6c-4429-8e76-7cce472452ad"
      },
      "source": [
        "# SRT v4 - Ensayo\n",
        "### Arboles de regresion - Nuevo Dataset"
      ]
    },
    {
      "cell_type": "code",
      "execution_count": 1,
      "id": "ee2f0def-1256-4a77-b522-b57e2504e885",
      "metadata": {
        "id": "ee2f0def-1256-4a77-b522-b57e2504e885"
      },
      "outputs": [],
      "source": [
        "import random\n",
        "import string\n",
        "import pandas as pd\n",
        "import numpy as np\n",
        "from datetime import date\n",
        "\n",
        "import matplotlib.pyplot as plt\n",
        "%matplotlib inline\n",
        "import seaborn as sns\n",
        "sns.set() # setting seaborn default for plots\n",
        "\n",
        "from sklearn.model_selection import train_test_split\n",
        "from sklearn.tree import DecisionTreeRegressor\n",
        "from sklearn.ensemble import RandomForestRegressor, ExtraTreesRegressor\n",
        "from sklearn.preprocessing import MinMaxScaler\n",
        "from sklearn.metrics import mean_squared_error\n",
        "from sklearn.metrics import r2_score\n"
      ]
    },
    {
      "cell_type": "markdown",
      "id": "fcdf3ad9-29c6-41e3-870c-3e428fc1523e",
      "metadata": {
        "id": "fcdf3ad9-29c6-41e3-870c-3e428fc1523e"
      },
      "source": [
        "### Importamos Datos"
      ]
    },
    {
      "cell_type": "code",
      "source": [
        "!wget https://raw.githubusercontent.com/gabrielfernandorey/GGGR/main/alfanumerico_SRT.csv"
      ],
      "metadata": {
        "id": "0fgNq4wh5wvl",
        "outputId": "160ca87e-22a6-4715-f361-a46344df9ac3",
        "colab": {
          "base_uri": "https://localhost:8080/"
        }
      },
      "id": "0fgNq4wh5wvl",
      "execution_count": 2,
      "outputs": [
        {
          "output_type": "stream",
          "name": "stdout",
          "text": [
            "--2023-05-08 13:48:54--  https://raw.githubusercontent.com/gabrielfernandorey/GGGR/main/alfanumerico_SRT.csv\n",
            "Resolving raw.githubusercontent.com (raw.githubusercontent.com)... 185.199.111.133, 185.199.108.133, 185.199.110.133, ...\n",
            "Connecting to raw.githubusercontent.com (raw.githubusercontent.com)|185.199.111.133|:443... connected.\n",
            "HTTP request sent, awaiting response... 200 OK\n",
            "Length: 29796040 (28M) [text/plain]\n",
            "Saving to: ‘alfanumerico_SRT.csv’\n",
            "\n",
            "alfanumerico_SRT.cs 100%[===================>]  28.42M   131MB/s    in 0.2s    \n",
            "\n",
            "2023-05-08 13:48:55 (131 MB/s) - ‘alfanumerico_SRT.csv’ saved [29796040/29796040]\n",
            "\n"
          ]
        }
      ]
    },
    {
      "cell_type": "code",
      "source": [
        "df = pd.read_csv('/content/alfanumerico_SRT.csv', header=0, usecols=[1,2,3,4])\n",
        "df"
      ],
      "metadata": {
        "id": "GbqJy-dc7_oY",
        "outputId": "a863be1b-7015-4fbc-9013-082abed340c5",
        "colab": {
          "base_uri": "https://localhost:8080/",
          "height": 423
        }
      },
      "id": "GbqJy-dc7_oY",
      "execution_count": 3,
      "outputs": [
        {
          "output_type": "execute_result",
          "data": {
            "text/plain": [
              "           codigo   año  mes  total_cp\n",
              "0        X5001COC  1996    5         1\n",
              "1        B1602EIB  1996    7         1\n",
              "2        B1625XAF  1996    7         1\n",
              "3        B1651FNF  1996    7         1\n",
              "4        B1688GEV  1996    7         1\n",
              "...           ...   ...  ...       ...\n",
              "1166442  X5901AEA  2023    5         1\n",
              "1166443  X5960FLM  2023    5         1\n",
              "1166444  X5971ALF  2023    5         1\n",
              "1166445  Y4500XAL  2023    5         1\n",
              "1166446  Y4604CJC  2023    5         1\n",
              "\n",
              "[1166447 rows x 4 columns]"
            ],
            "text/html": [
              "\n",
              "  <div id=\"df-87684ced-f5a6-496f-bcfd-5522c5355de0\">\n",
              "    <div class=\"colab-df-container\">\n",
              "      <div>\n",
              "<style scoped>\n",
              "    .dataframe tbody tr th:only-of-type {\n",
              "        vertical-align: middle;\n",
              "    }\n",
              "\n",
              "    .dataframe tbody tr th {\n",
              "        vertical-align: top;\n",
              "    }\n",
              "\n",
              "    .dataframe thead th {\n",
              "        text-align: right;\n",
              "    }\n",
              "</style>\n",
              "<table border=\"1\" class=\"dataframe\">\n",
              "  <thead>\n",
              "    <tr style=\"text-align: right;\">\n",
              "      <th></th>\n",
              "      <th>codigo</th>\n",
              "      <th>año</th>\n",
              "      <th>mes</th>\n",
              "      <th>total_cp</th>\n",
              "    </tr>\n",
              "  </thead>\n",
              "  <tbody>\n",
              "    <tr>\n",
              "      <th>0</th>\n",
              "      <td>X5001COC</td>\n",
              "      <td>1996</td>\n",
              "      <td>5</td>\n",
              "      <td>1</td>\n",
              "    </tr>\n",
              "    <tr>\n",
              "      <th>1</th>\n",
              "      <td>B1602EIB</td>\n",
              "      <td>1996</td>\n",
              "      <td>7</td>\n",
              "      <td>1</td>\n",
              "    </tr>\n",
              "    <tr>\n",
              "      <th>2</th>\n",
              "      <td>B1625XAF</td>\n",
              "      <td>1996</td>\n",
              "      <td>7</td>\n",
              "      <td>1</td>\n",
              "    </tr>\n",
              "    <tr>\n",
              "      <th>3</th>\n",
              "      <td>B1651FNF</td>\n",
              "      <td>1996</td>\n",
              "      <td>7</td>\n",
              "      <td>1</td>\n",
              "    </tr>\n",
              "    <tr>\n",
              "      <th>4</th>\n",
              "      <td>B1688GEV</td>\n",
              "      <td>1996</td>\n",
              "      <td>7</td>\n",
              "      <td>1</td>\n",
              "    </tr>\n",
              "    <tr>\n",
              "      <th>...</th>\n",
              "      <td>...</td>\n",
              "      <td>...</td>\n",
              "      <td>...</td>\n",
              "      <td>...</td>\n",
              "    </tr>\n",
              "    <tr>\n",
              "      <th>1166442</th>\n",
              "      <td>X5901AEA</td>\n",
              "      <td>2023</td>\n",
              "      <td>5</td>\n",
              "      <td>1</td>\n",
              "    </tr>\n",
              "    <tr>\n",
              "      <th>1166443</th>\n",
              "      <td>X5960FLM</td>\n",
              "      <td>2023</td>\n",
              "      <td>5</td>\n",
              "      <td>1</td>\n",
              "    </tr>\n",
              "    <tr>\n",
              "      <th>1166444</th>\n",
              "      <td>X5971ALF</td>\n",
              "      <td>2023</td>\n",
              "      <td>5</td>\n",
              "      <td>1</td>\n",
              "    </tr>\n",
              "    <tr>\n",
              "      <th>1166445</th>\n",
              "      <td>Y4500XAL</td>\n",
              "      <td>2023</td>\n",
              "      <td>5</td>\n",
              "      <td>1</td>\n",
              "    </tr>\n",
              "    <tr>\n",
              "      <th>1166446</th>\n",
              "      <td>Y4604CJC</td>\n",
              "      <td>2023</td>\n",
              "      <td>5</td>\n",
              "      <td>1</td>\n",
              "    </tr>\n",
              "  </tbody>\n",
              "</table>\n",
              "<p>1166447 rows × 4 columns</p>\n",
              "</div>\n",
              "      <button class=\"colab-df-convert\" onclick=\"convertToInteractive('df-87684ced-f5a6-496f-bcfd-5522c5355de0')\"\n",
              "              title=\"Convert this dataframe to an interactive table.\"\n",
              "              style=\"display:none;\">\n",
              "        \n",
              "  <svg xmlns=\"http://www.w3.org/2000/svg\" height=\"24px\"viewBox=\"0 0 24 24\"\n",
              "       width=\"24px\">\n",
              "    <path d=\"M0 0h24v24H0V0z\" fill=\"none\"/>\n",
              "    <path d=\"M18.56 5.44l.94 2.06.94-2.06 2.06-.94-2.06-.94-.94-2.06-.94 2.06-2.06.94zm-11 1L8.5 8.5l.94-2.06 2.06-.94-2.06-.94L8.5 2.5l-.94 2.06-2.06.94zm10 10l.94 2.06.94-2.06 2.06-.94-2.06-.94-.94-2.06-.94 2.06-2.06.94z\"/><path d=\"M17.41 7.96l-1.37-1.37c-.4-.4-.92-.59-1.43-.59-.52 0-1.04.2-1.43.59L10.3 9.45l-7.72 7.72c-.78.78-.78 2.05 0 2.83L4 21.41c.39.39.9.59 1.41.59.51 0 1.02-.2 1.41-.59l7.78-7.78 2.81-2.81c.8-.78.8-2.07 0-2.86zM5.41 20L4 18.59l7.72-7.72 1.47 1.35L5.41 20z\"/>\n",
              "  </svg>\n",
              "      </button>\n",
              "      \n",
              "  <style>\n",
              "    .colab-df-container {\n",
              "      display:flex;\n",
              "      flex-wrap:wrap;\n",
              "      gap: 12px;\n",
              "    }\n",
              "\n",
              "    .colab-df-convert {\n",
              "      background-color: #E8F0FE;\n",
              "      border: none;\n",
              "      border-radius: 50%;\n",
              "      cursor: pointer;\n",
              "      display: none;\n",
              "      fill: #1967D2;\n",
              "      height: 32px;\n",
              "      padding: 0 0 0 0;\n",
              "      width: 32px;\n",
              "    }\n",
              "\n",
              "    .colab-df-convert:hover {\n",
              "      background-color: #E2EBFA;\n",
              "      box-shadow: 0px 1px 2px rgba(60, 64, 67, 0.3), 0px 1px 3px 1px rgba(60, 64, 67, 0.15);\n",
              "      fill: #174EA6;\n",
              "    }\n",
              "\n",
              "    [theme=dark] .colab-df-convert {\n",
              "      background-color: #3B4455;\n",
              "      fill: #D2E3FC;\n",
              "    }\n",
              "\n",
              "    [theme=dark] .colab-df-convert:hover {\n",
              "      background-color: #434B5C;\n",
              "      box-shadow: 0px 1px 3px 1px rgba(0, 0, 0, 0.15);\n",
              "      filter: drop-shadow(0px 1px 2px rgba(0, 0, 0, 0.3));\n",
              "      fill: #FFFFFF;\n",
              "    }\n",
              "  </style>\n",
              "\n",
              "      <script>\n",
              "        const buttonEl =\n",
              "          document.querySelector('#df-87684ced-f5a6-496f-bcfd-5522c5355de0 button.colab-df-convert');\n",
              "        buttonEl.style.display =\n",
              "          google.colab.kernel.accessAllowed ? 'block' : 'none';\n",
              "\n",
              "        async function convertToInteractive(key) {\n",
              "          const element = document.querySelector('#df-87684ced-f5a6-496f-bcfd-5522c5355de0');\n",
              "          const dataTable =\n",
              "            await google.colab.kernel.invokeFunction('convertToInteractive',\n",
              "                                                     [key], {});\n",
              "          if (!dataTable) return;\n",
              "\n",
              "          const docLinkHtml = 'Like what you see? Visit the ' +\n",
              "            '<a target=\"_blank\" href=https://colab.research.google.com/notebooks/data_table.ipynb>data table notebook</a>'\n",
              "            + ' to learn more about interactive tables.';\n",
              "          element.innerHTML = '';\n",
              "          dataTable['output_type'] = 'display_data';\n",
              "          await google.colab.output.renderOutput(dataTable, element);\n",
              "          const docLink = document.createElement('div');\n",
              "          docLink.innerHTML = docLinkHtml;\n",
              "          element.appendChild(docLink);\n",
              "        }\n",
              "      </script>\n",
              "    </div>\n",
              "  </div>\n",
              "  "
            ]
          },
          "metadata": {},
          "execution_count": 3
        }
      ]
    },
    {
      "cell_type": "markdown",
      "id": "9ae861c9-62bd-4405-ba10-59273bbc588d",
      "metadata": {
        "id": "9ae861c9-62bd-4405-ba10-59273bbc588d"
      },
      "source": [
        "### EDA"
      ]
    },
    {
      "cell_type": "code",
      "execution_count": 4,
      "id": "f8be169a-0b97-4ca2-a3f2-6b2470bb9483",
      "metadata": {
        "id": "f8be169a-0b97-4ca2-a3f2-6b2470bb9483",
        "outputId": "24ee621d-daf7-4084-f5f0-bcd66de99545",
        "colab": {
          "base_uri": "https://localhost:8080/"
        }
      },
      "outputs": [
        {
          "output_type": "stream",
          "name": "stdout",
          "text": [
            "<class 'pandas.core.frame.DataFrame'>\n",
            "RangeIndex: 1166447 entries, 0 to 1166446\n",
            "Data columns (total 4 columns):\n",
            " #   Column    Non-Null Count    Dtype \n",
            "---  ------    --------------    ----- \n",
            " 0   codigo    1166447 non-null  object\n",
            " 1   año       1166447 non-null  int64 \n",
            " 2   mes       1166447 non-null  int64 \n",
            " 3   total_cp  1166447 non-null  int64 \n",
            "dtypes: int64(3), object(1)\n",
            "memory usage: 35.6+ MB\n"
          ]
        }
      ],
      "source": [
        "df.info()"
      ]
    },
    {
      "cell_type": "markdown",
      "id": "bcd86f36-bcce-42cc-8f71-d20ff543b37f",
      "metadata": {
        "id": "bcd86f36-bcce-42cc-8f71-d20ff543b37f"
      },
      "source": [
        "#### Verificamos cantidad de registros por codigo"
      ]
    },
    {
      "cell_type": "code",
      "source": [
        "# codigos unicos\n",
        "contador = df['codigo'].value_counts()\n",
        "contador"
      ],
      "metadata": {
        "id": "sHc4liK2GdOv",
        "outputId": "47c0a0e4-1825-44d3-de9a-d6e8209a1aec",
        "colab": {
          "base_uri": "https://localhost:8080/"
        }
      },
      "id": "sHc4liK2GdOv",
      "execution_count": 5,
      "outputs": [
        {
          "output_type": "execute_result",
          "data": {
            "text/plain": [
              "B1900AWW    231\n",
              "B1902CLF    217\n",
              "G4200AAA    214\n",
              "S2000AAA    212\n",
              "S2000CMO    209\n",
              "           ... \n",
              "B1610BTD      1\n",
              "B1609KJN      1\n",
              "B1609JIE      1\n",
              "B1609IYA      1\n",
              "X5011EKT      1\n",
              "Name: codigo, Length: 205186, dtype: int64"
            ]
          },
          "metadata": {},
          "execution_count": 5
        }
      ]
    },
    {
      "cell_type": "markdown",
      "id": "a8b9b789-aa2c-4414-bcd4-f01e7f78a50d",
      "metadata": {
        "id": "a8b9b789-aa2c-4414-bcd4-f01e7f78a50d"
      },
      "source": [
        "### Transformacion"
      ]
    },
    {
      "cell_type": "markdown",
      "source": [
        "#### LabelEncoder"
      ],
      "metadata": {
        "id": "u1vvvWL8I0Hn"
      },
      "id": "u1vvvWL8I0Hn"
    },
    {
      "cell_type": "code",
      "source": [
        "from sklearn.preprocessing import LabelEncoder"
      ],
      "metadata": {
        "id": "Al60laLtI6Yt"
      },
      "id": "Al60laLtI6Yt",
      "execution_count": 6,
      "outputs": []
    },
    {
      "cell_type": "code",
      "source": [
        "# Crear una instancia de OneHotEncoder\n",
        "encoder = LabelEncoder()"
      ],
      "metadata": {
        "id": "iplrmyY9I-cx"
      },
      "id": "iplrmyY9I-cx",
      "execution_count": 7,
      "outputs": []
    },
    {
      "cell_type": "code",
      "source": [
        "# Codificar los valores alfanuméricos\n",
        "X_encoded = encoder.fit_transform(df.codigo.values.reshape(-1,))"
      ],
      "metadata": {
        "id": "fzyWbIdJJA2_"
      },
      "id": "fzyWbIdJJA2_",
      "execution_count": 8,
      "outputs": []
    },
    {
      "cell_type": "code",
      "source": [
        "X_encoded.shape"
      ],
      "metadata": {
        "id": "q6PQs-26JEp_",
        "outputId": "477f3fbc-afe6-4008-838c-84124e2ea444",
        "colab": {
          "base_uri": "https://localhost:8080/"
        }
      },
      "id": "q6PQs-26JEp_",
      "execution_count": 9,
      "outputs": [
        {
          "output_type": "execute_result",
          "data": {
            "text/plain": [
              "(1166447,)"
            ]
          },
          "metadata": {},
          "execution_count": 9
        }
      ]
    },
    {
      "cell_type": "markdown",
      "id": "c7aeb951-b8e7-4e6b-9eea-15ca3d61513b",
      "metadata": {
        "id": "c7aeb951-b8e7-4e6b-9eea-15ca3d61513b"
      },
      "source": [
        "#### Embeddings"
      ]
    },
    {
      "cell_type": "code",
      "execution_count": 10,
      "id": "993b6bc0-be93-48c4-a22c-528fee7ef3de",
      "metadata": {
        "id": "993b6bc0-be93-48c4-a22c-528fee7ef3de"
      },
      "outputs": [],
      "source": [
        "tamano_embedding = 50"
      ]
    },
    {
      "cell_type": "code",
      "execution_count": 11,
      "id": "418dc630-a060-4fde-9da8-e3b1217ba441",
      "metadata": {
        "id": "418dc630-a060-4fde-9da8-e3b1217ba441"
      },
      "outputs": [],
      "source": [
        "matriz_embedding = np.random.rand(len(encoder.classes_), tamano_embedding)"
      ]
    },
    {
      "cell_type": "code",
      "execution_count": 12,
      "id": "282b545d-0753-4055-8716-8493b7022ac9",
      "metadata": {
        "id": "282b545d-0753-4055-8716-8493b7022ac9",
        "outputId": "cec7cc69-8cd7-40ca-db0f-913b9654aab3",
        "colab": {
          "base_uri": "https://localhost:8080/"
        }
      },
      "outputs": [
        {
          "output_type": "execute_result",
          "data": {
            "text/plain": [
              "array([[0.32653033, 0.61174752, 0.88211764, ..., 0.26720338, 0.1208843 ,\n",
              "        0.15170092],\n",
              "       [0.19898143, 0.69731844, 0.03483659, ..., 0.97802971, 0.78119642,\n",
              "        0.01545656],\n",
              "       [0.51286677, 0.45182568, 0.516654  , ..., 0.59072826, 0.00858604,\n",
              "        0.84781678],\n",
              "       ...,\n",
              "       [0.89505477, 0.29591463, 0.08022813, ..., 0.60172821, 0.74781572,\n",
              "        0.53773811],\n",
              "       [0.48029604, 0.67669575, 0.00865717, ..., 0.96332349, 0.82993892,\n",
              "        0.44240867],\n",
              "       [0.43211904, 0.81613542, 0.66662023, ..., 0.42117339, 0.79361404,\n",
              "        0.12185044]])"
            ]
          },
          "metadata": {},
          "execution_count": 12
        }
      ],
      "source": [
        "matriz_embedding"
      ]
    },
    {
      "cell_type": "code",
      "execution_count": 13,
      "id": "0a70927e-2f4e-47b1-b756-306f0921fba8",
      "metadata": {
        "id": "0a70927e-2f4e-47b1-b756-306f0921fba8",
        "outputId": "76012f51-ccf6-4cb9-8b0d-51274c1fb7d8",
        "colab": {
          "base_uri": "https://localhost:8080/"
        }
      },
      "outputs": [
        {
          "output_type": "execute_result",
          "data": {
            "text/plain": [
              "array(['A1262AAA', 'A1419AAA', 'A1425AAA', ..., 'Z9408ACK', 'Z9408ALA',\n",
              "       'Z9420XAA'], dtype=object)"
            ]
          },
          "metadata": {},
          "execution_count": 13
        }
      ],
      "source": [
        "encoder.classes_"
      ]
    },
    {
      "cell_type": "code",
      "execution_count": 14,
      "id": "9353964d-a402-4647-b703-71af49a76533",
      "metadata": {
        "id": "9353964d-a402-4647-b703-71af49a76533"
      },
      "outputs": [],
      "source": [
        "# Vectores de embeddings asociados a un valor por cada atributo\n",
        "atributos_embeddings = matriz_embedding[X_encoded]"
      ]
    },
    {
      "cell_type": "code",
      "execution_count": 15,
      "id": "c2e59222-deec-42e5-aab8-76deba25d7f5",
      "metadata": {
        "id": "c2e59222-deec-42e5-aab8-76deba25d7f5",
        "outputId": "eeb21bf1-9b55-43e9-cc81-3f7071b6d4a5",
        "colab": {
          "base_uri": "https://localhost:8080/"
        }
      },
      "outputs": [
        {
          "output_type": "execute_result",
          "data": {
            "text/plain": [
              "(1166447, 50)"
            ]
          },
          "metadata": {},
          "execution_count": 15
        }
      ],
      "source": [
        "atributos_embeddings.shape"
      ]
    },
    {
      "cell_type": "markdown",
      "id": "24abcfb3-f8c8-4d7e-b1bd-2fa670d27749",
      "metadata": {
        "id": "24abcfb3-f8c8-4d7e-b1bd-2fa670d27749"
      },
      "source": [
        "#### Verificacion embeddings"
      ]
    },
    {
      "cell_type": "code",
      "execution_count": 16,
      "id": "8c5df68f-afe7-469c-826c-1fe17580b1ed",
      "metadata": {
        "id": "8c5df68f-afe7-469c-826c-1fe17580b1ed",
        "outputId": "6ecb056a-ea72-4659-8876-ebb0700b8edc",
        "colab": {
          "base_uri": "https://localhost:8080/",
          "height": 36
        }
      },
      "outputs": [
        {
          "output_type": "execute_result",
          "data": {
            "text/plain": [
              "'A1262AAA'"
            ],
            "application/vnd.google.colaboratory.intrinsic+json": {
              "type": "string"
            }
          },
          "metadata": {},
          "execution_count": 16
        }
      ],
      "source": [
        "i = 0\n",
        "encoder.classes_[i]"
      ]
    },
    {
      "cell_type": "code",
      "execution_count": 17,
      "id": "ee15331d-fee9-498c-9371-e191bb062aba",
      "metadata": {
        "id": "ee15331d-fee9-498c-9371-e191bb062aba",
        "outputId": "3c63a624-8ede-4011-a5e5-a847d9e04c1d",
        "colab": {
          "base_uri": "https://localhost:8080/"
        }
      },
      "outputs": [
        {
          "output_type": "execute_result",
          "data": {
            "text/plain": [
              "array([0.32653033, 0.61174752, 0.88211764, 0.16446228, 0.17620714,\n",
              "       0.15224544, 0.55442193, 0.4383137 , 0.27358364, 0.54345363,\n",
              "       0.66726169, 0.02544758, 0.46238478, 0.93484179, 0.71256162,\n",
              "       0.27902185, 0.87873674, 0.8772273 , 0.71526496, 0.08843782,\n",
              "       0.03044528, 0.44497527, 0.76165401, 0.52041818, 0.7636257 ,\n",
              "       0.07641124, 0.00460429, 0.16511509, 0.86341046, 0.23738946,\n",
              "       0.06314073, 0.80703767, 0.45758173, 0.14578261, 0.90600556,\n",
              "       0.17564285, 0.93271087, 0.4654465 , 0.60458376, 0.9398685 ,\n",
              "       0.32392188, 0.78463673, 0.21443465, 0.52522054, 0.01472261,\n",
              "       0.92298414, 0.19763571, 0.26720338, 0.1208843 , 0.15170092])"
            ]
          },
          "metadata": {},
          "execution_count": 17
        }
      ],
      "source": [
        "matriz_embedding[i]"
      ]
    },
    {
      "cell_type": "code",
      "execution_count": 18,
      "id": "8a04dd88-cc0c-4674-8f31-afa0fe8b6c36",
      "metadata": {
        "id": "8a04dd88-cc0c-4674-8f31-afa0fe8b6c36",
        "outputId": "653c80a8-00bc-4fee-8454-9d0bd1f02f9e",
        "colab": {
          "base_uri": "https://localhost:8080/"
        }
      },
      "outputs": [
        {
          "output_type": "execute_result",
          "data": {
            "text/plain": [
              "(205186, 50)"
            ]
          },
          "metadata": {},
          "execution_count": 18
        }
      ],
      "source": [
        "matriz_embedding.shape"
      ]
    },
    {
      "cell_type": "markdown",
      "id": "6cf83f6d-a9a5-4aee-8de2-db60660d7689",
      "metadata": {
        "id": "6cf83f6d-a9a5-4aee-8de2-db60660d7689"
      },
      "source": [
        "#### Dataframe con datos de embeddings"
      ]
    },
    {
      "cell_type": "code",
      "execution_count": 19,
      "id": "5754823a-7335-44d8-b262-d38f5edd80ce",
      "metadata": {
        "id": "5754823a-7335-44d8-b262-d38f5edd80ce"
      },
      "outputs": [],
      "source": [
        "# Creamos un nuevo dataframe con los valores del embedding\n",
        "embedding_df = pd.DataFrame(matriz_embedding, columns=[f'emb_{i}' for i in range(matriz_embedding.shape[1])])"
      ]
    },
    {
      "cell_type": "code",
      "execution_count": 20,
      "id": "20c22010-61cc-446d-b9e2-2971d18c512c",
      "metadata": {
        "id": "20c22010-61cc-446d-b9e2-2971d18c512c",
        "outputId": "a9741082-17d8-41a6-becb-e32f93e4c56c",
        "colab": {
          "base_uri": "https://localhost:8080/",
          "height": 423
        }
      },
      "outputs": [
        {
          "output_type": "execute_result",
          "data": {
            "text/plain": [
              "           emb_0     emb_1     emb_2     emb_3     emb_4     emb_5     emb_6  \\\n",
              "0       0.326530  0.611748  0.882118  0.164462  0.176207  0.152245  0.554422   \n",
              "1       0.198981  0.697318  0.034837  0.062948  0.644676  0.160174  0.202338   \n",
              "2       0.512867  0.451826  0.516654  0.945119  0.705455  0.870973  0.633077   \n",
              "3       0.553704  0.674759  0.992458  0.785872  0.663809  0.047592  0.550526   \n",
              "4       0.820971  0.308511  0.486241  0.718364  0.846011  0.542756  0.433164   \n",
              "...          ...       ...       ...       ...       ...       ...       ...   \n",
              "205181  0.965015  0.160570  0.326092  0.496418  0.322414  0.671260  0.489540   \n",
              "205182  0.722321  0.117259  0.806001  0.660754  0.799244  0.290867  0.404143   \n",
              "205183  0.895055  0.295915  0.080228  0.459220  0.714829  0.426350  0.174358   \n",
              "205184  0.480296  0.676696  0.008657  0.418295  0.762984  0.842195  0.833123   \n",
              "205185  0.432119  0.816135  0.666620  0.957695  0.750783  0.491908  0.909842   \n",
              "\n",
              "           emb_7     emb_8     emb_9  ...    emb_40    emb_41    emb_42  \\\n",
              "0       0.438314  0.273584  0.543454  ...  0.323922  0.784637  0.214435   \n",
              "1       0.918043  0.621387  0.653049  ...  0.620228  0.365575  0.627100   \n",
              "2       0.990679  0.693407  0.241740  ...  0.176787  0.947998  0.823332   \n",
              "3       0.247041  0.085359  0.957419  ...  0.086392  0.949178  0.809218   \n",
              "4       0.809676  0.143494  0.243344  ...  0.280078  0.980890  0.446708   \n",
              "...          ...       ...       ...  ...       ...       ...       ...   \n",
              "205181  0.918601  0.245577  0.442386  ...  0.614680  0.281459  0.414236   \n",
              "205182  0.320122  0.695929  0.377674  ...  0.166511  0.523510  0.872427   \n",
              "205183  0.637981  0.341736  0.983143  ...  0.311873  0.422354  0.257732   \n",
              "205184  0.458767  0.653651  0.568604  ...  0.224526  0.390764  0.879675   \n",
              "205185  0.214309  0.742971  0.961266  ...  0.297629  0.174479  0.535592   \n",
              "\n",
              "          emb_43    emb_44    emb_45    emb_46    emb_47    emb_48    emb_49  \n",
              "0       0.525221  0.014723  0.922984  0.197636  0.267203  0.120884  0.151701  \n",
              "1       0.615194  0.413461  0.039790  0.846652  0.978030  0.781196  0.015457  \n",
              "2       0.736080  0.855008  0.588906  0.993744  0.590728  0.008586  0.847817  \n",
              "3       0.379437  0.409824  0.277389  0.896852  0.999689  0.491528  0.832996  \n",
              "4       0.936820  0.581034  0.308000  0.451249  0.401096  0.377704  0.789802  \n",
              "...          ...       ...       ...       ...       ...       ...       ...  \n",
              "205181  0.664278  0.439956  0.880057  0.574346  0.088072  0.205870  0.691506  \n",
              "205182  0.134945  0.933456  0.275213  0.980894  0.272448  0.539382  0.171134  \n",
              "205183  0.327046  0.280168  0.084878  0.342770  0.601728  0.747816  0.537738  \n",
              "205184  0.188503  0.995155  0.826528  0.312014  0.963323  0.829939  0.442409  \n",
              "205185  0.835478  0.465716  0.607728  0.273820  0.421173  0.793614  0.121850  \n",
              "\n",
              "[205186 rows x 50 columns]"
            ],
            "text/html": [
              "\n",
              "  <div id=\"df-dd686b09-34d0-4eae-b744-12d27e7732ef\">\n",
              "    <div class=\"colab-df-container\">\n",
              "      <div>\n",
              "<style scoped>\n",
              "    .dataframe tbody tr th:only-of-type {\n",
              "        vertical-align: middle;\n",
              "    }\n",
              "\n",
              "    .dataframe tbody tr th {\n",
              "        vertical-align: top;\n",
              "    }\n",
              "\n",
              "    .dataframe thead th {\n",
              "        text-align: right;\n",
              "    }\n",
              "</style>\n",
              "<table border=\"1\" class=\"dataframe\">\n",
              "  <thead>\n",
              "    <tr style=\"text-align: right;\">\n",
              "      <th></th>\n",
              "      <th>emb_0</th>\n",
              "      <th>emb_1</th>\n",
              "      <th>emb_2</th>\n",
              "      <th>emb_3</th>\n",
              "      <th>emb_4</th>\n",
              "      <th>emb_5</th>\n",
              "      <th>emb_6</th>\n",
              "      <th>emb_7</th>\n",
              "      <th>emb_8</th>\n",
              "      <th>emb_9</th>\n",
              "      <th>...</th>\n",
              "      <th>emb_40</th>\n",
              "      <th>emb_41</th>\n",
              "      <th>emb_42</th>\n",
              "      <th>emb_43</th>\n",
              "      <th>emb_44</th>\n",
              "      <th>emb_45</th>\n",
              "      <th>emb_46</th>\n",
              "      <th>emb_47</th>\n",
              "      <th>emb_48</th>\n",
              "      <th>emb_49</th>\n",
              "    </tr>\n",
              "  </thead>\n",
              "  <tbody>\n",
              "    <tr>\n",
              "      <th>0</th>\n",
              "      <td>0.326530</td>\n",
              "      <td>0.611748</td>\n",
              "      <td>0.882118</td>\n",
              "      <td>0.164462</td>\n",
              "      <td>0.176207</td>\n",
              "      <td>0.152245</td>\n",
              "      <td>0.554422</td>\n",
              "      <td>0.438314</td>\n",
              "      <td>0.273584</td>\n",
              "      <td>0.543454</td>\n",
              "      <td>...</td>\n",
              "      <td>0.323922</td>\n",
              "      <td>0.784637</td>\n",
              "      <td>0.214435</td>\n",
              "      <td>0.525221</td>\n",
              "      <td>0.014723</td>\n",
              "      <td>0.922984</td>\n",
              "      <td>0.197636</td>\n",
              "      <td>0.267203</td>\n",
              "      <td>0.120884</td>\n",
              "      <td>0.151701</td>\n",
              "    </tr>\n",
              "    <tr>\n",
              "      <th>1</th>\n",
              "      <td>0.198981</td>\n",
              "      <td>0.697318</td>\n",
              "      <td>0.034837</td>\n",
              "      <td>0.062948</td>\n",
              "      <td>0.644676</td>\n",
              "      <td>0.160174</td>\n",
              "      <td>0.202338</td>\n",
              "      <td>0.918043</td>\n",
              "      <td>0.621387</td>\n",
              "      <td>0.653049</td>\n",
              "      <td>...</td>\n",
              "      <td>0.620228</td>\n",
              "      <td>0.365575</td>\n",
              "      <td>0.627100</td>\n",
              "      <td>0.615194</td>\n",
              "      <td>0.413461</td>\n",
              "      <td>0.039790</td>\n",
              "      <td>0.846652</td>\n",
              "      <td>0.978030</td>\n",
              "      <td>0.781196</td>\n",
              "      <td>0.015457</td>\n",
              "    </tr>\n",
              "    <tr>\n",
              "      <th>2</th>\n",
              "      <td>0.512867</td>\n",
              "      <td>0.451826</td>\n",
              "      <td>0.516654</td>\n",
              "      <td>0.945119</td>\n",
              "      <td>0.705455</td>\n",
              "      <td>0.870973</td>\n",
              "      <td>0.633077</td>\n",
              "      <td>0.990679</td>\n",
              "      <td>0.693407</td>\n",
              "      <td>0.241740</td>\n",
              "      <td>...</td>\n",
              "      <td>0.176787</td>\n",
              "      <td>0.947998</td>\n",
              "      <td>0.823332</td>\n",
              "      <td>0.736080</td>\n",
              "      <td>0.855008</td>\n",
              "      <td>0.588906</td>\n",
              "      <td>0.993744</td>\n",
              "      <td>0.590728</td>\n",
              "      <td>0.008586</td>\n",
              "      <td>0.847817</td>\n",
              "    </tr>\n",
              "    <tr>\n",
              "      <th>3</th>\n",
              "      <td>0.553704</td>\n",
              "      <td>0.674759</td>\n",
              "      <td>0.992458</td>\n",
              "      <td>0.785872</td>\n",
              "      <td>0.663809</td>\n",
              "      <td>0.047592</td>\n",
              "      <td>0.550526</td>\n",
              "      <td>0.247041</td>\n",
              "      <td>0.085359</td>\n",
              "      <td>0.957419</td>\n",
              "      <td>...</td>\n",
              "      <td>0.086392</td>\n",
              "      <td>0.949178</td>\n",
              "      <td>0.809218</td>\n",
              "      <td>0.379437</td>\n",
              "      <td>0.409824</td>\n",
              "      <td>0.277389</td>\n",
              "      <td>0.896852</td>\n",
              "      <td>0.999689</td>\n",
              "      <td>0.491528</td>\n",
              "      <td>0.832996</td>\n",
              "    </tr>\n",
              "    <tr>\n",
              "      <th>4</th>\n",
              "      <td>0.820971</td>\n",
              "      <td>0.308511</td>\n",
              "      <td>0.486241</td>\n",
              "      <td>0.718364</td>\n",
              "      <td>0.846011</td>\n",
              "      <td>0.542756</td>\n",
              "      <td>0.433164</td>\n",
              "      <td>0.809676</td>\n",
              "      <td>0.143494</td>\n",
              "      <td>0.243344</td>\n",
              "      <td>...</td>\n",
              "      <td>0.280078</td>\n",
              "      <td>0.980890</td>\n",
              "      <td>0.446708</td>\n",
              "      <td>0.936820</td>\n",
              "      <td>0.581034</td>\n",
              "      <td>0.308000</td>\n",
              "      <td>0.451249</td>\n",
              "      <td>0.401096</td>\n",
              "      <td>0.377704</td>\n",
              "      <td>0.789802</td>\n",
              "    </tr>\n",
              "    <tr>\n",
              "      <th>...</th>\n",
              "      <td>...</td>\n",
              "      <td>...</td>\n",
              "      <td>...</td>\n",
              "      <td>...</td>\n",
              "      <td>...</td>\n",
              "      <td>...</td>\n",
              "      <td>...</td>\n",
              "      <td>...</td>\n",
              "      <td>...</td>\n",
              "      <td>...</td>\n",
              "      <td>...</td>\n",
              "      <td>...</td>\n",
              "      <td>...</td>\n",
              "      <td>...</td>\n",
              "      <td>...</td>\n",
              "      <td>...</td>\n",
              "      <td>...</td>\n",
              "      <td>...</td>\n",
              "      <td>...</td>\n",
              "      <td>...</td>\n",
              "      <td>...</td>\n",
              "    </tr>\n",
              "    <tr>\n",
              "      <th>205181</th>\n",
              "      <td>0.965015</td>\n",
              "      <td>0.160570</td>\n",
              "      <td>0.326092</td>\n",
              "      <td>0.496418</td>\n",
              "      <td>0.322414</td>\n",
              "      <td>0.671260</td>\n",
              "      <td>0.489540</td>\n",
              "      <td>0.918601</td>\n",
              "      <td>0.245577</td>\n",
              "      <td>0.442386</td>\n",
              "      <td>...</td>\n",
              "      <td>0.614680</td>\n",
              "      <td>0.281459</td>\n",
              "      <td>0.414236</td>\n",
              "      <td>0.664278</td>\n",
              "      <td>0.439956</td>\n",
              "      <td>0.880057</td>\n",
              "      <td>0.574346</td>\n",
              "      <td>0.088072</td>\n",
              "      <td>0.205870</td>\n",
              "      <td>0.691506</td>\n",
              "    </tr>\n",
              "    <tr>\n",
              "      <th>205182</th>\n",
              "      <td>0.722321</td>\n",
              "      <td>0.117259</td>\n",
              "      <td>0.806001</td>\n",
              "      <td>0.660754</td>\n",
              "      <td>0.799244</td>\n",
              "      <td>0.290867</td>\n",
              "      <td>0.404143</td>\n",
              "      <td>0.320122</td>\n",
              "      <td>0.695929</td>\n",
              "      <td>0.377674</td>\n",
              "      <td>...</td>\n",
              "      <td>0.166511</td>\n",
              "      <td>0.523510</td>\n",
              "      <td>0.872427</td>\n",
              "      <td>0.134945</td>\n",
              "      <td>0.933456</td>\n",
              "      <td>0.275213</td>\n",
              "      <td>0.980894</td>\n",
              "      <td>0.272448</td>\n",
              "      <td>0.539382</td>\n",
              "      <td>0.171134</td>\n",
              "    </tr>\n",
              "    <tr>\n",
              "      <th>205183</th>\n",
              "      <td>0.895055</td>\n",
              "      <td>0.295915</td>\n",
              "      <td>0.080228</td>\n",
              "      <td>0.459220</td>\n",
              "      <td>0.714829</td>\n",
              "      <td>0.426350</td>\n",
              "      <td>0.174358</td>\n",
              "      <td>0.637981</td>\n",
              "      <td>0.341736</td>\n",
              "      <td>0.983143</td>\n",
              "      <td>...</td>\n",
              "      <td>0.311873</td>\n",
              "      <td>0.422354</td>\n",
              "      <td>0.257732</td>\n",
              "      <td>0.327046</td>\n",
              "      <td>0.280168</td>\n",
              "      <td>0.084878</td>\n",
              "      <td>0.342770</td>\n",
              "      <td>0.601728</td>\n",
              "      <td>0.747816</td>\n",
              "      <td>0.537738</td>\n",
              "    </tr>\n",
              "    <tr>\n",
              "      <th>205184</th>\n",
              "      <td>0.480296</td>\n",
              "      <td>0.676696</td>\n",
              "      <td>0.008657</td>\n",
              "      <td>0.418295</td>\n",
              "      <td>0.762984</td>\n",
              "      <td>0.842195</td>\n",
              "      <td>0.833123</td>\n",
              "      <td>0.458767</td>\n",
              "      <td>0.653651</td>\n",
              "      <td>0.568604</td>\n",
              "      <td>...</td>\n",
              "      <td>0.224526</td>\n",
              "      <td>0.390764</td>\n",
              "      <td>0.879675</td>\n",
              "      <td>0.188503</td>\n",
              "      <td>0.995155</td>\n",
              "      <td>0.826528</td>\n",
              "      <td>0.312014</td>\n",
              "      <td>0.963323</td>\n",
              "      <td>0.829939</td>\n",
              "      <td>0.442409</td>\n",
              "    </tr>\n",
              "    <tr>\n",
              "      <th>205185</th>\n",
              "      <td>0.432119</td>\n",
              "      <td>0.816135</td>\n",
              "      <td>0.666620</td>\n",
              "      <td>0.957695</td>\n",
              "      <td>0.750783</td>\n",
              "      <td>0.491908</td>\n",
              "      <td>0.909842</td>\n",
              "      <td>0.214309</td>\n",
              "      <td>0.742971</td>\n",
              "      <td>0.961266</td>\n",
              "      <td>...</td>\n",
              "      <td>0.297629</td>\n",
              "      <td>0.174479</td>\n",
              "      <td>0.535592</td>\n",
              "      <td>0.835478</td>\n",
              "      <td>0.465716</td>\n",
              "      <td>0.607728</td>\n",
              "      <td>0.273820</td>\n",
              "      <td>0.421173</td>\n",
              "      <td>0.793614</td>\n",
              "      <td>0.121850</td>\n",
              "    </tr>\n",
              "  </tbody>\n",
              "</table>\n",
              "<p>205186 rows × 50 columns</p>\n",
              "</div>\n",
              "      <button class=\"colab-df-convert\" onclick=\"convertToInteractive('df-dd686b09-34d0-4eae-b744-12d27e7732ef')\"\n",
              "              title=\"Convert this dataframe to an interactive table.\"\n",
              "              style=\"display:none;\">\n",
              "        \n",
              "  <svg xmlns=\"http://www.w3.org/2000/svg\" height=\"24px\"viewBox=\"0 0 24 24\"\n",
              "       width=\"24px\">\n",
              "    <path d=\"M0 0h24v24H0V0z\" fill=\"none\"/>\n",
              "    <path d=\"M18.56 5.44l.94 2.06.94-2.06 2.06-.94-2.06-.94-.94-2.06-.94 2.06-2.06.94zm-11 1L8.5 8.5l.94-2.06 2.06-.94-2.06-.94L8.5 2.5l-.94 2.06-2.06.94zm10 10l.94 2.06.94-2.06 2.06-.94-2.06-.94-.94-2.06-.94 2.06-2.06.94z\"/><path d=\"M17.41 7.96l-1.37-1.37c-.4-.4-.92-.59-1.43-.59-.52 0-1.04.2-1.43.59L10.3 9.45l-7.72 7.72c-.78.78-.78 2.05 0 2.83L4 21.41c.39.39.9.59 1.41.59.51 0 1.02-.2 1.41-.59l7.78-7.78 2.81-2.81c.8-.78.8-2.07 0-2.86zM5.41 20L4 18.59l7.72-7.72 1.47 1.35L5.41 20z\"/>\n",
              "  </svg>\n",
              "      </button>\n",
              "      \n",
              "  <style>\n",
              "    .colab-df-container {\n",
              "      display:flex;\n",
              "      flex-wrap:wrap;\n",
              "      gap: 12px;\n",
              "    }\n",
              "\n",
              "    .colab-df-convert {\n",
              "      background-color: #E8F0FE;\n",
              "      border: none;\n",
              "      border-radius: 50%;\n",
              "      cursor: pointer;\n",
              "      display: none;\n",
              "      fill: #1967D2;\n",
              "      height: 32px;\n",
              "      padding: 0 0 0 0;\n",
              "      width: 32px;\n",
              "    }\n",
              "\n",
              "    .colab-df-convert:hover {\n",
              "      background-color: #E2EBFA;\n",
              "      box-shadow: 0px 1px 2px rgba(60, 64, 67, 0.3), 0px 1px 3px 1px rgba(60, 64, 67, 0.15);\n",
              "      fill: #174EA6;\n",
              "    }\n",
              "\n",
              "    [theme=dark] .colab-df-convert {\n",
              "      background-color: #3B4455;\n",
              "      fill: #D2E3FC;\n",
              "    }\n",
              "\n",
              "    [theme=dark] .colab-df-convert:hover {\n",
              "      background-color: #434B5C;\n",
              "      box-shadow: 0px 1px 3px 1px rgba(0, 0, 0, 0.15);\n",
              "      filter: drop-shadow(0px 1px 2px rgba(0, 0, 0, 0.3));\n",
              "      fill: #FFFFFF;\n",
              "    }\n",
              "  </style>\n",
              "\n",
              "      <script>\n",
              "        const buttonEl =\n",
              "          document.querySelector('#df-dd686b09-34d0-4eae-b744-12d27e7732ef button.colab-df-convert');\n",
              "        buttonEl.style.display =\n",
              "          google.colab.kernel.accessAllowed ? 'block' : 'none';\n",
              "\n",
              "        async function convertToInteractive(key) {\n",
              "          const element = document.querySelector('#df-dd686b09-34d0-4eae-b744-12d27e7732ef');\n",
              "          const dataTable =\n",
              "            await google.colab.kernel.invokeFunction('convertToInteractive',\n",
              "                                                     [key], {});\n",
              "          if (!dataTable) return;\n",
              "\n",
              "          const docLinkHtml = 'Like what you see? Visit the ' +\n",
              "            '<a target=\"_blank\" href=https://colab.research.google.com/notebooks/data_table.ipynb>data table notebook</a>'\n",
              "            + ' to learn more about interactive tables.';\n",
              "          element.innerHTML = '';\n",
              "          dataTable['output_type'] = 'display_data';\n",
              "          await google.colab.output.renderOutput(dataTable, element);\n",
              "          const docLink = document.createElement('div');\n",
              "          docLink.innerHTML = docLinkHtml;\n",
              "          element.appendChild(docLink);\n",
              "        }\n",
              "      </script>\n",
              "    </div>\n",
              "  </div>\n",
              "  "
            ]
          },
          "metadata": {},
          "execution_count": 20
        }
      ],
      "source": [
        "embedding_df"
      ]
    },
    {
      "cell_type": "code",
      "execution_count": 21,
      "id": "8b71eb08-a1c5-45e4-b0db-1a9b19a265f2",
      "metadata": {
        "id": "8b71eb08-a1c5-45e4-b0db-1a9b19a265f2"
      },
      "outputs": [],
      "source": [
        "embedding_df['codigo'] = encoder.classes_"
      ]
    },
    {
      "cell_type": "code",
      "execution_count": 22,
      "id": "5aa9996b-5a9a-4c4e-a43d-938731f83ea8",
      "metadata": {
        "id": "5aa9996b-5a9a-4c4e-a43d-938731f83ea8",
        "outputId": "6a7d6b71-85bd-4544-ba27-fda6cc61cd2c",
        "colab": {
          "base_uri": "https://localhost:8080/",
          "height": 455
        }
      },
      "outputs": [
        {
          "output_type": "execute_result",
          "data": {
            "text/plain": [
              "             emb_0     emb_1     emb_2     emb_3     emb_4     emb_5  \\\n",
              "codigo                                                                 \n",
              "A1262AAA  0.326530  0.611748  0.882118  0.164462  0.176207  0.152245   \n",
              "A1419AAA  0.198981  0.697318  0.034837  0.062948  0.644676  0.160174   \n",
              "A1425AAA  0.512867  0.451826  0.516654  0.945119  0.705455  0.870973   \n",
              "A1669AAA  0.553704  0.674759  0.992458  0.785872  0.663809  0.047592   \n",
              "A1712AAA  0.820971  0.308511  0.486241  0.718364  0.846011  0.542756   \n",
              "...            ...       ...       ...       ...       ...       ...   \n",
              "Z9407XAJ  0.965015  0.160570  0.326092  0.496418  0.322414  0.671260   \n",
              "Z9408ACJ  0.722321  0.117259  0.806001  0.660754  0.799244  0.290867   \n",
              "Z9408ACK  0.895055  0.295915  0.080228  0.459220  0.714829  0.426350   \n",
              "Z9408ALA  0.480296  0.676696  0.008657  0.418295  0.762984  0.842195   \n",
              "Z9420XAA  0.432119  0.816135  0.666620  0.957695  0.750783  0.491908   \n",
              "\n",
              "             emb_6     emb_7     emb_8     emb_9  ...    emb_40    emb_41  \\\n",
              "codigo                                            ...                       \n",
              "A1262AAA  0.554422  0.438314  0.273584  0.543454  ...  0.323922  0.784637   \n",
              "A1419AAA  0.202338  0.918043  0.621387  0.653049  ...  0.620228  0.365575   \n",
              "A1425AAA  0.633077  0.990679  0.693407  0.241740  ...  0.176787  0.947998   \n",
              "A1669AAA  0.550526  0.247041  0.085359  0.957419  ...  0.086392  0.949178   \n",
              "A1712AAA  0.433164  0.809676  0.143494  0.243344  ...  0.280078  0.980890   \n",
              "...            ...       ...       ...       ...  ...       ...       ...   \n",
              "Z9407XAJ  0.489540  0.918601  0.245577  0.442386  ...  0.614680  0.281459   \n",
              "Z9408ACJ  0.404143  0.320122  0.695929  0.377674  ...  0.166511  0.523510   \n",
              "Z9408ACK  0.174358  0.637981  0.341736  0.983143  ...  0.311873  0.422354   \n",
              "Z9408ALA  0.833123  0.458767  0.653651  0.568604  ...  0.224526  0.390764   \n",
              "Z9420XAA  0.909842  0.214309  0.742971  0.961266  ...  0.297629  0.174479   \n",
              "\n",
              "            emb_42    emb_43    emb_44    emb_45    emb_46    emb_47  \\\n",
              "codigo                                                                 \n",
              "A1262AAA  0.214435  0.525221  0.014723  0.922984  0.197636  0.267203   \n",
              "A1419AAA  0.627100  0.615194  0.413461  0.039790  0.846652  0.978030   \n",
              "A1425AAA  0.823332  0.736080  0.855008  0.588906  0.993744  0.590728   \n",
              "A1669AAA  0.809218  0.379437  0.409824  0.277389  0.896852  0.999689   \n",
              "A1712AAA  0.446708  0.936820  0.581034  0.308000  0.451249  0.401096   \n",
              "...            ...       ...       ...       ...       ...       ...   \n",
              "Z9407XAJ  0.414236  0.664278  0.439956  0.880057  0.574346  0.088072   \n",
              "Z9408ACJ  0.872427  0.134945  0.933456  0.275213  0.980894  0.272448   \n",
              "Z9408ACK  0.257732  0.327046  0.280168  0.084878  0.342770  0.601728   \n",
              "Z9408ALA  0.879675  0.188503  0.995155  0.826528  0.312014  0.963323   \n",
              "Z9420XAA  0.535592  0.835478  0.465716  0.607728  0.273820  0.421173   \n",
              "\n",
              "            emb_48    emb_49  \n",
              "codigo                        \n",
              "A1262AAA  0.120884  0.151701  \n",
              "A1419AAA  0.781196  0.015457  \n",
              "A1425AAA  0.008586  0.847817  \n",
              "A1669AAA  0.491528  0.832996  \n",
              "A1712AAA  0.377704  0.789802  \n",
              "...            ...       ...  \n",
              "Z9407XAJ  0.205870  0.691506  \n",
              "Z9408ACJ  0.539382  0.171134  \n",
              "Z9408ACK  0.747816  0.537738  \n",
              "Z9408ALA  0.829939  0.442409  \n",
              "Z9420XAA  0.793614  0.121850  \n",
              "\n",
              "[205186 rows x 50 columns]"
            ],
            "text/html": [
              "\n",
              "  <div id=\"df-c564d371-ae02-47de-8ce6-c48af08857f6\">\n",
              "    <div class=\"colab-df-container\">\n",
              "      <div>\n",
              "<style scoped>\n",
              "    .dataframe tbody tr th:only-of-type {\n",
              "        vertical-align: middle;\n",
              "    }\n",
              "\n",
              "    .dataframe tbody tr th {\n",
              "        vertical-align: top;\n",
              "    }\n",
              "\n",
              "    .dataframe thead th {\n",
              "        text-align: right;\n",
              "    }\n",
              "</style>\n",
              "<table border=\"1\" class=\"dataframe\">\n",
              "  <thead>\n",
              "    <tr style=\"text-align: right;\">\n",
              "      <th></th>\n",
              "      <th>emb_0</th>\n",
              "      <th>emb_1</th>\n",
              "      <th>emb_2</th>\n",
              "      <th>emb_3</th>\n",
              "      <th>emb_4</th>\n",
              "      <th>emb_5</th>\n",
              "      <th>emb_6</th>\n",
              "      <th>emb_7</th>\n",
              "      <th>emb_8</th>\n",
              "      <th>emb_9</th>\n",
              "      <th>...</th>\n",
              "      <th>emb_40</th>\n",
              "      <th>emb_41</th>\n",
              "      <th>emb_42</th>\n",
              "      <th>emb_43</th>\n",
              "      <th>emb_44</th>\n",
              "      <th>emb_45</th>\n",
              "      <th>emb_46</th>\n",
              "      <th>emb_47</th>\n",
              "      <th>emb_48</th>\n",
              "      <th>emb_49</th>\n",
              "    </tr>\n",
              "    <tr>\n",
              "      <th>codigo</th>\n",
              "      <th></th>\n",
              "      <th></th>\n",
              "      <th></th>\n",
              "      <th></th>\n",
              "      <th></th>\n",
              "      <th></th>\n",
              "      <th></th>\n",
              "      <th></th>\n",
              "      <th></th>\n",
              "      <th></th>\n",
              "      <th></th>\n",
              "      <th></th>\n",
              "      <th></th>\n",
              "      <th></th>\n",
              "      <th></th>\n",
              "      <th></th>\n",
              "      <th></th>\n",
              "      <th></th>\n",
              "      <th></th>\n",
              "      <th></th>\n",
              "      <th></th>\n",
              "    </tr>\n",
              "  </thead>\n",
              "  <tbody>\n",
              "    <tr>\n",
              "      <th>A1262AAA</th>\n",
              "      <td>0.326530</td>\n",
              "      <td>0.611748</td>\n",
              "      <td>0.882118</td>\n",
              "      <td>0.164462</td>\n",
              "      <td>0.176207</td>\n",
              "      <td>0.152245</td>\n",
              "      <td>0.554422</td>\n",
              "      <td>0.438314</td>\n",
              "      <td>0.273584</td>\n",
              "      <td>0.543454</td>\n",
              "      <td>...</td>\n",
              "      <td>0.323922</td>\n",
              "      <td>0.784637</td>\n",
              "      <td>0.214435</td>\n",
              "      <td>0.525221</td>\n",
              "      <td>0.014723</td>\n",
              "      <td>0.922984</td>\n",
              "      <td>0.197636</td>\n",
              "      <td>0.267203</td>\n",
              "      <td>0.120884</td>\n",
              "      <td>0.151701</td>\n",
              "    </tr>\n",
              "    <tr>\n",
              "      <th>A1419AAA</th>\n",
              "      <td>0.198981</td>\n",
              "      <td>0.697318</td>\n",
              "      <td>0.034837</td>\n",
              "      <td>0.062948</td>\n",
              "      <td>0.644676</td>\n",
              "      <td>0.160174</td>\n",
              "      <td>0.202338</td>\n",
              "      <td>0.918043</td>\n",
              "      <td>0.621387</td>\n",
              "      <td>0.653049</td>\n",
              "      <td>...</td>\n",
              "      <td>0.620228</td>\n",
              "      <td>0.365575</td>\n",
              "      <td>0.627100</td>\n",
              "      <td>0.615194</td>\n",
              "      <td>0.413461</td>\n",
              "      <td>0.039790</td>\n",
              "      <td>0.846652</td>\n",
              "      <td>0.978030</td>\n",
              "      <td>0.781196</td>\n",
              "      <td>0.015457</td>\n",
              "    </tr>\n",
              "    <tr>\n",
              "      <th>A1425AAA</th>\n",
              "      <td>0.512867</td>\n",
              "      <td>0.451826</td>\n",
              "      <td>0.516654</td>\n",
              "      <td>0.945119</td>\n",
              "      <td>0.705455</td>\n",
              "      <td>0.870973</td>\n",
              "      <td>0.633077</td>\n",
              "      <td>0.990679</td>\n",
              "      <td>0.693407</td>\n",
              "      <td>0.241740</td>\n",
              "      <td>...</td>\n",
              "      <td>0.176787</td>\n",
              "      <td>0.947998</td>\n",
              "      <td>0.823332</td>\n",
              "      <td>0.736080</td>\n",
              "      <td>0.855008</td>\n",
              "      <td>0.588906</td>\n",
              "      <td>0.993744</td>\n",
              "      <td>0.590728</td>\n",
              "      <td>0.008586</td>\n",
              "      <td>0.847817</td>\n",
              "    </tr>\n",
              "    <tr>\n",
              "      <th>A1669AAA</th>\n",
              "      <td>0.553704</td>\n",
              "      <td>0.674759</td>\n",
              "      <td>0.992458</td>\n",
              "      <td>0.785872</td>\n",
              "      <td>0.663809</td>\n",
              "      <td>0.047592</td>\n",
              "      <td>0.550526</td>\n",
              "      <td>0.247041</td>\n",
              "      <td>0.085359</td>\n",
              "      <td>0.957419</td>\n",
              "      <td>...</td>\n",
              "      <td>0.086392</td>\n",
              "      <td>0.949178</td>\n",
              "      <td>0.809218</td>\n",
              "      <td>0.379437</td>\n",
              "      <td>0.409824</td>\n",
              "      <td>0.277389</td>\n",
              "      <td>0.896852</td>\n",
              "      <td>0.999689</td>\n",
              "      <td>0.491528</td>\n",
              "      <td>0.832996</td>\n",
              "    </tr>\n",
              "    <tr>\n",
              "      <th>A1712AAA</th>\n",
              "      <td>0.820971</td>\n",
              "      <td>0.308511</td>\n",
              "      <td>0.486241</td>\n",
              "      <td>0.718364</td>\n",
              "      <td>0.846011</td>\n",
              "      <td>0.542756</td>\n",
              "      <td>0.433164</td>\n",
              "      <td>0.809676</td>\n",
              "      <td>0.143494</td>\n",
              "      <td>0.243344</td>\n",
              "      <td>...</td>\n",
              "      <td>0.280078</td>\n",
              "      <td>0.980890</td>\n",
              "      <td>0.446708</td>\n",
              "      <td>0.936820</td>\n",
              "      <td>0.581034</td>\n",
              "      <td>0.308000</td>\n",
              "      <td>0.451249</td>\n",
              "      <td>0.401096</td>\n",
              "      <td>0.377704</td>\n",
              "      <td>0.789802</td>\n",
              "    </tr>\n",
              "    <tr>\n",
              "      <th>...</th>\n",
              "      <td>...</td>\n",
              "      <td>...</td>\n",
              "      <td>...</td>\n",
              "      <td>...</td>\n",
              "      <td>...</td>\n",
              "      <td>...</td>\n",
              "      <td>...</td>\n",
              "      <td>...</td>\n",
              "      <td>...</td>\n",
              "      <td>...</td>\n",
              "      <td>...</td>\n",
              "      <td>...</td>\n",
              "      <td>...</td>\n",
              "      <td>...</td>\n",
              "      <td>...</td>\n",
              "      <td>...</td>\n",
              "      <td>...</td>\n",
              "      <td>...</td>\n",
              "      <td>...</td>\n",
              "      <td>...</td>\n",
              "      <td>...</td>\n",
              "    </tr>\n",
              "    <tr>\n",
              "      <th>Z9407XAJ</th>\n",
              "      <td>0.965015</td>\n",
              "      <td>0.160570</td>\n",
              "      <td>0.326092</td>\n",
              "      <td>0.496418</td>\n",
              "      <td>0.322414</td>\n",
              "      <td>0.671260</td>\n",
              "      <td>0.489540</td>\n",
              "      <td>0.918601</td>\n",
              "      <td>0.245577</td>\n",
              "      <td>0.442386</td>\n",
              "      <td>...</td>\n",
              "      <td>0.614680</td>\n",
              "      <td>0.281459</td>\n",
              "      <td>0.414236</td>\n",
              "      <td>0.664278</td>\n",
              "      <td>0.439956</td>\n",
              "      <td>0.880057</td>\n",
              "      <td>0.574346</td>\n",
              "      <td>0.088072</td>\n",
              "      <td>0.205870</td>\n",
              "      <td>0.691506</td>\n",
              "    </tr>\n",
              "    <tr>\n",
              "      <th>Z9408ACJ</th>\n",
              "      <td>0.722321</td>\n",
              "      <td>0.117259</td>\n",
              "      <td>0.806001</td>\n",
              "      <td>0.660754</td>\n",
              "      <td>0.799244</td>\n",
              "      <td>0.290867</td>\n",
              "      <td>0.404143</td>\n",
              "      <td>0.320122</td>\n",
              "      <td>0.695929</td>\n",
              "      <td>0.377674</td>\n",
              "      <td>...</td>\n",
              "      <td>0.166511</td>\n",
              "      <td>0.523510</td>\n",
              "      <td>0.872427</td>\n",
              "      <td>0.134945</td>\n",
              "      <td>0.933456</td>\n",
              "      <td>0.275213</td>\n",
              "      <td>0.980894</td>\n",
              "      <td>0.272448</td>\n",
              "      <td>0.539382</td>\n",
              "      <td>0.171134</td>\n",
              "    </tr>\n",
              "    <tr>\n",
              "      <th>Z9408ACK</th>\n",
              "      <td>0.895055</td>\n",
              "      <td>0.295915</td>\n",
              "      <td>0.080228</td>\n",
              "      <td>0.459220</td>\n",
              "      <td>0.714829</td>\n",
              "      <td>0.426350</td>\n",
              "      <td>0.174358</td>\n",
              "      <td>0.637981</td>\n",
              "      <td>0.341736</td>\n",
              "      <td>0.983143</td>\n",
              "      <td>...</td>\n",
              "      <td>0.311873</td>\n",
              "      <td>0.422354</td>\n",
              "      <td>0.257732</td>\n",
              "      <td>0.327046</td>\n",
              "      <td>0.280168</td>\n",
              "      <td>0.084878</td>\n",
              "      <td>0.342770</td>\n",
              "      <td>0.601728</td>\n",
              "      <td>0.747816</td>\n",
              "      <td>0.537738</td>\n",
              "    </tr>\n",
              "    <tr>\n",
              "      <th>Z9408ALA</th>\n",
              "      <td>0.480296</td>\n",
              "      <td>0.676696</td>\n",
              "      <td>0.008657</td>\n",
              "      <td>0.418295</td>\n",
              "      <td>0.762984</td>\n",
              "      <td>0.842195</td>\n",
              "      <td>0.833123</td>\n",
              "      <td>0.458767</td>\n",
              "      <td>0.653651</td>\n",
              "      <td>0.568604</td>\n",
              "      <td>...</td>\n",
              "      <td>0.224526</td>\n",
              "      <td>0.390764</td>\n",
              "      <td>0.879675</td>\n",
              "      <td>0.188503</td>\n",
              "      <td>0.995155</td>\n",
              "      <td>0.826528</td>\n",
              "      <td>0.312014</td>\n",
              "      <td>0.963323</td>\n",
              "      <td>0.829939</td>\n",
              "      <td>0.442409</td>\n",
              "    </tr>\n",
              "    <tr>\n",
              "      <th>Z9420XAA</th>\n",
              "      <td>0.432119</td>\n",
              "      <td>0.816135</td>\n",
              "      <td>0.666620</td>\n",
              "      <td>0.957695</td>\n",
              "      <td>0.750783</td>\n",
              "      <td>0.491908</td>\n",
              "      <td>0.909842</td>\n",
              "      <td>0.214309</td>\n",
              "      <td>0.742971</td>\n",
              "      <td>0.961266</td>\n",
              "      <td>...</td>\n",
              "      <td>0.297629</td>\n",
              "      <td>0.174479</td>\n",
              "      <td>0.535592</td>\n",
              "      <td>0.835478</td>\n",
              "      <td>0.465716</td>\n",
              "      <td>0.607728</td>\n",
              "      <td>0.273820</td>\n",
              "      <td>0.421173</td>\n",
              "      <td>0.793614</td>\n",
              "      <td>0.121850</td>\n",
              "    </tr>\n",
              "  </tbody>\n",
              "</table>\n",
              "<p>205186 rows × 50 columns</p>\n",
              "</div>\n",
              "      <button class=\"colab-df-convert\" onclick=\"convertToInteractive('df-c564d371-ae02-47de-8ce6-c48af08857f6')\"\n",
              "              title=\"Convert this dataframe to an interactive table.\"\n",
              "              style=\"display:none;\">\n",
              "        \n",
              "  <svg xmlns=\"http://www.w3.org/2000/svg\" height=\"24px\"viewBox=\"0 0 24 24\"\n",
              "       width=\"24px\">\n",
              "    <path d=\"M0 0h24v24H0V0z\" fill=\"none\"/>\n",
              "    <path d=\"M18.56 5.44l.94 2.06.94-2.06 2.06-.94-2.06-.94-.94-2.06-.94 2.06-2.06.94zm-11 1L8.5 8.5l.94-2.06 2.06-.94-2.06-.94L8.5 2.5l-.94 2.06-2.06.94zm10 10l.94 2.06.94-2.06 2.06-.94-2.06-.94-.94-2.06-.94 2.06-2.06.94z\"/><path d=\"M17.41 7.96l-1.37-1.37c-.4-.4-.92-.59-1.43-.59-.52 0-1.04.2-1.43.59L10.3 9.45l-7.72 7.72c-.78.78-.78 2.05 0 2.83L4 21.41c.39.39.9.59 1.41.59.51 0 1.02-.2 1.41-.59l7.78-7.78 2.81-2.81c.8-.78.8-2.07 0-2.86zM5.41 20L4 18.59l7.72-7.72 1.47 1.35L5.41 20z\"/>\n",
              "  </svg>\n",
              "      </button>\n",
              "      \n",
              "  <style>\n",
              "    .colab-df-container {\n",
              "      display:flex;\n",
              "      flex-wrap:wrap;\n",
              "      gap: 12px;\n",
              "    }\n",
              "\n",
              "    .colab-df-convert {\n",
              "      background-color: #E8F0FE;\n",
              "      border: none;\n",
              "      border-radius: 50%;\n",
              "      cursor: pointer;\n",
              "      display: none;\n",
              "      fill: #1967D2;\n",
              "      height: 32px;\n",
              "      padding: 0 0 0 0;\n",
              "      width: 32px;\n",
              "    }\n",
              "\n",
              "    .colab-df-convert:hover {\n",
              "      background-color: #E2EBFA;\n",
              "      box-shadow: 0px 1px 2px rgba(60, 64, 67, 0.3), 0px 1px 3px 1px rgba(60, 64, 67, 0.15);\n",
              "      fill: #174EA6;\n",
              "    }\n",
              "\n",
              "    [theme=dark] .colab-df-convert {\n",
              "      background-color: #3B4455;\n",
              "      fill: #D2E3FC;\n",
              "    }\n",
              "\n",
              "    [theme=dark] .colab-df-convert:hover {\n",
              "      background-color: #434B5C;\n",
              "      box-shadow: 0px 1px 3px 1px rgba(0, 0, 0, 0.15);\n",
              "      filter: drop-shadow(0px 1px 2px rgba(0, 0, 0, 0.3));\n",
              "      fill: #FFFFFF;\n",
              "    }\n",
              "  </style>\n",
              "\n",
              "      <script>\n",
              "        const buttonEl =\n",
              "          document.querySelector('#df-c564d371-ae02-47de-8ce6-c48af08857f6 button.colab-df-convert');\n",
              "        buttonEl.style.display =\n",
              "          google.colab.kernel.accessAllowed ? 'block' : 'none';\n",
              "\n",
              "        async function convertToInteractive(key) {\n",
              "          const element = document.querySelector('#df-c564d371-ae02-47de-8ce6-c48af08857f6');\n",
              "          const dataTable =\n",
              "            await google.colab.kernel.invokeFunction('convertToInteractive',\n",
              "                                                     [key], {});\n",
              "          if (!dataTable) return;\n",
              "\n",
              "          const docLinkHtml = 'Like what you see? Visit the ' +\n",
              "            '<a target=\"_blank\" href=https://colab.research.google.com/notebooks/data_table.ipynb>data table notebook</a>'\n",
              "            + ' to learn more about interactive tables.';\n",
              "          element.innerHTML = '';\n",
              "          dataTable['output_type'] = 'display_data';\n",
              "          await google.colab.output.renderOutput(dataTable, element);\n",
              "          const docLink = document.createElement('div');\n",
              "          docLink.innerHTML = docLinkHtml;\n",
              "          element.appendChild(docLink);\n",
              "        }\n",
              "      </script>\n",
              "    </div>\n",
              "  </div>\n",
              "  "
            ]
          },
          "metadata": {},
          "execution_count": 22
        }
      ],
      "source": [
        "# Utilizamos el codigo como indice (para joinear)\n",
        "embedding_df = embedding_df.set_index('codigo')\n",
        "embedding_df"
      ]
    },
    {
      "cell_type": "code",
      "execution_count": 23,
      "id": "de7d0abe-e5b7-49b9-b41a-6273d49f00d8",
      "metadata": {
        "id": "de7d0abe-e5b7-49b9-b41a-6273d49f00d8",
        "outputId": "6a290f37-60f8-4909-8071-4386d036249e",
        "colab": {
          "base_uri": "https://localhost:8080/",
          "height": 455
        }
      },
      "outputs": [
        {
          "output_type": "execute_result",
          "data": {
            "text/plain": [
              "           año  mes  total_cp\n",
              "codigo                       \n",
              "X5001COC  1996    5         1\n",
              "B1602EIB  1996    7         1\n",
              "B1625XAF  1996    7         1\n",
              "B1651FNF  1996    7         1\n",
              "B1688GEV  1996    7         1\n",
              "...        ...  ...       ...\n",
              "X5901AEA  2023    5         1\n",
              "X5960FLM  2023    5         1\n",
              "X5971ALF  2023    5         1\n",
              "Y4500XAL  2023    5         1\n",
              "Y4604CJC  2023    5         1\n",
              "\n",
              "[1166447 rows x 3 columns]"
            ],
            "text/html": [
              "\n",
              "  <div id=\"df-2df2f7d2-c20f-47f8-a7ca-cc66105a1376\">\n",
              "    <div class=\"colab-df-container\">\n",
              "      <div>\n",
              "<style scoped>\n",
              "    .dataframe tbody tr th:only-of-type {\n",
              "        vertical-align: middle;\n",
              "    }\n",
              "\n",
              "    .dataframe tbody tr th {\n",
              "        vertical-align: top;\n",
              "    }\n",
              "\n",
              "    .dataframe thead th {\n",
              "        text-align: right;\n",
              "    }\n",
              "</style>\n",
              "<table border=\"1\" class=\"dataframe\">\n",
              "  <thead>\n",
              "    <tr style=\"text-align: right;\">\n",
              "      <th></th>\n",
              "      <th>año</th>\n",
              "      <th>mes</th>\n",
              "      <th>total_cp</th>\n",
              "    </tr>\n",
              "    <tr>\n",
              "      <th>codigo</th>\n",
              "      <th></th>\n",
              "      <th></th>\n",
              "      <th></th>\n",
              "    </tr>\n",
              "  </thead>\n",
              "  <tbody>\n",
              "    <tr>\n",
              "      <th>X5001COC</th>\n",
              "      <td>1996</td>\n",
              "      <td>5</td>\n",
              "      <td>1</td>\n",
              "    </tr>\n",
              "    <tr>\n",
              "      <th>B1602EIB</th>\n",
              "      <td>1996</td>\n",
              "      <td>7</td>\n",
              "      <td>1</td>\n",
              "    </tr>\n",
              "    <tr>\n",
              "      <th>B1625XAF</th>\n",
              "      <td>1996</td>\n",
              "      <td>7</td>\n",
              "      <td>1</td>\n",
              "    </tr>\n",
              "    <tr>\n",
              "      <th>B1651FNF</th>\n",
              "      <td>1996</td>\n",
              "      <td>7</td>\n",
              "      <td>1</td>\n",
              "    </tr>\n",
              "    <tr>\n",
              "      <th>B1688GEV</th>\n",
              "      <td>1996</td>\n",
              "      <td>7</td>\n",
              "      <td>1</td>\n",
              "    </tr>\n",
              "    <tr>\n",
              "      <th>...</th>\n",
              "      <td>...</td>\n",
              "      <td>...</td>\n",
              "      <td>...</td>\n",
              "    </tr>\n",
              "    <tr>\n",
              "      <th>X5901AEA</th>\n",
              "      <td>2023</td>\n",
              "      <td>5</td>\n",
              "      <td>1</td>\n",
              "    </tr>\n",
              "    <tr>\n",
              "      <th>X5960FLM</th>\n",
              "      <td>2023</td>\n",
              "      <td>5</td>\n",
              "      <td>1</td>\n",
              "    </tr>\n",
              "    <tr>\n",
              "      <th>X5971ALF</th>\n",
              "      <td>2023</td>\n",
              "      <td>5</td>\n",
              "      <td>1</td>\n",
              "    </tr>\n",
              "    <tr>\n",
              "      <th>Y4500XAL</th>\n",
              "      <td>2023</td>\n",
              "      <td>5</td>\n",
              "      <td>1</td>\n",
              "    </tr>\n",
              "    <tr>\n",
              "      <th>Y4604CJC</th>\n",
              "      <td>2023</td>\n",
              "      <td>5</td>\n",
              "      <td>1</td>\n",
              "    </tr>\n",
              "  </tbody>\n",
              "</table>\n",
              "<p>1166447 rows × 3 columns</p>\n",
              "</div>\n",
              "      <button class=\"colab-df-convert\" onclick=\"convertToInteractive('df-2df2f7d2-c20f-47f8-a7ca-cc66105a1376')\"\n",
              "              title=\"Convert this dataframe to an interactive table.\"\n",
              "              style=\"display:none;\">\n",
              "        \n",
              "  <svg xmlns=\"http://www.w3.org/2000/svg\" height=\"24px\"viewBox=\"0 0 24 24\"\n",
              "       width=\"24px\">\n",
              "    <path d=\"M0 0h24v24H0V0z\" fill=\"none\"/>\n",
              "    <path d=\"M18.56 5.44l.94 2.06.94-2.06 2.06-.94-2.06-.94-.94-2.06-.94 2.06-2.06.94zm-11 1L8.5 8.5l.94-2.06 2.06-.94-2.06-.94L8.5 2.5l-.94 2.06-2.06.94zm10 10l.94 2.06.94-2.06 2.06-.94-2.06-.94-.94-2.06-.94 2.06-2.06.94z\"/><path d=\"M17.41 7.96l-1.37-1.37c-.4-.4-.92-.59-1.43-.59-.52 0-1.04.2-1.43.59L10.3 9.45l-7.72 7.72c-.78.78-.78 2.05 0 2.83L4 21.41c.39.39.9.59 1.41.59.51 0 1.02-.2 1.41-.59l7.78-7.78 2.81-2.81c.8-.78.8-2.07 0-2.86zM5.41 20L4 18.59l7.72-7.72 1.47 1.35L5.41 20z\"/>\n",
              "  </svg>\n",
              "      </button>\n",
              "      \n",
              "  <style>\n",
              "    .colab-df-container {\n",
              "      display:flex;\n",
              "      flex-wrap:wrap;\n",
              "      gap: 12px;\n",
              "    }\n",
              "\n",
              "    .colab-df-convert {\n",
              "      background-color: #E8F0FE;\n",
              "      border: none;\n",
              "      border-radius: 50%;\n",
              "      cursor: pointer;\n",
              "      display: none;\n",
              "      fill: #1967D2;\n",
              "      height: 32px;\n",
              "      padding: 0 0 0 0;\n",
              "      width: 32px;\n",
              "    }\n",
              "\n",
              "    .colab-df-convert:hover {\n",
              "      background-color: #E2EBFA;\n",
              "      box-shadow: 0px 1px 2px rgba(60, 64, 67, 0.3), 0px 1px 3px 1px rgba(60, 64, 67, 0.15);\n",
              "      fill: #174EA6;\n",
              "    }\n",
              "\n",
              "    [theme=dark] .colab-df-convert {\n",
              "      background-color: #3B4455;\n",
              "      fill: #D2E3FC;\n",
              "    }\n",
              "\n",
              "    [theme=dark] .colab-df-convert:hover {\n",
              "      background-color: #434B5C;\n",
              "      box-shadow: 0px 1px 3px 1px rgba(0, 0, 0, 0.15);\n",
              "      filter: drop-shadow(0px 1px 2px rgba(0, 0, 0, 0.3));\n",
              "      fill: #FFFFFF;\n",
              "    }\n",
              "  </style>\n",
              "\n",
              "      <script>\n",
              "        const buttonEl =\n",
              "          document.querySelector('#df-2df2f7d2-c20f-47f8-a7ca-cc66105a1376 button.colab-df-convert');\n",
              "        buttonEl.style.display =\n",
              "          google.colab.kernel.accessAllowed ? 'block' : 'none';\n",
              "\n",
              "        async function convertToInteractive(key) {\n",
              "          const element = document.querySelector('#df-2df2f7d2-c20f-47f8-a7ca-cc66105a1376');\n",
              "          const dataTable =\n",
              "            await google.colab.kernel.invokeFunction('convertToInteractive',\n",
              "                                                     [key], {});\n",
              "          if (!dataTable) return;\n",
              "\n",
              "          const docLinkHtml = 'Like what you see? Visit the ' +\n",
              "            '<a target=\"_blank\" href=https://colab.research.google.com/notebooks/data_table.ipynb>data table notebook</a>'\n",
              "            + ' to learn more about interactive tables.';\n",
              "          element.innerHTML = '';\n",
              "          dataTable['output_type'] = 'display_data';\n",
              "          await google.colab.output.renderOutput(dataTable, element);\n",
              "          const docLink = document.createElement('div');\n",
              "          docLink.innerHTML = docLinkHtml;\n",
              "          element.appendChild(docLink);\n",
              "        }\n",
              "      </script>\n",
              "    </div>\n",
              "  </div>\n",
              "  "
            ]
          },
          "metadata": {},
          "execution_count": 23
        }
      ],
      "source": [
        "# Utilizamos el codigo como indice (para joinear)\n",
        "df = df.set_index('codigo')\n",
        "df"
      ]
    },
    {
      "cell_type": "code",
      "execution_count": 24,
      "id": "792d6816-0e44-4fc8-919c-667b43583d03",
      "metadata": {
        "id": "792d6816-0e44-4fc8-919c-667b43583d03",
        "outputId": "2741898f-53cc-48de-c0d8-72ec9118a06c",
        "colab": {
          "base_uri": "https://localhost:8080/"
        }
      },
      "outputs": [
        {
          "output_type": "execute_result",
          "data": {
            "text/plain": [
              "1824"
            ]
          },
          "metadata": {},
          "execution_count": 24
        }
      ],
      "source": [
        "df.total_cp.max()"
      ]
    },
    {
      "cell_type": "markdown",
      "source": [
        "### Transformar la variable de salida"
      ],
      "metadata": {
        "id": "-owDrwurLp8f"
      },
      "id": "-owDrwurLp8f"
    },
    {
      "cell_type": "code",
      "source": [
        "mmscaler = MinMaxScaler()"
      ],
      "metadata": {
        "id": "9ltPAhkrLh_d"
      },
      "id": "9ltPAhkrLh_d",
      "execution_count": 25,
      "outputs": []
    },
    {
      "cell_type": "code",
      "source": [
        "df['total_cp'] = mmscaler.fit_transform(df['total_cp'].values.reshape(-1,1))"
      ],
      "metadata": {
        "id": "gZKM-o2VLkgA"
      },
      "id": "gZKM-o2VLkgA",
      "execution_count": 26,
      "outputs": []
    },
    {
      "cell_type": "code",
      "source": [
        "df.head()"
      ],
      "metadata": {
        "id": "kggoh8sbLm_y",
        "outputId": "dbf7cfeb-2689-4257-9fcc-ac47155a8956",
        "colab": {
          "base_uri": "https://localhost:8080/",
          "height": 237
        }
      },
      "id": "kggoh8sbLm_y",
      "execution_count": 27,
      "outputs": [
        {
          "output_type": "execute_result",
          "data": {
            "text/plain": [
              "           año  mes  total_cp\n",
              "codigo                       \n",
              "X5001COC  1996    5       0.0\n",
              "B1602EIB  1996    7       0.0\n",
              "B1625XAF  1996    7       0.0\n",
              "B1651FNF  1996    7       0.0\n",
              "B1688GEV  1996    7       0.0"
            ],
            "text/html": [
              "\n",
              "  <div id=\"df-75948468-d971-40f7-b2aa-54132d706f05\">\n",
              "    <div class=\"colab-df-container\">\n",
              "      <div>\n",
              "<style scoped>\n",
              "    .dataframe tbody tr th:only-of-type {\n",
              "        vertical-align: middle;\n",
              "    }\n",
              "\n",
              "    .dataframe tbody tr th {\n",
              "        vertical-align: top;\n",
              "    }\n",
              "\n",
              "    .dataframe thead th {\n",
              "        text-align: right;\n",
              "    }\n",
              "</style>\n",
              "<table border=\"1\" class=\"dataframe\">\n",
              "  <thead>\n",
              "    <tr style=\"text-align: right;\">\n",
              "      <th></th>\n",
              "      <th>año</th>\n",
              "      <th>mes</th>\n",
              "      <th>total_cp</th>\n",
              "    </tr>\n",
              "    <tr>\n",
              "      <th>codigo</th>\n",
              "      <th></th>\n",
              "      <th></th>\n",
              "      <th></th>\n",
              "    </tr>\n",
              "  </thead>\n",
              "  <tbody>\n",
              "    <tr>\n",
              "      <th>X5001COC</th>\n",
              "      <td>1996</td>\n",
              "      <td>5</td>\n",
              "      <td>0.0</td>\n",
              "    </tr>\n",
              "    <tr>\n",
              "      <th>B1602EIB</th>\n",
              "      <td>1996</td>\n",
              "      <td>7</td>\n",
              "      <td>0.0</td>\n",
              "    </tr>\n",
              "    <tr>\n",
              "      <th>B1625XAF</th>\n",
              "      <td>1996</td>\n",
              "      <td>7</td>\n",
              "      <td>0.0</td>\n",
              "    </tr>\n",
              "    <tr>\n",
              "      <th>B1651FNF</th>\n",
              "      <td>1996</td>\n",
              "      <td>7</td>\n",
              "      <td>0.0</td>\n",
              "    </tr>\n",
              "    <tr>\n",
              "      <th>B1688GEV</th>\n",
              "      <td>1996</td>\n",
              "      <td>7</td>\n",
              "      <td>0.0</td>\n",
              "    </tr>\n",
              "  </tbody>\n",
              "</table>\n",
              "</div>\n",
              "      <button class=\"colab-df-convert\" onclick=\"convertToInteractive('df-75948468-d971-40f7-b2aa-54132d706f05')\"\n",
              "              title=\"Convert this dataframe to an interactive table.\"\n",
              "              style=\"display:none;\">\n",
              "        \n",
              "  <svg xmlns=\"http://www.w3.org/2000/svg\" height=\"24px\"viewBox=\"0 0 24 24\"\n",
              "       width=\"24px\">\n",
              "    <path d=\"M0 0h24v24H0V0z\" fill=\"none\"/>\n",
              "    <path d=\"M18.56 5.44l.94 2.06.94-2.06 2.06-.94-2.06-.94-.94-2.06-.94 2.06-2.06.94zm-11 1L8.5 8.5l.94-2.06 2.06-.94-2.06-.94L8.5 2.5l-.94 2.06-2.06.94zm10 10l.94 2.06.94-2.06 2.06-.94-2.06-.94-.94-2.06-.94 2.06-2.06.94z\"/><path d=\"M17.41 7.96l-1.37-1.37c-.4-.4-.92-.59-1.43-.59-.52 0-1.04.2-1.43.59L10.3 9.45l-7.72 7.72c-.78.78-.78 2.05 0 2.83L4 21.41c.39.39.9.59 1.41.59.51 0 1.02-.2 1.41-.59l7.78-7.78 2.81-2.81c.8-.78.8-2.07 0-2.86zM5.41 20L4 18.59l7.72-7.72 1.47 1.35L5.41 20z\"/>\n",
              "  </svg>\n",
              "      </button>\n",
              "      \n",
              "  <style>\n",
              "    .colab-df-container {\n",
              "      display:flex;\n",
              "      flex-wrap:wrap;\n",
              "      gap: 12px;\n",
              "    }\n",
              "\n",
              "    .colab-df-convert {\n",
              "      background-color: #E8F0FE;\n",
              "      border: none;\n",
              "      border-radius: 50%;\n",
              "      cursor: pointer;\n",
              "      display: none;\n",
              "      fill: #1967D2;\n",
              "      height: 32px;\n",
              "      padding: 0 0 0 0;\n",
              "      width: 32px;\n",
              "    }\n",
              "\n",
              "    .colab-df-convert:hover {\n",
              "      background-color: #E2EBFA;\n",
              "      box-shadow: 0px 1px 2px rgba(60, 64, 67, 0.3), 0px 1px 3px 1px rgba(60, 64, 67, 0.15);\n",
              "      fill: #174EA6;\n",
              "    }\n",
              "\n",
              "    [theme=dark] .colab-df-convert {\n",
              "      background-color: #3B4455;\n",
              "      fill: #D2E3FC;\n",
              "    }\n",
              "\n",
              "    [theme=dark] .colab-df-convert:hover {\n",
              "      background-color: #434B5C;\n",
              "      box-shadow: 0px 1px 3px 1px rgba(0, 0, 0, 0.15);\n",
              "      filter: drop-shadow(0px 1px 2px rgba(0, 0, 0, 0.3));\n",
              "      fill: #FFFFFF;\n",
              "    }\n",
              "  </style>\n",
              "\n",
              "      <script>\n",
              "        const buttonEl =\n",
              "          document.querySelector('#df-75948468-d971-40f7-b2aa-54132d706f05 button.colab-df-convert');\n",
              "        buttonEl.style.display =\n",
              "          google.colab.kernel.accessAllowed ? 'block' : 'none';\n",
              "\n",
              "        async function convertToInteractive(key) {\n",
              "          const element = document.querySelector('#df-75948468-d971-40f7-b2aa-54132d706f05');\n",
              "          const dataTable =\n",
              "            await google.colab.kernel.invokeFunction('convertToInteractive',\n",
              "                                                     [key], {});\n",
              "          if (!dataTable) return;\n",
              "\n",
              "          const docLinkHtml = 'Like what you see? Visit the ' +\n",
              "            '<a target=\"_blank\" href=https://colab.research.google.com/notebooks/data_table.ipynb>data table notebook</a>'\n",
              "            + ' to learn more about interactive tables.';\n",
              "          element.innerHTML = '';\n",
              "          dataTable['output_type'] = 'display_data';\n",
              "          await google.colab.output.renderOutput(dataTable, element);\n",
              "          const docLink = document.createElement('div');\n",
              "          docLink.innerHTML = docLinkHtml;\n",
              "          element.appendChild(docLink);\n",
              "        }\n",
              "      </script>\n",
              "    </div>\n",
              "  </div>\n",
              "  "
            ]
          },
          "metadata": {},
          "execution_count": 27
        }
      ]
    },
    {
      "cell_type": "markdown",
      "id": "a5fa13a1-6f0b-4394-8fcc-6a61cac55306",
      "metadata": {
        "id": "a5fa13a1-6f0b-4394-8fcc-6a61cac55306"
      },
      "source": [
        "#### Joins de Dataframes"
      ]
    },
    {
      "cell_type": "code",
      "execution_count": 28,
      "id": "26605f6a-2321-4f63-a449-58433a9c2aa6",
      "metadata": {
        "id": "26605f6a-2321-4f63-a449-58433a9c2aa6",
        "outputId": "54154d33-aed5-4625-bee8-a423867ff509",
        "colab": {
          "base_uri": "https://localhost:8080/",
          "height": 455
        }
      },
      "outputs": [
        {
          "output_type": "execute_result",
          "data": {
            "text/plain": [
              "             emb_0     emb_1     emb_2     emb_3     emb_4     emb_5  \\\n",
              "codigo                                                                 \n",
              "A1262AAA  0.326530  0.611748  0.882118  0.164462  0.176207  0.152245   \n",
              "A1419AAA  0.198981  0.697318  0.034837  0.062948  0.644676  0.160174   \n",
              "A1425AAA  0.512867  0.451826  0.516654  0.945119  0.705455  0.870973   \n",
              "A1669AAA  0.553704  0.674759  0.992458  0.785872  0.663809  0.047592   \n",
              "A1712AAA  0.820971  0.308511  0.486241  0.718364  0.846011  0.542756   \n",
              "...            ...       ...       ...       ...       ...       ...   \n",
              "Z9408ACJ  0.722321  0.117259  0.806001  0.660754  0.799244  0.290867   \n",
              "Z9408ACK  0.895055  0.295915  0.080228  0.459220  0.714829  0.426350   \n",
              "Z9408ALA  0.480296  0.676696  0.008657  0.418295  0.762984  0.842195   \n",
              "Z9420XAA  0.432119  0.816135  0.666620  0.957695  0.750783  0.491908   \n",
              "Z9420XAA  0.432119  0.816135  0.666620  0.957695  0.750783  0.491908   \n",
              "\n",
              "             emb_6     emb_7     emb_8     emb_9  ...    emb_43    emb_44  \\\n",
              "codigo                                            ...                       \n",
              "A1262AAA  0.554422  0.438314  0.273584  0.543454  ...  0.525221  0.014723   \n",
              "A1419AAA  0.202338  0.918043  0.621387  0.653049  ...  0.615194  0.413461   \n",
              "A1425AAA  0.633077  0.990679  0.693407  0.241740  ...  0.736080  0.855008   \n",
              "A1669AAA  0.550526  0.247041  0.085359  0.957419  ...  0.379437  0.409824   \n",
              "A1712AAA  0.433164  0.809676  0.143494  0.243344  ...  0.936820  0.581034   \n",
              "...            ...       ...       ...       ...  ...       ...       ...   \n",
              "Z9408ACJ  0.404143  0.320122  0.695929  0.377674  ...  0.134945  0.933456   \n",
              "Z9408ACK  0.174358  0.637981  0.341736  0.983143  ...  0.327046  0.280168   \n",
              "Z9408ALA  0.833123  0.458767  0.653651  0.568604  ...  0.188503  0.995155   \n",
              "Z9420XAA  0.909842  0.214309  0.742971  0.961266  ...  0.835478  0.465716   \n",
              "Z9420XAA  0.909842  0.214309  0.742971  0.961266  ...  0.835478  0.465716   \n",
              "\n",
              "            emb_45    emb_46    emb_47    emb_48    emb_49   año  mes  \\\n",
              "codigo                                                                  \n",
              "A1262AAA  0.922984  0.197636  0.267203  0.120884  0.151701  2014    2   \n",
              "A1419AAA  0.039790  0.846652  0.978030  0.781196  0.015457  2014   12   \n",
              "A1425AAA  0.588906  0.993744  0.590728  0.008586  0.847817  2014   10   \n",
              "A1669AAA  0.277389  0.896852  0.999689  0.491528  0.832996  2014   11   \n",
              "A1712AAA  0.308000  0.451249  0.401096  0.377704  0.789802  2013   11   \n",
              "...            ...       ...       ...       ...       ...   ...  ...   \n",
              "Z9408ACJ  0.275213  0.980894  0.272448  0.539382  0.171134  2022    6   \n",
              "Z9408ACK  0.084878  0.342770  0.601728  0.747816  0.537738  2012   10   \n",
              "Z9408ALA  0.826528  0.312014  0.963323  0.829939  0.442409  2011    3   \n",
              "Z9420XAA  0.607728  0.273820  0.421173  0.793614  0.121850  2009   11   \n",
              "Z9420XAA  0.607728  0.273820  0.421173  0.793614  0.121850  2010    9   \n",
              "\n",
              "          total_cp  \n",
              "codigo              \n",
              "A1262AAA  0.000000  \n",
              "A1419AAA  0.001646  \n",
              "A1425AAA  0.001097  \n",
              "A1669AAA  0.000000  \n",
              "A1712AAA  0.000000  \n",
              "...            ...  \n",
              "Z9408ACJ  0.000000  \n",
              "Z9408ACK  0.000000  \n",
              "Z9408ALA  0.000000  \n",
              "Z9420XAA  0.000000  \n",
              "Z9420XAA  0.000000  \n",
              "\n",
              "[1166447 rows x 53 columns]"
            ],
            "text/html": [
              "\n",
              "  <div id=\"df-47c0f48a-ec5f-4656-bbb0-061593879097\">\n",
              "    <div class=\"colab-df-container\">\n",
              "      <div>\n",
              "<style scoped>\n",
              "    .dataframe tbody tr th:only-of-type {\n",
              "        vertical-align: middle;\n",
              "    }\n",
              "\n",
              "    .dataframe tbody tr th {\n",
              "        vertical-align: top;\n",
              "    }\n",
              "\n",
              "    .dataframe thead th {\n",
              "        text-align: right;\n",
              "    }\n",
              "</style>\n",
              "<table border=\"1\" class=\"dataframe\">\n",
              "  <thead>\n",
              "    <tr style=\"text-align: right;\">\n",
              "      <th></th>\n",
              "      <th>emb_0</th>\n",
              "      <th>emb_1</th>\n",
              "      <th>emb_2</th>\n",
              "      <th>emb_3</th>\n",
              "      <th>emb_4</th>\n",
              "      <th>emb_5</th>\n",
              "      <th>emb_6</th>\n",
              "      <th>emb_7</th>\n",
              "      <th>emb_8</th>\n",
              "      <th>emb_9</th>\n",
              "      <th>...</th>\n",
              "      <th>emb_43</th>\n",
              "      <th>emb_44</th>\n",
              "      <th>emb_45</th>\n",
              "      <th>emb_46</th>\n",
              "      <th>emb_47</th>\n",
              "      <th>emb_48</th>\n",
              "      <th>emb_49</th>\n",
              "      <th>año</th>\n",
              "      <th>mes</th>\n",
              "      <th>total_cp</th>\n",
              "    </tr>\n",
              "    <tr>\n",
              "      <th>codigo</th>\n",
              "      <th></th>\n",
              "      <th></th>\n",
              "      <th></th>\n",
              "      <th></th>\n",
              "      <th></th>\n",
              "      <th></th>\n",
              "      <th></th>\n",
              "      <th></th>\n",
              "      <th></th>\n",
              "      <th></th>\n",
              "      <th></th>\n",
              "      <th></th>\n",
              "      <th></th>\n",
              "      <th></th>\n",
              "      <th></th>\n",
              "      <th></th>\n",
              "      <th></th>\n",
              "      <th></th>\n",
              "      <th></th>\n",
              "      <th></th>\n",
              "      <th></th>\n",
              "    </tr>\n",
              "  </thead>\n",
              "  <tbody>\n",
              "    <tr>\n",
              "      <th>A1262AAA</th>\n",
              "      <td>0.326530</td>\n",
              "      <td>0.611748</td>\n",
              "      <td>0.882118</td>\n",
              "      <td>0.164462</td>\n",
              "      <td>0.176207</td>\n",
              "      <td>0.152245</td>\n",
              "      <td>0.554422</td>\n",
              "      <td>0.438314</td>\n",
              "      <td>0.273584</td>\n",
              "      <td>0.543454</td>\n",
              "      <td>...</td>\n",
              "      <td>0.525221</td>\n",
              "      <td>0.014723</td>\n",
              "      <td>0.922984</td>\n",
              "      <td>0.197636</td>\n",
              "      <td>0.267203</td>\n",
              "      <td>0.120884</td>\n",
              "      <td>0.151701</td>\n",
              "      <td>2014</td>\n",
              "      <td>2</td>\n",
              "      <td>0.000000</td>\n",
              "    </tr>\n",
              "    <tr>\n",
              "      <th>A1419AAA</th>\n",
              "      <td>0.198981</td>\n",
              "      <td>0.697318</td>\n",
              "      <td>0.034837</td>\n",
              "      <td>0.062948</td>\n",
              "      <td>0.644676</td>\n",
              "      <td>0.160174</td>\n",
              "      <td>0.202338</td>\n",
              "      <td>0.918043</td>\n",
              "      <td>0.621387</td>\n",
              "      <td>0.653049</td>\n",
              "      <td>...</td>\n",
              "      <td>0.615194</td>\n",
              "      <td>0.413461</td>\n",
              "      <td>0.039790</td>\n",
              "      <td>0.846652</td>\n",
              "      <td>0.978030</td>\n",
              "      <td>0.781196</td>\n",
              "      <td>0.015457</td>\n",
              "      <td>2014</td>\n",
              "      <td>12</td>\n",
              "      <td>0.001646</td>\n",
              "    </tr>\n",
              "    <tr>\n",
              "      <th>A1425AAA</th>\n",
              "      <td>0.512867</td>\n",
              "      <td>0.451826</td>\n",
              "      <td>0.516654</td>\n",
              "      <td>0.945119</td>\n",
              "      <td>0.705455</td>\n",
              "      <td>0.870973</td>\n",
              "      <td>0.633077</td>\n",
              "      <td>0.990679</td>\n",
              "      <td>0.693407</td>\n",
              "      <td>0.241740</td>\n",
              "      <td>...</td>\n",
              "      <td>0.736080</td>\n",
              "      <td>0.855008</td>\n",
              "      <td>0.588906</td>\n",
              "      <td>0.993744</td>\n",
              "      <td>0.590728</td>\n",
              "      <td>0.008586</td>\n",
              "      <td>0.847817</td>\n",
              "      <td>2014</td>\n",
              "      <td>10</td>\n",
              "      <td>0.001097</td>\n",
              "    </tr>\n",
              "    <tr>\n",
              "      <th>A1669AAA</th>\n",
              "      <td>0.553704</td>\n",
              "      <td>0.674759</td>\n",
              "      <td>0.992458</td>\n",
              "      <td>0.785872</td>\n",
              "      <td>0.663809</td>\n",
              "      <td>0.047592</td>\n",
              "      <td>0.550526</td>\n",
              "      <td>0.247041</td>\n",
              "      <td>0.085359</td>\n",
              "      <td>0.957419</td>\n",
              "      <td>...</td>\n",
              "      <td>0.379437</td>\n",
              "      <td>0.409824</td>\n",
              "      <td>0.277389</td>\n",
              "      <td>0.896852</td>\n",
              "      <td>0.999689</td>\n",
              "      <td>0.491528</td>\n",
              "      <td>0.832996</td>\n",
              "      <td>2014</td>\n",
              "      <td>11</td>\n",
              "      <td>0.000000</td>\n",
              "    </tr>\n",
              "    <tr>\n",
              "      <th>A1712AAA</th>\n",
              "      <td>0.820971</td>\n",
              "      <td>0.308511</td>\n",
              "      <td>0.486241</td>\n",
              "      <td>0.718364</td>\n",
              "      <td>0.846011</td>\n",
              "      <td>0.542756</td>\n",
              "      <td>0.433164</td>\n",
              "      <td>0.809676</td>\n",
              "      <td>0.143494</td>\n",
              "      <td>0.243344</td>\n",
              "      <td>...</td>\n",
              "      <td>0.936820</td>\n",
              "      <td>0.581034</td>\n",
              "      <td>0.308000</td>\n",
              "      <td>0.451249</td>\n",
              "      <td>0.401096</td>\n",
              "      <td>0.377704</td>\n",
              "      <td>0.789802</td>\n",
              "      <td>2013</td>\n",
              "      <td>11</td>\n",
              "      <td>0.000000</td>\n",
              "    </tr>\n",
              "    <tr>\n",
              "      <th>...</th>\n",
              "      <td>...</td>\n",
              "      <td>...</td>\n",
              "      <td>...</td>\n",
              "      <td>...</td>\n",
              "      <td>...</td>\n",
              "      <td>...</td>\n",
              "      <td>...</td>\n",
              "      <td>...</td>\n",
              "      <td>...</td>\n",
              "      <td>...</td>\n",
              "      <td>...</td>\n",
              "      <td>...</td>\n",
              "      <td>...</td>\n",
              "      <td>...</td>\n",
              "      <td>...</td>\n",
              "      <td>...</td>\n",
              "      <td>...</td>\n",
              "      <td>...</td>\n",
              "      <td>...</td>\n",
              "      <td>...</td>\n",
              "      <td>...</td>\n",
              "    </tr>\n",
              "    <tr>\n",
              "      <th>Z9408ACJ</th>\n",
              "      <td>0.722321</td>\n",
              "      <td>0.117259</td>\n",
              "      <td>0.806001</td>\n",
              "      <td>0.660754</td>\n",
              "      <td>0.799244</td>\n",
              "      <td>0.290867</td>\n",
              "      <td>0.404143</td>\n",
              "      <td>0.320122</td>\n",
              "      <td>0.695929</td>\n",
              "      <td>0.377674</td>\n",
              "      <td>...</td>\n",
              "      <td>0.134945</td>\n",
              "      <td>0.933456</td>\n",
              "      <td>0.275213</td>\n",
              "      <td>0.980894</td>\n",
              "      <td>0.272448</td>\n",
              "      <td>0.539382</td>\n",
              "      <td>0.171134</td>\n",
              "      <td>2022</td>\n",
              "      <td>6</td>\n",
              "      <td>0.000000</td>\n",
              "    </tr>\n",
              "    <tr>\n",
              "      <th>Z9408ACK</th>\n",
              "      <td>0.895055</td>\n",
              "      <td>0.295915</td>\n",
              "      <td>0.080228</td>\n",
              "      <td>0.459220</td>\n",
              "      <td>0.714829</td>\n",
              "      <td>0.426350</td>\n",
              "      <td>0.174358</td>\n",
              "      <td>0.637981</td>\n",
              "      <td>0.341736</td>\n",
              "      <td>0.983143</td>\n",
              "      <td>...</td>\n",
              "      <td>0.327046</td>\n",
              "      <td>0.280168</td>\n",
              "      <td>0.084878</td>\n",
              "      <td>0.342770</td>\n",
              "      <td>0.601728</td>\n",
              "      <td>0.747816</td>\n",
              "      <td>0.537738</td>\n",
              "      <td>2012</td>\n",
              "      <td>10</td>\n",
              "      <td>0.000000</td>\n",
              "    </tr>\n",
              "    <tr>\n",
              "      <th>Z9408ALA</th>\n",
              "      <td>0.480296</td>\n",
              "      <td>0.676696</td>\n",
              "      <td>0.008657</td>\n",
              "      <td>0.418295</td>\n",
              "      <td>0.762984</td>\n",
              "      <td>0.842195</td>\n",
              "      <td>0.833123</td>\n",
              "      <td>0.458767</td>\n",
              "      <td>0.653651</td>\n",
              "      <td>0.568604</td>\n",
              "      <td>...</td>\n",
              "      <td>0.188503</td>\n",
              "      <td>0.995155</td>\n",
              "      <td>0.826528</td>\n",
              "      <td>0.312014</td>\n",
              "      <td>0.963323</td>\n",
              "      <td>0.829939</td>\n",
              "      <td>0.442409</td>\n",
              "      <td>2011</td>\n",
              "      <td>3</td>\n",
              "      <td>0.000000</td>\n",
              "    </tr>\n",
              "    <tr>\n",
              "      <th>Z9420XAA</th>\n",
              "      <td>0.432119</td>\n",
              "      <td>0.816135</td>\n",
              "      <td>0.666620</td>\n",
              "      <td>0.957695</td>\n",
              "      <td>0.750783</td>\n",
              "      <td>0.491908</td>\n",
              "      <td>0.909842</td>\n",
              "      <td>0.214309</td>\n",
              "      <td>0.742971</td>\n",
              "      <td>0.961266</td>\n",
              "      <td>...</td>\n",
              "      <td>0.835478</td>\n",
              "      <td>0.465716</td>\n",
              "      <td>0.607728</td>\n",
              "      <td>0.273820</td>\n",
              "      <td>0.421173</td>\n",
              "      <td>0.793614</td>\n",
              "      <td>0.121850</td>\n",
              "      <td>2009</td>\n",
              "      <td>11</td>\n",
              "      <td>0.000000</td>\n",
              "    </tr>\n",
              "    <tr>\n",
              "      <th>Z9420XAA</th>\n",
              "      <td>0.432119</td>\n",
              "      <td>0.816135</td>\n",
              "      <td>0.666620</td>\n",
              "      <td>0.957695</td>\n",
              "      <td>0.750783</td>\n",
              "      <td>0.491908</td>\n",
              "      <td>0.909842</td>\n",
              "      <td>0.214309</td>\n",
              "      <td>0.742971</td>\n",
              "      <td>0.961266</td>\n",
              "      <td>...</td>\n",
              "      <td>0.835478</td>\n",
              "      <td>0.465716</td>\n",
              "      <td>0.607728</td>\n",
              "      <td>0.273820</td>\n",
              "      <td>0.421173</td>\n",
              "      <td>0.793614</td>\n",
              "      <td>0.121850</td>\n",
              "      <td>2010</td>\n",
              "      <td>9</td>\n",
              "      <td>0.000000</td>\n",
              "    </tr>\n",
              "  </tbody>\n",
              "</table>\n",
              "<p>1166447 rows × 53 columns</p>\n",
              "</div>\n",
              "      <button class=\"colab-df-convert\" onclick=\"convertToInteractive('df-47c0f48a-ec5f-4656-bbb0-061593879097')\"\n",
              "              title=\"Convert this dataframe to an interactive table.\"\n",
              "              style=\"display:none;\">\n",
              "        \n",
              "  <svg xmlns=\"http://www.w3.org/2000/svg\" height=\"24px\"viewBox=\"0 0 24 24\"\n",
              "       width=\"24px\">\n",
              "    <path d=\"M0 0h24v24H0V0z\" fill=\"none\"/>\n",
              "    <path d=\"M18.56 5.44l.94 2.06.94-2.06 2.06-.94-2.06-.94-.94-2.06-.94 2.06-2.06.94zm-11 1L8.5 8.5l.94-2.06 2.06-.94-2.06-.94L8.5 2.5l-.94 2.06-2.06.94zm10 10l.94 2.06.94-2.06 2.06-.94-2.06-.94-.94-2.06-.94 2.06-2.06.94z\"/><path d=\"M17.41 7.96l-1.37-1.37c-.4-.4-.92-.59-1.43-.59-.52 0-1.04.2-1.43.59L10.3 9.45l-7.72 7.72c-.78.78-.78 2.05 0 2.83L4 21.41c.39.39.9.59 1.41.59.51 0 1.02-.2 1.41-.59l7.78-7.78 2.81-2.81c.8-.78.8-2.07 0-2.86zM5.41 20L4 18.59l7.72-7.72 1.47 1.35L5.41 20z\"/>\n",
              "  </svg>\n",
              "      </button>\n",
              "      \n",
              "  <style>\n",
              "    .colab-df-container {\n",
              "      display:flex;\n",
              "      flex-wrap:wrap;\n",
              "      gap: 12px;\n",
              "    }\n",
              "\n",
              "    .colab-df-convert {\n",
              "      background-color: #E8F0FE;\n",
              "      border: none;\n",
              "      border-radius: 50%;\n",
              "      cursor: pointer;\n",
              "      display: none;\n",
              "      fill: #1967D2;\n",
              "      height: 32px;\n",
              "      padding: 0 0 0 0;\n",
              "      width: 32px;\n",
              "    }\n",
              "\n",
              "    .colab-df-convert:hover {\n",
              "      background-color: #E2EBFA;\n",
              "      box-shadow: 0px 1px 2px rgba(60, 64, 67, 0.3), 0px 1px 3px 1px rgba(60, 64, 67, 0.15);\n",
              "      fill: #174EA6;\n",
              "    }\n",
              "\n",
              "    [theme=dark] .colab-df-convert {\n",
              "      background-color: #3B4455;\n",
              "      fill: #D2E3FC;\n",
              "    }\n",
              "\n",
              "    [theme=dark] .colab-df-convert:hover {\n",
              "      background-color: #434B5C;\n",
              "      box-shadow: 0px 1px 3px 1px rgba(0, 0, 0, 0.15);\n",
              "      filter: drop-shadow(0px 1px 2px rgba(0, 0, 0, 0.3));\n",
              "      fill: #FFFFFF;\n",
              "    }\n",
              "  </style>\n",
              "\n",
              "      <script>\n",
              "        const buttonEl =\n",
              "          document.querySelector('#df-47c0f48a-ec5f-4656-bbb0-061593879097 button.colab-df-convert');\n",
              "        buttonEl.style.display =\n",
              "          google.colab.kernel.accessAllowed ? 'block' : 'none';\n",
              "\n",
              "        async function convertToInteractive(key) {\n",
              "          const element = document.querySelector('#df-47c0f48a-ec5f-4656-bbb0-061593879097');\n",
              "          const dataTable =\n",
              "            await google.colab.kernel.invokeFunction('convertToInteractive',\n",
              "                                                     [key], {});\n",
              "          if (!dataTable) return;\n",
              "\n",
              "          const docLinkHtml = 'Like what you see? Visit the ' +\n",
              "            '<a target=\"_blank\" href=https://colab.research.google.com/notebooks/data_table.ipynb>data table notebook</a>'\n",
              "            + ' to learn more about interactive tables.';\n",
              "          element.innerHTML = '';\n",
              "          dataTable['output_type'] = 'display_data';\n",
              "          await google.colab.output.renderOutput(dataTable, element);\n",
              "          const docLink = document.createElement('div');\n",
              "          docLink.innerHTML = docLinkHtml;\n",
              "          element.appendChild(docLink);\n",
              "        }\n",
              "      </script>\n",
              "    </div>\n",
              "  </div>\n",
              "  "
            ]
          },
          "metadata": {},
          "execution_count": 28
        }
      ],
      "source": [
        "df_join = embedding_df.join(df, lsuffix='_izq', rsuffix='_der')\n",
        "df_join"
      ]
    },
    {
      "cell_type": "markdown",
      "id": "2a1d9b7a-7527-4ee9-ae04-1d86dfbab1a9",
      "metadata": {
        "id": "2a1d9b7a-7527-4ee9-ae04-1d86dfbab1a9"
      },
      "source": [
        "#### Datos de entrenamiento"
      ]
    },
    {
      "cell_type": "code",
      "execution_count": 29,
      "id": "ce22e1bb-c05a-4ce5-9d5b-ba319f3a0265",
      "metadata": {
        "id": "ce22e1bb-c05a-4ce5-9d5b-ba319f3a0265",
        "outputId": "6fa1ccbc-18cb-40dc-b69f-10ad22514655",
        "colab": {
          "base_uri": "https://localhost:8080/",
          "height": 423
        }
      },
      "outputs": [
        {
          "output_type": "execute_result",
          "data": {
            "text/plain": [
              "           codigo     emb_0     emb_1     emb_2     emb_3     emb_4     emb_5  \\\n",
              "0        A1262AAA  0.326530  0.611748  0.882118  0.164462  0.176207  0.152245   \n",
              "1        A1419AAA  0.198981  0.697318  0.034837  0.062948  0.644676  0.160174   \n",
              "2        A1425AAA  0.512867  0.451826  0.516654  0.945119  0.705455  0.870973   \n",
              "3        A1669AAA  0.553704  0.674759  0.992458  0.785872  0.663809  0.047592   \n",
              "4        A1712AAA  0.820971  0.308511  0.486241  0.718364  0.846011  0.542756   \n",
              "...           ...       ...       ...       ...       ...       ...       ...   \n",
              "1166442  Z9408ACJ  0.722321  0.117259  0.806001  0.660754  0.799244  0.290867   \n",
              "1166443  Z9408ACK  0.895055  0.295915  0.080228  0.459220  0.714829  0.426350   \n",
              "1166444  Z9408ALA  0.480296  0.676696  0.008657  0.418295  0.762984  0.842195   \n",
              "1166445  Z9420XAA  0.432119  0.816135  0.666620  0.957695  0.750783  0.491908   \n",
              "1166446  Z9420XAA  0.432119  0.816135  0.666620  0.957695  0.750783  0.491908   \n",
              "\n",
              "            emb_6     emb_7     emb_8  ...    emb_43    emb_44    emb_45  \\\n",
              "0        0.554422  0.438314  0.273584  ...  0.525221  0.014723  0.922984   \n",
              "1        0.202338  0.918043  0.621387  ...  0.615194  0.413461  0.039790   \n",
              "2        0.633077  0.990679  0.693407  ...  0.736080  0.855008  0.588906   \n",
              "3        0.550526  0.247041  0.085359  ...  0.379437  0.409824  0.277389   \n",
              "4        0.433164  0.809676  0.143494  ...  0.936820  0.581034  0.308000   \n",
              "...           ...       ...       ...  ...       ...       ...       ...   \n",
              "1166442  0.404143  0.320122  0.695929  ...  0.134945  0.933456  0.275213   \n",
              "1166443  0.174358  0.637981  0.341736  ...  0.327046  0.280168  0.084878   \n",
              "1166444  0.833123  0.458767  0.653651  ...  0.188503  0.995155  0.826528   \n",
              "1166445  0.909842  0.214309  0.742971  ...  0.835478  0.465716  0.607728   \n",
              "1166446  0.909842  0.214309  0.742971  ...  0.835478  0.465716  0.607728   \n",
              "\n",
              "           emb_46    emb_47    emb_48    emb_49   año  mes  total_cp  \n",
              "0        0.197636  0.267203  0.120884  0.151701  2014    2  0.000000  \n",
              "1        0.846652  0.978030  0.781196  0.015457  2014   12  0.001646  \n",
              "2        0.993744  0.590728  0.008586  0.847817  2014   10  0.001097  \n",
              "3        0.896852  0.999689  0.491528  0.832996  2014   11  0.000000  \n",
              "4        0.451249  0.401096  0.377704  0.789802  2013   11  0.000000  \n",
              "...           ...       ...       ...       ...   ...  ...       ...  \n",
              "1166442  0.980894  0.272448  0.539382  0.171134  2022    6  0.000000  \n",
              "1166443  0.342770  0.601728  0.747816  0.537738  2012   10  0.000000  \n",
              "1166444  0.312014  0.963323  0.829939  0.442409  2011    3  0.000000  \n",
              "1166445  0.273820  0.421173  0.793614  0.121850  2009   11  0.000000  \n",
              "1166446  0.273820  0.421173  0.793614  0.121850  2010    9  0.000000  \n",
              "\n",
              "[1166447 rows x 54 columns]"
            ],
            "text/html": [
              "\n",
              "  <div id=\"df-13279aa2-7748-4937-8b26-e1449c383fd9\">\n",
              "    <div class=\"colab-df-container\">\n",
              "      <div>\n",
              "<style scoped>\n",
              "    .dataframe tbody tr th:only-of-type {\n",
              "        vertical-align: middle;\n",
              "    }\n",
              "\n",
              "    .dataframe tbody tr th {\n",
              "        vertical-align: top;\n",
              "    }\n",
              "\n",
              "    .dataframe thead th {\n",
              "        text-align: right;\n",
              "    }\n",
              "</style>\n",
              "<table border=\"1\" class=\"dataframe\">\n",
              "  <thead>\n",
              "    <tr style=\"text-align: right;\">\n",
              "      <th></th>\n",
              "      <th>codigo</th>\n",
              "      <th>emb_0</th>\n",
              "      <th>emb_1</th>\n",
              "      <th>emb_2</th>\n",
              "      <th>emb_3</th>\n",
              "      <th>emb_4</th>\n",
              "      <th>emb_5</th>\n",
              "      <th>emb_6</th>\n",
              "      <th>emb_7</th>\n",
              "      <th>emb_8</th>\n",
              "      <th>...</th>\n",
              "      <th>emb_43</th>\n",
              "      <th>emb_44</th>\n",
              "      <th>emb_45</th>\n",
              "      <th>emb_46</th>\n",
              "      <th>emb_47</th>\n",
              "      <th>emb_48</th>\n",
              "      <th>emb_49</th>\n",
              "      <th>año</th>\n",
              "      <th>mes</th>\n",
              "      <th>total_cp</th>\n",
              "    </tr>\n",
              "  </thead>\n",
              "  <tbody>\n",
              "    <tr>\n",
              "      <th>0</th>\n",
              "      <td>A1262AAA</td>\n",
              "      <td>0.326530</td>\n",
              "      <td>0.611748</td>\n",
              "      <td>0.882118</td>\n",
              "      <td>0.164462</td>\n",
              "      <td>0.176207</td>\n",
              "      <td>0.152245</td>\n",
              "      <td>0.554422</td>\n",
              "      <td>0.438314</td>\n",
              "      <td>0.273584</td>\n",
              "      <td>...</td>\n",
              "      <td>0.525221</td>\n",
              "      <td>0.014723</td>\n",
              "      <td>0.922984</td>\n",
              "      <td>0.197636</td>\n",
              "      <td>0.267203</td>\n",
              "      <td>0.120884</td>\n",
              "      <td>0.151701</td>\n",
              "      <td>2014</td>\n",
              "      <td>2</td>\n",
              "      <td>0.000000</td>\n",
              "    </tr>\n",
              "    <tr>\n",
              "      <th>1</th>\n",
              "      <td>A1419AAA</td>\n",
              "      <td>0.198981</td>\n",
              "      <td>0.697318</td>\n",
              "      <td>0.034837</td>\n",
              "      <td>0.062948</td>\n",
              "      <td>0.644676</td>\n",
              "      <td>0.160174</td>\n",
              "      <td>0.202338</td>\n",
              "      <td>0.918043</td>\n",
              "      <td>0.621387</td>\n",
              "      <td>...</td>\n",
              "      <td>0.615194</td>\n",
              "      <td>0.413461</td>\n",
              "      <td>0.039790</td>\n",
              "      <td>0.846652</td>\n",
              "      <td>0.978030</td>\n",
              "      <td>0.781196</td>\n",
              "      <td>0.015457</td>\n",
              "      <td>2014</td>\n",
              "      <td>12</td>\n",
              "      <td>0.001646</td>\n",
              "    </tr>\n",
              "    <tr>\n",
              "      <th>2</th>\n",
              "      <td>A1425AAA</td>\n",
              "      <td>0.512867</td>\n",
              "      <td>0.451826</td>\n",
              "      <td>0.516654</td>\n",
              "      <td>0.945119</td>\n",
              "      <td>0.705455</td>\n",
              "      <td>0.870973</td>\n",
              "      <td>0.633077</td>\n",
              "      <td>0.990679</td>\n",
              "      <td>0.693407</td>\n",
              "      <td>...</td>\n",
              "      <td>0.736080</td>\n",
              "      <td>0.855008</td>\n",
              "      <td>0.588906</td>\n",
              "      <td>0.993744</td>\n",
              "      <td>0.590728</td>\n",
              "      <td>0.008586</td>\n",
              "      <td>0.847817</td>\n",
              "      <td>2014</td>\n",
              "      <td>10</td>\n",
              "      <td>0.001097</td>\n",
              "    </tr>\n",
              "    <tr>\n",
              "      <th>3</th>\n",
              "      <td>A1669AAA</td>\n",
              "      <td>0.553704</td>\n",
              "      <td>0.674759</td>\n",
              "      <td>0.992458</td>\n",
              "      <td>0.785872</td>\n",
              "      <td>0.663809</td>\n",
              "      <td>0.047592</td>\n",
              "      <td>0.550526</td>\n",
              "      <td>0.247041</td>\n",
              "      <td>0.085359</td>\n",
              "      <td>...</td>\n",
              "      <td>0.379437</td>\n",
              "      <td>0.409824</td>\n",
              "      <td>0.277389</td>\n",
              "      <td>0.896852</td>\n",
              "      <td>0.999689</td>\n",
              "      <td>0.491528</td>\n",
              "      <td>0.832996</td>\n",
              "      <td>2014</td>\n",
              "      <td>11</td>\n",
              "      <td>0.000000</td>\n",
              "    </tr>\n",
              "    <tr>\n",
              "      <th>4</th>\n",
              "      <td>A1712AAA</td>\n",
              "      <td>0.820971</td>\n",
              "      <td>0.308511</td>\n",
              "      <td>0.486241</td>\n",
              "      <td>0.718364</td>\n",
              "      <td>0.846011</td>\n",
              "      <td>0.542756</td>\n",
              "      <td>0.433164</td>\n",
              "      <td>0.809676</td>\n",
              "      <td>0.143494</td>\n",
              "      <td>...</td>\n",
              "      <td>0.936820</td>\n",
              "      <td>0.581034</td>\n",
              "      <td>0.308000</td>\n",
              "      <td>0.451249</td>\n",
              "      <td>0.401096</td>\n",
              "      <td>0.377704</td>\n",
              "      <td>0.789802</td>\n",
              "      <td>2013</td>\n",
              "      <td>11</td>\n",
              "      <td>0.000000</td>\n",
              "    </tr>\n",
              "    <tr>\n",
              "      <th>...</th>\n",
              "      <td>...</td>\n",
              "      <td>...</td>\n",
              "      <td>...</td>\n",
              "      <td>...</td>\n",
              "      <td>...</td>\n",
              "      <td>...</td>\n",
              "      <td>...</td>\n",
              "      <td>...</td>\n",
              "      <td>...</td>\n",
              "      <td>...</td>\n",
              "      <td>...</td>\n",
              "      <td>...</td>\n",
              "      <td>...</td>\n",
              "      <td>...</td>\n",
              "      <td>...</td>\n",
              "      <td>...</td>\n",
              "      <td>...</td>\n",
              "      <td>...</td>\n",
              "      <td>...</td>\n",
              "      <td>...</td>\n",
              "      <td>...</td>\n",
              "    </tr>\n",
              "    <tr>\n",
              "      <th>1166442</th>\n",
              "      <td>Z9408ACJ</td>\n",
              "      <td>0.722321</td>\n",
              "      <td>0.117259</td>\n",
              "      <td>0.806001</td>\n",
              "      <td>0.660754</td>\n",
              "      <td>0.799244</td>\n",
              "      <td>0.290867</td>\n",
              "      <td>0.404143</td>\n",
              "      <td>0.320122</td>\n",
              "      <td>0.695929</td>\n",
              "      <td>...</td>\n",
              "      <td>0.134945</td>\n",
              "      <td>0.933456</td>\n",
              "      <td>0.275213</td>\n",
              "      <td>0.980894</td>\n",
              "      <td>0.272448</td>\n",
              "      <td>0.539382</td>\n",
              "      <td>0.171134</td>\n",
              "      <td>2022</td>\n",
              "      <td>6</td>\n",
              "      <td>0.000000</td>\n",
              "    </tr>\n",
              "    <tr>\n",
              "      <th>1166443</th>\n",
              "      <td>Z9408ACK</td>\n",
              "      <td>0.895055</td>\n",
              "      <td>0.295915</td>\n",
              "      <td>0.080228</td>\n",
              "      <td>0.459220</td>\n",
              "      <td>0.714829</td>\n",
              "      <td>0.426350</td>\n",
              "      <td>0.174358</td>\n",
              "      <td>0.637981</td>\n",
              "      <td>0.341736</td>\n",
              "      <td>...</td>\n",
              "      <td>0.327046</td>\n",
              "      <td>0.280168</td>\n",
              "      <td>0.084878</td>\n",
              "      <td>0.342770</td>\n",
              "      <td>0.601728</td>\n",
              "      <td>0.747816</td>\n",
              "      <td>0.537738</td>\n",
              "      <td>2012</td>\n",
              "      <td>10</td>\n",
              "      <td>0.000000</td>\n",
              "    </tr>\n",
              "    <tr>\n",
              "      <th>1166444</th>\n",
              "      <td>Z9408ALA</td>\n",
              "      <td>0.480296</td>\n",
              "      <td>0.676696</td>\n",
              "      <td>0.008657</td>\n",
              "      <td>0.418295</td>\n",
              "      <td>0.762984</td>\n",
              "      <td>0.842195</td>\n",
              "      <td>0.833123</td>\n",
              "      <td>0.458767</td>\n",
              "      <td>0.653651</td>\n",
              "      <td>...</td>\n",
              "      <td>0.188503</td>\n",
              "      <td>0.995155</td>\n",
              "      <td>0.826528</td>\n",
              "      <td>0.312014</td>\n",
              "      <td>0.963323</td>\n",
              "      <td>0.829939</td>\n",
              "      <td>0.442409</td>\n",
              "      <td>2011</td>\n",
              "      <td>3</td>\n",
              "      <td>0.000000</td>\n",
              "    </tr>\n",
              "    <tr>\n",
              "      <th>1166445</th>\n",
              "      <td>Z9420XAA</td>\n",
              "      <td>0.432119</td>\n",
              "      <td>0.816135</td>\n",
              "      <td>0.666620</td>\n",
              "      <td>0.957695</td>\n",
              "      <td>0.750783</td>\n",
              "      <td>0.491908</td>\n",
              "      <td>0.909842</td>\n",
              "      <td>0.214309</td>\n",
              "      <td>0.742971</td>\n",
              "      <td>...</td>\n",
              "      <td>0.835478</td>\n",
              "      <td>0.465716</td>\n",
              "      <td>0.607728</td>\n",
              "      <td>0.273820</td>\n",
              "      <td>0.421173</td>\n",
              "      <td>0.793614</td>\n",
              "      <td>0.121850</td>\n",
              "      <td>2009</td>\n",
              "      <td>11</td>\n",
              "      <td>0.000000</td>\n",
              "    </tr>\n",
              "    <tr>\n",
              "      <th>1166446</th>\n",
              "      <td>Z9420XAA</td>\n",
              "      <td>0.432119</td>\n",
              "      <td>0.816135</td>\n",
              "      <td>0.666620</td>\n",
              "      <td>0.957695</td>\n",
              "      <td>0.750783</td>\n",
              "      <td>0.491908</td>\n",
              "      <td>0.909842</td>\n",
              "      <td>0.214309</td>\n",
              "      <td>0.742971</td>\n",
              "      <td>...</td>\n",
              "      <td>0.835478</td>\n",
              "      <td>0.465716</td>\n",
              "      <td>0.607728</td>\n",
              "      <td>0.273820</td>\n",
              "      <td>0.421173</td>\n",
              "      <td>0.793614</td>\n",
              "      <td>0.121850</td>\n",
              "      <td>2010</td>\n",
              "      <td>9</td>\n",
              "      <td>0.000000</td>\n",
              "    </tr>\n",
              "  </tbody>\n",
              "</table>\n",
              "<p>1166447 rows × 54 columns</p>\n",
              "</div>\n",
              "      <button class=\"colab-df-convert\" onclick=\"convertToInteractive('df-13279aa2-7748-4937-8b26-e1449c383fd9')\"\n",
              "              title=\"Convert this dataframe to an interactive table.\"\n",
              "              style=\"display:none;\">\n",
              "        \n",
              "  <svg xmlns=\"http://www.w3.org/2000/svg\" height=\"24px\"viewBox=\"0 0 24 24\"\n",
              "       width=\"24px\">\n",
              "    <path d=\"M0 0h24v24H0V0z\" fill=\"none\"/>\n",
              "    <path d=\"M18.56 5.44l.94 2.06.94-2.06 2.06-.94-2.06-.94-.94-2.06-.94 2.06-2.06.94zm-11 1L8.5 8.5l.94-2.06 2.06-.94-2.06-.94L8.5 2.5l-.94 2.06-2.06.94zm10 10l.94 2.06.94-2.06 2.06-.94-2.06-.94-.94-2.06-.94 2.06-2.06.94z\"/><path d=\"M17.41 7.96l-1.37-1.37c-.4-.4-.92-.59-1.43-.59-.52 0-1.04.2-1.43.59L10.3 9.45l-7.72 7.72c-.78.78-.78 2.05 0 2.83L4 21.41c.39.39.9.59 1.41.59.51 0 1.02-.2 1.41-.59l7.78-7.78 2.81-2.81c.8-.78.8-2.07 0-2.86zM5.41 20L4 18.59l7.72-7.72 1.47 1.35L5.41 20z\"/>\n",
              "  </svg>\n",
              "      </button>\n",
              "      \n",
              "  <style>\n",
              "    .colab-df-container {\n",
              "      display:flex;\n",
              "      flex-wrap:wrap;\n",
              "      gap: 12px;\n",
              "    }\n",
              "\n",
              "    .colab-df-convert {\n",
              "      background-color: #E8F0FE;\n",
              "      border: none;\n",
              "      border-radius: 50%;\n",
              "      cursor: pointer;\n",
              "      display: none;\n",
              "      fill: #1967D2;\n",
              "      height: 32px;\n",
              "      padding: 0 0 0 0;\n",
              "      width: 32px;\n",
              "    }\n",
              "\n",
              "    .colab-df-convert:hover {\n",
              "      background-color: #E2EBFA;\n",
              "      box-shadow: 0px 1px 2px rgba(60, 64, 67, 0.3), 0px 1px 3px 1px rgba(60, 64, 67, 0.15);\n",
              "      fill: #174EA6;\n",
              "    }\n",
              "\n",
              "    [theme=dark] .colab-df-convert {\n",
              "      background-color: #3B4455;\n",
              "      fill: #D2E3FC;\n",
              "    }\n",
              "\n",
              "    [theme=dark] .colab-df-convert:hover {\n",
              "      background-color: #434B5C;\n",
              "      box-shadow: 0px 1px 3px 1px rgba(0, 0, 0, 0.15);\n",
              "      filter: drop-shadow(0px 1px 2px rgba(0, 0, 0, 0.3));\n",
              "      fill: #FFFFFF;\n",
              "    }\n",
              "  </style>\n",
              "\n",
              "      <script>\n",
              "        const buttonEl =\n",
              "          document.querySelector('#df-13279aa2-7748-4937-8b26-e1449c383fd9 button.colab-df-convert');\n",
              "        buttonEl.style.display =\n",
              "          google.colab.kernel.accessAllowed ? 'block' : 'none';\n",
              "\n",
              "        async function convertToInteractive(key) {\n",
              "          const element = document.querySelector('#df-13279aa2-7748-4937-8b26-e1449c383fd9');\n",
              "          const dataTable =\n",
              "            await google.colab.kernel.invokeFunction('convertToInteractive',\n",
              "                                                     [key], {});\n",
              "          if (!dataTable) return;\n",
              "\n",
              "          const docLinkHtml = 'Like what you see? Visit the ' +\n",
              "            '<a target=\"_blank\" href=https://colab.research.google.com/notebooks/data_table.ipynb>data table notebook</a>'\n",
              "            + ' to learn more about interactive tables.';\n",
              "          element.innerHTML = '';\n",
              "          dataTable['output_type'] = 'display_data';\n",
              "          await google.colab.output.renderOutput(dataTable, element);\n",
              "          const docLink = document.createElement('div');\n",
              "          docLink.innerHTML = docLinkHtml;\n",
              "          element.appendChild(docLink);\n",
              "        }\n",
              "      </script>\n",
              "    </div>\n",
              "  </div>\n",
              "  "
            ]
          },
          "metadata": {},
          "execution_count": 29
        }
      ],
      "source": [
        "df_final = df_join.reset_index()\n",
        "df_final"
      ]
    },
    {
      "cell_type": "code",
      "execution_count": 30,
      "id": "a98680dd-bc07-4218-9c40-f923f2bb739a",
      "metadata": {
        "id": "a98680dd-bc07-4218-9c40-f923f2bb739a"
      },
      "outputs": [],
      "source": [
        "X_data = df_final.drop(['codigo','total_cp'], axis=1).to_numpy()"
      ]
    },
    {
      "cell_type": "code",
      "execution_count": 31,
      "id": "6a9af926-b09f-40fd-8e75-e68442e89b92",
      "metadata": {
        "id": "6a9af926-b09f-40fd-8e75-e68442e89b92",
        "outputId": "f7eebb7b-1cf0-4d0b-a5e8-a68f7c2cd212",
        "colab": {
          "base_uri": "https://localhost:8080/"
        }
      },
      "outputs": [
        {
          "output_type": "execute_result",
          "data": {
            "text/plain": [
              "(1166447, 52)"
            ]
          },
          "metadata": {},
          "execution_count": 31
        }
      ],
      "source": [
        "X_data.shape"
      ]
    },
    {
      "cell_type": "code",
      "execution_count": 32,
      "id": "3d5c6ff5-38a6-4ac5-88ef-9d21042899c7",
      "metadata": {
        "id": "3d5c6ff5-38a6-4ac5-88ef-9d21042899c7"
      },
      "outputs": [],
      "source": [
        "y_data = df_final['total_cp'].to_numpy()"
      ]
    },
    {
      "cell_type": "code",
      "execution_count": 33,
      "id": "a74cee1a-fdd6-4375-afb5-e2b6a8ca8846",
      "metadata": {
        "id": "a74cee1a-fdd6-4375-afb5-e2b6a8ca8846",
        "outputId": "93c43459-0a89-4b33-8936-849ed37aa656",
        "colab": {
          "base_uri": "https://localhost:8080/"
        }
      },
      "outputs": [
        {
          "output_type": "execute_result",
          "data": {
            "text/plain": [
              "array([0.        , 0.00164564, 0.00109709, ..., 0.        , 0.        ,\n",
              "       0.        ])"
            ]
          },
          "metadata": {},
          "execution_count": 33
        }
      ],
      "source": [
        "y_data"
      ]
    },
    {
      "cell_type": "code",
      "execution_count": 34,
      "id": "c8b17084-0463-40c5-b2d0-4c7530afeff9",
      "metadata": {
        "id": "c8b17084-0463-40c5-b2d0-4c7530afeff9"
      },
      "outputs": [],
      "source": [
        "X_train, X_test, y_train, y_test = train_test_split( X_data, y_data, test_size=0.30, random_state=43) "
      ]
    },
    {
      "cell_type": "markdown",
      "id": "ff6622e5-f697-4293-b865-ba1a8b33e4fd",
      "metadata": {
        "id": "ff6622e5-f697-4293-b865-ba1a8b33e4fd"
      },
      "source": [
        "### Modelo"
      ]
    },
    {
      "cell_type": "code",
      "execution_count": 35,
      "id": "7ac2df38-42d9-486a-a146-e5286115c9a8",
      "metadata": {
        "id": "7ac2df38-42d9-486a-a146-e5286115c9a8"
      },
      "outputs": [],
      "source": [
        "regr_2 = DecisionTreeRegressor(max_depth=5, min_samples_split=3, min_samples_leaf=3)\n",
        "regr_3 = RandomForestRegressor(max_depth=5, min_samples_split=3, min_samples_leaf=3)\n",
        "regr_4 = ExtraTreesRegressor(max_depth=5, min_samples_split=3, min_samples_leaf=3)"
      ]
    },
    {
      "cell_type": "markdown",
      "source": [
        "### Entrenamiento"
      ],
      "metadata": {
        "id": "lpptFgrzHQAs"
      },
      "id": "lpptFgrzHQAs"
    },
    {
      "cell_type": "code",
      "source": [
        "#regr_2.fit(X_train, y_train)\n",
        "regr_3.fit(X_train, y_train)\n",
        "regr_4.fit(X_train, y_train)"
      ],
      "metadata": {
        "colab": {
          "base_uri": "https://localhost:8080/",
          "height": 74
        },
        "id": "VNr8eOpRHT7o",
        "outputId": "b280bb81-6677-4f33-c762-7c95cacb853c"
      },
      "id": "VNr8eOpRHT7o",
      "execution_count": 42,
      "outputs": [
        {
          "output_type": "execute_result",
          "data": {
            "text/plain": [
              "ExtraTreesRegressor(max_depth=5, min_samples_leaf=3, min_samples_split=3)"
            ],
            "text/html": [
              "<style>#sk-container-id-2 {color: black;background-color: white;}#sk-container-id-2 pre{padding: 0;}#sk-container-id-2 div.sk-toggleable {background-color: white;}#sk-container-id-2 label.sk-toggleable__label {cursor: pointer;display: block;width: 100%;margin-bottom: 0;padding: 0.3em;box-sizing: border-box;text-align: center;}#sk-container-id-2 label.sk-toggleable__label-arrow:before {content: \"▸\";float: left;margin-right: 0.25em;color: #696969;}#sk-container-id-2 label.sk-toggleable__label-arrow:hover:before {color: black;}#sk-container-id-2 div.sk-estimator:hover label.sk-toggleable__label-arrow:before {color: black;}#sk-container-id-2 div.sk-toggleable__content {max-height: 0;max-width: 0;overflow: hidden;text-align: left;background-color: #f0f8ff;}#sk-container-id-2 div.sk-toggleable__content pre {margin: 0.2em;color: black;border-radius: 0.25em;background-color: #f0f8ff;}#sk-container-id-2 input.sk-toggleable__control:checked~div.sk-toggleable__content {max-height: 200px;max-width: 100%;overflow: auto;}#sk-container-id-2 input.sk-toggleable__control:checked~label.sk-toggleable__label-arrow:before {content: \"▾\";}#sk-container-id-2 div.sk-estimator input.sk-toggleable__control:checked~label.sk-toggleable__label {background-color: #d4ebff;}#sk-container-id-2 div.sk-label input.sk-toggleable__control:checked~label.sk-toggleable__label {background-color: #d4ebff;}#sk-container-id-2 input.sk-hidden--visually {border: 0;clip: rect(1px 1px 1px 1px);clip: rect(1px, 1px, 1px, 1px);height: 1px;margin: -1px;overflow: hidden;padding: 0;position: absolute;width: 1px;}#sk-container-id-2 div.sk-estimator {font-family: monospace;background-color: #f0f8ff;border: 1px dotted black;border-radius: 0.25em;box-sizing: border-box;margin-bottom: 0.5em;}#sk-container-id-2 div.sk-estimator:hover {background-color: #d4ebff;}#sk-container-id-2 div.sk-parallel-item::after {content: \"\";width: 100%;border-bottom: 1px solid gray;flex-grow: 1;}#sk-container-id-2 div.sk-label:hover label.sk-toggleable__label {background-color: #d4ebff;}#sk-container-id-2 div.sk-serial::before {content: \"\";position: absolute;border-left: 1px solid gray;box-sizing: border-box;top: 0;bottom: 0;left: 50%;z-index: 0;}#sk-container-id-2 div.sk-serial {display: flex;flex-direction: column;align-items: center;background-color: white;padding-right: 0.2em;padding-left: 0.2em;position: relative;}#sk-container-id-2 div.sk-item {position: relative;z-index: 1;}#sk-container-id-2 div.sk-parallel {display: flex;align-items: stretch;justify-content: center;background-color: white;position: relative;}#sk-container-id-2 div.sk-item::before, #sk-container-id-2 div.sk-parallel-item::before {content: \"\";position: absolute;border-left: 1px solid gray;box-sizing: border-box;top: 0;bottom: 0;left: 50%;z-index: -1;}#sk-container-id-2 div.sk-parallel-item {display: flex;flex-direction: column;z-index: 1;position: relative;background-color: white;}#sk-container-id-2 div.sk-parallel-item:first-child::after {align-self: flex-end;width: 50%;}#sk-container-id-2 div.sk-parallel-item:last-child::after {align-self: flex-start;width: 50%;}#sk-container-id-2 div.sk-parallel-item:only-child::after {width: 0;}#sk-container-id-2 div.sk-dashed-wrapped {border: 1px dashed gray;margin: 0 0.4em 0.5em 0.4em;box-sizing: border-box;padding-bottom: 0.4em;background-color: white;}#sk-container-id-2 div.sk-label label {font-family: monospace;font-weight: bold;display: inline-block;line-height: 1.2em;}#sk-container-id-2 div.sk-label-container {text-align: center;}#sk-container-id-2 div.sk-container {/* jupyter's `normalize.less` sets `[hidden] { display: none; }` but bootstrap.min.css set `[hidden] { display: none !important; }` so we also need the `!important` here to be able to override the default hidden behavior on the sphinx rendered scikit-learn.org. See: https://github.com/scikit-learn/scikit-learn/issues/21755 */display: inline-block !important;position: relative;}#sk-container-id-2 div.sk-text-repr-fallback {display: none;}</style><div id=\"sk-container-id-2\" class=\"sk-top-container\"><div class=\"sk-text-repr-fallback\"><pre>ExtraTreesRegressor(max_depth=5, min_samples_leaf=3, min_samples_split=3)</pre><b>In a Jupyter environment, please rerun this cell to show the HTML representation or trust the notebook. <br />On GitHub, the HTML representation is unable to render, please try loading this page with nbviewer.org.</b></div><div class=\"sk-container\" hidden><div class=\"sk-item\"><div class=\"sk-estimator sk-toggleable\"><input class=\"sk-toggleable__control sk-hidden--visually\" id=\"sk-estimator-id-2\" type=\"checkbox\" checked><label for=\"sk-estimator-id-2\" class=\"sk-toggleable__label sk-toggleable__label-arrow\">ExtraTreesRegressor</label><div class=\"sk-toggleable__content\"><pre>ExtraTreesRegressor(max_depth=5, min_samples_leaf=3, min_samples_split=3)</pre></div></div></div></div></div>"
            ]
          },
          "metadata": {},
          "execution_count": 42
        }
      ]
    },
    {
      "cell_type": "markdown",
      "id": "bc7f3cac-c3e4-434e-8099-41af38990fbc",
      "metadata": {
        "id": "bc7f3cac-c3e4-434e-8099-41af38990fbc"
      },
      "source": [
        "### Validacion"
      ]
    },
    {
      "cell_type": "markdown",
      "source": [
        "##### DecisionTreeRegressor"
      ],
      "metadata": {
        "id": "t8ZV7xaLJ_D1"
      },
      "id": "t8ZV7xaLJ_D1"
    },
    {
      "cell_type": "code",
      "execution_count": 37,
      "metadata": {
        "id": "t503RGtmJ_D2"
      },
      "outputs": [],
      "source": [
        "pred_2_train = regr_2.predict(X_train)\n",
        "pred_2_test = regr_2.predict(X_test)"
      ],
      "id": "t503RGtmJ_D2"
    },
    {
      "cell_type": "code",
      "source": [
        "mse_2_train = mean_squared_error(y_train, pred_2_train)\n",
        "mse_2_test  = mean_squared_error(y_test, pred_2_test)"
      ],
      "metadata": {
        "id": "jDeuyofOJ_D2"
      },
      "execution_count": 38,
      "outputs": [],
      "id": "jDeuyofOJ_D2"
    },
    {
      "cell_type": "code",
      "source": [
        "mse_2_train, mse_2_test"
      ],
      "metadata": {
        "outputId": "712bcecb-2291-4988-97d5-91e5857dc642",
        "colab": {
          "base_uri": "https://localhost:8080/"
        },
        "id": "E64fZQxvJ_D3"
      },
      "execution_count": 39,
      "outputs": [
        {
          "output_type": "execute_result",
          "data": {
            "text/plain": [
              "(1.3313895913959292e-05, 1.4636106646755168e-05)"
            ]
          },
          "metadata": {},
          "execution_count": 39
        }
      ],
      "id": "E64fZQxvJ_D3"
    },
    {
      "cell_type": "code",
      "source": [
        "rmse_2_train = np.sqrt(mse_2_train)\n",
        "rmse_2_test  = np.sqrt(mse_2_test)\n",
        "print('RMSE:', round(rmse_2_train,4), round(rmse_2_test,4))"
      ],
      "metadata": {
        "outputId": "0320ea61-a9a0-4238-a654-8358c7c7aa11",
        "colab": {
          "base_uri": "https://localhost:8080/"
        },
        "id": "C7QnoKr5J_D3"
      },
      "execution_count": 40,
      "outputs": [
        {
          "output_type": "stream",
          "name": "stdout",
          "text": [
            "RMSE: 0.0036 0.0038\n"
          ]
        }
      ],
      "id": "C7QnoKr5J_D3"
    },
    {
      "cell_type": "code",
      "source": [
        "score_2 = r2_score(y_test, pred_2_test)\n",
        "print(f'R2 score: {score_2:.5f}')"
      ],
      "metadata": {
        "outputId": "bf6fbe20-0aea-4435-c2c2-3a98112c5031",
        "colab": {
          "base_uri": "https://localhost:8080/"
        },
        "id": "iZhQkq8dJ_D4"
      },
      "execution_count": 41,
      "outputs": [
        {
          "output_type": "stream",
          "name": "stdout",
          "text": [
            "R2 score: 0.29149\n"
          ]
        }
      ],
      "id": "iZhQkq8dJ_D4"
    },
    {
      "cell_type": "markdown",
      "source": [
        "##### RandomForestRegressor(max_depth=5)"
      ],
      "metadata": {
        "id": "4Eqjbpl9KYPC"
      },
      "id": "4Eqjbpl9KYPC"
    },
    {
      "cell_type": "code",
      "execution_count": 43,
      "metadata": {
        "id": "oKxDVrsMKYPD"
      },
      "outputs": [],
      "source": [
        "pred_3_train = regr_3.predict(X_train)\n",
        "pred_3_test = regr_3.predict(X_test)"
      ],
      "id": "oKxDVrsMKYPD"
    },
    {
      "cell_type": "code",
      "source": [
        "mse_3_train = mean_squared_error(y_train, pred_3_train)\n",
        "mse_3_test  = mean_squared_error(y_test, pred_3_test)"
      ],
      "metadata": {
        "id": "72YvklfFKYPE"
      },
      "execution_count": 44,
      "outputs": [],
      "id": "72YvklfFKYPE"
    },
    {
      "cell_type": "code",
      "source": [
        "mse_3_train, mse_3_test"
      ],
      "metadata": {
        "id": "y2BJi1r1KYPF",
        "outputId": "b40ad300-703d-4b6e-8d7a-ece996a52546",
        "colab": {
          "base_uri": "https://localhost:8080/"
        }
      },
      "execution_count": 45,
      "outputs": [
        {
          "output_type": "execute_result",
          "data": {
            "text/plain": [
              "(1.2793623699937668e-05, 1.4173711258218161e-05)"
            ]
          },
          "metadata": {},
          "execution_count": 45
        }
      ],
      "id": "y2BJi1r1KYPF"
    },
    {
      "cell_type": "code",
      "source": [
        "rmse_3_train = np.sqrt(mse_3_train)\n",
        "rmse_3_test  = np.sqrt(mse_3_test)\n",
        "print('RMSE:', round(rmse_3_train,4), round(rmse_3_test,4))"
      ],
      "metadata": {
        "id": "9q3MHZ5fKYPG",
        "outputId": "36945f38-caa2-4a4d-eaf5-2ed053a5200a",
        "colab": {
          "base_uri": "https://localhost:8080/"
        }
      },
      "execution_count": 46,
      "outputs": [
        {
          "output_type": "stream",
          "name": "stdout",
          "text": [
            "RMSE: 0.0036 0.0038\n"
          ]
        }
      ],
      "id": "9q3MHZ5fKYPG"
    },
    {
      "cell_type": "code",
      "source": [
        "score_3 = r2_score(y_test, pred_3_test)\n",
        "print(f'R2 score: {score_3:.5f}')"
      ],
      "metadata": {
        "id": "lP0U9tdyKYPH",
        "outputId": "e017c68c-e7e0-4558-b1d6-e0fb11e45c94",
        "colab": {
          "base_uri": "https://localhost:8080/"
        }
      },
      "execution_count": 47,
      "outputs": [
        {
          "output_type": "stream",
          "name": "stdout",
          "text": [
            "R2 score: 0.31387\n"
          ]
        }
      ],
      "id": "lP0U9tdyKYPH"
    },
    {
      "cell_type": "markdown",
      "source": [
        "##### ExtraTreesRegressor(max_depth=5)"
      ],
      "metadata": {
        "id": "jU02raumKymN"
      },
      "id": "jU02raumKymN"
    },
    {
      "cell_type": "code",
      "execution_count": 48,
      "metadata": {
        "id": "Gp64b-JZKymU"
      },
      "outputs": [],
      "source": [
        "pred_4_train = regr_4.predict(X_train)\n",
        "pred_4_test = regr_4.predict(X_test)"
      ],
      "id": "Gp64b-JZKymU"
    },
    {
      "cell_type": "code",
      "source": [
        "mse_4_train = mean_squared_error(y_train, pred_4_train)\n",
        "mse_4_test  = mean_squared_error(y_test, pred_4_test)"
      ],
      "metadata": {
        "id": "Mkt7HNTAKymU"
      },
      "execution_count": 49,
      "outputs": [],
      "id": "Mkt7HNTAKymU"
    },
    {
      "cell_type": "code",
      "source": [
        "mse_4_train, mse_4_test"
      ],
      "metadata": {
        "id": "0LnZoHQNKymU",
        "outputId": "391485c5-7533-4c0c-a1a6-52139906305e",
        "colab": {
          "base_uri": "https://localhost:8080/"
        }
      },
      "execution_count": 50,
      "outputs": [
        {
          "output_type": "execute_result",
          "data": {
            "text/plain": [
              "(1.6506592580385377e-05, 1.6711835618099827e-05)"
            ]
          },
          "metadata": {},
          "execution_count": 50
        }
      ],
      "id": "0LnZoHQNKymU"
    },
    {
      "cell_type": "code",
      "source": [
        "rmse_4_train = np.sqrt(mse_4_train)\n",
        "rmse_4_test  = np.sqrt(mse_4_test)\n",
        "print('RMSE:', round(rmse_4_train,4), round(rmse_4_test,4))"
      ],
      "metadata": {
        "id": "9HyfBdipKymU",
        "outputId": "21300573-0f64-41a1-fe3f-2b6f0b12d6c2",
        "colab": {
          "base_uri": "https://localhost:8080/"
        }
      },
      "execution_count": 51,
      "outputs": [
        {
          "output_type": "stream",
          "name": "stdout",
          "text": [
            "RMSE: 0.0041 0.0041\n"
          ]
        }
      ],
      "id": "9HyfBdipKymU"
    },
    {
      "cell_type": "code",
      "source": [
        "score_4 = r2_score(y_test, pred_4_test)\n",
        "print(f'R2 score: {score_4:.5f}')"
      ],
      "metadata": {
        "id": "SIDDc2EtKymV",
        "outputId": "322a8bee-5865-4de7-dcc4-bb712aa73143",
        "colab": {
          "base_uri": "https://localhost:8080/"
        }
      },
      "execution_count": 52,
      "outputs": [
        {
          "output_type": "stream",
          "name": "stdout",
          "text": [
            "R2 score: 0.19100\n"
          ]
        }
      ],
      "id": "SIDDc2EtKymV"
    },
    {
      "cell_type": "markdown",
      "id": "27e04255-9478-4357-b040-bf0857399938",
      "metadata": {
        "id": "27e04255-9478-4357-b040-bf0857399938"
      },
      "source": [
        "### Prediccion"
      ]
    },
    {
      "cell_type": "code",
      "execution_count": 75,
      "id": "54d33b74-7ada-431b-9ad0-af0f8851695a",
      "metadata": {
        "tags": [],
        "id": "54d33b74-7ada-431b-9ad0-af0f8851695a"
      },
      "outputs": [],
      "source": [
        "# Ingresar codigo\n",
        "codigo_in = random.choice(encoder.classes_) \n",
        "new_codigo_in = encoder.transform([codigo_in])\n",
        "new_codigo_embedding = matriz_embedding[new_codigo_in]\n"
      ]
    },
    {
      "cell_type": "code",
      "execution_count": 76,
      "id": "ec881062-b0d8-4515-a58b-61a32626b52a",
      "metadata": {
        "id": "ec881062-b0d8-4515-a58b-61a32626b52a"
      },
      "outputs": [],
      "source": [
        "# Ingresar año y mes\n",
        "anio_in = 2023\n",
        "mes_in = 6"
      ]
    },
    {
      "cell_type": "code",
      "execution_count": 77,
      "id": "3257d88c-3982-4bf6-a988-10b7928d6048",
      "metadata": {
        "id": "3257d88c-3982-4bf6-a988-10b7928d6048"
      },
      "outputs": [],
      "source": [
        "atributos_in = np.concatenate((new_codigo_embedding, anio_in, mes_in), axis=None)"
      ]
    },
    {
      "cell_type": "code",
      "execution_count": 78,
      "id": "6b831671-48a7-4249-94d6-2a4c37e0f89b",
      "metadata": {
        "id": "6b831671-48a7-4249-94d6-2a4c37e0f89b"
      },
      "outputs": [],
      "source": [
        "atributos_in = atributos_in.reshape(1, 52)"
      ]
    },
    {
      "cell_type": "code",
      "execution_count": 79,
      "id": "4d229b8e-7c5e-4482-8fb6-a862c78dc8b2",
      "metadata": {
        "id": "4d229b8e-7c5e-4482-8fb6-a862c78dc8b2"
      },
      "outputs": [],
      "source": [
        "pred = regr_3.predict(atributos_in)"
      ]
    },
    {
      "cell_type": "code",
      "execution_count": 80,
      "id": "545a56db-34ab-45a7-86dd-2de0d4c8f969",
      "metadata": {
        "id": "545a56db-34ab-45a7-86dd-2de0d4c8f969"
      },
      "outputs": [],
      "source": [
        "pred = mmscaler.inverse_transform(pred.reshape(-1, 1))"
      ]
    },
    {
      "cell_type": "code",
      "execution_count": 81,
      "id": "987d26b9-c056-49e2-b14b-4903a2b28e66",
      "metadata": {
        "id": "987d26b9-c056-49e2-b14b-4903a2b28e66",
        "outputId": "2d2366c8-0867-4e9b-e5db-c2d5e9ec24a8",
        "colab": {
          "base_uri": "https://localhost:8080/"
        }
      },
      "outputs": [
        {
          "output_type": "stream",
          "name": "stdout",
          "text": [
            "Prediccion para el código B7109EIG Año 2023 Mes 6: 2 incidentes\n"
          ]
        }
      ],
      "source": [
        "print(f\"Prediccion para el código {codigo_in} Año {anio_in} Mes {mes_in}: {round(pred[0][0])} incidentes\")  "
      ]
    },
    {
      "cell_type": "markdown",
      "id": "3317a867-e395-4c16-9404-750afed0e780",
      "metadata": {
        "id": "3317a867-e395-4c16-9404-750afed0e780"
      },
      "source": [
        "### Verificacion grafica"
      ]
    },
    {
      "cell_type": "code",
      "execution_count": 82,
      "id": "fbf28d30-1618-4714-903c-732f3d2de2a9",
      "metadata": {
        "id": "fbf28d30-1618-4714-903c-732f3d2de2a9",
        "outputId": "22b95dbd-cfc0-4838-d6b0-76190175d5a4",
        "colab": {
          "base_uri": "https://localhost:8080/",
          "height": 110
        }
      },
      "outputs": [
        {
          "output_type": "execute_result",
          "data": {
            "text/plain": [
              "          codigo     emb_0     emb_1     emb_2     emb_3     emb_4     emb_5  \\\n",
              "335063  B7109EIG  0.695212  0.539076  0.388533  0.878963  0.447794  0.829468   \n",
              "\n",
              "           emb_6     emb_7     emb_8  ...    emb_43    emb_44    emb_45  \\\n",
              "335063  0.104684  0.740716  0.364312  ...  0.030636  0.563279  0.068749   \n",
              "\n",
              "         emb_46   emb_47   emb_48    emb_49   año  mes  total_cp  \n",
              "335063  0.76355  0.63054  0.44039  0.591598  2015    8       0.0  \n",
              "\n",
              "[1 rows x 54 columns]"
            ],
            "text/html": [
              "\n",
              "  <div id=\"df-f8a0ee33-501b-47bc-b742-19510866538a\">\n",
              "    <div class=\"colab-df-container\">\n",
              "      <div>\n",
              "<style scoped>\n",
              "    .dataframe tbody tr th:only-of-type {\n",
              "        vertical-align: middle;\n",
              "    }\n",
              "\n",
              "    .dataframe tbody tr th {\n",
              "        vertical-align: top;\n",
              "    }\n",
              "\n",
              "    .dataframe thead th {\n",
              "        text-align: right;\n",
              "    }\n",
              "</style>\n",
              "<table border=\"1\" class=\"dataframe\">\n",
              "  <thead>\n",
              "    <tr style=\"text-align: right;\">\n",
              "      <th></th>\n",
              "      <th>codigo</th>\n",
              "      <th>emb_0</th>\n",
              "      <th>emb_1</th>\n",
              "      <th>emb_2</th>\n",
              "      <th>emb_3</th>\n",
              "      <th>emb_4</th>\n",
              "      <th>emb_5</th>\n",
              "      <th>emb_6</th>\n",
              "      <th>emb_7</th>\n",
              "      <th>emb_8</th>\n",
              "      <th>...</th>\n",
              "      <th>emb_43</th>\n",
              "      <th>emb_44</th>\n",
              "      <th>emb_45</th>\n",
              "      <th>emb_46</th>\n",
              "      <th>emb_47</th>\n",
              "      <th>emb_48</th>\n",
              "      <th>emb_49</th>\n",
              "      <th>año</th>\n",
              "      <th>mes</th>\n",
              "      <th>total_cp</th>\n",
              "    </tr>\n",
              "  </thead>\n",
              "  <tbody>\n",
              "    <tr>\n",
              "      <th>335063</th>\n",
              "      <td>B7109EIG</td>\n",
              "      <td>0.695212</td>\n",
              "      <td>0.539076</td>\n",
              "      <td>0.388533</td>\n",
              "      <td>0.878963</td>\n",
              "      <td>0.447794</td>\n",
              "      <td>0.829468</td>\n",
              "      <td>0.104684</td>\n",
              "      <td>0.740716</td>\n",
              "      <td>0.364312</td>\n",
              "      <td>...</td>\n",
              "      <td>0.030636</td>\n",
              "      <td>0.563279</td>\n",
              "      <td>0.068749</td>\n",
              "      <td>0.76355</td>\n",
              "      <td>0.63054</td>\n",
              "      <td>0.44039</td>\n",
              "      <td>0.591598</td>\n",
              "      <td>2015</td>\n",
              "      <td>8</td>\n",
              "      <td>0.0</td>\n",
              "    </tr>\n",
              "  </tbody>\n",
              "</table>\n",
              "<p>1 rows × 54 columns</p>\n",
              "</div>\n",
              "      <button class=\"colab-df-convert\" onclick=\"convertToInteractive('df-f8a0ee33-501b-47bc-b742-19510866538a')\"\n",
              "              title=\"Convert this dataframe to an interactive table.\"\n",
              "              style=\"display:none;\">\n",
              "        \n",
              "  <svg xmlns=\"http://www.w3.org/2000/svg\" height=\"24px\"viewBox=\"0 0 24 24\"\n",
              "       width=\"24px\">\n",
              "    <path d=\"M0 0h24v24H0V0z\" fill=\"none\"/>\n",
              "    <path d=\"M18.56 5.44l.94 2.06.94-2.06 2.06-.94-2.06-.94-.94-2.06-.94 2.06-2.06.94zm-11 1L8.5 8.5l.94-2.06 2.06-.94-2.06-.94L8.5 2.5l-.94 2.06-2.06.94zm10 10l.94 2.06.94-2.06 2.06-.94-2.06-.94-.94-2.06-.94 2.06-2.06.94z\"/><path d=\"M17.41 7.96l-1.37-1.37c-.4-.4-.92-.59-1.43-.59-.52 0-1.04.2-1.43.59L10.3 9.45l-7.72 7.72c-.78.78-.78 2.05 0 2.83L4 21.41c.39.39.9.59 1.41.59.51 0 1.02-.2 1.41-.59l7.78-7.78 2.81-2.81c.8-.78.8-2.07 0-2.86zM5.41 20L4 18.59l7.72-7.72 1.47 1.35L5.41 20z\"/>\n",
              "  </svg>\n",
              "      </button>\n",
              "      \n",
              "  <style>\n",
              "    .colab-df-container {\n",
              "      display:flex;\n",
              "      flex-wrap:wrap;\n",
              "      gap: 12px;\n",
              "    }\n",
              "\n",
              "    .colab-df-convert {\n",
              "      background-color: #E8F0FE;\n",
              "      border: none;\n",
              "      border-radius: 50%;\n",
              "      cursor: pointer;\n",
              "      display: none;\n",
              "      fill: #1967D2;\n",
              "      height: 32px;\n",
              "      padding: 0 0 0 0;\n",
              "      width: 32px;\n",
              "    }\n",
              "\n",
              "    .colab-df-convert:hover {\n",
              "      background-color: #E2EBFA;\n",
              "      box-shadow: 0px 1px 2px rgba(60, 64, 67, 0.3), 0px 1px 3px 1px rgba(60, 64, 67, 0.15);\n",
              "      fill: #174EA6;\n",
              "    }\n",
              "\n",
              "    [theme=dark] .colab-df-convert {\n",
              "      background-color: #3B4455;\n",
              "      fill: #D2E3FC;\n",
              "    }\n",
              "\n",
              "    [theme=dark] .colab-df-convert:hover {\n",
              "      background-color: #434B5C;\n",
              "      box-shadow: 0px 1px 3px 1px rgba(0, 0, 0, 0.15);\n",
              "      filter: drop-shadow(0px 1px 2px rgba(0, 0, 0, 0.3));\n",
              "      fill: #FFFFFF;\n",
              "    }\n",
              "  </style>\n",
              "\n",
              "      <script>\n",
              "        const buttonEl =\n",
              "          document.querySelector('#df-f8a0ee33-501b-47bc-b742-19510866538a button.colab-df-convert');\n",
              "        buttonEl.style.display =\n",
              "          google.colab.kernel.accessAllowed ? 'block' : 'none';\n",
              "\n",
              "        async function convertToInteractive(key) {\n",
              "          const element = document.querySelector('#df-f8a0ee33-501b-47bc-b742-19510866538a');\n",
              "          const dataTable =\n",
              "            await google.colab.kernel.invokeFunction('convertToInteractive',\n",
              "                                                     [key], {});\n",
              "          if (!dataTable) return;\n",
              "\n",
              "          const docLinkHtml = 'Like what you see? Visit the ' +\n",
              "            '<a target=\"_blank\" href=https://colab.research.google.com/notebooks/data_table.ipynb>data table notebook</a>'\n",
              "            + ' to learn more about interactive tables.';\n",
              "          element.innerHTML = '';\n",
              "          dataTable['output_type'] = 'display_data';\n",
              "          await google.colab.output.renderOutput(dataTable, element);\n",
              "          const docLink = document.createElement('div');\n",
              "          docLink.innerHTML = docLinkHtml;\n",
              "          element.appendChild(docLink);\n",
              "        }\n",
              "      </script>\n",
              "    </div>\n",
              "  </div>\n",
              "  "
            ]
          },
          "metadata": {},
          "execution_count": 82
        }
      ],
      "source": [
        "filtro = df_final['codigo'] == codigo_in\n",
        "df_filtrado = df_final[filtro]\n",
        "df_filtrado"
      ]
    },
    {
      "cell_type": "code",
      "execution_count": 61,
      "id": "82674daf-0247-4395-8173-ed022df31e12",
      "metadata": {
        "id": "82674daf-0247-4395-8173-ed022df31e12"
      },
      "outputs": [],
      "source": [
        "df_filtrado = df_filtrado.sort_values(['año','mes'], ascending=True)"
      ]
    },
    {
      "cell_type": "code",
      "execution_count": 62,
      "id": "4b9d2c2c-321f-4cf2-8028-8de987cc3476",
      "metadata": {
        "id": "4b9d2c2c-321f-4cf2-8028-8de987cc3476"
      },
      "outputs": [],
      "source": [
        "fechas = []\n",
        "totales = []\n",
        "\n",
        "for row in df_filtrado.iterrows():\n",
        "    fechas.append(str(row[1][51])+'-'+str(row[1][52])+'-01')\n",
        "    totales.append(row[1][53])"
      ]
    },
    {
      "cell_type": "code",
      "execution_count": 63,
      "id": "ecebec5d-cb0c-4b37-9585-dad10b0f0195",
      "metadata": {
        "id": "ecebec5d-cb0c-4b37-9585-dad10b0f0195",
        "outputId": "b7acb63f-7c10-4c0c-aa4d-d8d66466205f",
        "colab": {
          "base_uri": "https://localhost:8080/",
          "height": 36
        }
      },
      "outputs": [
        {
          "output_type": "execute_result",
          "data": {
            "text/plain": [
              "'2018-11-01'"
            ],
            "application/vnd.google.colaboratory.intrinsic+json": {
              "type": "string"
            }
          },
          "metadata": {},
          "execution_count": 63
        }
      ],
      "source": [
        "fechas[0]"
      ]
    },
    {
      "cell_type": "code",
      "execution_count": 64,
      "id": "a9b207af-98f5-4ac3-be03-3ee78d3d7673",
      "metadata": {
        "id": "a9b207af-98f5-4ac3-be03-3ee78d3d7673"
      },
      "outputs": [],
      "source": [
        "totales = mmscaler.inverse_transform([totales])"
      ]
    },
    {
      "cell_type": "code",
      "execution_count": 65,
      "id": "399c9268-be5b-4f0b-bae9-30f60f5c999e",
      "metadata": {
        "id": "399c9268-be5b-4f0b-bae9-30f60f5c999e"
      },
      "outputs": [],
      "source": [
        "df_graf = pd.DataFrame({'fechas':fechas, 'totales':totales.reshape(-1,)})"
      ]
    },
    {
      "cell_type": "code",
      "execution_count": 66,
      "id": "b0655391-a500-45c2-9df0-3d3139cca347",
      "metadata": {
        "id": "b0655391-a500-45c2-9df0-3d3139cca347",
        "outputId": "3baf580f-a545-44d3-fb73-39af3392ea15",
        "colab": {
          "base_uri": "https://localhost:8080/",
          "height": 567
        }
      },
      "outputs": [
        {
          "output_type": "display_data",
          "data": {
            "text/plain": [
              "<Figure size 2000x500 with 1 Axes>"
            ],
            "image/png": "[encoded data removed]"
          },
          "metadata": {}
        }
      ],
      "source": [
        "plt.figure(figsize=(20, 5))\n",
        "sns.set(color_codes=True)\n",
        "plt.xticks(rotation=90)\n",
        "sns.scatterplot(x='fechas', y='totales', data=df_graf)\n",
        "plt.scatter(x=(str(anio_in)+'-'+str(mes_in)+'-01'), y=round(pred[0][0]), color='red')\n",
        "plt.plot(df_graf.fechas, df_graf.totales)\n",
        "plt.title(\"Codigo: \"+codigo_in)\n",
        "plt.show()"
      ]
    },
    {
      "cell_type": "code",
      "source": [],
      "metadata": {
        "id": "94XZ8bxd54Kp"
      },
      "id": "94XZ8bxd54Kp",
      "execution_count": null,
      "outputs": []
    }
  ],
  "metadata": {
    "kernelspec": {
      "display_name": "Python 3 (ipykernel)",
      "language": "python",
      "name": "python3"
    },
    "language_info": {
      "codemirror_mode": {
        "name": "ipython",
        "version": 3
      },
      "file_extension": ".py",
      "mimetype": "text/x-python",
      "name": "python",
      "nbconvert_exporter": "python",
      "pygments_lexer": "ipython3",
      "version": "3.8.12"
    },
    "toc-autonumbering": false,
    "toc-showcode": false,
    "toc-showmarkdowntxt": false,
    "colab": {
      "provenance": [],
      "include_colab_link": true
    }
  },
  "nbformat": 4,
  "nbformat_minor": 5
}