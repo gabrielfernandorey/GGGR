{
  "cells": [
    {
      "cell_type": "markdown",
      "metadata": {
        "id": "view-in-github",
        "colab_type": "text"
      },
      "source": [
        "<a href=\"https://colab.research.google.com/github/gabrielfernandorey/GGGR/blob/main/Arboles/SRT%20v3.ipynb\" target=\"_parent\"><img src=\"https://colab.research.google.com/assets/colab-badge.svg\" alt=\"Open In Colab\"/></a>"
      ]
    },
    {
      "cell_type": "markdown",
      "id": "be0217b9-8b6c-4429-8e76-7cce472452ad",
      "metadata": {
        "id": "be0217b9-8b6c-4429-8e76-7cce472452ad"
      },
      "source": [
        "# SRT v3 - Ensayo\n",
        "### Arboles de regresion - Datos reales"
      ]
    },
    {
      "cell_type": "code",
      "execution_count": 1,
      "id": "ee2f0def-1256-4a77-b522-b57e2504e885",
      "metadata": {
        "id": "ee2f0def-1256-4a77-b522-b57e2504e885"
      },
      "outputs": [],
      "source": [
        "import random\n",
        "import string\n",
        "import pandas as pd\n",
        "import numpy as np\n",
        "from datetime import date\n",
        "\n",
        "import matplotlib.pyplot as plt\n",
        "%matplotlib inline\n",
        "import seaborn as sns\n",
        "sns.set() # setting seaborn default for plots\n",
        "\n",
        "from sklearn.model_selection import train_test_split\n",
        "from sklearn.tree import DecisionTreeRegressor\n",
        "from sklearn.ensemble import RandomForestRegressor, ExtraTreesRegressor\n",
        "from sklearn.preprocessing import MinMaxScaler\n",
        "from sklearn.metrics import mean_squared_error\n",
        "from sklearn.metrics import r2_score\n"
      ]
    },
    {
      "cell_type": "markdown",
      "id": "fcdf3ad9-29c6-41e3-870c-3e428fc1523e",
      "metadata": {
        "id": "fcdf3ad9-29c6-41e3-870c-3e428fc1523e"
      },
      "source": [
        "### Importamos Datos"
      ]
    },
    {
      "cell_type": "code",
      "source": [
        "!wget https://raw.githubusercontent.com/gabrielfernandorey/GGGR/main/Regresion%20lineal/cod_postal_series.csv"
      ],
      "metadata": {
        "id": "0fgNq4wh5wvl",
        "outputId": "9cf16900-c10b-45d0-be57-7bafc68e3cf2",
        "colab": {
          "base_uri": "https://localhost:8080/"
        }
      },
      "id": "0fgNq4wh5wvl",
      "execution_count": 2,
      "outputs": [
        {
          "output_type": "stream",
          "name": "stdout",
          "text": [
            "--2023-05-04 18:23:01--  https://raw.githubusercontent.com/gabrielfernandorey/GGGR/main/Regresion%20lineal/cod_postal_series.csv\n",
            "Resolving raw.githubusercontent.com (raw.githubusercontent.com)... 185.199.108.133, 185.199.109.133, 185.199.110.133, ...\n",
            "Connecting to raw.githubusercontent.com (raw.githubusercontent.com)|185.199.108.133|:443... connected.\n",
            "HTTP request sent, awaiting response... 200 OK\n",
            "Length: 2977660 (2.8M) [text/plain]\n",
            "Saving to: ‘cod_postal_series.csv.1’\n",
            "\n",
            "\rcod_postal_series.c   0%[                    ]       0  --.-KB/s               \rcod_postal_series.c 100%[===================>]   2.84M  --.-KB/s    in 0.07s   \n",
            "\n",
            "2023-05-04 18:23:01 (42.3 MB/s) - ‘cod_postal_series.csv.1’ saved [2977660/2977660]\n",
            "\n"
          ]
        }
      ]
    },
    {
      "cell_type": "code",
      "source": [
        "df = pd.read_csv('/content/cod_postal_series.csv', header=0,\n",
        "                 names=['codigo','año','mes','total_cp'],\n",
        "                 dtype={'codigo': str, 'año': str, 'mes': str, 'total_cp': str})"
      ],
      "metadata": {
        "id": "_T8uq5Uk9yN3"
      },
      "id": "_T8uq5Uk9yN3",
      "execution_count": 3,
      "outputs": []
    },
    {
      "cell_type": "code",
      "execution_count": 4,
      "id": "ea8097fa-2454-4e8a-aee9-fd72c431fbde",
      "metadata": {
        "id": "ea8097fa-2454-4e8a-aee9-fd72c431fbde",
        "outputId": "78be7f9b-058c-4acd-d9aa-9fe83b3bae84",
        "colab": {
          "base_uri": "https://localhost:8080/",
          "height": 206
        }
      },
      "outputs": [
        {
          "output_type": "execute_result",
          "data": {
            "text/plain": [
              "  codigo     año mes total_cp\n",
              "0      0  2022.0   1      208\n",
              "1      0  2022.0   2      185\n",
              "2      0  2022.0   3      289\n",
              "3      0  2022.0   4      177\n",
              "4      0  2022.0   5      177"
            ],
            "text/html": [
              "\n",
              "  <div id=\"df-597c5ac9-d5dc-4ac1-a661-b8a9e9c753f2\">\n",
              "    <div class=\"colab-df-container\">\n",
              "      <div>\n",
              "<style scoped>\n",
              "    .dataframe tbody tr th:only-of-type {\n",
              "        vertical-align: middle;\n",
              "    }\n",
              "\n",
              "    .dataframe tbody tr th {\n",
              "        vertical-align: top;\n",
              "    }\n",
              "\n",
              "    .dataframe thead th {\n",
              "        text-align: right;\n",
              "    }\n",
              "</style>\n",
              "<table border=\"1\" class=\"dataframe\">\n",
              "  <thead>\n",
              "    <tr style=\"text-align: right;\">\n",
              "      <th></th>\n",
              "      <th>codigo</th>\n",
              "      <th>año</th>\n",
              "      <th>mes</th>\n",
              "      <th>total_cp</th>\n",
              "    </tr>\n",
              "  </thead>\n",
              "  <tbody>\n",
              "    <tr>\n",
              "      <th>0</th>\n",
              "      <td>0</td>\n",
              "      <td>2022.0</td>\n",
              "      <td>1</td>\n",
              "      <td>208</td>\n",
              "    </tr>\n",
              "    <tr>\n",
              "      <th>1</th>\n",
              "      <td>0</td>\n",
              "      <td>2022.0</td>\n",
              "      <td>2</td>\n",
              "      <td>185</td>\n",
              "    </tr>\n",
              "    <tr>\n",
              "      <th>2</th>\n",
              "      <td>0</td>\n",
              "      <td>2022.0</td>\n",
              "      <td>3</td>\n",
              "      <td>289</td>\n",
              "    </tr>\n",
              "    <tr>\n",
              "      <th>3</th>\n",
              "      <td>0</td>\n",
              "      <td>2022.0</td>\n",
              "      <td>4</td>\n",
              "      <td>177</td>\n",
              "    </tr>\n",
              "    <tr>\n",
              "      <th>4</th>\n",
              "      <td>0</td>\n",
              "      <td>2022.0</td>\n",
              "      <td>5</td>\n",
              "      <td>177</td>\n",
              "    </tr>\n",
              "  </tbody>\n",
              "</table>\n",
              "</div>\n",
              "      <button class=\"colab-df-convert\" onclick=\"convertToInteractive('df-597c5ac9-d5dc-4ac1-a661-b8a9e9c753f2')\"\n",
              "              title=\"Convert this dataframe to an interactive table.\"\n",
              "              style=\"display:none;\">\n",
              "        \n",
              "  <svg xmlns=\"http://www.w3.org/2000/svg\" height=\"24px\"viewBox=\"0 0 24 24\"\n",
              "       width=\"24px\">\n",
              "    <path d=\"M0 0h24v24H0V0z\" fill=\"none\"/>\n",
              "    <path d=\"M18.56 5.44l.94 2.06.94-2.06 2.06-.94-2.06-.94-.94-2.06-.94 2.06-2.06.94zm-11 1L8.5 8.5l.94-2.06 2.06-.94-2.06-.94L8.5 2.5l-.94 2.06-2.06.94zm10 10l.94 2.06.94-2.06 2.06-.94-2.06-.94-.94-2.06-.94 2.06-2.06.94z\"/><path d=\"M17.41 7.96l-1.37-1.37c-.4-.4-.92-.59-1.43-.59-.52 0-1.04.2-1.43.59L10.3 9.45l-7.72 7.72c-.78.78-.78 2.05 0 2.83L4 21.41c.39.39.9.59 1.41.59.51 0 1.02-.2 1.41-.59l7.78-7.78 2.81-2.81c.8-.78.8-2.07 0-2.86zM5.41 20L4 18.59l7.72-7.72 1.47 1.35L5.41 20z\"/>\n",
              "  </svg>\n",
              "      </button>\n",
              "      \n",
              "  <style>\n",
              "    .colab-df-container {\n",
              "      display:flex;\n",
              "      flex-wrap:wrap;\n",
              "      gap: 12px;\n",
              "    }\n",
              "\n",
              "    .colab-df-convert {\n",
              "      background-color: #E8F0FE;\n",
              "      border: none;\n",
              "      border-radius: 50%;\n",
              "      cursor: pointer;\n",
              "      display: none;\n",
              "      fill: #1967D2;\n",
              "      height: 32px;\n",
              "      padding: 0 0 0 0;\n",
              "      width: 32px;\n",
              "    }\n",
              "\n",
              "    .colab-df-convert:hover {\n",
              "      background-color: #E2EBFA;\n",
              "      box-shadow: 0px 1px 2px rgba(60, 64, 67, 0.3), 0px 1px 3px 1px rgba(60, 64, 67, 0.15);\n",
              "      fill: #174EA6;\n",
              "    }\n",
              "\n",
              "    [theme=dark] .colab-df-convert {\n",
              "      background-color: #3B4455;\n",
              "      fill: #D2E3FC;\n",
              "    }\n",
              "\n",
              "    [theme=dark] .colab-df-convert:hover {\n",
              "      background-color: #434B5C;\n",
              "      box-shadow: 0px 1px 3px 1px rgba(0, 0, 0, 0.15);\n",
              "      filter: drop-shadow(0px 1px 2px rgba(0, 0, 0, 0.3));\n",
              "      fill: #FFFFFF;\n",
              "    }\n",
              "  </style>\n",
              "\n",
              "      <script>\n",
              "        const buttonEl =\n",
              "          document.querySelector('#df-597c5ac9-d5dc-4ac1-a661-b8a9e9c753f2 button.colab-df-convert');\n",
              "        buttonEl.style.display =\n",
              "          google.colab.kernel.accessAllowed ? 'block' : 'none';\n",
              "\n",
              "        async function convertToInteractive(key) {\n",
              "          const element = document.querySelector('#df-597c5ac9-d5dc-4ac1-a661-b8a9e9c753f2');\n",
              "          const dataTable =\n",
              "            await google.colab.kernel.invokeFunction('convertToInteractive',\n",
              "                                                     [key], {});\n",
              "          if (!dataTable) return;\n",
              "\n",
              "          const docLinkHtml = 'Like what you see? Visit the ' +\n",
              "            '<a target=\"_blank\" href=https://colab.research.google.com/notebooks/data_table.ipynb>data table notebook</a>'\n",
              "            + ' to learn more about interactive tables.';\n",
              "          element.innerHTML = '';\n",
              "          dataTable['output_type'] = 'display_data';\n",
              "          await google.colab.output.renderOutput(dataTable, element);\n",
              "          const docLink = document.createElement('div');\n",
              "          docLink.innerHTML = docLinkHtml;\n",
              "          element.appendChild(docLink);\n",
              "        }\n",
              "      </script>\n",
              "    </div>\n",
              "  </div>\n",
              "  "
            ]
          },
          "metadata": {},
          "execution_count": 4
        }
      ],
      "source": [
        "df.head()"
      ]
    },
    {
      "cell_type": "markdown",
      "id": "9ae861c9-62bd-4405-ba10-59273bbc588d",
      "metadata": {
        "id": "9ae861c9-62bd-4405-ba10-59273bbc588d"
      },
      "source": [
        "### EDA"
      ]
    },
    {
      "cell_type": "code",
      "execution_count": 5,
      "id": "f8be169a-0b97-4ca2-a3f2-6b2470bb9483",
      "metadata": {
        "id": "f8be169a-0b97-4ca2-a3f2-6b2470bb9483",
        "outputId": "358193c8-0392-4485-b633-c34d1b7752e0",
        "colab": {
          "base_uri": "https://localhost:8080/"
        }
      },
      "outputs": [
        {
          "output_type": "stream",
          "name": "stdout",
          "text": [
            "<class 'pandas.core.frame.DataFrame'>\n",
            "RangeIndex: 147066 entries, 0 to 147065\n",
            "Data columns (total 4 columns):\n",
            " #   Column    Non-Null Count   Dtype \n",
            "---  ------    --------------   ----- \n",
            " 0   codigo    147066 non-null  object\n",
            " 1   año       147066 non-null  object\n",
            " 2   mes       147066 non-null  object\n",
            " 3   total_cp  147066 non-null  object\n",
            "dtypes: object(4)\n",
            "memory usage: 4.5+ MB\n"
          ]
        }
      ],
      "source": [
        "df.info()"
      ]
    },
    {
      "cell_type": "markdown",
      "id": "e33ed6c6-5497-476c-aa54-feb65cebb0b0",
      "metadata": {
        "id": "e33ed6c6-5497-476c-aa54-feb65cebb0b0"
      },
      "source": [
        "#### Ajustamos tipo de datos"
      ]
    },
    {
      "cell_type": "code",
      "execution_count": 6,
      "id": "09963f06-2d61-42ab-bc66-a459ac17fff0",
      "metadata": {
        "id": "09963f06-2d61-42ab-bc66-a459ac17fff0"
      },
      "outputs": [],
      "source": [
        "df['año'] = pd.to_numeric(df['año'], downcast='integer') #corregimos el formato de la columna "
      ]
    },
    {
      "cell_type": "code",
      "execution_count": 7,
      "id": "126ae990-e2c5-457c-b43c-1e79b85e0689",
      "metadata": {
        "tags": [],
        "id": "126ae990-e2c5-457c-b43c-1e79b85e0689"
      },
      "outputs": [],
      "source": [
        "df['mes'] = pd.to_numeric(df['mes']) #corregimos el formato de la columna "
      ]
    },
    {
      "cell_type": "code",
      "execution_count": 8,
      "id": "4571fbe7-e788-4be7-9b2c-31cb3718c336",
      "metadata": {
        "tags": [],
        "id": "4571fbe7-e788-4be7-9b2c-31cb3718c336"
      },
      "outputs": [],
      "source": [
        "df['total_cp'] = pd.to_numeric(df['total_cp']) #corregimos el formato de la columna "
      ]
    },
    {
      "cell_type": "code",
      "execution_count": 9,
      "id": "933accfc-cd14-446a-af25-dc135a9bd99c",
      "metadata": {
        "id": "933accfc-cd14-446a-af25-dc135a9bd99c",
        "outputId": "9c6ab2e0-7680-4598-f419-152d20b96618",
        "colab": {
          "base_uri": "https://localhost:8080/"
        }
      },
      "outputs": [
        {
          "output_type": "execute_result",
          "data": {
            "text/plain": [
              "codigo      object\n",
              "año          int16\n",
              "mes          int64\n",
              "total_cp     int64\n",
              "dtype: object"
            ]
          },
          "metadata": {},
          "execution_count": 9
        }
      ],
      "source": [
        "df.dtypes"
      ]
    },
    {
      "cell_type": "code",
      "execution_count": 10,
      "id": "71afd5f7-1477-4741-b3a5-7a741de5177c",
      "metadata": {
        "id": "71afd5f7-1477-4741-b3a5-7a741de5177c",
        "outputId": "469caf7e-94b4-4f79-b4b4-a6d4ae8cd933",
        "colab": {
          "base_uri": "https://localhost:8080/",
          "height": 206
        }
      },
      "outputs": [
        {
          "output_type": "execute_result",
          "data": {
            "text/plain": [
              "  codigo   año  mes  total_cp\n",
              "0      0  2022    1       208\n",
              "1      0  2022    2       185\n",
              "2      0  2022    3       289\n",
              "3      0  2022    4       177\n",
              "4      0  2022    5       177"
            ],
            "text/html": [
              "\n",
              "  <div id=\"df-52465dd9-1af5-476b-8a3e-d2891e80a3b9\">\n",
              "    <div class=\"colab-df-container\">\n",
              "      <div>\n",
              "<style scoped>\n",
              "    .dataframe tbody tr th:only-of-type {\n",
              "        vertical-align: middle;\n",
              "    }\n",
              "\n",
              "    .dataframe tbody tr th {\n",
              "        vertical-align: top;\n",
              "    }\n",
              "\n",
              "    .dataframe thead th {\n",
              "        text-align: right;\n",
              "    }\n",
              "</style>\n",
              "<table border=\"1\" class=\"dataframe\">\n",
              "  <thead>\n",
              "    <tr style=\"text-align: right;\">\n",
              "      <th></th>\n",
              "      <th>codigo</th>\n",
              "      <th>año</th>\n",
              "      <th>mes</th>\n",
              "      <th>total_cp</th>\n",
              "    </tr>\n",
              "  </thead>\n",
              "  <tbody>\n",
              "    <tr>\n",
              "      <th>0</th>\n",
              "      <td>0</td>\n",
              "      <td>2022</td>\n",
              "      <td>1</td>\n",
              "      <td>208</td>\n",
              "    </tr>\n",
              "    <tr>\n",
              "      <th>1</th>\n",
              "      <td>0</td>\n",
              "      <td>2022</td>\n",
              "      <td>2</td>\n",
              "      <td>185</td>\n",
              "    </tr>\n",
              "    <tr>\n",
              "      <th>2</th>\n",
              "      <td>0</td>\n",
              "      <td>2022</td>\n",
              "      <td>3</td>\n",
              "      <td>289</td>\n",
              "    </tr>\n",
              "    <tr>\n",
              "      <th>3</th>\n",
              "      <td>0</td>\n",
              "      <td>2022</td>\n",
              "      <td>4</td>\n",
              "      <td>177</td>\n",
              "    </tr>\n",
              "    <tr>\n",
              "      <th>4</th>\n",
              "      <td>0</td>\n",
              "      <td>2022</td>\n",
              "      <td>5</td>\n",
              "      <td>177</td>\n",
              "    </tr>\n",
              "  </tbody>\n",
              "</table>\n",
              "</div>\n",
              "      <button class=\"colab-df-convert\" onclick=\"convertToInteractive('df-52465dd9-1af5-476b-8a3e-d2891e80a3b9')\"\n",
              "              title=\"Convert this dataframe to an interactive table.\"\n",
              "              style=\"display:none;\">\n",
              "        \n",
              "  <svg xmlns=\"http://www.w3.org/2000/svg\" height=\"24px\"viewBox=\"0 0 24 24\"\n",
              "       width=\"24px\">\n",
              "    <path d=\"M0 0h24v24H0V0z\" fill=\"none\"/>\n",
              "    <path d=\"M18.56 5.44l.94 2.06.94-2.06 2.06-.94-2.06-.94-.94-2.06-.94 2.06-2.06.94zm-11 1L8.5 8.5l.94-2.06 2.06-.94-2.06-.94L8.5 2.5l-.94 2.06-2.06.94zm10 10l.94 2.06.94-2.06 2.06-.94-2.06-.94-.94-2.06-.94 2.06-2.06.94z\"/><path d=\"M17.41 7.96l-1.37-1.37c-.4-.4-.92-.59-1.43-.59-.52 0-1.04.2-1.43.59L10.3 9.45l-7.72 7.72c-.78.78-.78 2.05 0 2.83L4 21.41c.39.39.9.59 1.41.59.51 0 1.02-.2 1.41-.59l7.78-7.78 2.81-2.81c.8-.78.8-2.07 0-2.86zM5.41 20L4 18.59l7.72-7.72 1.47 1.35L5.41 20z\"/>\n",
              "  </svg>\n",
              "      </button>\n",
              "      \n",
              "  <style>\n",
              "    .colab-df-container {\n",
              "      display:flex;\n",
              "      flex-wrap:wrap;\n",
              "      gap: 12px;\n",
              "    }\n",
              "\n",
              "    .colab-df-convert {\n",
              "      background-color: #E8F0FE;\n",
              "      border: none;\n",
              "      border-radius: 50%;\n",
              "      cursor: pointer;\n",
              "      display: none;\n",
              "      fill: #1967D2;\n",
              "      height: 32px;\n",
              "      padding: 0 0 0 0;\n",
              "      width: 32px;\n",
              "    }\n",
              "\n",
              "    .colab-df-convert:hover {\n",
              "      background-color: #E2EBFA;\n",
              "      box-shadow: 0px 1px 2px rgba(60, 64, 67, 0.3), 0px 1px 3px 1px rgba(60, 64, 67, 0.15);\n",
              "      fill: #174EA6;\n",
              "    }\n",
              "\n",
              "    [theme=dark] .colab-df-convert {\n",
              "      background-color: #3B4455;\n",
              "      fill: #D2E3FC;\n",
              "    }\n",
              "\n",
              "    [theme=dark] .colab-df-convert:hover {\n",
              "      background-color: #434B5C;\n",
              "      box-shadow: 0px 1px 3px 1px rgba(0, 0, 0, 0.15);\n",
              "      filter: drop-shadow(0px 1px 2px rgba(0, 0, 0, 0.3));\n",
              "      fill: #FFFFFF;\n",
              "    }\n",
              "  </style>\n",
              "\n",
              "      <script>\n",
              "        const buttonEl =\n",
              "          document.querySelector('#df-52465dd9-1af5-476b-8a3e-d2891e80a3b9 button.colab-df-convert');\n",
              "        buttonEl.style.display =\n",
              "          google.colab.kernel.accessAllowed ? 'block' : 'none';\n",
              "\n",
              "        async function convertToInteractive(key) {\n",
              "          const element = document.querySelector('#df-52465dd9-1af5-476b-8a3e-d2891e80a3b9');\n",
              "          const dataTable =\n",
              "            await google.colab.kernel.invokeFunction('convertToInteractive',\n",
              "                                                     [key], {});\n",
              "          if (!dataTable) return;\n",
              "\n",
              "          const docLinkHtml = 'Like what you see? Visit the ' +\n",
              "            '<a target=\"_blank\" href=https://colab.research.google.com/notebooks/data_table.ipynb>data table notebook</a>'\n",
              "            + ' to learn more about interactive tables.';\n",
              "          element.innerHTML = '';\n",
              "          dataTable['output_type'] = 'display_data';\n",
              "          await google.colab.output.renderOutput(dataTable, element);\n",
              "          const docLink = document.createElement('div');\n",
              "          docLink.innerHTML = docLinkHtml;\n",
              "          element.appendChild(docLink);\n",
              "        }\n",
              "      </script>\n",
              "    </div>\n",
              "  </div>\n",
              "  "
            ]
          },
          "metadata": {},
          "execution_count": 10
        }
      ],
      "source": [
        "df.head()"
      ]
    },
    {
      "cell_type": "code",
      "execution_count": 11,
      "id": "8744a139-8c3b-4a60-8570-ec0b595ba89a",
      "metadata": {
        "id": "8744a139-8c3b-4a60-8570-ec0b595ba89a",
        "outputId": "55cb9f37-d220-4bab-b2b8-320722b50c32",
        "colab": {
          "base_uri": "https://localhost:8080/",
          "height": 423
        }
      },
      "outputs": [
        {
          "output_type": "execute_result",
          "data": {
            "text/plain": [
              "          codigo   año  mes  total_cp\n",
              "0              0  2022    1       208\n",
              "33      01000000  2022    1        19\n",
              "49      01001000  2022    1       172\n",
              "65      01002000  2022    1        20\n",
              "81      01003000  2022    1         7\n",
              "...          ...   ...  ...       ...\n",
              "146965  Z9050DJG  2023    4         1\n",
              "146969  Z9303XAT  2023    4         1\n",
              "146971  Z9310BDE  2023    4         1\n",
              "146990  Z9400BJA  2023    4         1\n",
              "147043  Z9403EBK  2023    4         1\n",
              "\n",
              "[147066 rows x 4 columns]"
            ],
            "text/html": [
              "\n",
              "  <div id=\"df-0074e80e-037c-464e-8224-1ef2f4dd80e3\">\n",
              "    <div class=\"colab-df-container\">\n",
              "      <div>\n",
              "<style scoped>\n",
              "    .dataframe tbody tr th:only-of-type {\n",
              "        vertical-align: middle;\n",
              "    }\n",
              "\n",
              "    .dataframe tbody tr th {\n",
              "        vertical-align: top;\n",
              "    }\n",
              "\n",
              "    .dataframe thead th {\n",
              "        text-align: right;\n",
              "    }\n",
              "</style>\n",
              "<table border=\"1\" class=\"dataframe\">\n",
              "  <thead>\n",
              "    <tr style=\"text-align: right;\">\n",
              "      <th></th>\n",
              "      <th>codigo</th>\n",
              "      <th>año</th>\n",
              "      <th>mes</th>\n",
              "      <th>total_cp</th>\n",
              "    </tr>\n",
              "  </thead>\n",
              "  <tbody>\n",
              "    <tr>\n",
              "      <th>0</th>\n",
              "      <td>0</td>\n",
              "      <td>2022</td>\n",
              "      <td>1</td>\n",
              "      <td>208</td>\n",
              "    </tr>\n",
              "    <tr>\n",
              "      <th>33</th>\n",
              "      <td>01000000</td>\n",
              "      <td>2022</td>\n",
              "      <td>1</td>\n",
              "      <td>19</td>\n",
              "    </tr>\n",
              "    <tr>\n",
              "      <th>49</th>\n",
              "      <td>01001000</td>\n",
              "      <td>2022</td>\n",
              "      <td>1</td>\n",
              "      <td>172</td>\n",
              "    </tr>\n",
              "    <tr>\n",
              "      <th>65</th>\n",
              "      <td>01002000</td>\n",
              "      <td>2022</td>\n",
              "      <td>1</td>\n",
              "      <td>20</td>\n",
              "    </tr>\n",
              "    <tr>\n",
              "      <th>81</th>\n",
              "      <td>01003000</td>\n",
              "      <td>2022</td>\n",
              "      <td>1</td>\n",
              "      <td>7</td>\n",
              "    </tr>\n",
              "    <tr>\n",
              "      <th>...</th>\n",
              "      <td>...</td>\n",
              "      <td>...</td>\n",
              "      <td>...</td>\n",
              "      <td>...</td>\n",
              "    </tr>\n",
              "    <tr>\n",
              "      <th>146965</th>\n",
              "      <td>Z9050DJG</td>\n",
              "      <td>2023</td>\n",
              "      <td>4</td>\n",
              "      <td>1</td>\n",
              "    </tr>\n",
              "    <tr>\n",
              "      <th>146969</th>\n",
              "      <td>Z9303XAT</td>\n",
              "      <td>2023</td>\n",
              "      <td>4</td>\n",
              "      <td>1</td>\n",
              "    </tr>\n",
              "    <tr>\n",
              "      <th>146971</th>\n",
              "      <td>Z9310BDE</td>\n",
              "      <td>2023</td>\n",
              "      <td>4</td>\n",
              "      <td>1</td>\n",
              "    </tr>\n",
              "    <tr>\n",
              "      <th>146990</th>\n",
              "      <td>Z9400BJA</td>\n",
              "      <td>2023</td>\n",
              "      <td>4</td>\n",
              "      <td>1</td>\n",
              "    </tr>\n",
              "    <tr>\n",
              "      <th>147043</th>\n",
              "      <td>Z9403EBK</td>\n",
              "      <td>2023</td>\n",
              "      <td>4</td>\n",
              "      <td>1</td>\n",
              "    </tr>\n",
              "  </tbody>\n",
              "</table>\n",
              "<p>147066 rows × 4 columns</p>\n",
              "</div>\n",
              "      <button class=\"colab-df-convert\" onclick=\"convertToInteractive('df-0074e80e-037c-464e-8224-1ef2f4dd80e3')\"\n",
              "              title=\"Convert this dataframe to an interactive table.\"\n",
              "              style=\"display:none;\">\n",
              "        \n",
              "  <svg xmlns=\"http://www.w3.org/2000/svg\" height=\"24px\"viewBox=\"0 0 24 24\"\n",
              "       width=\"24px\">\n",
              "    <path d=\"M0 0h24v24H0V0z\" fill=\"none\"/>\n",
              "    <path d=\"M18.56 5.44l.94 2.06.94-2.06 2.06-.94-2.06-.94-.94-2.06-.94 2.06-2.06.94zm-11 1L8.5 8.5l.94-2.06 2.06-.94-2.06-.94L8.5 2.5l-.94 2.06-2.06.94zm10 10l.94 2.06.94-2.06 2.06-.94-2.06-.94-.94-2.06-.94 2.06-2.06.94z\"/><path d=\"M17.41 7.96l-1.37-1.37c-.4-.4-.92-.59-1.43-.59-.52 0-1.04.2-1.43.59L10.3 9.45l-7.72 7.72c-.78.78-.78 2.05 0 2.83L4 21.41c.39.39.9.59 1.41.59.51 0 1.02-.2 1.41-.59l7.78-7.78 2.81-2.81c.8-.78.8-2.07 0-2.86zM5.41 20L4 18.59l7.72-7.72 1.47 1.35L5.41 20z\"/>\n",
              "  </svg>\n",
              "      </button>\n",
              "      \n",
              "  <style>\n",
              "    .colab-df-container {\n",
              "      display:flex;\n",
              "      flex-wrap:wrap;\n",
              "      gap: 12px;\n",
              "    }\n",
              "\n",
              "    .colab-df-convert {\n",
              "      background-color: #E8F0FE;\n",
              "      border: none;\n",
              "      border-radius: 50%;\n",
              "      cursor: pointer;\n",
              "      display: none;\n",
              "      fill: #1967D2;\n",
              "      height: 32px;\n",
              "      padding: 0 0 0 0;\n",
              "      width: 32px;\n",
              "    }\n",
              "\n",
              "    .colab-df-convert:hover {\n",
              "      background-color: #E2EBFA;\n",
              "      box-shadow: 0px 1px 2px rgba(60, 64, 67, 0.3), 0px 1px 3px 1px rgba(60, 64, 67, 0.15);\n",
              "      fill: #174EA6;\n",
              "    }\n",
              "\n",
              "    [theme=dark] .colab-df-convert {\n",
              "      background-color: #3B4455;\n",
              "      fill: #D2E3FC;\n",
              "    }\n",
              "\n",
              "    [theme=dark] .colab-df-convert:hover {\n",
              "      background-color: #434B5C;\n",
              "      box-shadow: 0px 1px 3px 1px rgba(0, 0, 0, 0.15);\n",
              "      filter: drop-shadow(0px 1px 2px rgba(0, 0, 0, 0.3));\n",
              "      fill: #FFFFFF;\n",
              "    }\n",
              "  </style>\n",
              "\n",
              "      <script>\n",
              "        const buttonEl =\n",
              "          document.querySelector('#df-0074e80e-037c-464e-8224-1ef2f4dd80e3 button.colab-df-convert');\n",
              "        buttonEl.style.display =\n",
              "          google.colab.kernel.accessAllowed ? 'block' : 'none';\n",
              "\n",
              "        async function convertToInteractive(key) {\n",
              "          const element = document.querySelector('#df-0074e80e-037c-464e-8224-1ef2f4dd80e3');\n",
              "          const dataTable =\n",
              "            await google.colab.kernel.invokeFunction('convertToInteractive',\n",
              "                                                     [key], {});\n",
              "          if (!dataTable) return;\n",
              "\n",
              "          const docLinkHtml = 'Like what you see? Visit the ' +\n",
              "            '<a target=\"_blank\" href=https://colab.research.google.com/notebooks/data_table.ipynb>data table notebook</a>'\n",
              "            + ' to learn more about interactive tables.';\n",
              "          element.innerHTML = '';\n",
              "          dataTable['output_type'] = 'display_data';\n",
              "          await google.colab.output.renderOutput(dataTable, element);\n",
              "          const docLink = document.createElement('div');\n",
              "          docLink.innerHTML = docLinkHtml;\n",
              "          element.appendChild(docLink);\n",
              "        }\n",
              "      </script>\n",
              "    </div>\n",
              "  </div>\n",
              "  "
            ]
          },
          "metadata": {},
          "execution_count": 11
        }
      ],
      "source": [
        "df = df.sort_values(['año','mes'], ascending=True)\n",
        "df"
      ]
    },
    {
      "cell_type": "markdown",
      "source": [
        "#### Verificar cuantos registros tienen el codpos menor a 8 caracteres"
      ],
      "metadata": {
        "id": "1cF31vxmAfVn"
      },
      "id": "1cF31vxmAfVn"
    },
    {
      "cell_type": "code",
      "source": [
        "df_codigo = df.loc[df['codigo'].apply(lambda x: len(str(x)) < 8)]"
      ],
      "metadata": {
        "id": "v44YUo7I8X_e"
      },
      "id": "v44YUo7I8X_e",
      "execution_count": 16,
      "outputs": []
    },
    {
      "cell_type": "markdown",
      "id": "bcd86f36-bcce-42cc-8f71-d20ff543b37f",
      "metadata": {
        "id": "bcd86f36-bcce-42cc-8f71-d20ff543b37f"
      },
      "source": [
        "#### Verificamos cantidad de registros por codigo"
      ]
    },
    {
      "cell_type": "code",
      "execution_count": 17,
      "id": "4739908b-5a93-4130-b518-8fbdd707f843",
      "metadata": {
        "id": "4739908b-5a93-4130-b518-8fbdd707f843"
      },
      "outputs": [],
      "source": [
        "codigos = df.value_counts('codigo')"
      ]
    },
    {
      "cell_type": "code",
      "execution_count": 18,
      "id": "a96d99d7-1974-40dd-87ec-98946f69d01a",
      "metadata": {
        "id": "a96d99d7-1974-40dd-87ec-98946f69d01a"
      },
      "outputs": [],
      "source": [
        "mayores_a_15 = codigos[codigos > 15]"
      ]
    },
    {
      "cell_type": "code",
      "execution_count": 19,
      "id": "2e3f7f52-03b5-4302-8fc5-a9b7caef1fee",
      "metadata": {
        "id": "2e3f7f52-03b5-4302-8fc5-a9b7caef1fee"
      },
      "outputs": [],
      "source": [
        "df = df[df['codigo'].isin(mayores_a_15.index)]"
      ]
    },
    {
      "cell_type": "code",
      "execution_count": 20,
      "id": "b9d5c753-32ef-4b0f-b17f-a513cf950f52",
      "metadata": {
        "id": "b9d5c753-32ef-4b0f-b17f-a513cf950f52",
        "outputId": "0a9dfefc-0c12-408b-e441-1012ee77b3e0",
        "colab": {
          "base_uri": "https://localhost:8080/",
          "height": 423
        }
      },
      "outputs": [
        {
          "output_type": "execute_result",
          "data": {
            "text/plain": [
              "          codigo   año  mes  total_cp\n",
              "0              0  2022    1       208\n",
              "33      01000000  2022    1        19\n",
              "49      01001000  2022    1       172\n",
              "65      01002000  2022    1        20\n",
              "81      01003000  2022    1         7\n",
              "...          ...   ...  ...       ...\n",
              "146313  Y4604CJC  2023    4         7\n",
              "146621  Y4610XAH  2023    4         3\n",
              "146666  Y4612JYI  2023    4         5\n",
              "146682  Y4612XAI  2023    4         4\n",
              "146965  Z9050DJG  2023    4         1\n",
              "\n",
              "[25440 rows x 4 columns]"
            ],
            "text/html": [
              "\n",
              "  <div id=\"df-355bbd1b-6484-47c6-b17b-ba77c4ba0e1f\">\n",
              "    <div class=\"colab-df-container\">\n",
              "      <div>\n",
              "<style scoped>\n",
              "    .dataframe tbody tr th:only-of-type {\n",
              "        vertical-align: middle;\n",
              "    }\n",
              "\n",
              "    .dataframe tbody tr th {\n",
              "        vertical-align: top;\n",
              "    }\n",
              "\n",
              "    .dataframe thead th {\n",
              "        text-align: right;\n",
              "    }\n",
              "</style>\n",
              "<table border=\"1\" class=\"dataframe\">\n",
              "  <thead>\n",
              "    <tr style=\"text-align: right;\">\n",
              "      <th></th>\n",
              "      <th>codigo</th>\n",
              "      <th>año</th>\n",
              "      <th>mes</th>\n",
              "      <th>total_cp</th>\n",
              "    </tr>\n",
              "  </thead>\n",
              "  <tbody>\n",
              "    <tr>\n",
              "      <th>0</th>\n",
              "      <td>0</td>\n",
              "      <td>2022</td>\n",
              "      <td>1</td>\n",
              "      <td>208</td>\n",
              "    </tr>\n",
              "    <tr>\n",
              "      <th>33</th>\n",
              "      <td>01000000</td>\n",
              "      <td>2022</td>\n",
              "      <td>1</td>\n",
              "      <td>19</td>\n",
              "    </tr>\n",
              "    <tr>\n",
              "      <th>49</th>\n",
              "      <td>01001000</td>\n",
              "      <td>2022</td>\n",
              "      <td>1</td>\n",
              "      <td>172</td>\n",
              "    </tr>\n",
              "    <tr>\n",
              "      <th>65</th>\n",
              "      <td>01002000</td>\n",
              "      <td>2022</td>\n",
              "      <td>1</td>\n",
              "      <td>20</td>\n",
              "    </tr>\n",
              "    <tr>\n",
              "      <th>81</th>\n",
              "      <td>01003000</td>\n",
              "      <td>2022</td>\n",
              "      <td>1</td>\n",
              "      <td>7</td>\n",
              "    </tr>\n",
              "    <tr>\n",
              "      <th>...</th>\n",
              "      <td>...</td>\n",
              "      <td>...</td>\n",
              "      <td>...</td>\n",
              "      <td>...</td>\n",
              "    </tr>\n",
              "    <tr>\n",
              "      <th>146313</th>\n",
              "      <td>Y4604CJC</td>\n",
              "      <td>2023</td>\n",
              "      <td>4</td>\n",
              "      <td>7</td>\n",
              "    </tr>\n",
              "    <tr>\n",
              "      <th>146621</th>\n",
              "      <td>Y4610XAH</td>\n",
              "      <td>2023</td>\n",
              "      <td>4</td>\n",
              "      <td>3</td>\n",
              "    </tr>\n",
              "    <tr>\n",
              "      <th>146666</th>\n",
              "      <td>Y4612JYI</td>\n",
              "      <td>2023</td>\n",
              "      <td>4</td>\n",
              "      <td>5</td>\n",
              "    </tr>\n",
              "    <tr>\n",
              "      <th>146682</th>\n",
              "      <td>Y4612XAI</td>\n",
              "      <td>2023</td>\n",
              "      <td>4</td>\n",
              "      <td>4</td>\n",
              "    </tr>\n",
              "    <tr>\n",
              "      <th>146965</th>\n",
              "      <td>Z9050DJG</td>\n",
              "      <td>2023</td>\n",
              "      <td>4</td>\n",
              "      <td>1</td>\n",
              "    </tr>\n",
              "  </tbody>\n",
              "</table>\n",
              "<p>25440 rows × 4 columns</p>\n",
              "</div>\n",
              "      <button class=\"colab-df-convert\" onclick=\"convertToInteractive('df-355bbd1b-6484-47c6-b17b-ba77c4ba0e1f')\"\n",
              "              title=\"Convert this dataframe to an interactive table.\"\n",
              "              style=\"display:none;\">\n",
              "        \n",
              "  <svg xmlns=\"http://www.w3.org/2000/svg\" height=\"24px\"viewBox=\"0 0 24 24\"\n",
              "       width=\"24px\">\n",
              "    <path d=\"M0 0h24v24H0V0z\" fill=\"none\"/>\n",
              "    <path d=\"M18.56 5.44l.94 2.06.94-2.06 2.06-.94-2.06-.94-.94-2.06-.94 2.06-2.06.94zm-11 1L8.5 8.5l.94-2.06 2.06-.94-2.06-.94L8.5 2.5l-.94 2.06-2.06.94zm10 10l.94 2.06.94-2.06 2.06-.94-2.06-.94-.94-2.06-.94 2.06-2.06.94z\"/><path d=\"M17.41 7.96l-1.37-1.37c-.4-.4-.92-.59-1.43-.59-.52 0-1.04.2-1.43.59L10.3 9.45l-7.72 7.72c-.78.78-.78 2.05 0 2.83L4 21.41c.39.39.9.59 1.41.59.51 0 1.02-.2 1.41-.59l7.78-7.78 2.81-2.81c.8-.78.8-2.07 0-2.86zM5.41 20L4 18.59l7.72-7.72 1.47 1.35L5.41 20z\"/>\n",
              "  </svg>\n",
              "      </button>\n",
              "      \n",
              "  <style>\n",
              "    .colab-df-container {\n",
              "      display:flex;\n",
              "      flex-wrap:wrap;\n",
              "      gap: 12px;\n",
              "    }\n",
              "\n",
              "    .colab-df-convert {\n",
              "      background-color: #E8F0FE;\n",
              "      border: none;\n",
              "      border-radius: 50%;\n",
              "      cursor: pointer;\n",
              "      display: none;\n",
              "      fill: #1967D2;\n",
              "      height: 32px;\n",
              "      padding: 0 0 0 0;\n",
              "      width: 32px;\n",
              "    }\n",
              "\n",
              "    .colab-df-convert:hover {\n",
              "      background-color: #E2EBFA;\n",
              "      box-shadow: 0px 1px 2px rgba(60, 64, 67, 0.3), 0px 1px 3px 1px rgba(60, 64, 67, 0.15);\n",
              "      fill: #174EA6;\n",
              "    }\n",
              "\n",
              "    [theme=dark] .colab-df-convert {\n",
              "      background-color: #3B4455;\n",
              "      fill: #D2E3FC;\n",
              "    }\n",
              "\n",
              "    [theme=dark] .colab-df-convert:hover {\n",
              "      background-color: #434B5C;\n",
              "      box-shadow: 0px 1px 3px 1px rgba(0, 0, 0, 0.15);\n",
              "      filter: drop-shadow(0px 1px 2px rgba(0, 0, 0, 0.3));\n",
              "      fill: #FFFFFF;\n",
              "    }\n",
              "  </style>\n",
              "\n",
              "      <script>\n",
              "        const buttonEl =\n",
              "          document.querySelector('#df-355bbd1b-6484-47c6-b17b-ba77c4ba0e1f button.colab-df-convert');\n",
              "        buttonEl.style.display =\n",
              "          google.colab.kernel.accessAllowed ? 'block' : 'none';\n",
              "\n",
              "        async function convertToInteractive(key) {\n",
              "          const element = document.querySelector('#df-355bbd1b-6484-47c6-b17b-ba77c4ba0e1f');\n",
              "          const dataTable =\n",
              "            await google.colab.kernel.invokeFunction('convertToInteractive',\n",
              "                                                     [key], {});\n",
              "          if (!dataTable) return;\n",
              "\n",
              "          const docLinkHtml = 'Like what you see? Visit the ' +\n",
              "            '<a target=\"_blank\" href=https://colab.research.google.com/notebooks/data_table.ipynb>data table notebook</a>'\n",
              "            + ' to learn more about interactive tables.';\n",
              "          element.innerHTML = '';\n",
              "          dataTable['output_type'] = 'display_data';\n",
              "          await google.colab.output.renderOutput(dataTable, element);\n",
              "          const docLink = document.createElement('div');\n",
              "          docLink.innerHTML = docLinkHtml;\n",
              "          element.appendChild(docLink);\n",
              "        }\n",
              "      </script>\n",
              "    </div>\n",
              "  </div>\n",
              "  "
            ]
          },
          "metadata": {},
          "execution_count": 20
        }
      ],
      "source": [
        "df"
      ]
    },
    {
      "cell_type": "markdown",
      "id": "a8b9b789-aa2c-4414-bcd4-f01e7f78a50d",
      "metadata": {
        "id": "a8b9b789-aa2c-4414-bcd4-f01e7f78a50d"
      },
      "source": [
        "### Transformacion"
      ]
    },
    {
      "cell_type": "markdown",
      "id": "8bf74931-311d-4603-8b11-98ca271eaa0c",
      "metadata": {
        "id": "8bf74931-311d-4603-8b11-98ca271eaa0c"
      },
      "source": [
        "#### LabelEncoder"
      ]
    },
    {
      "cell_type": "code",
      "execution_count": 21,
      "id": "1b1d8803-8fb0-48c4-814d-e5231a213670",
      "metadata": {
        "id": "1b1d8803-8fb0-48c4-814d-e5231a213670"
      },
      "outputs": [],
      "source": [
        "from sklearn.preprocessing import LabelEncoder"
      ]
    },
    {
      "cell_type": "code",
      "execution_count": 22,
      "id": "74b3f540-7c43-4f12-88fc-c021c18c66e1",
      "metadata": {
        "id": "74b3f540-7c43-4f12-88fc-c021c18c66e1"
      },
      "outputs": [],
      "source": [
        "# Crear una instancia de OneHotEncoder\n",
        "encoder = LabelEncoder()"
      ]
    },
    {
      "cell_type": "code",
      "execution_count": 23,
      "id": "0260c28a-e390-429b-8c16-f783c050c34e",
      "metadata": {
        "tags": [],
        "id": "0260c28a-e390-429b-8c16-f783c050c34e"
      },
      "outputs": [],
      "source": [
        "# Codificar los valores alfanuméricos\n",
        "X_encoded = encoder.fit_transform(df.codigo.values.reshape(-1,))"
      ]
    },
    {
      "cell_type": "code",
      "execution_count": 24,
      "id": "d90043c0-4ae8-40b1-93c8-b446358d229f",
      "metadata": {
        "id": "d90043c0-4ae8-40b1-93c8-b446358d229f",
        "outputId": "a2f68e33-3781-458d-e776-7874b6136de3",
        "colab": {
          "base_uri": "https://localhost:8080/"
        }
      },
      "outputs": [
        {
          "output_type": "execute_result",
          "data": {
            "text/plain": [
              "(25440,)"
            ]
          },
          "metadata": {},
          "execution_count": 24
        }
      ],
      "source": [
        "X_encoded.shape"
      ]
    },
    {
      "cell_type": "code",
      "execution_count": 25,
      "id": "bccd055b-8e15-4cb2-84b2-128aa02a32cb",
      "metadata": {
        "id": "bccd055b-8e15-4cb2-84b2-128aa02a32cb",
        "outputId": "ab8a55f6-8ef7-4e09-e287-425b95251e21",
        "colab": {
          "base_uri": "https://localhost:8080/",
          "height": 423
        }
      },
      "outputs": [
        {
          "output_type": "execute_result",
          "data": {
            "text/plain": [
              "          0\n",
              "0         0\n",
              "1         1\n",
              "2         2\n",
              "3         3\n",
              "4         4\n",
              "...     ...\n",
              "25435  1585\n",
              "25436  1586\n",
              "25437  1587\n",
              "25438  1588\n",
              "25439  1589\n",
              "\n",
              "[25440 rows x 1 columns]"
            ],
            "text/html": [
              "\n",
              "  <div id=\"df-620197d8-162a-41fe-95f9-6b98de842f5f\">\n",
              "    <div class=\"colab-df-container\">\n",
              "      <div>\n",
              "<style scoped>\n",
              "    .dataframe tbody tr th:only-of-type {\n",
              "        vertical-align: middle;\n",
              "    }\n",
              "\n",
              "    .dataframe tbody tr th {\n",
              "        vertical-align: top;\n",
              "    }\n",
              "\n",
              "    .dataframe thead th {\n",
              "        text-align: right;\n",
              "    }\n",
              "</style>\n",
              "<table border=\"1\" class=\"dataframe\">\n",
              "  <thead>\n",
              "    <tr style=\"text-align: right;\">\n",
              "      <th></th>\n",
              "      <th>0</th>\n",
              "    </tr>\n",
              "  </thead>\n",
              "  <tbody>\n",
              "    <tr>\n",
              "      <th>0</th>\n",
              "      <td>0</td>\n",
              "    </tr>\n",
              "    <tr>\n",
              "      <th>1</th>\n",
              "      <td>1</td>\n",
              "    </tr>\n",
              "    <tr>\n",
              "      <th>2</th>\n",
              "      <td>2</td>\n",
              "    </tr>\n",
              "    <tr>\n",
              "      <th>3</th>\n",
              "      <td>3</td>\n",
              "    </tr>\n",
              "    <tr>\n",
              "      <th>4</th>\n",
              "      <td>4</td>\n",
              "    </tr>\n",
              "    <tr>\n",
              "      <th>...</th>\n",
              "      <td>...</td>\n",
              "    </tr>\n",
              "    <tr>\n",
              "      <th>25435</th>\n",
              "      <td>1585</td>\n",
              "    </tr>\n",
              "    <tr>\n",
              "      <th>25436</th>\n",
              "      <td>1586</td>\n",
              "    </tr>\n",
              "    <tr>\n",
              "      <th>25437</th>\n",
              "      <td>1587</td>\n",
              "    </tr>\n",
              "    <tr>\n",
              "      <th>25438</th>\n",
              "      <td>1588</td>\n",
              "    </tr>\n",
              "    <tr>\n",
              "      <th>25439</th>\n",
              "      <td>1589</td>\n",
              "    </tr>\n",
              "  </tbody>\n",
              "</table>\n",
              "<p>25440 rows × 1 columns</p>\n",
              "</div>\n",
              "      <button class=\"colab-df-convert\" onclick=\"convertToInteractive('df-620197d8-162a-41fe-95f9-6b98de842f5f')\"\n",
              "              title=\"Convert this dataframe to an interactive table.\"\n",
              "              style=\"display:none;\">\n",
              "        \n",
              "  <svg xmlns=\"http://www.w3.org/2000/svg\" height=\"24px\"viewBox=\"0 0 24 24\"\n",
              "       width=\"24px\">\n",
              "    <path d=\"M0 0h24v24H0V0z\" fill=\"none\"/>\n",
              "    <path d=\"M18.56 5.44l.94 2.06.94-2.06 2.06-.94-2.06-.94-.94-2.06-.94 2.06-2.06.94zm-11 1L8.5 8.5l.94-2.06 2.06-.94-2.06-.94L8.5 2.5l-.94 2.06-2.06.94zm10 10l.94 2.06.94-2.06 2.06-.94-2.06-.94-.94-2.06-.94 2.06-2.06.94z\"/><path d=\"M17.41 7.96l-1.37-1.37c-.4-.4-.92-.59-1.43-.59-.52 0-1.04.2-1.43.59L10.3 9.45l-7.72 7.72c-.78.78-.78 2.05 0 2.83L4 21.41c.39.39.9.59 1.41.59.51 0 1.02-.2 1.41-.59l7.78-7.78 2.81-2.81c.8-.78.8-2.07 0-2.86zM5.41 20L4 18.59l7.72-7.72 1.47 1.35L5.41 20z\"/>\n",
              "  </svg>\n",
              "      </button>\n",
              "      \n",
              "  <style>\n",
              "    .colab-df-container {\n",
              "      display:flex;\n",
              "      flex-wrap:wrap;\n",
              "      gap: 12px;\n",
              "    }\n",
              "\n",
              "    .colab-df-convert {\n",
              "      background-color: #E8F0FE;\n",
              "      border: none;\n",
              "      border-radius: 50%;\n",
              "      cursor: pointer;\n",
              "      display: none;\n",
              "      fill: #1967D2;\n",
              "      height: 32px;\n",
              "      padding: 0 0 0 0;\n",
              "      width: 32px;\n",
              "    }\n",
              "\n",
              "    .colab-df-convert:hover {\n",
              "      background-color: #E2EBFA;\n",
              "      box-shadow: 0px 1px 2px rgba(60, 64, 67, 0.3), 0px 1px 3px 1px rgba(60, 64, 67, 0.15);\n",
              "      fill: #174EA6;\n",
              "    }\n",
              "\n",
              "    [theme=dark] .colab-df-convert {\n",
              "      background-color: #3B4455;\n",
              "      fill: #D2E3FC;\n",
              "    }\n",
              "\n",
              "    [theme=dark] .colab-df-convert:hover {\n",
              "      background-color: #434B5C;\n",
              "      box-shadow: 0px 1px 3px 1px rgba(0, 0, 0, 0.15);\n",
              "      filter: drop-shadow(0px 1px 2px rgba(0, 0, 0, 0.3));\n",
              "      fill: #FFFFFF;\n",
              "    }\n",
              "  </style>\n",
              "\n",
              "      <script>\n",
              "        const buttonEl =\n",
              "          document.querySelector('#df-620197d8-162a-41fe-95f9-6b98de842f5f button.colab-df-convert');\n",
              "        buttonEl.style.display =\n",
              "          google.colab.kernel.accessAllowed ? 'block' : 'none';\n",
              "\n",
              "        async function convertToInteractive(key) {\n",
              "          const element = document.querySelector('#df-620197d8-162a-41fe-95f9-6b98de842f5f');\n",
              "          const dataTable =\n",
              "            await google.colab.kernel.invokeFunction('convertToInteractive',\n",
              "                                                     [key], {});\n",
              "          if (!dataTable) return;\n",
              "\n",
              "          const docLinkHtml = 'Like what you see? Visit the ' +\n",
              "            '<a target=\"_blank\" href=https://colab.research.google.com/notebooks/data_table.ipynb>data table notebook</a>'\n",
              "            + ' to learn more about interactive tables.';\n",
              "          element.innerHTML = '';\n",
              "          dataTable['output_type'] = 'display_data';\n",
              "          await google.colab.output.renderOutput(dataTable, element);\n",
              "          const docLink = document.createElement('div');\n",
              "          docLink.innerHTML = docLinkHtml;\n",
              "          element.appendChild(docLink);\n",
              "        }\n",
              "      </script>\n",
              "    </div>\n",
              "  </div>\n",
              "  "
            ]
          },
          "metadata": {},
          "execution_count": 25
        }
      ],
      "source": [
        "pd.DataFrame(X_encoded)"
      ]
    },
    {
      "cell_type": "markdown",
      "id": "c7aeb951-b8e7-4e6b-9eea-15ca3d61513b",
      "metadata": {
        "id": "c7aeb951-b8e7-4e6b-9eea-15ca3d61513b"
      },
      "source": [
        "#### Embeddings"
      ]
    },
    {
      "cell_type": "code",
      "execution_count": 26,
      "id": "993b6bc0-be93-48c4-a22c-528fee7ef3de",
      "metadata": {
        "id": "993b6bc0-be93-48c4-a22c-528fee7ef3de"
      },
      "outputs": [],
      "source": [
        "tamano_embedding = 10"
      ]
    },
    {
      "cell_type": "code",
      "execution_count": 27,
      "id": "418dc630-a060-4fde-9da8-e3b1217ba441",
      "metadata": {
        "id": "418dc630-a060-4fde-9da8-e3b1217ba441"
      },
      "outputs": [],
      "source": [
        "matriz_embedding = np.random.rand(len(encoder.classes_), tamano_embedding)"
      ]
    },
    {
      "cell_type": "code",
      "execution_count": 28,
      "id": "282b545d-0753-4055-8716-8493b7022ac9",
      "metadata": {
        "id": "282b545d-0753-4055-8716-8493b7022ac9",
        "outputId": "ddd2905e-ed27-4923-f1eb-322e7ac2ad63",
        "colab": {
          "base_uri": "https://localhost:8080/"
        }
      },
      "outputs": [
        {
          "output_type": "execute_result",
          "data": {
            "text/plain": [
              "array([[0.31822004, 0.48313326, 0.80870596, ..., 0.46993652, 0.36559365,\n",
              "        0.20765846],\n",
              "       [0.14053944, 0.79811198, 0.18870105, ..., 0.54044643, 0.78401717,\n",
              "        0.02677307],\n",
              "       [0.29846941, 0.97438851, 0.98306088, ..., 0.05862122, 0.81642514,\n",
              "        0.15920689],\n",
              "       ...,\n",
              "       [0.28066143, 0.42184827, 0.19143617, ..., 0.81437275, 0.43134448,\n",
              "        0.50729251],\n",
              "       [0.96658797, 0.56390556, 0.98132802, ..., 0.41857422, 0.30602426,\n",
              "        0.71003826],\n",
              "       [0.98771253, 0.01742409, 0.93325247, ..., 0.92412441, 0.81852772,\n",
              "        0.90962748]])"
            ]
          },
          "metadata": {},
          "execution_count": 28
        }
      ],
      "source": [
        "matriz_embedding"
      ]
    },
    {
      "cell_type": "code",
      "execution_count": 29,
      "id": "0a70927e-2f4e-47b1-b756-306f0921fba8",
      "metadata": {
        "id": "0a70927e-2f4e-47b1-b756-306f0921fba8",
        "outputId": "106e22b4-3bb7-4256-f668-60c8e4764eac",
        "colab": {
          "base_uri": "https://localhost:8080/"
        }
      },
      "outputs": [
        {
          "output_type": "execute_result",
          "data": {
            "text/plain": [
              "array(['0', '01000000', '01001000', ..., 'Y4612JYI', 'Y4612XAI',\n",
              "       'Z9050DJG'], dtype=object)"
            ]
          },
          "metadata": {},
          "execution_count": 29
        }
      ],
      "source": [
        "encoder.classes_"
      ]
    },
    {
      "cell_type": "code",
      "execution_count": 30,
      "id": "9353964d-a402-4647-b703-71af49a76533",
      "metadata": {
        "id": "9353964d-a402-4647-b703-71af49a76533"
      },
      "outputs": [],
      "source": [
        "# Vectores de embeddings asociados a un valor por cada atributo\n",
        "atributos_embeddings = matriz_embedding[X_encoded]"
      ]
    },
    {
      "cell_type": "code",
      "execution_count": 31,
      "id": "c2e59222-deec-42e5-aab8-76deba25d7f5",
      "metadata": {
        "id": "c2e59222-deec-42e5-aab8-76deba25d7f5",
        "outputId": "802cff7f-4d74-45c6-ebf4-bae524b19795",
        "colab": {
          "base_uri": "https://localhost:8080/"
        }
      },
      "outputs": [
        {
          "output_type": "execute_result",
          "data": {
            "text/plain": [
              "(25440, 10)"
            ]
          },
          "metadata": {},
          "execution_count": 31
        }
      ],
      "source": [
        "atributos_embeddings.shape"
      ]
    },
    {
      "cell_type": "markdown",
      "id": "24abcfb3-f8c8-4d7e-b1bd-2fa670d27749",
      "metadata": {
        "id": "24abcfb3-f8c8-4d7e-b1bd-2fa670d27749"
      },
      "source": [
        "#### Verificacion embeddings"
      ]
    },
    {
      "cell_type": "code",
      "execution_count": 32,
      "id": "8c5df68f-afe7-469c-826c-1fe17580b1ed",
      "metadata": {
        "id": "8c5df68f-afe7-469c-826c-1fe17580b1ed",
        "outputId": "b9ff425c-8f45-4770-d740-bbbb034c60a7",
        "colab": {
          "base_uri": "https://localhost:8080/",
          "height": 36
        }
      },
      "outputs": [
        {
          "output_type": "execute_result",
          "data": {
            "text/plain": [
              "'0'"
            ],
            "application/vnd.google.colaboratory.intrinsic+json": {
              "type": "string"
            }
          },
          "metadata": {},
          "execution_count": 32
        }
      ],
      "source": [
        "i = 0\n",
        "encoder.classes_[i]"
      ]
    },
    {
      "cell_type": "code",
      "execution_count": 33,
      "id": "ee15331d-fee9-498c-9371-e191bb062aba",
      "metadata": {
        "id": "ee15331d-fee9-498c-9371-e191bb062aba",
        "outputId": "65196db9-b68d-4c5f-f01a-f9844bb80c4a",
        "colab": {
          "base_uri": "https://localhost:8080/"
        }
      },
      "outputs": [
        {
          "output_type": "execute_result",
          "data": {
            "text/plain": [
              "array([0.31822004, 0.48313326, 0.80870596, 0.89219571, 0.72835211,\n",
              "       0.7734704 , 0.3026965 , 0.46993652, 0.36559365, 0.20765846])"
            ]
          },
          "metadata": {},
          "execution_count": 33
        }
      ],
      "source": [
        "matriz_embedding[i]"
      ]
    },
    {
      "cell_type": "code",
      "execution_count": 34,
      "id": "8a04dd88-cc0c-4674-8f31-afa0fe8b6c36",
      "metadata": {
        "id": "8a04dd88-cc0c-4674-8f31-afa0fe8b6c36",
        "outputId": "acb2846a-b4c5-4b83-900c-9fb30b034bc8",
        "colab": {
          "base_uri": "https://localhost:8080/"
        }
      },
      "outputs": [
        {
          "output_type": "execute_result",
          "data": {
            "text/plain": [
              "(1590, 10)"
            ]
          },
          "metadata": {},
          "execution_count": 34
        }
      ],
      "source": [
        "matriz_embedding.shape"
      ]
    },
    {
      "cell_type": "markdown",
      "id": "6cf83f6d-a9a5-4aee-8de2-db60660d7689",
      "metadata": {
        "id": "6cf83f6d-a9a5-4aee-8de2-db60660d7689"
      },
      "source": [
        "#### Dataframe con datos de embeddings"
      ]
    },
    {
      "cell_type": "code",
      "execution_count": 35,
      "id": "5754823a-7335-44d8-b262-d38f5edd80ce",
      "metadata": {
        "id": "5754823a-7335-44d8-b262-d38f5edd80ce"
      },
      "outputs": [],
      "source": [
        "# Creamos un nuevo dataframe con los valores del embedding\n",
        "embedding_df = pd.DataFrame(matriz_embedding, columns=[f'emb_{i}' for i in range(matriz_embedding.shape[1])])"
      ]
    },
    {
      "cell_type": "code",
      "execution_count": 36,
      "id": "20c22010-61cc-446d-b9e2-2971d18c512c",
      "metadata": {
        "id": "20c22010-61cc-446d-b9e2-2971d18c512c",
        "outputId": "b73f6d30-176b-41bf-aaaa-5aa8869f5885",
        "colab": {
          "base_uri": "https://localhost:8080/",
          "height": 423
        }
      },
      "outputs": [
        {
          "output_type": "execute_result",
          "data": {
            "text/plain": [
              "         emb_0     emb_1     emb_2     emb_3     emb_4     emb_5     emb_6  \\\n",
              "0     0.318220  0.483133  0.808706  0.892196  0.728352  0.773470  0.302697   \n",
              "1     0.140539  0.798112  0.188701  0.131406  0.650017  0.586963  0.194857   \n",
              "2     0.298469  0.974389  0.983061  0.588682  0.260609  0.032489  0.198743   \n",
              "3     0.474534  0.901862  0.428543  0.749324  0.974615  0.258208  0.971990   \n",
              "4     0.531154  0.567014  0.765058  0.668944  0.938413  0.502725  0.319036   \n",
              "...        ...       ...       ...       ...       ...       ...       ...   \n",
              "1585  0.983037  0.013448  0.902157  0.660044  0.760214  0.669434  0.387521   \n",
              "1586  0.446165  0.731672  0.364083  0.642099  0.570406  0.444001  0.002313   \n",
              "1587  0.280661  0.421848  0.191436  0.463460  0.700485  0.446998  0.825435   \n",
              "1588  0.966588  0.563906  0.981328  0.291512  0.199243  0.319518  0.690684   \n",
              "1589  0.987713  0.017424  0.933252  0.666575  0.306335  0.133783  0.665597   \n",
              "\n",
              "         emb_7     emb_8     emb_9  \n",
              "0     0.469937  0.365594  0.207658  \n",
              "1     0.540446  0.784017  0.026773  \n",
              "2     0.058621  0.816425  0.159207  \n",
              "3     0.313174  0.373476  0.181701  \n",
              "4     0.824733  0.538003  0.542079  \n",
              "...        ...       ...       ...  \n",
              "1585  0.746603  0.477657  0.200398  \n",
              "1586  0.357358  0.034972  0.694405  \n",
              "1587  0.814373  0.431344  0.507293  \n",
              "1588  0.418574  0.306024  0.710038  \n",
              "1589  0.924124  0.818528  0.909627  \n",
              "\n",
              "[1590 rows x 10 columns]"
            ],
            "text/html": [
              "\n",
              "  <div id=\"df-333e915d-2467-40c3-8a81-d597b52fe3dc\">\n",
              "    <div class=\"colab-df-container\">\n",
              "      <div>\n",
              "<style scoped>\n",
              "    .dataframe tbody tr th:only-of-type {\n",
              "        vertical-align: middle;\n",
              "    }\n",
              "\n",
              "    .dataframe tbody tr th {\n",
              "        vertical-align: top;\n",
              "    }\n",
              "\n",
              "    .dataframe thead th {\n",
              "        text-align: right;\n",
              "    }\n",
              "</style>\n",
              "<table border=\"1\" class=\"dataframe\">\n",
              "  <thead>\n",
              "    <tr style=\"text-align: right;\">\n",
              "      <th></th>\n",
              "      <th>emb_0</th>\n",
              "      <th>emb_1</th>\n",
              "      <th>emb_2</th>\n",
              "      <th>emb_3</th>\n",
              "      <th>emb_4</th>\n",
              "      <th>emb_5</th>\n",
              "      <th>emb_6</th>\n",
              "      <th>emb_7</th>\n",
              "      <th>emb_8</th>\n",
              "      <th>emb_9</th>\n",
              "    </tr>\n",
              "  </thead>\n",
              "  <tbody>\n",
              "    <tr>\n",
              "      <th>0</th>\n",
              "      <td>0.318220</td>\n",
              "      <td>0.483133</td>\n",
              "      <td>0.808706</td>\n",
              "      <td>0.892196</td>\n",
              "      <td>0.728352</td>\n",
              "      <td>0.773470</td>\n",
              "      <td>0.302697</td>\n",
              "      <td>0.469937</td>\n",
              "      <td>0.365594</td>\n",
              "      <td>0.207658</td>\n",
              "    </tr>\n",
              "    <tr>\n",
              "      <th>1</th>\n",
              "      <td>0.140539</td>\n",
              "      <td>0.798112</td>\n",
              "      <td>0.188701</td>\n",
              "      <td>0.131406</td>\n",
              "      <td>0.650017</td>\n",
              "      <td>0.586963</td>\n",
              "      <td>0.194857</td>\n",
              "      <td>0.540446</td>\n",
              "      <td>0.784017</td>\n",
              "      <td>0.026773</td>\n",
              "    </tr>\n",
              "    <tr>\n",
              "      <th>2</th>\n",
              "      <td>0.298469</td>\n",
              "      <td>0.974389</td>\n",
              "      <td>0.983061</td>\n",
              "      <td>0.588682</td>\n",
              "      <td>0.260609</td>\n",
              "      <td>0.032489</td>\n",
              "      <td>0.198743</td>\n",
              "      <td>0.058621</td>\n",
              "      <td>0.816425</td>\n",
              "      <td>0.159207</td>\n",
              "    </tr>\n",
              "    <tr>\n",
              "      <th>3</th>\n",
              "      <td>0.474534</td>\n",
              "      <td>0.901862</td>\n",
              "      <td>0.428543</td>\n",
              "      <td>0.749324</td>\n",
              "      <td>0.974615</td>\n",
              "      <td>0.258208</td>\n",
              "      <td>0.971990</td>\n",
              "      <td>0.313174</td>\n",
              "      <td>0.373476</td>\n",
              "      <td>0.181701</td>\n",
              "    </tr>\n",
              "    <tr>\n",
              "      <th>4</th>\n",
              "      <td>0.531154</td>\n",
              "      <td>0.567014</td>\n",
              "      <td>0.765058</td>\n",
              "      <td>0.668944</td>\n",
              "      <td>0.938413</td>\n",
              "      <td>0.502725</td>\n",
              "      <td>0.319036</td>\n",
              "      <td>0.824733</td>\n",
              "      <td>0.538003</td>\n",
              "      <td>0.542079</td>\n",
              "    </tr>\n",
              "    <tr>\n",
              "      <th>...</th>\n",
              "      <td>...</td>\n",
              "      <td>...</td>\n",
              "      <td>...</td>\n",
              "      <td>...</td>\n",
              "      <td>...</td>\n",
              "      <td>...</td>\n",
              "      <td>...</td>\n",
              "      <td>...</td>\n",
              "      <td>...</td>\n",
              "      <td>...</td>\n",
              "    </tr>\n",
              "    <tr>\n",
              "      <th>1585</th>\n",
              "      <td>0.983037</td>\n",
              "      <td>0.013448</td>\n",
              "      <td>0.902157</td>\n",
              "      <td>0.660044</td>\n",
              "      <td>0.760214</td>\n",
              "      <td>0.669434</td>\n",
              "      <td>0.387521</td>\n",
              "      <td>0.746603</td>\n",
              "      <td>0.477657</td>\n",
              "      <td>0.200398</td>\n",
              "    </tr>\n",
              "    <tr>\n",
              "      <th>1586</th>\n",
              "      <td>0.446165</td>\n",
              "      <td>0.731672</td>\n",
              "      <td>0.364083</td>\n",
              "      <td>0.642099</td>\n",
              "      <td>0.570406</td>\n",
              "      <td>0.444001</td>\n",
              "      <td>0.002313</td>\n",
              "      <td>0.357358</td>\n",
              "      <td>0.034972</td>\n",
              "      <td>0.694405</td>\n",
              "    </tr>\n",
              "    <tr>\n",
              "      <th>1587</th>\n",
              "      <td>0.280661</td>\n",
              "      <td>0.421848</td>\n",
              "      <td>0.191436</td>\n",
              "      <td>0.463460</td>\n",
              "      <td>0.700485</td>\n",
              "      <td>0.446998</td>\n",
              "      <td>0.825435</td>\n",
              "      <td>0.814373</td>\n",
              "      <td>0.431344</td>\n",
              "      <td>0.507293</td>\n",
              "    </tr>\n",
              "    <tr>\n",
              "      <th>1588</th>\n",
              "      <td>0.966588</td>\n",
              "      <td>0.563906</td>\n",
              "      <td>0.981328</td>\n",
              "      <td>0.291512</td>\n",
              "      <td>0.199243</td>\n",
              "      <td>0.319518</td>\n",
              "      <td>0.690684</td>\n",
              "      <td>0.418574</td>\n",
              "      <td>0.306024</td>\n",
              "      <td>0.710038</td>\n",
              "    </tr>\n",
              "    <tr>\n",
              "      <th>1589</th>\n",
              "      <td>0.987713</td>\n",
              "      <td>0.017424</td>\n",
              "      <td>0.933252</td>\n",
              "      <td>0.666575</td>\n",
              "      <td>0.306335</td>\n",
              "      <td>0.133783</td>\n",
              "      <td>0.665597</td>\n",
              "      <td>0.924124</td>\n",
              "      <td>0.818528</td>\n",
              "      <td>0.909627</td>\n",
              "    </tr>\n",
              "  </tbody>\n",
              "</table>\n",
              "<p>1590 rows × 10 columns</p>\n",
              "</div>\n",
              "      <button class=\"colab-df-convert\" onclick=\"convertToInteractive('df-333e915d-2467-40c3-8a81-d597b52fe3dc')\"\n",
              "              title=\"Convert this dataframe to an interactive table.\"\n",
              "              style=\"display:none;\">\n",
              "        \n",
              "  <svg xmlns=\"http://www.w3.org/2000/svg\" height=\"24px\"viewBox=\"0 0 24 24\"\n",
              "       width=\"24px\">\n",
              "    <path d=\"M0 0h24v24H0V0z\" fill=\"none\"/>\n",
              "    <path d=\"M18.56 5.44l.94 2.06.94-2.06 2.06-.94-2.06-.94-.94-2.06-.94 2.06-2.06.94zm-11 1L8.5 8.5l.94-2.06 2.06-.94-2.06-.94L8.5 2.5l-.94 2.06-2.06.94zm10 10l.94 2.06.94-2.06 2.06-.94-2.06-.94-.94-2.06-.94 2.06-2.06.94z\"/><path d=\"M17.41 7.96l-1.37-1.37c-.4-.4-.92-.59-1.43-.59-.52 0-1.04.2-1.43.59L10.3 9.45l-7.72 7.72c-.78.78-.78 2.05 0 2.83L4 21.41c.39.39.9.59 1.41.59.51 0 1.02-.2 1.41-.59l7.78-7.78 2.81-2.81c.8-.78.8-2.07 0-2.86zM5.41 20L4 18.59l7.72-7.72 1.47 1.35L5.41 20z\"/>\n",
              "  </svg>\n",
              "      </button>\n",
              "      \n",
              "  <style>\n",
              "    .colab-df-container {\n",
              "      display:flex;\n",
              "      flex-wrap:wrap;\n",
              "      gap: 12px;\n",
              "    }\n",
              "\n",
              "    .colab-df-convert {\n",
              "      background-color: #E8F0FE;\n",
              "      border: none;\n",
              "      border-radius: 50%;\n",
              "      cursor: pointer;\n",
              "      display: none;\n",
              "      fill: #1967D2;\n",
              "      height: 32px;\n",
              "      padding: 0 0 0 0;\n",
              "      width: 32px;\n",
              "    }\n",
              "\n",
              "    .colab-df-convert:hover {\n",
              "      background-color: #E2EBFA;\n",
              "      box-shadow: 0px 1px 2px rgba(60, 64, 67, 0.3), 0px 1px 3px 1px rgba(60, 64, 67, 0.15);\n",
              "      fill: #174EA6;\n",
              "    }\n",
              "\n",
              "    [theme=dark] .colab-df-convert {\n",
              "      background-color: #3B4455;\n",
              "      fill: #D2E3FC;\n",
              "    }\n",
              "\n",
              "    [theme=dark] .colab-df-convert:hover {\n",
              "      background-color: #434B5C;\n",
              "      box-shadow: 0px 1px 3px 1px rgba(0, 0, 0, 0.15);\n",
              "      filter: drop-shadow(0px 1px 2px rgba(0, 0, 0, 0.3));\n",
              "      fill: #FFFFFF;\n",
              "    }\n",
              "  </style>\n",
              "\n",
              "      <script>\n",
              "        const buttonEl =\n",
              "          document.querySelector('#df-333e915d-2467-40c3-8a81-d597b52fe3dc button.colab-df-convert');\n",
              "        buttonEl.style.display =\n",
              "          google.colab.kernel.accessAllowed ? 'block' : 'none';\n",
              "\n",
              "        async function convertToInteractive(key) {\n",
              "          const element = document.querySelector('#df-333e915d-2467-40c3-8a81-d597b52fe3dc');\n",
              "          const dataTable =\n",
              "            await google.colab.kernel.invokeFunction('convertToInteractive',\n",
              "                                                     [key], {});\n",
              "          if (!dataTable) return;\n",
              "\n",
              "          const docLinkHtml = 'Like what you see? Visit the ' +\n",
              "            '<a target=\"_blank\" href=https://colab.research.google.com/notebooks/data_table.ipynb>data table notebook</a>'\n",
              "            + ' to learn more about interactive tables.';\n",
              "          element.innerHTML = '';\n",
              "          dataTable['output_type'] = 'display_data';\n",
              "          await google.colab.output.renderOutput(dataTable, element);\n",
              "          const docLink = document.createElement('div');\n",
              "          docLink.innerHTML = docLinkHtml;\n",
              "          element.appendChild(docLink);\n",
              "        }\n",
              "      </script>\n",
              "    </div>\n",
              "  </div>\n",
              "  "
            ]
          },
          "metadata": {},
          "execution_count": 36
        }
      ],
      "source": [
        "embedding_df"
      ]
    },
    {
      "cell_type": "code",
      "execution_count": 37,
      "id": "8b71eb08-a1c5-45e4-b0db-1a9b19a265f2",
      "metadata": {
        "id": "8b71eb08-a1c5-45e4-b0db-1a9b19a265f2"
      },
      "outputs": [],
      "source": [
        "embedding_df['codigo'] = encoder.classes_"
      ]
    },
    {
      "cell_type": "code",
      "execution_count": 38,
      "id": "5aa9996b-5a9a-4c4e-a43d-938731f83ea8",
      "metadata": {
        "id": "5aa9996b-5a9a-4c4e-a43d-938731f83ea8",
        "outputId": "e08795f0-6167-4db8-b739-6ce24d988ad6",
        "colab": {
          "base_uri": "https://localhost:8080/",
          "height": 455
        }
      },
      "outputs": [
        {
          "output_type": "execute_result",
          "data": {
            "text/plain": [
              "             emb_0     emb_1     emb_2     emb_3     emb_4     emb_5  \\\n",
              "codigo                                                                 \n",
              "0         0.318220  0.483133  0.808706  0.892196  0.728352  0.773470   \n",
              "01000000  0.140539  0.798112  0.188701  0.131406  0.650017  0.586963   \n",
              "01001000  0.298469  0.974389  0.983061  0.588682  0.260609  0.032489   \n",
              "01002000  0.474534  0.901862  0.428543  0.749324  0.974615  0.258208   \n",
              "01003000  0.531154  0.567014  0.765058  0.668944  0.938413  0.502725   \n",
              "...            ...       ...       ...       ...       ...       ...   \n",
              "Y4604CJC  0.983037  0.013448  0.902157  0.660044  0.760214  0.669434   \n",
              "Y4610XAH  0.446165  0.731672  0.364083  0.642099  0.570406  0.444001   \n",
              "Y4612JYI  0.280661  0.421848  0.191436  0.463460  0.700485  0.446998   \n",
              "Y4612XAI  0.966588  0.563906  0.981328  0.291512  0.199243  0.319518   \n",
              "Z9050DJG  0.987713  0.017424  0.933252  0.666575  0.306335  0.133783   \n",
              "\n",
              "             emb_6     emb_7     emb_8     emb_9  \n",
              "codigo                                            \n",
              "0         0.302697  0.469937  0.365594  0.207658  \n",
              "01000000  0.194857  0.540446  0.784017  0.026773  \n",
              "01001000  0.198743  0.058621  0.816425  0.159207  \n",
              "01002000  0.971990  0.313174  0.373476  0.181701  \n",
              "01003000  0.319036  0.824733  0.538003  0.542079  \n",
              "...            ...       ...       ...       ...  \n",
              "Y4604CJC  0.387521  0.746603  0.477657  0.200398  \n",
              "Y4610XAH  0.002313  0.357358  0.034972  0.694405  \n",
              "Y4612JYI  0.825435  0.814373  0.431344  0.507293  \n",
              "Y4612XAI  0.690684  0.418574  0.306024  0.710038  \n",
              "Z9050DJG  0.665597  0.924124  0.818528  0.909627  \n",
              "\n",
              "[1590 rows x 10 columns]"
            ],
            "text/html": [
              "\n",
              "  <div id=\"df-919fbc08-e28a-4179-88e7-51f4d84e06f5\">\n",
              "    <div class=\"colab-df-container\">\n",
              "      <div>\n",
              "<style scoped>\n",
              "    .dataframe tbody tr th:only-of-type {\n",
              "        vertical-align: middle;\n",
              "    }\n",
              "\n",
              "    .dataframe tbody tr th {\n",
              "        vertical-align: top;\n",
              "    }\n",
              "\n",
              "    .dataframe thead th {\n",
              "        text-align: right;\n",
              "    }\n",
              "</style>\n",
              "<table border=\"1\" class=\"dataframe\">\n",
              "  <thead>\n",
              "    <tr style=\"text-align: right;\">\n",
              "      <th></th>\n",
              "      <th>emb_0</th>\n",
              "      <th>emb_1</th>\n",
              "      <th>emb_2</th>\n",
              "      <th>emb_3</th>\n",
              "      <th>emb_4</th>\n",
              "      <th>emb_5</th>\n",
              "      <th>emb_6</th>\n",
              "      <th>emb_7</th>\n",
              "      <th>emb_8</th>\n",
              "      <th>emb_9</th>\n",
              "    </tr>\n",
              "    <tr>\n",
              "      <th>codigo</th>\n",
              "      <th></th>\n",
              "      <th></th>\n",
              "      <th></th>\n",
              "      <th></th>\n",
              "      <th></th>\n",
              "      <th></th>\n",
              "      <th></th>\n",
              "      <th></th>\n",
              "      <th></th>\n",
              "      <th></th>\n",
              "    </tr>\n",
              "  </thead>\n",
              "  <tbody>\n",
              "    <tr>\n",
              "      <th>0</th>\n",
              "      <td>0.318220</td>\n",
              "      <td>0.483133</td>\n",
              "      <td>0.808706</td>\n",
              "      <td>0.892196</td>\n",
              "      <td>0.728352</td>\n",
              "      <td>0.773470</td>\n",
              "      <td>0.302697</td>\n",
              "      <td>0.469937</td>\n",
              "      <td>0.365594</td>\n",
              "      <td>0.207658</td>\n",
              "    </tr>\n",
              "    <tr>\n",
              "      <th>01000000</th>\n",
              "      <td>0.140539</td>\n",
              "      <td>0.798112</td>\n",
              "      <td>0.188701</td>\n",
              "      <td>0.131406</td>\n",
              "      <td>0.650017</td>\n",
              "      <td>0.586963</td>\n",
              "      <td>0.194857</td>\n",
              "      <td>0.540446</td>\n",
              "      <td>0.784017</td>\n",
              "      <td>0.026773</td>\n",
              "    </tr>\n",
              "    <tr>\n",
              "      <th>01001000</th>\n",
              "      <td>0.298469</td>\n",
              "      <td>0.974389</td>\n",
              "      <td>0.983061</td>\n",
              "      <td>0.588682</td>\n",
              "      <td>0.260609</td>\n",
              "      <td>0.032489</td>\n",
              "      <td>0.198743</td>\n",
              "      <td>0.058621</td>\n",
              "      <td>0.816425</td>\n",
              "      <td>0.159207</td>\n",
              "    </tr>\n",
              "    <tr>\n",
              "      <th>01002000</th>\n",
              "      <td>0.474534</td>\n",
              "      <td>0.901862</td>\n",
              "      <td>0.428543</td>\n",
              "      <td>0.749324</td>\n",
              "      <td>0.974615</td>\n",
              "      <td>0.258208</td>\n",
              "      <td>0.971990</td>\n",
              "      <td>0.313174</td>\n",
              "      <td>0.373476</td>\n",
              "      <td>0.181701</td>\n",
              "    </tr>\n",
              "    <tr>\n",
              "      <th>01003000</th>\n",
              "      <td>0.531154</td>\n",
              "      <td>0.567014</td>\n",
              "      <td>0.765058</td>\n",
              "      <td>0.668944</td>\n",
              "      <td>0.938413</td>\n",
              "      <td>0.502725</td>\n",
              "      <td>0.319036</td>\n",
              "      <td>0.824733</td>\n",
              "      <td>0.538003</td>\n",
              "      <td>0.542079</td>\n",
              "    </tr>\n",
              "    <tr>\n",
              "      <th>...</th>\n",
              "      <td>...</td>\n",
              "      <td>...</td>\n",
              "      <td>...</td>\n",
              "      <td>...</td>\n",
              "      <td>...</td>\n",
              "      <td>...</td>\n",
              "      <td>...</td>\n",
              "      <td>...</td>\n",
              "      <td>...</td>\n",
              "      <td>...</td>\n",
              "    </tr>\n",
              "    <tr>\n",
              "      <th>Y4604CJC</th>\n",
              "      <td>0.983037</td>\n",
              "      <td>0.013448</td>\n",
              "      <td>0.902157</td>\n",
              "      <td>0.660044</td>\n",
              "      <td>0.760214</td>\n",
              "      <td>0.669434</td>\n",
              "      <td>0.387521</td>\n",
              "      <td>0.746603</td>\n",
              "      <td>0.477657</td>\n",
              "      <td>0.200398</td>\n",
              "    </tr>\n",
              "    <tr>\n",
              "      <th>Y4610XAH</th>\n",
              "      <td>0.446165</td>\n",
              "      <td>0.731672</td>\n",
              "      <td>0.364083</td>\n",
              "      <td>0.642099</td>\n",
              "      <td>0.570406</td>\n",
              "      <td>0.444001</td>\n",
              "      <td>0.002313</td>\n",
              "      <td>0.357358</td>\n",
              "      <td>0.034972</td>\n",
              "      <td>0.694405</td>\n",
              "    </tr>\n",
              "    <tr>\n",
              "      <th>Y4612JYI</th>\n",
              "      <td>0.280661</td>\n",
              "      <td>0.421848</td>\n",
              "      <td>0.191436</td>\n",
              "      <td>0.463460</td>\n",
              "      <td>0.700485</td>\n",
              "      <td>0.446998</td>\n",
              "      <td>0.825435</td>\n",
              "      <td>0.814373</td>\n",
              "      <td>0.431344</td>\n",
              "      <td>0.507293</td>\n",
              "    </tr>\n",
              "    <tr>\n",
              "      <th>Y4612XAI</th>\n",
              "      <td>0.966588</td>\n",
              "      <td>0.563906</td>\n",
              "      <td>0.981328</td>\n",
              "      <td>0.291512</td>\n",
              "      <td>0.199243</td>\n",
              "      <td>0.319518</td>\n",
              "      <td>0.690684</td>\n",
              "      <td>0.418574</td>\n",
              "      <td>0.306024</td>\n",
              "      <td>0.710038</td>\n",
              "    </tr>\n",
              "    <tr>\n",
              "      <th>Z9050DJG</th>\n",
              "      <td>0.987713</td>\n",
              "      <td>0.017424</td>\n",
              "      <td>0.933252</td>\n",
              "      <td>0.666575</td>\n",
              "      <td>0.306335</td>\n",
              "      <td>0.133783</td>\n",
              "      <td>0.665597</td>\n",
              "      <td>0.924124</td>\n",
              "      <td>0.818528</td>\n",
              "      <td>0.909627</td>\n",
              "    </tr>\n",
              "  </tbody>\n",
              "</table>\n",
              "<p>1590 rows × 10 columns</p>\n",
              "</div>\n",
              "      <button class=\"colab-df-convert\" onclick=\"convertToInteractive('df-919fbc08-e28a-4179-88e7-51f4d84e06f5')\"\n",
              "              title=\"Convert this dataframe to an interactive table.\"\n",
              "              style=\"display:none;\">\n",
              "        \n",
              "  <svg xmlns=\"http://www.w3.org/2000/svg\" height=\"24px\"viewBox=\"0 0 24 24\"\n",
              "       width=\"24px\">\n",
              "    <path d=\"M0 0h24v24H0V0z\" fill=\"none\"/>\n",
              "    <path d=\"M18.56 5.44l.94 2.06.94-2.06 2.06-.94-2.06-.94-.94-2.06-.94 2.06-2.06.94zm-11 1L8.5 8.5l.94-2.06 2.06-.94-2.06-.94L8.5 2.5l-.94 2.06-2.06.94zm10 10l.94 2.06.94-2.06 2.06-.94-2.06-.94-.94-2.06-.94 2.06-2.06.94z\"/><path d=\"M17.41 7.96l-1.37-1.37c-.4-.4-.92-.59-1.43-.59-.52 0-1.04.2-1.43.59L10.3 9.45l-7.72 7.72c-.78.78-.78 2.05 0 2.83L4 21.41c.39.39.9.59 1.41.59.51 0 1.02-.2 1.41-.59l7.78-7.78 2.81-2.81c.8-.78.8-2.07 0-2.86zM5.41 20L4 18.59l7.72-7.72 1.47 1.35L5.41 20z\"/>\n",
              "  </svg>\n",
              "      </button>\n",
              "      \n",
              "  <style>\n",
              "    .colab-df-container {\n",
              "      display:flex;\n",
              "      flex-wrap:wrap;\n",
              "      gap: 12px;\n",
              "    }\n",
              "\n",
              "    .colab-df-convert {\n",
              "      background-color: #E8F0FE;\n",
              "      border: none;\n",
              "      border-radius: 50%;\n",
              "      cursor: pointer;\n",
              "      display: none;\n",
              "      fill: #1967D2;\n",
              "      height: 32px;\n",
              "      padding: 0 0 0 0;\n",
              "      width: 32px;\n",
              "    }\n",
              "\n",
              "    .colab-df-convert:hover {\n",
              "      background-color: #E2EBFA;\n",
              "      box-shadow: 0px 1px 2px rgba(60, 64, 67, 0.3), 0px 1px 3px 1px rgba(60, 64, 67, 0.15);\n",
              "      fill: #174EA6;\n",
              "    }\n",
              "\n",
              "    [theme=dark] .colab-df-convert {\n",
              "      background-color: #3B4455;\n",
              "      fill: #D2E3FC;\n",
              "    }\n",
              "\n",
              "    [theme=dark] .colab-df-convert:hover {\n",
              "      background-color: #434B5C;\n",
              "      box-shadow: 0px 1px 3px 1px rgba(0, 0, 0, 0.15);\n",
              "      filter: drop-shadow(0px 1px 2px rgba(0, 0, 0, 0.3));\n",
              "      fill: #FFFFFF;\n",
              "    }\n",
              "  </style>\n",
              "\n",
              "      <script>\n",
              "        const buttonEl =\n",
              "          document.querySelector('#df-919fbc08-e28a-4179-88e7-51f4d84e06f5 button.colab-df-convert');\n",
              "        buttonEl.style.display =\n",
              "          google.colab.kernel.accessAllowed ? 'block' : 'none';\n",
              "\n",
              "        async function convertToInteractive(key) {\n",
              "          const element = document.querySelector('#df-919fbc08-e28a-4179-88e7-51f4d84e06f5');\n",
              "          const dataTable =\n",
              "            await google.colab.kernel.invokeFunction('convertToInteractive',\n",
              "                                                     [key], {});\n",
              "          if (!dataTable) return;\n",
              "\n",
              "          const docLinkHtml = 'Like what you see? Visit the ' +\n",
              "            '<a target=\"_blank\" href=https://colab.research.google.com/notebooks/data_table.ipynb>data table notebook</a>'\n",
              "            + ' to learn more about interactive tables.';\n",
              "          element.innerHTML = '';\n",
              "          dataTable['output_type'] = 'display_data';\n",
              "          await google.colab.output.renderOutput(dataTable, element);\n",
              "          const docLink = document.createElement('div');\n",
              "          docLink.innerHTML = docLinkHtml;\n",
              "          element.appendChild(docLink);\n",
              "        }\n",
              "      </script>\n",
              "    </div>\n",
              "  </div>\n",
              "  "
            ]
          },
          "metadata": {},
          "execution_count": 38
        }
      ],
      "source": [
        "# Utilizamos el codigo como indice (para joinear)\n",
        "embedding_df = embedding_df.set_index('codigo')\n",
        "embedding_df"
      ]
    },
    {
      "cell_type": "code",
      "execution_count": 39,
      "id": "de7d0abe-e5b7-49b9-b41a-6273d49f00d8",
      "metadata": {
        "id": "de7d0abe-e5b7-49b9-b41a-6273d49f00d8",
        "outputId": "f07be0b6-0462-46f4-95aa-43ce1f628678",
        "colab": {
          "base_uri": "https://localhost:8080/",
          "height": 455
        }
      },
      "outputs": [
        {
          "output_type": "execute_result",
          "data": {
            "text/plain": [
              "           año  mes  total_cp\n",
              "codigo                       \n",
              "0         2022    1       208\n",
              "01000000  2022    1        19\n",
              "01001000  2022    1       172\n",
              "01002000  2022    1        20\n",
              "01003000  2022    1         7\n",
              "...        ...  ...       ...\n",
              "Y4604CJC  2023    4         7\n",
              "Y4610XAH  2023    4         3\n",
              "Y4612JYI  2023    4         5\n",
              "Y4612XAI  2023    4         4\n",
              "Z9050DJG  2023    4         1\n",
              "\n",
              "[25440 rows x 3 columns]"
            ],
            "text/html": [
              "\n",
              "  <div id=\"df-c04e37cb-e759-4647-887a-e9712db72262\">\n",
              "    <div class=\"colab-df-container\">\n",
              "      <div>\n",
              "<style scoped>\n",
              "    .dataframe tbody tr th:only-of-type {\n",
              "        vertical-align: middle;\n",
              "    }\n",
              "\n",
              "    .dataframe tbody tr th {\n",
              "        vertical-align: top;\n",
              "    }\n",
              "\n",
              "    .dataframe thead th {\n",
              "        text-align: right;\n",
              "    }\n",
              "</style>\n",
              "<table border=\"1\" class=\"dataframe\">\n",
              "  <thead>\n",
              "    <tr style=\"text-align: right;\">\n",
              "      <th></th>\n",
              "      <th>año</th>\n",
              "      <th>mes</th>\n",
              "      <th>total_cp</th>\n",
              "    </tr>\n",
              "    <tr>\n",
              "      <th>codigo</th>\n",
              "      <th></th>\n",
              "      <th></th>\n",
              "      <th></th>\n",
              "    </tr>\n",
              "  </thead>\n",
              "  <tbody>\n",
              "    <tr>\n",
              "      <th>0</th>\n",
              "      <td>2022</td>\n",
              "      <td>1</td>\n",
              "      <td>208</td>\n",
              "    </tr>\n",
              "    <tr>\n",
              "      <th>01000000</th>\n",
              "      <td>2022</td>\n",
              "      <td>1</td>\n",
              "      <td>19</td>\n",
              "    </tr>\n",
              "    <tr>\n",
              "      <th>01001000</th>\n",
              "      <td>2022</td>\n",
              "      <td>1</td>\n",
              "      <td>172</td>\n",
              "    </tr>\n",
              "    <tr>\n",
              "      <th>01002000</th>\n",
              "      <td>2022</td>\n",
              "      <td>1</td>\n",
              "      <td>20</td>\n",
              "    </tr>\n",
              "    <tr>\n",
              "      <th>01003000</th>\n",
              "      <td>2022</td>\n",
              "      <td>1</td>\n",
              "      <td>7</td>\n",
              "    </tr>\n",
              "    <tr>\n",
              "      <th>...</th>\n",
              "      <td>...</td>\n",
              "      <td>...</td>\n",
              "      <td>...</td>\n",
              "    </tr>\n",
              "    <tr>\n",
              "      <th>Y4604CJC</th>\n",
              "      <td>2023</td>\n",
              "      <td>4</td>\n",
              "      <td>7</td>\n",
              "    </tr>\n",
              "    <tr>\n",
              "      <th>Y4610XAH</th>\n",
              "      <td>2023</td>\n",
              "      <td>4</td>\n",
              "      <td>3</td>\n",
              "    </tr>\n",
              "    <tr>\n",
              "      <th>Y4612JYI</th>\n",
              "      <td>2023</td>\n",
              "      <td>4</td>\n",
              "      <td>5</td>\n",
              "    </tr>\n",
              "    <tr>\n",
              "      <th>Y4612XAI</th>\n",
              "      <td>2023</td>\n",
              "      <td>4</td>\n",
              "      <td>4</td>\n",
              "    </tr>\n",
              "    <tr>\n",
              "      <th>Z9050DJG</th>\n",
              "      <td>2023</td>\n",
              "      <td>4</td>\n",
              "      <td>1</td>\n",
              "    </tr>\n",
              "  </tbody>\n",
              "</table>\n",
              "<p>25440 rows × 3 columns</p>\n",
              "</div>\n",
              "      <button class=\"colab-df-convert\" onclick=\"convertToInteractive('df-c04e37cb-e759-4647-887a-e9712db72262')\"\n",
              "              title=\"Convert this dataframe to an interactive table.\"\n",
              "              style=\"display:none;\">\n",
              "        \n",
              "  <svg xmlns=\"http://www.w3.org/2000/svg\" height=\"24px\"viewBox=\"0 0 24 24\"\n",
              "       width=\"24px\">\n",
              "    <path d=\"M0 0h24v24H0V0z\" fill=\"none\"/>\n",
              "    <path d=\"M18.56 5.44l.94 2.06.94-2.06 2.06-.94-2.06-.94-.94-2.06-.94 2.06-2.06.94zm-11 1L8.5 8.5l.94-2.06 2.06-.94-2.06-.94L8.5 2.5l-.94 2.06-2.06.94zm10 10l.94 2.06.94-2.06 2.06-.94-2.06-.94-.94-2.06-.94 2.06-2.06.94z\"/><path d=\"M17.41 7.96l-1.37-1.37c-.4-.4-.92-.59-1.43-.59-.52 0-1.04.2-1.43.59L10.3 9.45l-7.72 7.72c-.78.78-.78 2.05 0 2.83L4 21.41c.39.39.9.59 1.41.59.51 0 1.02-.2 1.41-.59l7.78-7.78 2.81-2.81c.8-.78.8-2.07 0-2.86zM5.41 20L4 18.59l7.72-7.72 1.47 1.35L5.41 20z\"/>\n",
              "  </svg>\n",
              "      </button>\n",
              "      \n",
              "  <style>\n",
              "    .colab-df-container {\n",
              "      display:flex;\n",
              "      flex-wrap:wrap;\n",
              "      gap: 12px;\n",
              "    }\n",
              "\n",
              "    .colab-df-convert {\n",
              "      background-color: #E8F0FE;\n",
              "      border: none;\n",
              "      border-radius: 50%;\n",
              "      cursor: pointer;\n",
              "      display: none;\n",
              "      fill: #1967D2;\n",
              "      height: 32px;\n",
              "      padding: 0 0 0 0;\n",
              "      width: 32px;\n",
              "    }\n",
              "\n",
              "    .colab-df-convert:hover {\n",
              "      background-color: #E2EBFA;\n",
              "      box-shadow: 0px 1px 2px rgba(60, 64, 67, 0.3), 0px 1px 3px 1px rgba(60, 64, 67, 0.15);\n",
              "      fill: #174EA6;\n",
              "    }\n",
              "\n",
              "    [theme=dark] .colab-df-convert {\n",
              "      background-color: #3B4455;\n",
              "      fill: #D2E3FC;\n",
              "    }\n",
              "\n",
              "    [theme=dark] .colab-df-convert:hover {\n",
              "      background-color: #434B5C;\n",
              "      box-shadow: 0px 1px 3px 1px rgba(0, 0, 0, 0.15);\n",
              "      filter: drop-shadow(0px 1px 2px rgba(0, 0, 0, 0.3));\n",
              "      fill: #FFFFFF;\n",
              "    }\n",
              "  </style>\n",
              "\n",
              "      <script>\n",
              "        const buttonEl =\n",
              "          document.querySelector('#df-c04e37cb-e759-4647-887a-e9712db72262 button.colab-df-convert');\n",
              "        buttonEl.style.display =\n",
              "          google.colab.kernel.accessAllowed ? 'block' : 'none';\n",
              "\n",
              "        async function convertToInteractive(key) {\n",
              "          const element = document.querySelector('#df-c04e37cb-e759-4647-887a-e9712db72262');\n",
              "          const dataTable =\n",
              "            await google.colab.kernel.invokeFunction('convertToInteractive',\n",
              "                                                     [key], {});\n",
              "          if (!dataTable) return;\n",
              "\n",
              "          const docLinkHtml = 'Like what you see? Visit the ' +\n",
              "            '<a target=\"_blank\" href=https://colab.research.google.com/notebooks/data_table.ipynb>data table notebook</a>'\n",
              "            + ' to learn more about interactive tables.';\n",
              "          element.innerHTML = '';\n",
              "          dataTable['output_type'] = 'display_data';\n",
              "          await google.colab.output.renderOutput(dataTable, element);\n",
              "          const docLink = document.createElement('div');\n",
              "          docLink.innerHTML = docLinkHtml;\n",
              "          element.appendChild(docLink);\n",
              "        }\n",
              "      </script>\n",
              "    </div>\n",
              "  </div>\n",
              "  "
            ]
          },
          "metadata": {},
          "execution_count": 39
        }
      ],
      "source": [
        "# Utilizamos el codigo como indice (para joinear)\n",
        "df = df.set_index('codigo')\n",
        "df"
      ]
    },
    {
      "cell_type": "code",
      "execution_count": 40,
      "id": "792d6816-0e44-4fc8-919c-667b43583d03",
      "metadata": {
        "id": "792d6816-0e44-4fc8-919c-667b43583d03",
        "outputId": "ec70d367-28fd-4480-e1f0-89d509055641",
        "colab": {
          "base_uri": "https://localhost:8080/"
        }
      },
      "outputs": [
        {
          "output_type": "execute_result",
          "data": {
            "text/plain": [
              "5314"
            ]
          },
          "metadata": {},
          "execution_count": 40
        }
      ],
      "source": [
        "df.total_cp.max()"
      ]
    },
    {
      "cell_type": "markdown",
      "id": "b29bd253-4ff0-47be-92aa-0dfc6ba19bea",
      "metadata": {
        "id": "b29bd253-4ff0-47be-92aa-0dfc6ba19bea"
      },
      "source": [
        "#### Transformar la variable de salida"
      ]
    },
    {
      "cell_type": "code",
      "execution_count": 41,
      "id": "64933084-18cd-4f5f-9eda-f3d1c0254b16",
      "metadata": {
        "id": "64933084-18cd-4f5f-9eda-f3d1c0254b16"
      },
      "outputs": [],
      "source": [
        "mmscaler = MinMaxScaler()"
      ]
    },
    {
      "cell_type": "code",
      "execution_count": 42,
      "id": "6add66f7-c110-45cc-8b98-4008a4e03af8",
      "metadata": {
        "id": "6add66f7-c110-45cc-8b98-4008a4e03af8"
      },
      "outputs": [],
      "source": [
        "df['total_cp'] = mmscaler.fit_transform(df['total_cp'].values.reshape(-1,1))"
      ]
    },
    {
      "cell_type": "code",
      "execution_count": 43,
      "id": "65d01212-9a9d-4260-a3c4-0863be94a49b",
      "metadata": {
        "id": "65d01212-9a9d-4260-a3c4-0863be94a49b",
        "outputId": "7aca4999-400a-4352-cc94-c63790669f13",
        "colab": {
          "base_uri": "https://localhost:8080/",
          "height": 237
        }
      },
      "outputs": [
        {
          "output_type": "execute_result",
          "data": {
            "text/plain": [
              "           año  mes  total_cp\n",
              "codigo                       \n",
              "0         2022    1  0.038961\n",
              "01000000  2022    1  0.003388\n",
              "01001000  2022    1  0.032185\n",
              "01002000  2022    1  0.003576\n",
              "01003000  2022    1  0.001129"
            ],
            "text/html": [
              "\n",
              "  <div id=\"df-fcf3ae38-13cd-4cf8-9cd9-6e30e4c2ccae\">\n",
              "    <div class=\"colab-df-container\">\n",
              "      <div>\n",
              "<style scoped>\n",
              "    .dataframe tbody tr th:only-of-type {\n",
              "        vertical-align: middle;\n",
              "    }\n",
              "\n",
              "    .dataframe tbody tr th {\n",
              "        vertical-align: top;\n",
              "    }\n",
              "\n",
              "    .dataframe thead th {\n",
              "        text-align: right;\n",
              "    }\n",
              "</style>\n",
              "<table border=\"1\" class=\"dataframe\">\n",
              "  <thead>\n",
              "    <tr style=\"text-align: right;\">\n",
              "      <th></th>\n",
              "      <th>año</th>\n",
              "      <th>mes</th>\n",
              "      <th>total_cp</th>\n",
              "    </tr>\n",
              "    <tr>\n",
              "      <th>codigo</th>\n",
              "      <th></th>\n",
              "      <th></th>\n",
              "      <th></th>\n",
              "    </tr>\n",
              "  </thead>\n",
              "  <tbody>\n",
              "    <tr>\n",
              "      <th>0</th>\n",
              "      <td>2022</td>\n",
              "      <td>1</td>\n",
              "      <td>0.038961</td>\n",
              "    </tr>\n",
              "    <tr>\n",
              "      <th>01000000</th>\n",
              "      <td>2022</td>\n",
              "      <td>1</td>\n",
              "      <td>0.003388</td>\n",
              "    </tr>\n",
              "    <tr>\n",
              "      <th>01001000</th>\n",
              "      <td>2022</td>\n",
              "      <td>1</td>\n",
              "      <td>0.032185</td>\n",
              "    </tr>\n",
              "    <tr>\n",
              "      <th>01002000</th>\n",
              "      <td>2022</td>\n",
              "      <td>1</td>\n",
              "      <td>0.003576</td>\n",
              "    </tr>\n",
              "    <tr>\n",
              "      <th>01003000</th>\n",
              "      <td>2022</td>\n",
              "      <td>1</td>\n",
              "      <td>0.001129</td>\n",
              "    </tr>\n",
              "  </tbody>\n",
              "</table>\n",
              "</div>\n",
              "      <button class=\"colab-df-convert\" onclick=\"convertToInteractive('df-fcf3ae38-13cd-4cf8-9cd9-6e30e4c2ccae')\"\n",
              "              title=\"Convert this dataframe to an interactive table.\"\n",
              "              style=\"display:none;\">\n",
              "        \n",
              "  <svg xmlns=\"http://www.w3.org/2000/svg\" height=\"24px\"viewBox=\"0 0 24 24\"\n",
              "       width=\"24px\">\n",
              "    <path d=\"M0 0h24v24H0V0z\" fill=\"none\"/>\n",
              "    <path d=\"M18.56 5.44l.94 2.06.94-2.06 2.06-.94-2.06-.94-.94-2.06-.94 2.06-2.06.94zm-11 1L8.5 8.5l.94-2.06 2.06-.94-2.06-.94L8.5 2.5l-.94 2.06-2.06.94zm10 10l.94 2.06.94-2.06 2.06-.94-2.06-.94-.94-2.06-.94 2.06-2.06.94z\"/><path d=\"M17.41 7.96l-1.37-1.37c-.4-.4-.92-.59-1.43-.59-.52 0-1.04.2-1.43.59L10.3 9.45l-7.72 7.72c-.78.78-.78 2.05 0 2.83L4 21.41c.39.39.9.59 1.41.59.51 0 1.02-.2 1.41-.59l7.78-7.78 2.81-2.81c.8-.78.8-2.07 0-2.86zM5.41 20L4 18.59l7.72-7.72 1.47 1.35L5.41 20z\"/>\n",
              "  </svg>\n",
              "      </button>\n",
              "      \n",
              "  <style>\n",
              "    .colab-df-container {\n",
              "      display:flex;\n",
              "      flex-wrap:wrap;\n",
              "      gap: 12px;\n",
              "    }\n",
              "\n",
              "    .colab-df-convert {\n",
              "      background-color: #E8F0FE;\n",
              "      border: none;\n",
              "      border-radius: 50%;\n",
              "      cursor: pointer;\n",
              "      display: none;\n",
              "      fill: #1967D2;\n",
              "      height: 32px;\n",
              "      padding: 0 0 0 0;\n",
              "      width: 32px;\n",
              "    }\n",
              "\n",
              "    .colab-df-convert:hover {\n",
              "      background-color: #E2EBFA;\n",
              "      box-shadow: 0px 1px 2px rgba(60, 64, 67, 0.3), 0px 1px 3px 1px rgba(60, 64, 67, 0.15);\n",
              "      fill: #174EA6;\n",
              "    }\n",
              "\n",
              "    [theme=dark] .colab-df-convert {\n",
              "      background-color: #3B4455;\n",
              "      fill: #D2E3FC;\n",
              "    }\n",
              "\n",
              "    [theme=dark] .colab-df-convert:hover {\n",
              "      background-color: #434B5C;\n",
              "      box-shadow: 0px 1px 3px 1px rgba(0, 0, 0, 0.15);\n",
              "      filter: drop-shadow(0px 1px 2px rgba(0, 0, 0, 0.3));\n",
              "      fill: #FFFFFF;\n",
              "    }\n",
              "  </style>\n",
              "\n",
              "      <script>\n",
              "        const buttonEl =\n",
              "          document.querySelector('#df-fcf3ae38-13cd-4cf8-9cd9-6e30e4c2ccae button.colab-df-convert');\n",
              "        buttonEl.style.display =\n",
              "          google.colab.kernel.accessAllowed ? 'block' : 'none';\n",
              "\n",
              "        async function convertToInteractive(key) {\n",
              "          const element = document.querySelector('#df-fcf3ae38-13cd-4cf8-9cd9-6e30e4c2ccae');\n",
              "          const dataTable =\n",
              "            await google.colab.kernel.invokeFunction('convertToInteractive',\n",
              "                                                     [key], {});\n",
              "          if (!dataTable) return;\n",
              "\n",
              "          const docLinkHtml = 'Like what you see? Visit the ' +\n",
              "            '<a target=\"_blank\" href=https://colab.research.google.com/notebooks/data_table.ipynb>data table notebook</a>'\n",
              "            + ' to learn more about interactive tables.';\n",
              "          element.innerHTML = '';\n",
              "          dataTable['output_type'] = 'display_data';\n",
              "          await google.colab.output.renderOutput(dataTable, element);\n",
              "          const docLink = document.createElement('div');\n",
              "          docLink.innerHTML = docLinkHtml;\n",
              "          element.appendChild(docLink);\n",
              "        }\n",
              "      </script>\n",
              "    </div>\n",
              "  </div>\n",
              "  "
            ]
          },
          "metadata": {},
          "execution_count": 43
        }
      ],
      "source": [
        "df.head()"
      ]
    },
    {
      "cell_type": "markdown",
      "id": "a5fa13a1-6f0b-4394-8fcc-6a61cac55306",
      "metadata": {
        "id": "a5fa13a1-6f0b-4394-8fcc-6a61cac55306"
      },
      "source": [
        "#### Joins de Dataframes"
      ]
    },
    {
      "cell_type": "code",
      "execution_count": 44,
      "id": "26605f6a-2321-4f63-a449-58433a9c2aa6",
      "metadata": {
        "id": "26605f6a-2321-4f63-a449-58433a9c2aa6",
        "outputId": "c79fb204-161d-46cc-d7a6-7db2952dd037",
        "colab": {
          "base_uri": "https://localhost:8080/",
          "height": 455
        }
      },
      "outputs": [
        {
          "output_type": "execute_result",
          "data": {
            "text/plain": [
              "             emb_0     emb_1     emb_2     emb_3     emb_4     emb_5  \\\n",
              "codigo                                                                 \n",
              "0         0.318220  0.483133  0.808706  0.892196  0.728352  0.773470   \n",
              "0         0.318220  0.483133  0.808706  0.892196  0.728352  0.773470   \n",
              "0         0.318220  0.483133  0.808706  0.892196  0.728352  0.773470   \n",
              "0         0.318220  0.483133  0.808706  0.892196  0.728352  0.773470   \n",
              "0         0.318220  0.483133  0.808706  0.892196  0.728352  0.773470   \n",
              "...            ...       ...       ...       ...       ...       ...   \n",
              "Z9050DJG  0.987713  0.017424  0.933252  0.666575  0.306335  0.133783   \n",
              "Z9050DJG  0.987713  0.017424  0.933252  0.666575  0.306335  0.133783   \n",
              "Z9050DJG  0.987713  0.017424  0.933252  0.666575  0.306335  0.133783   \n",
              "Z9050DJG  0.987713  0.017424  0.933252  0.666575  0.306335  0.133783   \n",
              "Z9050DJG  0.987713  0.017424  0.933252  0.666575  0.306335  0.133783   \n",
              "\n",
              "             emb_6     emb_7     emb_8     emb_9   año  mes  total_cp  \n",
              "codigo                                                                 \n",
              "0         0.302697  0.469937  0.365594  0.207658  2022    1  0.038961  \n",
              "0         0.302697  0.469937  0.365594  0.207658  2022    2  0.034632  \n",
              "0         0.302697  0.469937  0.365594  0.207658  2022    3  0.054207  \n",
              "0         0.302697  0.469937  0.365594  0.207658  2022    4  0.033126  \n",
              "0         0.302697  0.469937  0.365594  0.207658  2022    5  0.033126  \n",
              "...            ...       ...       ...       ...   ...  ...       ...  \n",
              "Z9050DJG  0.665597  0.924124  0.818528  0.909627  2022   12  0.000188  \n",
              "Z9050DJG  0.665597  0.924124  0.818528  0.909627  2023    1  0.000188  \n",
              "Z9050DJG  0.665597  0.924124  0.818528  0.909627  2023    2  0.000941  \n",
              "Z9050DJG  0.665597  0.924124  0.818528  0.909627  2023    3  0.000000  \n",
              "Z9050DJG  0.665597  0.924124  0.818528  0.909627  2023    4  0.000000  \n",
              "\n",
              "[25440 rows x 13 columns]"
            ],
            "text/html": [
              "\n",
              "  <div id=\"df-5ce631de-54ea-451b-9874-485c204b211b\">\n",
              "    <div class=\"colab-df-container\">\n",
              "      <div>\n",
              "<style scoped>\n",
              "    .dataframe tbody tr th:only-of-type {\n",
              "        vertical-align: middle;\n",
              "    }\n",
              "\n",
              "    .dataframe tbody tr th {\n",
              "        vertical-align: top;\n",
              "    }\n",
              "\n",
              "    .dataframe thead th {\n",
              "        text-align: right;\n",
              "    }\n",
              "</style>\n",
              "<table border=\"1\" class=\"dataframe\">\n",
              "  <thead>\n",
              "    <tr style=\"text-align: right;\">\n",
              "      <th></th>\n",
              "      <th>emb_0</th>\n",
              "      <th>emb_1</th>\n",
              "      <th>emb_2</th>\n",
              "      <th>emb_3</th>\n",
              "      <th>emb_4</th>\n",
              "      <th>emb_5</th>\n",
              "      <th>emb_6</th>\n",
              "      <th>emb_7</th>\n",
              "      <th>emb_8</th>\n",
              "      <th>emb_9</th>\n",
              "      <th>año</th>\n",
              "      <th>mes</th>\n",
              "      <th>total_cp</th>\n",
              "    </tr>\n",
              "    <tr>\n",
              "      <th>codigo</th>\n",
              "      <th></th>\n",
              "      <th></th>\n",
              "      <th></th>\n",
              "      <th></th>\n",
              "      <th></th>\n",
              "      <th></th>\n",
              "      <th></th>\n",
              "      <th></th>\n",
              "      <th></th>\n",
              "      <th></th>\n",
              "      <th></th>\n",
              "      <th></th>\n",
              "      <th></th>\n",
              "    </tr>\n",
              "  </thead>\n",
              "  <tbody>\n",
              "    <tr>\n",
              "      <th>0</th>\n",
              "      <td>0.318220</td>\n",
              "      <td>0.483133</td>\n",
              "      <td>0.808706</td>\n",
              "      <td>0.892196</td>\n",
              "      <td>0.728352</td>\n",
              "      <td>0.773470</td>\n",
              "      <td>0.302697</td>\n",
              "      <td>0.469937</td>\n",
              "      <td>0.365594</td>\n",
              "      <td>0.207658</td>\n",
              "      <td>2022</td>\n",
              "      <td>1</td>\n",
              "      <td>0.038961</td>\n",
              "    </tr>\n",
              "    <tr>\n",
              "      <th>0</th>\n",
              "      <td>0.318220</td>\n",
              "      <td>0.483133</td>\n",
              "      <td>0.808706</td>\n",
              "      <td>0.892196</td>\n",
              "      <td>0.728352</td>\n",
              "      <td>0.773470</td>\n",
              "      <td>0.302697</td>\n",
              "      <td>0.469937</td>\n",
              "      <td>0.365594</td>\n",
              "      <td>0.207658</td>\n",
              "      <td>2022</td>\n",
              "      <td>2</td>\n",
              "      <td>0.034632</td>\n",
              "    </tr>\n",
              "    <tr>\n",
              "      <th>0</th>\n",
              "      <td>0.318220</td>\n",
              "      <td>0.483133</td>\n",
              "      <td>0.808706</td>\n",
              "      <td>0.892196</td>\n",
              "      <td>0.728352</td>\n",
              "      <td>0.773470</td>\n",
              "      <td>0.302697</td>\n",
              "      <td>0.469937</td>\n",
              "      <td>0.365594</td>\n",
              "      <td>0.207658</td>\n",
              "      <td>2022</td>\n",
              "      <td>3</td>\n",
              "      <td>0.054207</td>\n",
              "    </tr>\n",
              "    <tr>\n",
              "      <th>0</th>\n",
              "      <td>0.318220</td>\n",
              "      <td>0.483133</td>\n",
              "      <td>0.808706</td>\n",
              "      <td>0.892196</td>\n",
              "      <td>0.728352</td>\n",
              "      <td>0.773470</td>\n",
              "      <td>0.302697</td>\n",
              "      <td>0.469937</td>\n",
              "      <td>0.365594</td>\n",
              "      <td>0.207658</td>\n",
              "      <td>2022</td>\n",
              "      <td>4</td>\n",
              "      <td>0.033126</td>\n",
              "    </tr>\n",
              "    <tr>\n",
              "      <th>0</th>\n",
              "      <td>0.318220</td>\n",
              "      <td>0.483133</td>\n",
              "      <td>0.808706</td>\n",
              "      <td>0.892196</td>\n",
              "      <td>0.728352</td>\n",
              "      <td>0.773470</td>\n",
              "      <td>0.302697</td>\n",
              "      <td>0.469937</td>\n",
              "      <td>0.365594</td>\n",
              "      <td>0.207658</td>\n",
              "      <td>2022</td>\n",
              "      <td>5</td>\n",
              "      <td>0.033126</td>\n",
              "    </tr>\n",
              "    <tr>\n",
              "      <th>...</th>\n",
              "      <td>...</td>\n",
              "      <td>...</td>\n",
              "      <td>...</td>\n",
              "      <td>...</td>\n",
              "      <td>...</td>\n",
              "      <td>...</td>\n",
              "      <td>...</td>\n",
              "      <td>...</td>\n",
              "      <td>...</td>\n",
              "      <td>...</td>\n",
              "      <td>...</td>\n",
              "      <td>...</td>\n",
              "      <td>...</td>\n",
              "    </tr>\n",
              "    <tr>\n",
              "      <th>Z9050DJG</th>\n",
              "      <td>0.987713</td>\n",
              "      <td>0.017424</td>\n",
              "      <td>0.933252</td>\n",
              "      <td>0.666575</td>\n",
              "      <td>0.306335</td>\n",
              "      <td>0.133783</td>\n",
              "      <td>0.665597</td>\n",
              "      <td>0.924124</td>\n",
              "      <td>0.818528</td>\n",
              "      <td>0.909627</td>\n",
              "      <td>2022</td>\n",
              "      <td>12</td>\n",
              "      <td>0.000188</td>\n",
              "    </tr>\n",
              "    <tr>\n",
              "      <th>Z9050DJG</th>\n",
              "      <td>0.987713</td>\n",
              "      <td>0.017424</td>\n",
              "      <td>0.933252</td>\n",
              "      <td>0.666575</td>\n",
              "      <td>0.306335</td>\n",
              "      <td>0.133783</td>\n",
              "      <td>0.665597</td>\n",
              "      <td>0.924124</td>\n",
              "      <td>0.818528</td>\n",
              "      <td>0.909627</td>\n",
              "      <td>2023</td>\n",
              "      <td>1</td>\n",
              "      <td>0.000188</td>\n",
              "    </tr>\n",
              "    <tr>\n",
              "      <th>Z9050DJG</th>\n",
              "      <td>0.987713</td>\n",
              "      <td>0.017424</td>\n",
              "      <td>0.933252</td>\n",
              "      <td>0.666575</td>\n",
              "      <td>0.306335</td>\n",
              "      <td>0.133783</td>\n",
              "      <td>0.665597</td>\n",
              "      <td>0.924124</td>\n",
              "      <td>0.818528</td>\n",
              "      <td>0.909627</td>\n",
              "      <td>2023</td>\n",
              "      <td>2</td>\n",
              "      <td>0.000941</td>\n",
              "    </tr>\n",
              "    <tr>\n",
              "      <th>Z9050DJG</th>\n",
              "      <td>0.987713</td>\n",
              "      <td>0.017424</td>\n",
              "      <td>0.933252</td>\n",
              "      <td>0.666575</td>\n",
              "      <td>0.306335</td>\n",
              "      <td>0.133783</td>\n",
              "      <td>0.665597</td>\n",
              "      <td>0.924124</td>\n",
              "      <td>0.818528</td>\n",
              "      <td>0.909627</td>\n",
              "      <td>2023</td>\n",
              "      <td>3</td>\n",
              "      <td>0.000000</td>\n",
              "    </tr>\n",
              "    <tr>\n",
              "      <th>Z9050DJG</th>\n",
              "      <td>0.987713</td>\n",
              "      <td>0.017424</td>\n",
              "      <td>0.933252</td>\n",
              "      <td>0.666575</td>\n",
              "      <td>0.306335</td>\n",
              "      <td>0.133783</td>\n",
              "      <td>0.665597</td>\n",
              "      <td>0.924124</td>\n",
              "      <td>0.818528</td>\n",
              "      <td>0.909627</td>\n",
              "      <td>2023</td>\n",
              "      <td>4</td>\n",
              "      <td>0.000000</td>\n",
              "    </tr>\n",
              "  </tbody>\n",
              "</table>\n",
              "<p>25440 rows × 13 columns</p>\n",
              "</div>\n",
              "      <button class=\"colab-df-convert\" onclick=\"convertToInteractive('df-5ce631de-54ea-451b-9874-485c204b211b')\"\n",
              "              title=\"Convert this dataframe to an interactive table.\"\n",
              "              style=\"display:none;\">\n",
              "        \n",
              "  <svg xmlns=\"http://www.w3.org/2000/svg\" height=\"24px\"viewBox=\"0 0 24 24\"\n",
              "       width=\"24px\">\n",
              "    <path d=\"M0 0h24v24H0V0z\" fill=\"none\"/>\n",
              "    <path d=\"M18.56 5.44l.94 2.06.94-2.06 2.06-.94-2.06-.94-.94-2.06-.94 2.06-2.06.94zm-11 1L8.5 8.5l.94-2.06 2.06-.94-2.06-.94L8.5 2.5l-.94 2.06-2.06.94zm10 10l.94 2.06.94-2.06 2.06-.94-2.06-.94-.94-2.06-.94 2.06-2.06.94z\"/><path d=\"M17.41 7.96l-1.37-1.37c-.4-.4-.92-.59-1.43-.59-.52 0-1.04.2-1.43.59L10.3 9.45l-7.72 7.72c-.78.78-.78 2.05 0 2.83L4 21.41c.39.39.9.59 1.41.59.51 0 1.02-.2 1.41-.59l7.78-7.78 2.81-2.81c.8-.78.8-2.07 0-2.86zM5.41 20L4 18.59l7.72-7.72 1.47 1.35L5.41 20z\"/>\n",
              "  </svg>\n",
              "      </button>\n",
              "      \n",
              "  <style>\n",
              "    .colab-df-container {\n",
              "      display:flex;\n",
              "      flex-wrap:wrap;\n",
              "      gap: 12px;\n",
              "    }\n",
              "\n",
              "    .colab-df-convert {\n",
              "      background-color: #E8F0FE;\n",
              "      border: none;\n",
              "      border-radius: 50%;\n",
              "      cursor: pointer;\n",
              "      display: none;\n",
              "      fill: #1967D2;\n",
              "      height: 32px;\n",
              "      padding: 0 0 0 0;\n",
              "      width: 32px;\n",
              "    }\n",
              "\n",
              "    .colab-df-convert:hover {\n",
              "      background-color: #E2EBFA;\n",
              "      box-shadow: 0px 1px 2px rgba(60, 64, 67, 0.3), 0px 1px 3px 1px rgba(60, 64, 67, 0.15);\n",
              "      fill: #174EA6;\n",
              "    }\n",
              "\n",
              "    [theme=dark] .colab-df-convert {\n",
              "      background-color: #3B4455;\n",
              "      fill: #D2E3FC;\n",
              "    }\n",
              "\n",
              "    [theme=dark] .colab-df-convert:hover {\n",
              "      background-color: #434B5C;\n",
              "      box-shadow: 0px 1px 3px 1px rgba(0, 0, 0, 0.15);\n",
              "      filter: drop-shadow(0px 1px 2px rgba(0, 0, 0, 0.3));\n",
              "      fill: #FFFFFF;\n",
              "    }\n",
              "  </style>\n",
              "\n",
              "      <script>\n",
              "        const buttonEl =\n",
              "          document.querySelector('#df-5ce631de-54ea-451b-9874-485c204b211b button.colab-df-convert');\n",
              "        buttonEl.style.display =\n",
              "          google.colab.kernel.accessAllowed ? 'block' : 'none';\n",
              "\n",
              "        async function convertToInteractive(key) {\n",
              "          const element = document.querySelector('#df-5ce631de-54ea-451b-9874-485c204b211b');\n",
              "          const dataTable =\n",
              "            await google.colab.kernel.invokeFunction('convertToInteractive',\n",
              "                                                     [key], {});\n",
              "          if (!dataTable) return;\n",
              "\n",
              "          const docLinkHtml = 'Like what you see? Visit the ' +\n",
              "            '<a target=\"_blank\" href=https://colab.research.google.com/notebooks/data_table.ipynb>data table notebook</a>'\n",
              "            + ' to learn more about interactive tables.';\n",
              "          element.innerHTML = '';\n",
              "          dataTable['output_type'] = 'display_data';\n",
              "          await google.colab.output.renderOutput(dataTable, element);\n",
              "          const docLink = document.createElement('div');\n",
              "          docLink.innerHTML = docLinkHtml;\n",
              "          element.appendChild(docLink);\n",
              "        }\n",
              "      </script>\n",
              "    </div>\n",
              "  </div>\n",
              "  "
            ]
          },
          "metadata": {},
          "execution_count": 44
        }
      ],
      "source": [
        "df_join = embedding_df.join(df, lsuffix='_izq', rsuffix='_der')\n",
        "df_join"
      ]
    },
    {
      "cell_type": "markdown",
      "id": "2a1d9b7a-7527-4ee9-ae04-1d86dfbab1a9",
      "metadata": {
        "id": "2a1d9b7a-7527-4ee9-ae04-1d86dfbab1a9"
      },
      "source": [
        "#### Datos de entrenamiento"
      ]
    },
    {
      "cell_type": "code",
      "execution_count": 45,
      "id": "ce22e1bb-c05a-4ce5-9d5b-ba319f3a0265",
      "metadata": {
        "id": "ce22e1bb-c05a-4ce5-9d5b-ba319f3a0265",
        "outputId": "db21b1b6-5786-4844-94ba-750c9cce6c3d",
        "colab": {
          "base_uri": "https://localhost:8080/",
          "height": 423
        }
      },
      "outputs": [
        {
          "output_type": "execute_result",
          "data": {
            "text/plain": [
              "         codigo     emb_0     emb_1     emb_2     emb_3     emb_4     emb_5  \\\n",
              "0             0  0.318220  0.483133  0.808706  0.892196  0.728352  0.773470   \n",
              "1             0  0.318220  0.483133  0.808706  0.892196  0.728352  0.773470   \n",
              "2             0  0.318220  0.483133  0.808706  0.892196  0.728352  0.773470   \n",
              "3             0  0.318220  0.483133  0.808706  0.892196  0.728352  0.773470   \n",
              "4             0  0.318220  0.483133  0.808706  0.892196  0.728352  0.773470   \n",
              "...         ...       ...       ...       ...       ...       ...       ...   \n",
              "25435  Z9050DJG  0.987713  0.017424  0.933252  0.666575  0.306335  0.133783   \n",
              "25436  Z9050DJG  0.987713  0.017424  0.933252  0.666575  0.306335  0.133783   \n",
              "25437  Z9050DJG  0.987713  0.017424  0.933252  0.666575  0.306335  0.133783   \n",
              "25438  Z9050DJG  0.987713  0.017424  0.933252  0.666575  0.306335  0.133783   \n",
              "25439  Z9050DJG  0.987713  0.017424  0.933252  0.666575  0.306335  0.133783   \n",
              "\n",
              "          emb_6     emb_7     emb_8     emb_9   año  mes  total_cp  \n",
              "0      0.302697  0.469937  0.365594  0.207658  2022    1  0.038961  \n",
              "1      0.302697  0.469937  0.365594  0.207658  2022    2  0.034632  \n",
              "2      0.302697  0.469937  0.365594  0.207658  2022    3  0.054207  \n",
              "3      0.302697  0.469937  0.365594  0.207658  2022    4  0.033126  \n",
              "4      0.302697  0.469937  0.365594  0.207658  2022    5  0.033126  \n",
              "...         ...       ...       ...       ...   ...  ...       ...  \n",
              "25435  0.665597  0.924124  0.818528  0.909627  2022   12  0.000188  \n",
              "25436  0.665597  0.924124  0.818528  0.909627  2023    1  0.000188  \n",
              "25437  0.665597  0.924124  0.818528  0.909627  2023    2  0.000941  \n",
              "25438  0.665597  0.924124  0.818528  0.909627  2023    3  0.000000  \n",
              "25439  0.665597  0.924124  0.818528  0.909627  2023    4  0.000000  \n",
              "\n",
              "[25440 rows x 14 columns]"
            ],
            "text/html": [
              "\n",
              "  <div id=\"df-979d2fc6-7630-479c-9190-fdc686d000c4\">\n",
              "    <div class=\"colab-df-container\">\n",
              "      <div>\n",
              "<style scoped>\n",
              "    .dataframe tbody tr th:only-of-type {\n",
              "        vertical-align: middle;\n",
              "    }\n",
              "\n",
              "    .dataframe tbody tr th {\n",
              "        vertical-align: top;\n",
              "    }\n",
              "\n",
              "    .dataframe thead th {\n",
              "        text-align: right;\n",
              "    }\n",
              "</style>\n",
              "<table border=\"1\" class=\"dataframe\">\n",
              "  <thead>\n",
              "    <tr style=\"text-align: right;\">\n",
              "      <th></th>\n",
              "      <th>codigo</th>\n",
              "      <th>emb_0</th>\n",
              "      <th>emb_1</th>\n",
              "      <th>emb_2</th>\n",
              "      <th>emb_3</th>\n",
              "      <th>emb_4</th>\n",
              "      <th>emb_5</th>\n",
              "      <th>emb_6</th>\n",
              "      <th>emb_7</th>\n",
              "      <th>emb_8</th>\n",
              "      <th>emb_9</th>\n",
              "      <th>año</th>\n",
              "      <th>mes</th>\n",
              "      <th>total_cp</th>\n",
              "    </tr>\n",
              "  </thead>\n",
              "  <tbody>\n",
              "    <tr>\n",
              "      <th>0</th>\n",
              "      <td>0</td>\n",
              "      <td>0.318220</td>\n",
              "      <td>0.483133</td>\n",
              "      <td>0.808706</td>\n",
              "      <td>0.892196</td>\n",
              "      <td>0.728352</td>\n",
              "      <td>0.773470</td>\n",
              "      <td>0.302697</td>\n",
              "      <td>0.469937</td>\n",
              "      <td>0.365594</td>\n",
              "      <td>0.207658</td>\n",
              "      <td>2022</td>\n",
              "      <td>1</td>\n",
              "      <td>0.038961</td>\n",
              "    </tr>\n",
              "    <tr>\n",
              "      <th>1</th>\n",
              "      <td>0</td>\n",
              "      <td>0.318220</td>\n",
              "      <td>0.483133</td>\n",
              "      <td>0.808706</td>\n",
              "      <td>0.892196</td>\n",
              "      <td>0.728352</td>\n",
              "      <td>0.773470</td>\n",
              "      <td>0.302697</td>\n",
              "      <td>0.469937</td>\n",
              "      <td>0.365594</td>\n",
              "      <td>0.207658</td>\n",
              "      <td>2022</td>\n",
              "      <td>2</td>\n",
              "      <td>0.034632</td>\n",
              "    </tr>\n",
              "    <tr>\n",
              "      <th>2</th>\n",
              "      <td>0</td>\n",
              "      <td>0.318220</td>\n",
              "      <td>0.483133</td>\n",
              "      <td>0.808706</td>\n",
              "      <td>0.892196</td>\n",
              "      <td>0.728352</td>\n",
              "      <td>0.773470</td>\n",
              "      <td>0.302697</td>\n",
              "      <td>0.469937</td>\n",
              "      <td>0.365594</td>\n",
              "      <td>0.207658</td>\n",
              "      <td>2022</td>\n",
              "      <td>3</td>\n",
              "      <td>0.054207</td>\n",
              "    </tr>\n",
              "    <tr>\n",
              "      <th>3</th>\n",
              "      <td>0</td>\n",
              "      <td>0.318220</td>\n",
              "      <td>0.483133</td>\n",
              "      <td>0.808706</td>\n",
              "      <td>0.892196</td>\n",
              "      <td>0.728352</td>\n",
              "      <td>0.773470</td>\n",
              "      <td>0.302697</td>\n",
              "      <td>0.469937</td>\n",
              "      <td>0.365594</td>\n",
              "      <td>0.207658</td>\n",
              "      <td>2022</td>\n",
              "      <td>4</td>\n",
              "      <td>0.033126</td>\n",
              "    </tr>\n",
              "    <tr>\n",
              "      <th>4</th>\n",
              "      <td>0</td>\n",
              "      <td>0.318220</td>\n",
              "      <td>0.483133</td>\n",
              "      <td>0.808706</td>\n",
              "      <td>0.892196</td>\n",
              "      <td>0.728352</td>\n",
              "      <td>0.773470</td>\n",
              "      <td>0.302697</td>\n",
              "      <td>0.469937</td>\n",
              "      <td>0.365594</td>\n",
              "      <td>0.207658</td>\n",
              "      <td>2022</td>\n",
              "      <td>5</td>\n",
              "      <td>0.033126</td>\n",
              "    </tr>\n",
              "    <tr>\n",
              "      <th>...</th>\n",
              "      <td>...</td>\n",
              "      <td>...</td>\n",
              "      <td>...</td>\n",
              "      <td>...</td>\n",
              "      <td>...</td>\n",
              "      <td>...</td>\n",
              "      <td>...</td>\n",
              "      <td>...</td>\n",
              "      <td>...</td>\n",
              "      <td>...</td>\n",
              "      <td>...</td>\n",
              "      <td>...</td>\n",
              "      <td>...</td>\n",
              "      <td>...</td>\n",
              "    </tr>\n",
              "    <tr>\n",
              "      <th>25435</th>\n",
              "      <td>Z9050DJG</td>\n",
              "      <td>0.987713</td>\n",
              "      <td>0.017424</td>\n",
              "      <td>0.933252</td>\n",
              "      <td>0.666575</td>\n",
              "      <td>0.306335</td>\n",
              "      <td>0.133783</td>\n",
              "      <td>0.665597</td>\n",
              "      <td>0.924124</td>\n",
              "      <td>0.818528</td>\n",
              "      <td>0.909627</td>\n",
              "      <td>2022</td>\n",
              "      <td>12</td>\n",
              "      <td>0.000188</td>\n",
              "    </tr>\n",
              "    <tr>\n",
              "      <th>25436</th>\n",
              "      <td>Z9050DJG</td>\n",
              "      <td>0.987713</td>\n",
              "      <td>0.017424</td>\n",
              "      <td>0.933252</td>\n",
              "      <td>0.666575</td>\n",
              "      <td>0.306335</td>\n",
              "      <td>0.133783</td>\n",
              "      <td>0.665597</td>\n",
              "      <td>0.924124</td>\n",
              "      <td>0.818528</td>\n",
              "      <td>0.909627</td>\n",
              "      <td>2023</td>\n",
              "      <td>1</td>\n",
              "      <td>0.000188</td>\n",
              "    </tr>\n",
              "    <tr>\n",
              "      <th>25437</th>\n",
              "      <td>Z9050DJG</td>\n",
              "      <td>0.987713</td>\n",
              "      <td>0.017424</td>\n",
              "      <td>0.933252</td>\n",
              "      <td>0.666575</td>\n",
              "      <td>0.306335</td>\n",
              "      <td>0.133783</td>\n",
              "      <td>0.665597</td>\n",
              "      <td>0.924124</td>\n",
              "      <td>0.818528</td>\n",
              "      <td>0.909627</td>\n",
              "      <td>2023</td>\n",
              "      <td>2</td>\n",
              "      <td>0.000941</td>\n",
              "    </tr>\n",
              "    <tr>\n",
              "      <th>25438</th>\n",
              "      <td>Z9050DJG</td>\n",
              "      <td>0.987713</td>\n",
              "      <td>0.017424</td>\n",
              "      <td>0.933252</td>\n",
              "      <td>0.666575</td>\n",
              "      <td>0.306335</td>\n",
              "      <td>0.133783</td>\n",
              "      <td>0.665597</td>\n",
              "      <td>0.924124</td>\n",
              "      <td>0.818528</td>\n",
              "      <td>0.909627</td>\n",
              "      <td>2023</td>\n",
              "      <td>3</td>\n",
              "      <td>0.000000</td>\n",
              "    </tr>\n",
              "    <tr>\n",
              "      <th>25439</th>\n",
              "      <td>Z9050DJG</td>\n",
              "      <td>0.987713</td>\n",
              "      <td>0.017424</td>\n",
              "      <td>0.933252</td>\n",
              "      <td>0.666575</td>\n",
              "      <td>0.306335</td>\n",
              "      <td>0.133783</td>\n",
              "      <td>0.665597</td>\n",
              "      <td>0.924124</td>\n",
              "      <td>0.818528</td>\n",
              "      <td>0.909627</td>\n",
              "      <td>2023</td>\n",
              "      <td>4</td>\n",
              "      <td>0.000000</td>\n",
              "    </tr>\n",
              "  </tbody>\n",
              "</table>\n",
              "<p>25440 rows × 14 columns</p>\n",
              "</div>\n",
              "      <button class=\"colab-df-convert\" onclick=\"convertToInteractive('df-979d2fc6-7630-479c-9190-fdc686d000c4')\"\n",
              "              title=\"Convert this dataframe to an interactive table.\"\n",
              "              style=\"display:none;\">\n",
              "        \n",
              "  <svg xmlns=\"http://www.w3.org/2000/svg\" height=\"24px\"viewBox=\"0 0 24 24\"\n",
              "       width=\"24px\">\n",
              "    <path d=\"M0 0h24v24H0V0z\" fill=\"none\"/>\n",
              "    <path d=\"M18.56 5.44l.94 2.06.94-2.06 2.06-.94-2.06-.94-.94-2.06-.94 2.06-2.06.94zm-11 1L8.5 8.5l.94-2.06 2.06-.94-2.06-.94L8.5 2.5l-.94 2.06-2.06.94zm10 10l.94 2.06.94-2.06 2.06-.94-2.06-.94-.94-2.06-.94 2.06-2.06.94z\"/><path d=\"M17.41 7.96l-1.37-1.37c-.4-.4-.92-.59-1.43-.59-.52 0-1.04.2-1.43.59L10.3 9.45l-7.72 7.72c-.78.78-.78 2.05 0 2.83L4 21.41c.39.39.9.59 1.41.59.51 0 1.02-.2 1.41-.59l7.78-7.78 2.81-2.81c.8-.78.8-2.07 0-2.86zM5.41 20L4 18.59l7.72-7.72 1.47 1.35L5.41 20z\"/>\n",
              "  </svg>\n",
              "      </button>\n",
              "      \n",
              "  <style>\n",
              "    .colab-df-container {\n",
              "      display:flex;\n",
              "      flex-wrap:wrap;\n",
              "      gap: 12px;\n",
              "    }\n",
              "\n",
              "    .colab-df-convert {\n",
              "      background-color: #E8F0FE;\n",
              "      border: none;\n",
              "      border-radius: 50%;\n",
              "      cursor: pointer;\n",
              "      display: none;\n",
              "      fill: #1967D2;\n",
              "      height: 32px;\n",
              "      padding: 0 0 0 0;\n",
              "      width: 32px;\n",
              "    }\n",
              "\n",
              "    .colab-df-convert:hover {\n",
              "      background-color: #E2EBFA;\n",
              "      box-shadow: 0px 1px 2px rgba(60, 64, 67, 0.3), 0px 1px 3px 1px rgba(60, 64, 67, 0.15);\n",
              "      fill: #174EA6;\n",
              "    }\n",
              "\n",
              "    [theme=dark] .colab-df-convert {\n",
              "      background-color: #3B4455;\n",
              "      fill: #D2E3FC;\n",
              "    }\n",
              "\n",
              "    [theme=dark] .colab-df-convert:hover {\n",
              "      background-color: #434B5C;\n",
              "      box-shadow: 0px 1px 3px 1px rgba(0, 0, 0, 0.15);\n",
              "      filter: drop-shadow(0px 1px 2px rgba(0, 0, 0, 0.3));\n",
              "      fill: #FFFFFF;\n",
              "    }\n",
              "  </style>\n",
              "\n",
              "      <script>\n",
              "        const buttonEl =\n",
              "          document.querySelector('#df-979d2fc6-7630-479c-9190-fdc686d000c4 button.colab-df-convert');\n",
              "        buttonEl.style.display =\n",
              "          google.colab.kernel.accessAllowed ? 'block' : 'none';\n",
              "\n",
              "        async function convertToInteractive(key) {\n",
              "          const element = document.querySelector('#df-979d2fc6-7630-479c-9190-fdc686d000c4');\n",
              "          const dataTable =\n",
              "            await google.colab.kernel.invokeFunction('convertToInteractive',\n",
              "                                                     [key], {});\n",
              "          if (!dataTable) return;\n",
              "\n",
              "          const docLinkHtml = 'Like what you see? Visit the ' +\n",
              "            '<a target=\"_blank\" href=https://colab.research.google.com/notebooks/data_table.ipynb>data table notebook</a>'\n",
              "            + ' to learn more about interactive tables.';\n",
              "          element.innerHTML = '';\n",
              "          dataTable['output_type'] = 'display_data';\n",
              "          await google.colab.output.renderOutput(dataTable, element);\n",
              "          const docLink = document.createElement('div');\n",
              "          docLink.innerHTML = docLinkHtml;\n",
              "          element.appendChild(docLink);\n",
              "        }\n",
              "      </script>\n",
              "    </div>\n",
              "  </div>\n",
              "  "
            ]
          },
          "metadata": {},
          "execution_count": 45
        }
      ],
      "source": [
        "df_final = df_join.reset_index()\n",
        "df_final"
      ]
    },
    {
      "cell_type": "code",
      "execution_count": 46,
      "id": "a98680dd-bc07-4218-9c40-f923f2bb739a",
      "metadata": {
        "id": "a98680dd-bc07-4218-9c40-f923f2bb739a"
      },
      "outputs": [],
      "source": [
        "X_data = df_final.drop(['codigo','total_cp'], axis=1).to_numpy()"
      ]
    },
    {
      "cell_type": "code",
      "execution_count": 47,
      "id": "6a9af926-b09f-40fd-8e75-e68442e89b92",
      "metadata": {
        "id": "6a9af926-b09f-40fd-8e75-e68442e89b92",
        "outputId": "e3ad2cf6-8884-43fa-f21a-0d5c7c94e4e3",
        "colab": {
          "base_uri": "https://localhost:8080/"
        }
      },
      "outputs": [
        {
          "output_type": "execute_result",
          "data": {
            "text/plain": [
              "(25440, 12)"
            ]
          },
          "metadata": {},
          "execution_count": 47
        }
      ],
      "source": [
        "X_data.shape"
      ]
    },
    {
      "cell_type": "code",
      "execution_count": 48,
      "id": "3d5c6ff5-38a6-4ac5-88ef-9d21042899c7",
      "metadata": {
        "id": "3d5c6ff5-38a6-4ac5-88ef-9d21042899c7"
      },
      "outputs": [],
      "source": [
        "y_data = df_final['total_cp'].to_numpy()"
      ]
    },
    {
      "cell_type": "code",
      "execution_count": 49,
      "id": "a74cee1a-fdd6-4375-afb5-e2b6a8ca8846",
      "metadata": {
        "id": "a74cee1a-fdd6-4375-afb5-e2b6a8ca8846",
        "outputId": "a3d557a4-5910-4574-fa9b-0b50849364e2",
        "colab": {
          "base_uri": "https://localhost:8080/"
        }
      },
      "outputs": [
        {
          "output_type": "execute_result",
          "data": {
            "text/plain": [
              "array([0.03896104, 0.03463203, 0.05420666, ..., 0.00094109, 0.        ,\n",
              "       0.        ])"
            ]
          },
          "metadata": {},
          "execution_count": 49
        }
      ],
      "source": [
        "y_data"
      ]
    },
    {
      "cell_type": "code",
      "execution_count": 50,
      "id": "c8b17084-0463-40c5-b2d0-4c7530afeff9",
      "metadata": {
        "id": "c8b17084-0463-40c5-b2d0-4c7530afeff9"
      },
      "outputs": [],
      "source": [
        "X_train, X_test, y_train, y_test = train_test_split( X_data, y_data, test_size=0.30, random_state=43) "
      ]
    },
    {
      "cell_type": "markdown",
      "id": "ff6622e5-f697-4293-b865-ba1a8b33e4fd",
      "metadata": {
        "id": "ff6622e5-f697-4293-b865-ba1a8b33e4fd"
      },
      "source": [
        "### Modelo"
      ]
    },
    {
      "cell_type": "code",
      "execution_count": 51,
      "id": "7ac2df38-42d9-486a-a146-e5286115c9a8",
      "metadata": {
        "id": "7ac2df38-42d9-486a-a146-e5286115c9a8"
      },
      "outputs": [],
      "source": [
        "regr_1 = DecisionTreeRegressor(max_depth=5)\n",
        "regr_2 = DecisionTreeRegressor(max_depth=15)\n",
        "regr_3 = RandomForestRegressor(max_depth=5)\n",
        "regr_4 = ExtraTreesRegressor(max_depth=5)"
      ]
    },
    {
      "cell_type": "markdown",
      "source": [
        "### Entrenamiento"
      ],
      "metadata": {
        "id": "lpptFgrzHQAs"
      },
      "id": "lpptFgrzHQAs"
    },
    {
      "cell_type": "code",
      "source": [
        "regr_1.fit(X_train, y_train)\n",
        "regr_2.fit(X_train, y_train)\n",
        "regr_3.fit(X_train, y_train)\n",
        "regr_4.fit(X_train, y_train)"
      ],
      "metadata": {
        "colab": {
          "base_uri": "https://localhost:8080/",
          "height": 74
        },
        "id": "VNr8eOpRHT7o",
        "outputId": "2fde0066-7909-48e0-f12c-07a87809ec8c"
      },
      "id": "VNr8eOpRHT7o",
      "execution_count": 52,
      "outputs": [
        {
          "output_type": "execute_result",
          "data": {
            "text/plain": [
              "ExtraTreesRegressor(max_depth=5)"
            ],
            "text/html": [
              "<style>#sk-container-id-1 {color: black;background-color: white;}#sk-container-id-1 pre{padding: 0;}#sk-container-id-1 div.sk-toggleable {background-color: white;}#sk-container-id-1 label.sk-toggleable__label {cursor: pointer;display: block;width: 100%;margin-bottom: 0;padding: 0.3em;box-sizing: border-box;text-align: center;}#sk-container-id-1 label.sk-toggleable__label-arrow:before {content: \"▸\";float: left;margin-right: 0.25em;color: #696969;}#sk-container-id-1 label.sk-toggleable__label-arrow:hover:before {color: black;}#sk-container-id-1 div.sk-estimator:hover label.sk-toggleable__label-arrow:before {color: black;}#sk-container-id-1 div.sk-toggleable__content {max-height: 0;max-width: 0;overflow: hidden;text-align: left;background-color: #f0f8ff;}#sk-container-id-1 div.sk-toggleable__content pre {margin: 0.2em;color: black;border-radius: 0.25em;background-color: #f0f8ff;}#sk-container-id-1 input.sk-toggleable__control:checked~div.sk-toggleable__content {max-height: 200px;max-width: 100%;overflow: auto;}#sk-container-id-1 input.sk-toggleable__control:checked~label.sk-toggleable__label-arrow:before {content: \"▾\";}#sk-container-id-1 div.sk-estimator input.sk-toggleable__control:checked~label.sk-toggleable__label {background-color: #d4ebff;}#sk-container-id-1 div.sk-label input.sk-toggleable__control:checked~label.sk-toggleable__label {background-color: #d4ebff;}#sk-container-id-1 input.sk-hidden--visually {border: 0;clip: rect(1px 1px 1px 1px);clip: rect(1px, 1px, 1px, 1px);height: 1px;margin: -1px;overflow: hidden;padding: 0;position: absolute;width: 1px;}#sk-container-id-1 div.sk-estimator {font-family: monospace;background-color: #f0f8ff;border: 1px dotted black;border-radius: 0.25em;box-sizing: border-box;margin-bottom: 0.5em;}#sk-container-id-1 div.sk-estimator:hover {background-color: #d4ebff;}#sk-container-id-1 div.sk-parallel-item::after {content: \"\";width: 100%;border-bottom: 1px solid gray;flex-grow: 1;}#sk-container-id-1 div.sk-label:hover label.sk-toggleable__label {background-color: #d4ebff;}#sk-container-id-1 div.sk-serial::before {content: \"\";position: absolute;border-left: 1px solid gray;box-sizing: border-box;top: 0;bottom: 0;left: 50%;z-index: 0;}#sk-container-id-1 div.sk-serial {display: flex;flex-direction: column;align-items: center;background-color: white;padding-right: 0.2em;padding-left: 0.2em;position: relative;}#sk-container-id-1 div.sk-item {position: relative;z-index: 1;}#sk-container-id-1 div.sk-parallel {display: flex;align-items: stretch;justify-content: center;background-color: white;position: relative;}#sk-container-id-1 div.sk-item::before, #sk-container-id-1 div.sk-parallel-item::before {content: \"\";position: absolute;border-left: 1px solid gray;box-sizing: border-box;top: 0;bottom: 0;left: 50%;z-index: -1;}#sk-container-id-1 div.sk-parallel-item {display: flex;flex-direction: column;z-index: 1;position: relative;background-color: white;}#sk-container-id-1 div.sk-parallel-item:first-child::after {align-self: flex-end;width: 50%;}#sk-container-id-1 div.sk-parallel-item:last-child::after {align-self: flex-start;width: 50%;}#sk-container-id-1 div.sk-parallel-item:only-child::after {width: 0;}#sk-container-id-1 div.sk-dashed-wrapped {border: 1px dashed gray;margin: 0 0.4em 0.5em 0.4em;box-sizing: border-box;padding-bottom: 0.4em;background-color: white;}#sk-container-id-1 div.sk-label label {font-family: monospace;font-weight: bold;display: inline-block;line-height: 1.2em;}#sk-container-id-1 div.sk-label-container {text-align: center;}#sk-container-id-1 div.sk-container {/* jupyter's `normalize.less` sets `[hidden] { display: none; }` but bootstrap.min.css set `[hidden] { display: none !important; }` so we also need the `!important` here to be able to override the default hidden behavior on the sphinx rendered scikit-learn.org. See: https://github.com/scikit-learn/scikit-learn/issues/21755 */display: inline-block !important;position: relative;}#sk-container-id-1 div.sk-text-repr-fallback {display: none;}</style><div id=\"sk-container-id-1\" class=\"sk-top-container\"><div class=\"sk-text-repr-fallback\"><pre>ExtraTreesRegressor(max_depth=5)</pre><b>In a Jupyter environment, please rerun this cell to show the HTML representation or trust the notebook. <br />On GitHub, the HTML representation is unable to render, please try loading this page with nbviewer.org.</b></div><div class=\"sk-container\" hidden><div class=\"sk-item\"><div class=\"sk-estimator sk-toggleable\"><input class=\"sk-toggleable__control sk-hidden--visually\" id=\"sk-estimator-id-1\" type=\"checkbox\" checked><label for=\"sk-estimator-id-1\" class=\"sk-toggleable__label sk-toggleable__label-arrow\">ExtraTreesRegressor</label><div class=\"sk-toggleable__content\"><pre>ExtraTreesRegressor(max_depth=5)</pre></div></div></div></div></div>"
            ]
          },
          "metadata": {},
          "execution_count": 52
        }
      ]
    },
    {
      "cell_type": "markdown",
      "id": "bc7f3cac-c3e4-434e-8099-41af38990fbc",
      "metadata": {
        "id": "bc7f3cac-c3e4-434e-8099-41af38990fbc"
      },
      "source": [
        "### Validacion"
      ]
    },
    {
      "cell_type": "markdown",
      "source": [
        "##### DecisionTreeRegressor(max_depth=5)"
      ],
      "metadata": {
        "id": "lyxbIw1xJoqv"
      },
      "id": "lyxbIw1xJoqv"
    },
    {
      "cell_type": "code",
      "execution_count": 53,
      "id": "3e7b989c-f7fb-4b99-a257-b2bf0acbc715",
      "metadata": {
        "id": "3e7b989c-f7fb-4b99-a257-b2bf0acbc715"
      },
      "outputs": [],
      "source": [
        "pred_1_train = regr_1.predict(X_train)\n",
        "pred_1_test = regr_1.predict(X_test)"
      ]
    },
    {
      "cell_type": "code",
      "source": [
        "mse_1_train = mean_squared_error(y_train, pred_1_train)\n",
        "mse_1_test  = mean_squared_error(y_test, pred_1_test)"
      ],
      "metadata": {
        "id": "plsSCnY7IeWB"
      },
      "id": "plsSCnY7IeWB",
      "execution_count": 54,
      "outputs": []
    },
    {
      "cell_type": "code",
      "source": [
        "mse_1_train, mse_1_test"
      ],
      "metadata": {
        "colab": {
          "base_uri": "https://localhost:8080/"
        },
        "id": "TX5crXASI0yX",
        "outputId": "1db6d967-ae2b-4136-c3b9-302afe05b2a3"
      },
      "id": "TX5crXASI0yX",
      "execution_count": 55,
      "outputs": [
        {
          "output_type": "execute_result",
          "data": {
            "text/plain": [
              "(0.0001964401455951669, 0.00014938113728608522)"
            ]
          },
          "metadata": {},
          "execution_count": 55
        }
      ]
    },
    {
      "cell_type": "code",
      "source": [
        "rmse_1_train = np.sqrt(mse_1_train)\n",
        "rmse_1_test  = np.sqrt(mse_1_test)\n",
        "print('RMSE:', round(rmse_1_train,4), round(rmse_1_test,4))"
      ],
      "metadata": {
        "colab": {
          "base_uri": "https://localhost:8080/"
        },
        "id": "KRaLkxRdI6qx",
        "outputId": "db78cc72-df18-4fd1-ee43-3c813201df32"
      },
      "id": "KRaLkxRdI6qx",
      "execution_count": 56,
      "outputs": [
        {
          "output_type": "stream",
          "name": "stdout",
          "text": [
            "RMSE: 0.014 0.0122\n"
          ]
        }
      ]
    },
    {
      "cell_type": "code",
      "source": [
        "score_1 = r2_score(y_test, pred_1_test)\n",
        "print(f'R2 score: {score_1:.5f}')"
      ],
      "metadata": {
        "colab": {
          "base_uri": "https://localhost:8080/"
        },
        "id": "3sMptfEkJPRM",
        "outputId": "b6b63d17-81c8-498c-eafb-afcd7480b8cc"
      },
      "id": "3sMptfEkJPRM",
      "execution_count": 57,
      "outputs": [
        {
          "output_type": "stream",
          "name": "stdout",
          "text": [
            "R2 score: 0.26140\n"
          ]
        }
      ]
    },
    {
      "cell_type": "markdown",
      "source": [
        "##### DecisionTreeRegressor(max_depth=15)"
      ],
      "metadata": {
        "id": "t8ZV7xaLJ_D1"
      },
      "id": "t8ZV7xaLJ_D1"
    },
    {
      "cell_type": "code",
      "execution_count": 58,
      "metadata": {
        "id": "t503RGtmJ_D2"
      },
      "outputs": [],
      "source": [
        "pred_2_train = regr_2.predict(X_train)\n",
        "pred_2_test = regr_2.predict(X_test)"
      ],
      "id": "t503RGtmJ_D2"
    },
    {
      "cell_type": "code",
      "source": [
        "mse_2_train = mean_squared_error(y_train, pred_2_train)\n",
        "mse_2_test  = mean_squared_error(y_test, pred_2_test)"
      ],
      "metadata": {
        "id": "jDeuyofOJ_D2"
      },
      "execution_count": 59,
      "outputs": [],
      "id": "jDeuyofOJ_D2"
    },
    {
      "cell_type": "code",
      "source": [
        "mse_2_train, mse_2_test"
      ],
      "metadata": {
        "outputId": "894851c5-b6d0-43da-f3ad-ab3dfe748401",
        "colab": {
          "base_uri": "https://localhost:8080/"
        },
        "id": "E64fZQxvJ_D3"
      },
      "execution_count": 60,
      "outputs": [
        {
          "output_type": "execute_result",
          "data": {
            "text/plain": [
              "(5.3344397753410506e-05, 0.00013723111349579282)"
            ]
          },
          "metadata": {},
          "execution_count": 60
        }
      ],
      "id": "E64fZQxvJ_D3"
    },
    {
      "cell_type": "code",
      "source": [
        "rmse_2_train = np.sqrt(mse_2_train)\n",
        "rmse_2_test  = np.sqrt(mse_2_test)\n",
        "print('RMSE:', round(rmse_2_train,4), round(rmse_2_test,4))"
      ],
      "metadata": {
        "outputId": "d6170293-6b53-4bac-9dd2-606807bac992",
        "colab": {
          "base_uri": "https://localhost:8080/"
        },
        "id": "C7QnoKr5J_D3"
      },
      "execution_count": 61,
      "outputs": [
        {
          "output_type": "stream",
          "name": "stdout",
          "text": [
            "RMSE: 0.0073 0.0117\n"
          ]
        }
      ],
      "id": "C7QnoKr5J_D3"
    },
    {
      "cell_type": "code",
      "source": [
        "score_2 = r2_score(y_test, pred_2_test)\n",
        "print(f'R2 score: {score_2:.5f}')"
      ],
      "metadata": {
        "outputId": "a50e0480-a03e-4d63-df90-2285352df877",
        "colab": {
          "base_uri": "https://localhost:8080/"
        },
        "id": "iZhQkq8dJ_D4"
      },
      "execution_count": 62,
      "outputs": [
        {
          "output_type": "stream",
          "name": "stdout",
          "text": [
            "R2 score: 0.32147\n"
          ]
        }
      ],
      "id": "iZhQkq8dJ_D4"
    },
    {
      "cell_type": "markdown",
      "source": [
        "##### RandomForestRegressor(max_depth=5)"
      ],
      "metadata": {
        "id": "4Eqjbpl9KYPC"
      },
      "id": "4Eqjbpl9KYPC"
    },
    {
      "cell_type": "code",
      "execution_count": 63,
      "metadata": {
        "id": "oKxDVrsMKYPD"
      },
      "outputs": [],
      "source": [
        "pred_3_train = regr_3.predict(X_train)\n",
        "pred_3_test = regr_3.predict(X_test)"
      ],
      "id": "oKxDVrsMKYPD"
    },
    {
      "cell_type": "code",
      "source": [
        "mse_3_train = mean_squared_error(y_train, pred_3_train)\n",
        "mse_3_test  = mean_squared_error(y_test, pred_3_test)"
      ],
      "metadata": {
        "id": "72YvklfFKYPE"
      },
      "execution_count": 64,
      "outputs": [],
      "id": "72YvklfFKYPE"
    },
    {
      "cell_type": "code",
      "source": [
        "mse_3_train, mse_3_test"
      ],
      "metadata": {
        "outputId": "4aabf090-ca1d-43bf-b0ee-9d1bee8c9623",
        "colab": {
          "base_uri": "https://localhost:8080/"
        },
        "id": "y2BJi1r1KYPF"
      },
      "execution_count": 65,
      "outputs": [
        {
          "output_type": "execute_result",
          "data": {
            "text/plain": [
              "(0.0001914919101788809, 0.00014655429443630706)"
            ]
          },
          "metadata": {},
          "execution_count": 65
        }
      ],
      "id": "y2BJi1r1KYPF"
    },
    {
      "cell_type": "code",
      "source": [
        "rmse_3_train = np.sqrt(mse_3_train)\n",
        "rmse_3_test  = np.sqrt(mse_3_test)\n",
        "print('RMSE:', round(rmse_3_train,4), round(rmse_3_test,4))"
      ],
      "metadata": {
        "outputId": "5356b217-aa13-400b-92dc-2d89684d2d34",
        "colab": {
          "base_uri": "https://localhost:8080/"
        },
        "id": "9q3MHZ5fKYPG"
      },
      "execution_count": 66,
      "outputs": [
        {
          "output_type": "stream",
          "name": "stdout",
          "text": [
            "RMSE: 0.0138 0.0121\n"
          ]
        }
      ],
      "id": "9q3MHZ5fKYPG"
    },
    {
      "cell_type": "code",
      "source": [
        "score_3 = r2_score(y_test, pred_3_test)\n",
        "print(f'R2 score: {score_3:.5f}')"
      ],
      "metadata": {
        "outputId": "7a1f2798-ed20-4818-9cb4-f88bb54f6f9c",
        "colab": {
          "base_uri": "https://localhost:8080/"
        },
        "id": "lP0U9tdyKYPH"
      },
      "execution_count": 67,
      "outputs": [
        {
          "output_type": "stream",
          "name": "stdout",
          "text": [
            "R2 score: 0.27538\n"
          ]
        }
      ],
      "id": "lP0U9tdyKYPH"
    },
    {
      "cell_type": "markdown",
      "source": [
        "##### ExtraTreesRegressor(max_depth=5)"
      ],
      "metadata": {
        "id": "jU02raumKymN"
      },
      "id": "jU02raumKymN"
    },
    {
      "cell_type": "code",
      "execution_count": 68,
      "metadata": {
        "id": "Gp64b-JZKymU"
      },
      "outputs": [],
      "source": [
        "pred_4_train = regr_4.predict(X_train)\n",
        "pred_4_test = regr_4.predict(X_test)"
      ],
      "id": "Gp64b-JZKymU"
    },
    {
      "cell_type": "code",
      "source": [
        "mse_4_train = mean_squared_error(y_train, pred_4_train)\n",
        "mse_4_test  = mean_squared_error(y_test, pred_4_test)"
      ],
      "metadata": {
        "id": "Mkt7HNTAKymU"
      },
      "execution_count": 69,
      "outputs": [],
      "id": "Mkt7HNTAKymU"
    },
    {
      "cell_type": "code",
      "source": [
        "mse_4_train, mse_4_test"
      ],
      "metadata": {
        "outputId": "d5144cbf-29ca-4893-d8f1-896a6e2b4033",
        "colab": {
          "base_uri": "https://localhost:8080/"
        },
        "id": "0LnZoHQNKymU"
      },
      "execution_count": 70,
      "outputs": [
        {
          "output_type": "execute_result",
          "data": {
            "text/plain": [
              "(0.00023688839349460676, 0.00018838986335201405)"
            ]
          },
          "metadata": {},
          "execution_count": 70
        }
      ],
      "id": "0LnZoHQNKymU"
    },
    {
      "cell_type": "code",
      "source": [
        "rmse_4_train = np.sqrt(mse_4_train)\n",
        "rmse_4_test  = np.sqrt(mse_4_test)\n",
        "print('RMSE:', round(rmse_4_train,4), round(rmse_4_test,4))"
      ],
      "metadata": {
        "outputId": "7c0e94cf-8c74-47b6-fa66-b5521b4bd4d2",
        "colab": {
          "base_uri": "https://localhost:8080/"
        },
        "id": "9HyfBdipKymU"
      },
      "execution_count": 71,
      "outputs": [
        {
          "output_type": "stream",
          "name": "stdout",
          "text": [
            "RMSE: 0.0154 0.0137\n"
          ]
        }
      ],
      "id": "9HyfBdipKymU"
    },
    {
      "cell_type": "code",
      "source": [
        "score_4 = r2_score(y_test, pred_4_test)\n",
        "print(f'R2 score: {score_4:.5f}')"
      ],
      "metadata": {
        "outputId": "73f90546-073e-4347-82c8-1a41b279e962",
        "colab": {
          "base_uri": "https://localhost:8080/"
        },
        "id": "SIDDc2EtKymV"
      },
      "execution_count": 72,
      "outputs": [
        {
          "output_type": "stream",
          "name": "stdout",
          "text": [
            "R2 score: 0.06852\n"
          ]
        }
      ],
      "id": "SIDDc2EtKymV"
    },
    {
      "cell_type": "markdown",
      "id": "27e04255-9478-4357-b040-bf0857399938",
      "metadata": {
        "id": "27e04255-9478-4357-b040-bf0857399938"
      },
      "source": [
        "### Prediccion"
      ]
    },
    {
      "cell_type": "code",
      "execution_count": 73,
      "id": "54d33b74-7ada-431b-9ad0-af0f8851695a",
      "metadata": {
        "tags": [],
        "id": "54d33b74-7ada-431b-9ad0-af0f8851695a"
      },
      "outputs": [],
      "source": [
        "# Ingresar codigo\n",
        "codigo_in = random.choice(encoder.classes_) \n",
        "new_codigo_in = encoder.transform([codigo_in])\n",
        "new_codigo_embedding = matriz_embedding[new_codigo_in]\n"
      ]
    },
    {
      "cell_type": "code",
      "execution_count": 74,
      "id": "ec881062-b0d8-4515-a58b-61a32626b52a",
      "metadata": {
        "id": "ec881062-b0d8-4515-a58b-61a32626b52a"
      },
      "outputs": [],
      "source": [
        "# Ingresar año y mes\n",
        "anio_in = 2023\n",
        "mes_in = 6"
      ]
    },
    {
      "cell_type": "code",
      "execution_count": 75,
      "id": "3257d88c-3982-4bf6-a988-10b7928d6048",
      "metadata": {
        "id": "3257d88c-3982-4bf6-a988-10b7928d6048"
      },
      "outputs": [],
      "source": [
        "atributos_in = np.concatenate((new_codigo_embedding, anio_in, mes_in), axis=None)"
      ]
    },
    {
      "cell_type": "code",
      "execution_count": 76,
      "id": "6b831671-48a7-4249-94d6-2a4c37e0f89b",
      "metadata": {
        "id": "6b831671-48a7-4249-94d6-2a4c37e0f89b"
      },
      "outputs": [],
      "source": [
        "atributos_in = atributos_in.reshape(1, 12)"
      ]
    },
    {
      "cell_type": "code",
      "execution_count": 77,
      "id": "4d229b8e-7c5e-4482-8fb6-a862c78dc8b2",
      "metadata": {
        "id": "4d229b8e-7c5e-4482-8fb6-a862c78dc8b2"
      },
      "outputs": [],
      "source": [
        "pred = regr_2.predict(atributos_in)"
      ]
    },
    {
      "cell_type": "code",
      "execution_count": 78,
      "id": "545a56db-34ab-45a7-86dd-2de0d4c8f969",
      "metadata": {
        "id": "545a56db-34ab-45a7-86dd-2de0d4c8f969"
      },
      "outputs": [],
      "source": [
        "pred = mmscaler.inverse_transform(pred.reshape(-1, 1))"
      ]
    },
    {
      "cell_type": "code",
      "execution_count": 79,
      "id": "987d26b9-c056-49e2-b14b-4903a2b28e66",
      "metadata": {
        "id": "987d26b9-c056-49e2-b14b-4903a2b28e66",
        "outputId": "77a0c1d4-879c-4573-c175-fce04db5bbfa",
        "colab": {
          "base_uri": "https://localhost:8080/"
        }
      },
      "outputs": [
        {
          "output_type": "stream",
          "name": "stdout",
          "text": [
            "Prediccion para el código 4000000 Año 2023 Mes 6: 137.21 incidentes\n"
          ]
        }
      ],
      "source": [
        "print(f\"Prediccion para el código {codigo_in} Año {anio_in} Mes {mes_in}: {np.round(pred[0][0],2)} incidentes\")  "
      ]
    },
    {
      "cell_type": "markdown",
      "id": "3317a867-e395-4c16-9404-750afed0e780",
      "metadata": {
        "id": "3317a867-e395-4c16-9404-750afed0e780"
      },
      "source": [
        "### Verificacion grafica"
      ]
    },
    {
      "cell_type": "code",
      "execution_count": 80,
      "id": "fbf28d30-1618-4714-903c-732f3d2de2a9",
      "metadata": {
        "id": "fbf28d30-1618-4714-903c-732f3d2de2a9",
        "outputId": "4a810ece-20e9-4618-c299-113ec3027185",
        "colab": {
          "base_uri": "https://localhost:8080/",
          "height": 551
        }
      },
      "outputs": [
        {
          "output_type": "execute_result",
          "data": {
            "text/plain": [
              "        codigo     emb_0     emb_1     emb_2     emb_3     emb_4     emb_5  \\\n",
              "16816  4000000  0.250115  0.866438  0.734523  0.079679  0.872501  0.109794   \n",
              "16817  4000000  0.250115  0.866438  0.734523  0.079679  0.872501  0.109794   \n",
              "16818  4000000  0.250115  0.866438  0.734523  0.079679  0.872501  0.109794   \n",
              "16819  4000000  0.250115  0.866438  0.734523  0.079679  0.872501  0.109794   \n",
              "16820  4000000  0.250115  0.866438  0.734523  0.079679  0.872501  0.109794   \n",
              "16821  4000000  0.250115  0.866438  0.734523  0.079679  0.872501  0.109794   \n",
              "16822  4000000  0.250115  0.866438  0.734523  0.079679  0.872501  0.109794   \n",
              "16823  4000000  0.250115  0.866438  0.734523  0.079679  0.872501  0.109794   \n",
              "16824  4000000  0.250115  0.866438  0.734523  0.079679  0.872501  0.109794   \n",
              "16825  4000000  0.250115  0.866438  0.734523  0.079679  0.872501  0.109794   \n",
              "16826  4000000  0.250115  0.866438  0.734523  0.079679  0.872501  0.109794   \n",
              "16827  4000000  0.250115  0.866438  0.734523  0.079679  0.872501  0.109794   \n",
              "16828  4000000  0.250115  0.866438  0.734523  0.079679  0.872501  0.109794   \n",
              "16829  4000000  0.250115  0.866438  0.734523  0.079679  0.872501  0.109794   \n",
              "16830  4000000  0.250115  0.866438  0.734523  0.079679  0.872501  0.109794   \n",
              "16831  4000000  0.250115  0.866438  0.734523  0.079679  0.872501  0.109794   \n",
              "\n",
              "          emb_6     emb_7     emb_8     emb_9   año  mes  total_cp  \n",
              "16816  0.807193  0.579602  0.020308  0.333047  2022    1  0.079992  \n",
              "16817  0.807193  0.579602  0.020308  0.333047  2022    2  0.025221  \n",
              "16818  0.807193  0.579602  0.020308  0.333047  2022    3  0.028044  \n",
              "16819  0.807193  0.579602  0.020308  0.333047  2022    4  0.032938  \n",
              "16820  0.807193  0.579602  0.020308  0.333047  2022    5  0.036326  \n",
              "16821  0.807193  0.579602  0.020308  0.333047  2022    6  0.038020  \n",
              "16822  0.807193  0.579602  0.020308  0.333047  2022    7  0.046678  \n",
              "16823  0.807193  0.579602  0.020308  0.333047  2022    8  0.044984  \n",
              "16824  0.807193  0.579602  0.020308  0.333047  2022    9  0.034632  \n",
              "16825  0.807193  0.579602  0.020308  0.333047  2022   10  0.035197  \n",
              "16826  0.807193  0.579602  0.020308  0.333047  2022   11  0.031432  \n",
              "16827  0.807193  0.579602  0.020308  0.333047  2022   12  0.025598  \n",
              "16828  0.807193  0.579602  0.020308  0.333047  2023    1  0.026727  \n",
              "16829  0.807193  0.579602  0.020308  0.333047  2023    2  0.028044  \n",
              "16830  0.807193  0.579602  0.020308  0.333047  2023    3  0.035950  \n",
              "16831  0.807193  0.579602  0.020308  0.333047  2023    4  0.012987  "
            ],
            "text/html": [
              "\n",
              "  <div id=\"df-0973a63d-d0f3-4556-9650-12aee5dc0b02\">\n",
              "    <div class=\"colab-df-container\">\n",
              "      <div>\n",
              "<style scoped>\n",
              "    .dataframe tbody tr th:only-of-type {\n",
              "        vertical-align: middle;\n",
              "    }\n",
              "\n",
              "    .dataframe tbody tr th {\n",
              "        vertical-align: top;\n",
              "    }\n",
              "\n",
              "    .dataframe thead th {\n",
              "        text-align: right;\n",
              "    }\n",
              "</style>\n",
              "<table border=\"1\" class=\"dataframe\">\n",
              "  <thead>\n",
              "    <tr style=\"text-align: right;\">\n",
              "      <th></th>\n",
              "      <th>codigo</th>\n",
              "      <th>emb_0</th>\n",
              "      <th>emb_1</th>\n",
              "      <th>emb_2</th>\n",
              "      <th>emb_3</th>\n",
              "      <th>emb_4</th>\n",
              "      <th>emb_5</th>\n",
              "      <th>emb_6</th>\n",
              "      <th>emb_7</th>\n",
              "      <th>emb_8</th>\n",
              "      <th>emb_9</th>\n",
              "      <th>año</th>\n",
              "      <th>mes</th>\n",
              "      <th>total_cp</th>\n",
              "    </tr>\n",
              "  </thead>\n",
              "  <tbody>\n",
              "    <tr>\n",
              "      <th>16816</th>\n",
              "      <td>4000000</td>\n",
              "      <td>0.250115</td>\n",
              "      <td>0.866438</td>\n",
              "      <td>0.734523</td>\n",
              "      <td>0.079679</td>\n",
              "      <td>0.872501</td>\n",
              "      <td>0.109794</td>\n",
              "      <td>0.807193</td>\n",
              "      <td>0.579602</td>\n",
              "      <td>0.020308</td>\n",
              "      <td>0.333047</td>\n",
              "      <td>2022</td>\n",
              "      <td>1</td>\n",
              "      <td>0.079992</td>\n",
              "    </tr>\n",
              "    <tr>\n",
              "      <th>16817</th>\n",
              "      <td>4000000</td>\n",
              "      <td>0.250115</td>\n",
              "      <td>0.866438</td>\n",
              "      <td>0.734523</td>\n",
              "      <td>0.079679</td>\n",
              "      <td>0.872501</td>\n",
              "      <td>0.109794</td>\n",
              "      <td>0.807193</td>\n",
              "      <td>0.579602</td>\n",
              "      <td>0.020308</td>\n",
              "      <td>0.333047</td>\n",
              "      <td>2022</td>\n",
              "      <td>2</td>\n",
              "      <td>0.025221</td>\n",
              "    </tr>\n",
              "    <tr>\n",
              "      <th>16818</th>\n",
              "      <td>4000000</td>\n",
              "      <td>0.250115</td>\n",
              "      <td>0.866438</td>\n",
              "      <td>0.734523</td>\n",
              "      <td>0.079679</td>\n",
              "      <td>0.872501</td>\n",
              "      <td>0.109794</td>\n",
              "      <td>0.807193</td>\n",
              "      <td>0.579602</td>\n",
              "      <td>0.020308</td>\n",
              "      <td>0.333047</td>\n",
              "      <td>2022</td>\n",
              "      <td>3</td>\n",
              "      <td>0.028044</td>\n",
              "    </tr>\n",
              "    <tr>\n",
              "      <th>16819</th>\n",
              "      <td>4000000</td>\n",
              "      <td>0.250115</td>\n",
              "      <td>0.866438</td>\n",
              "      <td>0.734523</td>\n",
              "      <td>0.079679</td>\n",
              "      <td>0.872501</td>\n",
              "      <td>0.109794</td>\n",
              "      <td>0.807193</td>\n",
              "      <td>0.579602</td>\n",
              "      <td>0.020308</td>\n",
              "      <td>0.333047</td>\n",
              "      <td>2022</td>\n",
              "      <td>4</td>\n",
              "      <td>0.032938</td>\n",
              "    </tr>\n",
              "    <tr>\n",
              "      <th>16820</th>\n",
              "      <td>4000000</td>\n",
              "      <td>0.250115</td>\n",
              "      <td>0.866438</td>\n",
              "      <td>0.734523</td>\n",
              "      <td>0.079679</td>\n",
              "      <td>0.872501</td>\n",
              "      <td>0.109794</td>\n",
              "      <td>0.807193</td>\n",
              "      <td>0.579602</td>\n",
              "      <td>0.020308</td>\n",
              "      <td>0.333047</td>\n",
              "      <td>2022</td>\n",
              "      <td>5</td>\n",
              "      <td>0.036326</td>\n",
              "    </tr>\n",
              "    <tr>\n",
              "      <th>16821</th>\n",
              "      <td>4000000</td>\n",
              "      <td>0.250115</td>\n",
              "      <td>0.866438</td>\n",
              "      <td>0.734523</td>\n",
              "      <td>0.079679</td>\n",
              "      <td>0.872501</td>\n",
              "      <td>0.109794</td>\n",
              "      <td>0.807193</td>\n",
              "      <td>0.579602</td>\n",
              "      <td>0.020308</td>\n",
              "      <td>0.333047</td>\n",
              "      <td>2022</td>\n",
              "      <td>6</td>\n",
              "      <td>0.038020</td>\n",
              "    </tr>\n",
              "    <tr>\n",
              "      <th>16822</th>\n",
              "      <td>4000000</td>\n",
              "      <td>0.250115</td>\n",
              "      <td>0.866438</td>\n",
              "      <td>0.734523</td>\n",
              "      <td>0.079679</td>\n",
              "      <td>0.872501</td>\n",
              "      <td>0.109794</td>\n",
              "      <td>0.807193</td>\n",
              "      <td>0.579602</td>\n",
              "      <td>0.020308</td>\n",
              "      <td>0.333047</td>\n",
              "      <td>2022</td>\n",
              "      <td>7</td>\n",
              "      <td>0.046678</td>\n",
              "    </tr>\n",
              "    <tr>\n",
              "      <th>16823</th>\n",
              "      <td>4000000</td>\n",
              "      <td>0.250115</td>\n",
              "      <td>0.866438</td>\n",
              "      <td>0.734523</td>\n",
              "      <td>0.079679</td>\n",
              "      <td>0.872501</td>\n",
              "      <td>0.109794</td>\n",
              "      <td>0.807193</td>\n",
              "      <td>0.579602</td>\n",
              "      <td>0.020308</td>\n",
              "      <td>0.333047</td>\n",
              "      <td>2022</td>\n",
              "      <td>8</td>\n",
              "      <td>0.044984</td>\n",
              "    </tr>\n",
              "    <tr>\n",
              "      <th>16824</th>\n",
              "      <td>4000000</td>\n",
              "      <td>0.250115</td>\n",
              "      <td>0.866438</td>\n",
              "      <td>0.734523</td>\n",
              "      <td>0.079679</td>\n",
              "      <td>0.872501</td>\n",
              "      <td>0.109794</td>\n",
              "      <td>0.807193</td>\n",
              "      <td>0.579602</td>\n",
              "      <td>0.020308</td>\n",
              "      <td>0.333047</td>\n",
              "      <td>2022</td>\n",
              "      <td>9</td>\n",
              "      <td>0.034632</td>\n",
              "    </tr>\n",
              "    <tr>\n",
              "      <th>16825</th>\n",
              "      <td>4000000</td>\n",
              "      <td>0.250115</td>\n",
              "      <td>0.866438</td>\n",
              "      <td>0.734523</td>\n",
              "      <td>0.079679</td>\n",
              "      <td>0.872501</td>\n",
              "      <td>0.109794</td>\n",
              "      <td>0.807193</td>\n",
              "      <td>0.579602</td>\n",
              "      <td>0.020308</td>\n",
              "      <td>0.333047</td>\n",
              "      <td>2022</td>\n",
              "      <td>10</td>\n",
              "      <td>0.035197</td>\n",
              "    </tr>\n",
              "    <tr>\n",
              "      <th>16826</th>\n",
              "      <td>4000000</td>\n",
              "      <td>0.250115</td>\n",
              "      <td>0.866438</td>\n",
              "      <td>0.734523</td>\n",
              "      <td>0.079679</td>\n",
              "      <td>0.872501</td>\n",
              "      <td>0.109794</td>\n",
              "      <td>0.807193</td>\n",
              "      <td>0.579602</td>\n",
              "      <td>0.020308</td>\n",
              "      <td>0.333047</td>\n",
              "      <td>2022</td>\n",
              "      <td>11</td>\n",
              "      <td>0.031432</td>\n",
              "    </tr>\n",
              "    <tr>\n",
              "      <th>16827</th>\n",
              "      <td>4000000</td>\n",
              "      <td>0.250115</td>\n",
              "      <td>0.866438</td>\n",
              "      <td>0.734523</td>\n",
              "      <td>0.079679</td>\n",
              "      <td>0.872501</td>\n",
              "      <td>0.109794</td>\n",
              "      <td>0.807193</td>\n",
              "      <td>0.579602</td>\n",
              "      <td>0.020308</td>\n",
              "      <td>0.333047</td>\n",
              "      <td>2022</td>\n",
              "      <td>12</td>\n",
              "      <td>0.025598</td>\n",
              "    </tr>\n",
              "    <tr>\n",
              "      <th>16828</th>\n",
              "      <td>4000000</td>\n",
              "      <td>0.250115</td>\n",
              "      <td>0.866438</td>\n",
              "      <td>0.734523</td>\n",
              "      <td>0.079679</td>\n",
              "      <td>0.872501</td>\n",
              "      <td>0.109794</td>\n",
              "      <td>0.807193</td>\n",
              "      <td>0.579602</td>\n",
              "      <td>0.020308</td>\n",
              "      <td>0.333047</td>\n",
              "      <td>2023</td>\n",
              "      <td>1</td>\n",
              "      <td>0.026727</td>\n",
              "    </tr>\n",
              "    <tr>\n",
              "      <th>16829</th>\n",
              "      <td>4000000</td>\n",
              "      <td>0.250115</td>\n",
              "      <td>0.866438</td>\n",
              "      <td>0.734523</td>\n",
              "      <td>0.079679</td>\n",
              "      <td>0.872501</td>\n",
              "      <td>0.109794</td>\n",
              "      <td>0.807193</td>\n",
              "      <td>0.579602</td>\n",
              "      <td>0.020308</td>\n",
              "      <td>0.333047</td>\n",
              "      <td>2023</td>\n",
              "      <td>2</td>\n",
              "      <td>0.028044</td>\n",
              "    </tr>\n",
              "    <tr>\n",
              "      <th>16830</th>\n",
              "      <td>4000000</td>\n",
              "      <td>0.250115</td>\n",
              "      <td>0.866438</td>\n",
              "      <td>0.734523</td>\n",
              "      <td>0.079679</td>\n",
              "      <td>0.872501</td>\n",
              "      <td>0.109794</td>\n",
              "      <td>0.807193</td>\n",
              "      <td>0.579602</td>\n",
              "      <td>0.020308</td>\n",
              "      <td>0.333047</td>\n",
              "      <td>2023</td>\n",
              "      <td>3</td>\n",
              "      <td>0.035950</td>\n",
              "    </tr>\n",
              "    <tr>\n",
              "      <th>16831</th>\n",
              "      <td>4000000</td>\n",
              "      <td>0.250115</td>\n",
              "      <td>0.866438</td>\n",
              "      <td>0.734523</td>\n",
              "      <td>0.079679</td>\n",
              "      <td>0.872501</td>\n",
              "      <td>0.109794</td>\n",
              "      <td>0.807193</td>\n",
              "      <td>0.579602</td>\n",
              "      <td>0.020308</td>\n",
              "      <td>0.333047</td>\n",
              "      <td>2023</td>\n",
              "      <td>4</td>\n",
              "      <td>0.012987</td>\n",
              "    </tr>\n",
              "  </tbody>\n",
              "</table>\n",
              "</div>\n",
              "      <button class=\"colab-df-convert\" onclick=\"convertToInteractive('df-0973a63d-d0f3-4556-9650-12aee5dc0b02')\"\n",
              "              title=\"Convert this dataframe to an interactive table.\"\n",
              "              style=\"display:none;\">\n",
              "        \n",
              "  <svg xmlns=\"http://www.w3.org/2000/svg\" height=\"24px\"viewBox=\"0 0 24 24\"\n",
              "       width=\"24px\">\n",
              "    <path d=\"M0 0h24v24H0V0z\" fill=\"none\"/>\n",
              "    <path d=\"M18.56 5.44l.94 2.06.94-2.06 2.06-.94-2.06-.94-.94-2.06-.94 2.06-2.06.94zm-11 1L8.5 8.5l.94-2.06 2.06-.94-2.06-.94L8.5 2.5l-.94 2.06-2.06.94zm10 10l.94 2.06.94-2.06 2.06-.94-2.06-.94-.94-2.06-.94 2.06-2.06.94z\"/><path d=\"M17.41 7.96l-1.37-1.37c-.4-.4-.92-.59-1.43-.59-.52 0-1.04.2-1.43.59L10.3 9.45l-7.72 7.72c-.78.78-.78 2.05 0 2.83L4 21.41c.39.39.9.59 1.41.59.51 0 1.02-.2 1.41-.59l7.78-7.78 2.81-2.81c.8-.78.8-2.07 0-2.86zM5.41 20L4 18.59l7.72-7.72 1.47 1.35L5.41 20z\"/>\n",
              "  </svg>\n",
              "      </button>\n",
              "      \n",
              "  <style>\n",
              "    .colab-df-container {\n",
              "      display:flex;\n",
              "      flex-wrap:wrap;\n",
              "      gap: 12px;\n",
              "    }\n",
              "\n",
              "    .colab-df-convert {\n",
              "      background-color: #E8F0FE;\n",
              "      border: none;\n",
              "      border-radius: 50%;\n",
              "      cursor: pointer;\n",
              "      display: none;\n",
              "      fill: #1967D2;\n",
              "      height: 32px;\n",
              "      padding: 0 0 0 0;\n",
              "      width: 32px;\n",
              "    }\n",
              "\n",
              "    .colab-df-convert:hover {\n",
              "      background-color: #E2EBFA;\n",
              "      box-shadow: 0px 1px 2px rgba(60, 64, 67, 0.3), 0px 1px 3px 1px rgba(60, 64, 67, 0.15);\n",
              "      fill: #174EA6;\n",
              "    }\n",
              "\n",
              "    [theme=dark] .colab-df-convert {\n",
              "      background-color: #3B4455;\n",
              "      fill: #D2E3FC;\n",
              "    }\n",
              "\n",
              "    [theme=dark] .colab-df-convert:hover {\n",
              "      background-color: #434B5C;\n",
              "      box-shadow: 0px 1px 3px 1px rgba(0, 0, 0, 0.15);\n",
              "      filter: drop-shadow(0px 1px 2px rgba(0, 0, 0, 0.3));\n",
              "      fill: #FFFFFF;\n",
              "    }\n",
              "  </style>\n",
              "\n",
              "      <script>\n",
              "        const buttonEl =\n",
              "          document.querySelector('#df-0973a63d-d0f3-4556-9650-12aee5dc0b02 button.colab-df-convert');\n",
              "        buttonEl.style.display =\n",
              "          google.colab.kernel.accessAllowed ? 'block' : 'none';\n",
              "\n",
              "        async function convertToInteractive(key) {\n",
              "          const element = document.querySelector('#df-0973a63d-d0f3-4556-9650-12aee5dc0b02');\n",
              "          const dataTable =\n",
              "            await google.colab.kernel.invokeFunction('convertToInteractive',\n",
              "                                                     [key], {});\n",
              "          if (!dataTable) return;\n",
              "\n",
              "          const docLinkHtml = 'Like what you see? Visit the ' +\n",
              "            '<a target=\"_blank\" href=https://colab.research.google.com/notebooks/data_table.ipynb>data table notebook</a>'\n",
              "            + ' to learn more about interactive tables.';\n",
              "          element.innerHTML = '';\n",
              "          dataTable['output_type'] = 'display_data';\n",
              "          await google.colab.output.renderOutput(dataTable, element);\n",
              "          const docLink = document.createElement('div');\n",
              "          docLink.innerHTML = docLinkHtml;\n",
              "          element.appendChild(docLink);\n",
              "        }\n",
              "      </script>\n",
              "    </div>\n",
              "  </div>\n",
              "  "
            ]
          },
          "metadata": {},
          "execution_count": 80
        }
      ],
      "source": [
        "filtro = df_final['codigo'] == codigo_in\n",
        "df_filtrado = df_final[filtro]\n",
        "df_filtrado"
      ]
    },
    {
      "cell_type": "code",
      "execution_count": 81,
      "id": "82674daf-0247-4395-8173-ed022df31e12",
      "metadata": {
        "id": "82674daf-0247-4395-8173-ed022df31e12"
      },
      "outputs": [],
      "source": [
        "df_filtrado = df_filtrado.sort_values(['año','mes'], ascending=True)"
      ]
    },
    {
      "cell_type": "code",
      "execution_count": 82,
      "id": "4b9d2c2c-321f-4cf2-8028-8de987cc3476",
      "metadata": {
        "id": "4b9d2c2c-321f-4cf2-8028-8de987cc3476"
      },
      "outputs": [],
      "source": [
        "fechas = []\n",
        "totales = []\n",
        "\n",
        "for row in df_filtrado.iterrows():\n",
        "    fechas.append(str(row[1][11])+'-'+str(row[1][12])+'-01')\n",
        "    totales.append(row[1][13])"
      ]
    },
    {
      "cell_type": "code",
      "execution_count": 83,
      "id": "ecebec5d-cb0c-4b37-9585-dad10b0f0195",
      "metadata": {
        "id": "ecebec5d-cb0c-4b37-9585-dad10b0f0195",
        "outputId": "f5edd27e-0041-4ff1-875b-1812d785c015",
        "colab": {
          "base_uri": "https://localhost:8080/",
          "height": 36
        }
      },
      "outputs": [
        {
          "output_type": "execute_result",
          "data": {
            "text/plain": [
              "'2022-1-01'"
            ],
            "application/vnd.google.colaboratory.intrinsic+json": {
              "type": "string"
            }
          },
          "metadata": {},
          "execution_count": 83
        }
      ],
      "source": [
        "fechas[0]"
      ]
    },
    {
      "cell_type": "code",
      "execution_count": 84,
      "id": "a9b207af-98f5-4ac3-be03-3ee78d3d7673",
      "metadata": {
        "id": "a9b207af-98f5-4ac3-be03-3ee78d3d7673"
      },
      "outputs": [],
      "source": [
        "totales = mmscaler.inverse_transform([totales])"
      ]
    },
    {
      "cell_type": "code",
      "execution_count": 85,
      "id": "399c9268-be5b-4f0b-bae9-30f60f5c999e",
      "metadata": {
        "id": "399c9268-be5b-4f0b-bae9-30f60f5c999e"
      },
      "outputs": [],
      "source": [
        "df_graf = pd.DataFrame({'fechas':fechas, 'totales':totales.reshape(-1,)})"
      ]
    },
    {
      "cell_type": "code",
      "execution_count": 86,
      "id": "b0655391-a500-45c2-9df0-3d3139cca347",
      "metadata": {
        "id": "b0655391-a500-45c2-9df0-3d3139cca347",
        "outputId": "70a3c9b1-217c-4e64-d0ab-4e7bf02f7406",
        "colab": {
          "base_uri": "https://localhost:8080/",
          "height": 565
        }
      },
      "outputs": [
        {
          "output_type": "display_data",
          "data": {
            "text/plain": [
              "<Figure size 2000x500 with 1 Axes>"
            ],
            "image/png": "[encoded data removed]"
          },
          "metadata": {}
        }
      ],
      "source": [
        "plt.figure(figsize=(20, 5))\n",
        "sns.set(color_codes=True)\n",
        "plt.xticks(rotation=90)\n",
        "sns.scatterplot(x='fechas', y='totales', data=df_graf)\n",
        "plt.scatter(x=(str(anio_in)+'-'+str(mes_in)+'-01'), y=pred, color='red')\n",
        "plt.plot(df_graf.fechas, df_graf.totales)\n",
        "plt.title(\"Codigo: \"+codigo_in)\n",
        "plt.show()"
      ]
    },
    {
      "cell_type": "code",
      "source": [],
      "metadata": {
        "id": "94XZ8bxd54Kp"
      },
      "id": "94XZ8bxd54Kp",
      "execution_count": 86,
      "outputs": []
    }
  ],
  "metadata": {
    "kernelspec": {
      "display_name": "Python 3 (ipykernel)",
      "language": "python",
      "name": "python3"
    },
    "language_info": {
      "codemirror_mode": {
        "name": "ipython",
        "version": 3
      },
      "file_extension": ".py",
      "mimetype": "text/x-python",
      "name": "python",
      "nbconvert_exporter": "python",
      "pygments_lexer": "ipython3",
      "version": "3.8.12"
    },
    "toc-autonumbering": false,
    "toc-showcode": false,
    "toc-showmarkdowntxt": false,
    "colab": {
      "provenance": [],
      "include_colab_link": true
    }
  },
  "nbformat": 4,
  "nbformat_minor": 5
}