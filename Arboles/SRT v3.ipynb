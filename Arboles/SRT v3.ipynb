{
  "cells": [
    {
      "cell_type": "markdown",
      "metadata": {
        "id": "view-in-github",
        "colab_type": "text"
      },
      "source": [
        "<a href=\"https://colab.research.google.com/github/gabrielfernandorey/GGGR/blob/main/Arboles/SRT%20v3.ipynb\" target=\"_parent\"><img src=\"https://colab.research.google.com/assets/colab-badge.svg\" alt=\"Open In Colab\"/></a>"
      ]
    },
    {
      "cell_type": "markdown",
      "id": "be0217b9-8b6c-4429-8e76-7cce472452ad",
      "metadata": {
        "id": "be0217b9-8b6c-4429-8e76-7cce472452ad"
      },
      "source": [
        "# SRT v3 - Ensayo\n",
        "### Arboles de regresion - Datos reales"
      ]
    },
    {
      "cell_type": "code",
      "execution_count": 1,
      "id": "ee2f0def-1256-4a77-b522-b57e2504e885",
      "metadata": {
        "id": "ee2f0def-1256-4a77-b522-b57e2504e885"
      },
      "outputs": [],
      "source": [
        "import random\n",
        "import string\n",
        "import pandas as pd\n",
        "import numpy as np\n",
        "from datetime import date\n",
        "\n",
        "import matplotlib.pyplot as plt\n",
        "%matplotlib inline\n",
        "import seaborn as sns\n",
        "sns.set() # setting seaborn default for plots\n",
        "\n",
        "from sklearn.model_selection import train_test_split\n",
        "from sklearn.tree import DecisionTreeRegressor\n",
        "from sklearn.ensemble import RandomForestRegressor, ExtraTreesRegressor\n",
        "from sklearn.preprocessing import MinMaxScaler\n",
        "from sklearn.metrics import mean_squared_error\n",
        "from sklearn.metrics import r2_score\n"
      ]
    },
    {
      "cell_type": "markdown",
      "id": "fcdf3ad9-29c6-41e3-870c-3e428fc1523e",
      "metadata": {
        "id": "fcdf3ad9-29c6-41e3-870c-3e428fc1523e"
      },
      "source": [
        "### Importamos Datos"
      ]
    },
    {
      "cell_type": "code",
      "source": [
        "!wget https://raw.githubusercontent.com/gabrielfernandorey/GGGR/main/Regresion%20lineal/cod_postal_series.csv"
      ],
      "metadata": {
        "id": "0fgNq4wh5wvl",
        "outputId": "a668844e-578a-4d73-e91e-47bcacc90bd4",
        "colab": {
          "base_uri": "https://localhost:8080/"
        }
      },
      "id": "0fgNq4wh5wvl",
      "execution_count": 2,
      "outputs": [
        {
          "output_type": "stream",
          "name": "stdout",
          "text": [
            "--2023-05-04 17:53:52--  https://raw.githubusercontent.com/gabrielfernandorey/GGGR/main/Regresion%20lineal/cod_postal_series.csv\n",
            "Resolving raw.githubusercontent.com (raw.githubusercontent.com)... 185.199.108.133, 185.199.109.133, 185.199.110.133, ...\n",
            "Connecting to raw.githubusercontent.com (raw.githubusercontent.com)|185.199.108.133|:443... connected.\n",
            "HTTP request sent, awaiting response... 200 OK\n",
            "Length: 2977660 (2.8M) [text/plain]\n",
            "Saving to: ‘cod_postal_series.csv’\n",
            "\n",
            "cod_postal_series.c 100%[===================>]   2.84M  --.-KB/s    in 0.07s   \n",
            "\n",
            "2023-05-04 17:53:52 (38.9 MB/s) - ‘cod_postal_series.csv’ saved [2977660/2977660]\n",
            "\n"
          ]
        }
      ]
    },
    {
      "cell_type": "code",
      "source": [
        "df = pd.read_csv('/content/cod_postal_series.csv', header=0,\n",
        "                 names=['codigo','año','mes','total_cp'],\n",
        "                 dtype={'codigo': str, 'año': str, 'mes': str, 'total_cp': str})"
      ],
      "metadata": {
        "id": "_T8uq5Uk9yN3"
      },
      "id": "_T8uq5Uk9yN3",
      "execution_count": 3,
      "outputs": []
    },
    {
      "cell_type": "code",
      "execution_count": 4,
      "id": "ea8097fa-2454-4e8a-aee9-fd72c431fbde",
      "metadata": {
        "id": "ea8097fa-2454-4e8a-aee9-fd72c431fbde",
        "outputId": "3164a256-c985-4a27-9da6-ea8a5ed6cd3a",
        "colab": {
          "base_uri": "https://localhost:8080/",
          "height": 206
        }
      },
      "outputs": [
        {
          "output_type": "execute_result",
          "data": {
            "text/plain": [
              "  codigo     año mes total_cp\n",
              "0      0  2022.0   1      208\n",
              "1      0  2022.0   2      185\n",
              "2      0  2022.0   3      289\n",
              "3      0  2022.0   4      177\n",
              "4      0  2022.0   5      177"
            ],
            "text/html": [
              "\n",
              "  <div id=\"df-7b8e228a-567b-490d-b299-77b6c2762866\">\n",
              "    <div class=\"colab-df-container\">\n",
              "      <div>\n",
              "<style scoped>\n",
              "    .dataframe tbody tr th:only-of-type {\n",
              "        vertical-align: middle;\n",
              "    }\n",
              "\n",
              "    .dataframe tbody tr th {\n",
              "        vertical-align: top;\n",
              "    }\n",
              "\n",
              "    .dataframe thead th {\n",
              "        text-align: right;\n",
              "    }\n",
              "</style>\n",
              "<table border=\"1\" class=\"dataframe\">\n",
              "  <thead>\n",
              "    <tr style=\"text-align: right;\">\n",
              "      <th></th>\n",
              "      <th>codigo</th>\n",
              "      <th>año</th>\n",
              "      <th>mes</th>\n",
              "      <th>total_cp</th>\n",
              "    </tr>\n",
              "  </thead>\n",
              "  <tbody>\n",
              "    <tr>\n",
              "      <th>0</th>\n",
              "      <td>0</td>\n",
              "      <td>2022.0</td>\n",
              "      <td>1</td>\n",
              "      <td>208</td>\n",
              "    </tr>\n",
              "    <tr>\n",
              "      <th>1</th>\n",
              "      <td>0</td>\n",
              "      <td>2022.0</td>\n",
              "      <td>2</td>\n",
              "      <td>185</td>\n",
              "    </tr>\n",
              "    <tr>\n",
              "      <th>2</th>\n",
              "      <td>0</td>\n",
              "      <td>2022.0</td>\n",
              "      <td>3</td>\n",
              "      <td>289</td>\n",
              "    </tr>\n",
              "    <tr>\n",
              "      <th>3</th>\n",
              "      <td>0</td>\n",
              "      <td>2022.0</td>\n",
              "      <td>4</td>\n",
              "      <td>177</td>\n",
              "    </tr>\n",
              "    <tr>\n",
              "      <th>4</th>\n",
              "      <td>0</td>\n",
              "      <td>2022.0</td>\n",
              "      <td>5</td>\n",
              "      <td>177</td>\n",
              "    </tr>\n",
              "  </tbody>\n",
              "</table>\n",
              "</div>\n",
              "      <button class=\"colab-df-convert\" onclick=\"convertToInteractive('df-7b8e228a-567b-490d-b299-77b6c2762866')\"\n",
              "              title=\"Convert this dataframe to an interactive table.\"\n",
              "              style=\"display:none;\">\n",
              "        \n",
              "  <svg xmlns=\"http://www.w3.org/2000/svg\" height=\"24px\"viewBox=\"0 0 24 24\"\n",
              "       width=\"24px\">\n",
              "    <path d=\"M0 0h24v24H0V0z\" fill=\"none\"/>\n",
              "    <path d=\"M18.56 5.44l.94 2.06.94-2.06 2.06-.94-2.06-.94-.94-2.06-.94 2.06-2.06.94zm-11 1L8.5 8.5l.94-2.06 2.06-.94-2.06-.94L8.5 2.5l-.94 2.06-2.06.94zm10 10l.94 2.06.94-2.06 2.06-.94-2.06-.94-.94-2.06-.94 2.06-2.06.94z\"/><path d=\"M17.41 7.96l-1.37-1.37c-.4-.4-.92-.59-1.43-.59-.52 0-1.04.2-1.43.59L10.3 9.45l-7.72 7.72c-.78.78-.78 2.05 0 2.83L4 21.41c.39.39.9.59 1.41.59.51 0 1.02-.2 1.41-.59l7.78-7.78 2.81-2.81c.8-.78.8-2.07 0-2.86zM5.41 20L4 18.59l7.72-7.72 1.47 1.35L5.41 20z\"/>\n",
              "  </svg>\n",
              "      </button>\n",
              "      \n",
              "  <style>\n",
              "    .colab-df-container {\n",
              "      display:flex;\n",
              "      flex-wrap:wrap;\n",
              "      gap: 12px;\n",
              "    }\n",
              "\n",
              "    .colab-df-convert {\n",
              "      background-color: #E8F0FE;\n",
              "      border: none;\n",
              "      border-radius: 50%;\n",
              "      cursor: pointer;\n",
              "      display: none;\n",
              "      fill: #1967D2;\n",
              "      height: 32px;\n",
              "      padding: 0 0 0 0;\n",
              "      width: 32px;\n",
              "    }\n",
              "\n",
              "    .colab-df-convert:hover {\n",
              "      background-color: #E2EBFA;\n",
              "      box-shadow: 0px 1px 2px rgba(60, 64, 67, 0.3), 0px 1px 3px 1px rgba(60, 64, 67, 0.15);\n",
              "      fill: #174EA6;\n",
              "    }\n",
              "\n",
              "    [theme=dark] .colab-df-convert {\n",
              "      background-color: #3B4455;\n",
              "      fill: #D2E3FC;\n",
              "    }\n",
              "\n",
              "    [theme=dark] .colab-df-convert:hover {\n",
              "      background-color: #434B5C;\n",
              "      box-shadow: 0px 1px 3px 1px rgba(0, 0, 0, 0.15);\n",
              "      filter: drop-shadow(0px 1px 2px rgba(0, 0, 0, 0.3));\n",
              "      fill: #FFFFFF;\n",
              "    }\n",
              "  </style>\n",
              "\n",
              "      <script>\n",
              "        const buttonEl =\n",
              "          document.querySelector('#df-7b8e228a-567b-490d-b299-77b6c2762866 button.colab-df-convert');\n",
              "        buttonEl.style.display =\n",
              "          google.colab.kernel.accessAllowed ? 'block' : 'none';\n",
              "\n",
              "        async function convertToInteractive(key) {\n",
              "          const element = document.querySelector('#df-7b8e228a-567b-490d-b299-77b6c2762866');\n",
              "          const dataTable =\n",
              "            await google.colab.kernel.invokeFunction('convertToInteractive',\n",
              "                                                     [key], {});\n",
              "          if (!dataTable) return;\n",
              "\n",
              "          const docLinkHtml = 'Like what you see? Visit the ' +\n",
              "            '<a target=\"_blank\" href=https://colab.research.google.com/notebooks/data_table.ipynb>data table notebook</a>'\n",
              "            + ' to learn more about interactive tables.';\n",
              "          element.innerHTML = '';\n",
              "          dataTable['output_type'] = 'display_data';\n",
              "          await google.colab.output.renderOutput(dataTable, element);\n",
              "          const docLink = document.createElement('div');\n",
              "          docLink.innerHTML = docLinkHtml;\n",
              "          element.appendChild(docLink);\n",
              "        }\n",
              "      </script>\n",
              "    </div>\n",
              "  </div>\n",
              "  "
            ]
          },
          "metadata": {},
          "execution_count": 4
        }
      ],
      "source": [
        "df.head()"
      ]
    },
    {
      "cell_type": "markdown",
      "id": "9ae861c9-62bd-4405-ba10-59273bbc588d",
      "metadata": {
        "id": "9ae861c9-62bd-4405-ba10-59273bbc588d"
      },
      "source": [
        "### EDA"
      ]
    },
    {
      "cell_type": "code",
      "execution_count": 5,
      "id": "f8be169a-0b97-4ca2-a3f2-6b2470bb9483",
      "metadata": {
        "id": "f8be169a-0b97-4ca2-a3f2-6b2470bb9483",
        "outputId": "eccfc0fe-c31a-41fe-faee-4ca3e0550afc",
        "colab": {
          "base_uri": "https://localhost:8080/"
        }
      },
      "outputs": [
        {
          "output_type": "stream",
          "name": "stdout",
          "text": [
            "<class 'pandas.core.frame.DataFrame'>\n",
            "RangeIndex: 147066 entries, 0 to 147065\n",
            "Data columns (total 4 columns):\n",
            " #   Column    Non-Null Count   Dtype \n",
            "---  ------    --------------   ----- \n",
            " 0   codigo    147066 non-null  object\n",
            " 1   año       147066 non-null  object\n",
            " 2   mes       147066 non-null  object\n",
            " 3   total_cp  147066 non-null  object\n",
            "dtypes: object(4)\n",
            "memory usage: 4.5+ MB\n"
          ]
        }
      ],
      "source": [
        "df.info()"
      ]
    },
    {
      "cell_type": "markdown",
      "id": "e33ed6c6-5497-476c-aa54-feb65cebb0b0",
      "metadata": {
        "id": "e33ed6c6-5497-476c-aa54-feb65cebb0b0"
      },
      "source": [
        "#### Ajustamos tipo de datos"
      ]
    },
    {
      "cell_type": "code",
      "execution_count": 6,
      "id": "09963f06-2d61-42ab-bc66-a459ac17fff0",
      "metadata": {
        "id": "09963f06-2d61-42ab-bc66-a459ac17fff0"
      },
      "outputs": [],
      "source": [
        "df['año'] = pd.to_numeric(df['año'], downcast='integer') #corregimos el formato de la columna "
      ]
    },
    {
      "cell_type": "code",
      "execution_count": 7,
      "id": "126ae990-e2c5-457c-b43c-1e79b85e0689",
      "metadata": {
        "tags": [],
        "id": "126ae990-e2c5-457c-b43c-1e79b85e0689"
      },
      "outputs": [],
      "source": [
        "df['mes'] = pd.to_numeric(df['mes']) #corregimos el formato de la columna "
      ]
    },
    {
      "cell_type": "code",
      "execution_count": 8,
      "id": "4571fbe7-e788-4be7-9b2c-31cb3718c336",
      "metadata": {
        "tags": [],
        "id": "4571fbe7-e788-4be7-9b2c-31cb3718c336"
      },
      "outputs": [],
      "source": [
        "df['total_cp'] = pd.to_numeric(df['total_cp']) #corregimos el formato de la columna "
      ]
    },
    {
      "cell_type": "code",
      "execution_count": 9,
      "id": "933accfc-cd14-446a-af25-dc135a9bd99c",
      "metadata": {
        "id": "933accfc-cd14-446a-af25-dc135a9bd99c",
        "outputId": "5765a2d8-d95a-4cd5-ebc4-0cf489641467",
        "colab": {
          "base_uri": "https://localhost:8080/"
        }
      },
      "outputs": [
        {
          "output_type": "execute_result",
          "data": {
            "text/plain": [
              "codigo      object\n",
              "año          int16\n",
              "mes          int64\n",
              "total_cp     int64\n",
              "dtype: object"
            ]
          },
          "metadata": {},
          "execution_count": 9
        }
      ],
      "source": [
        "df.dtypes"
      ]
    },
    {
      "cell_type": "code",
      "execution_count": 10,
      "id": "71afd5f7-1477-4741-b3a5-7a741de5177c",
      "metadata": {
        "id": "71afd5f7-1477-4741-b3a5-7a741de5177c",
        "outputId": "c08db300-eb64-4a62-85fb-c98d2a34f922",
        "colab": {
          "base_uri": "https://localhost:8080/",
          "height": 206
        }
      },
      "outputs": [
        {
          "output_type": "execute_result",
          "data": {
            "text/plain": [
              "  codigo   año  mes  total_cp\n",
              "0      0  2022    1       208\n",
              "1      0  2022    2       185\n",
              "2      0  2022    3       289\n",
              "3      0  2022    4       177\n",
              "4      0  2022    5       177"
            ],
            "text/html": [
              "\n",
              "  <div id=\"df-2fea6b0f-7527-4567-ac53-0b3d3cb09b16\">\n",
              "    <div class=\"colab-df-container\">\n",
              "      <div>\n",
              "<style scoped>\n",
              "    .dataframe tbody tr th:only-of-type {\n",
              "        vertical-align: middle;\n",
              "    }\n",
              "\n",
              "    .dataframe tbody tr th {\n",
              "        vertical-align: top;\n",
              "    }\n",
              "\n",
              "    .dataframe thead th {\n",
              "        text-align: right;\n",
              "    }\n",
              "</style>\n",
              "<table border=\"1\" class=\"dataframe\">\n",
              "  <thead>\n",
              "    <tr style=\"text-align: right;\">\n",
              "      <th></th>\n",
              "      <th>codigo</th>\n",
              "      <th>año</th>\n",
              "      <th>mes</th>\n",
              "      <th>total_cp</th>\n",
              "    </tr>\n",
              "  </thead>\n",
              "  <tbody>\n",
              "    <tr>\n",
              "      <th>0</th>\n",
              "      <td>0</td>\n",
              "      <td>2022</td>\n",
              "      <td>1</td>\n",
              "      <td>208</td>\n",
              "    </tr>\n",
              "    <tr>\n",
              "      <th>1</th>\n",
              "      <td>0</td>\n",
              "      <td>2022</td>\n",
              "      <td>2</td>\n",
              "      <td>185</td>\n",
              "    </tr>\n",
              "    <tr>\n",
              "      <th>2</th>\n",
              "      <td>0</td>\n",
              "      <td>2022</td>\n",
              "      <td>3</td>\n",
              "      <td>289</td>\n",
              "    </tr>\n",
              "    <tr>\n",
              "      <th>3</th>\n",
              "      <td>0</td>\n",
              "      <td>2022</td>\n",
              "      <td>4</td>\n",
              "      <td>177</td>\n",
              "    </tr>\n",
              "    <tr>\n",
              "      <th>4</th>\n",
              "      <td>0</td>\n",
              "      <td>2022</td>\n",
              "      <td>5</td>\n",
              "      <td>177</td>\n",
              "    </tr>\n",
              "  </tbody>\n",
              "</table>\n",
              "</div>\n",
              "      <button class=\"colab-df-convert\" onclick=\"convertToInteractive('df-2fea6b0f-7527-4567-ac53-0b3d3cb09b16')\"\n",
              "              title=\"Convert this dataframe to an interactive table.\"\n",
              "              style=\"display:none;\">\n",
              "        \n",
              "  <svg xmlns=\"http://www.w3.org/2000/svg\" height=\"24px\"viewBox=\"0 0 24 24\"\n",
              "       width=\"24px\">\n",
              "    <path d=\"M0 0h24v24H0V0z\" fill=\"none\"/>\n",
              "    <path d=\"M18.56 5.44l.94 2.06.94-2.06 2.06-.94-2.06-.94-.94-2.06-.94 2.06-2.06.94zm-11 1L8.5 8.5l.94-2.06 2.06-.94-2.06-.94L8.5 2.5l-.94 2.06-2.06.94zm10 10l.94 2.06.94-2.06 2.06-.94-2.06-.94-.94-2.06-.94 2.06-2.06.94z\"/><path d=\"M17.41 7.96l-1.37-1.37c-.4-.4-.92-.59-1.43-.59-.52 0-1.04.2-1.43.59L10.3 9.45l-7.72 7.72c-.78.78-.78 2.05 0 2.83L4 21.41c.39.39.9.59 1.41.59.51 0 1.02-.2 1.41-.59l7.78-7.78 2.81-2.81c.8-.78.8-2.07 0-2.86zM5.41 20L4 18.59l7.72-7.72 1.47 1.35L5.41 20z\"/>\n",
              "  </svg>\n",
              "      </button>\n",
              "      \n",
              "  <style>\n",
              "    .colab-df-container {\n",
              "      display:flex;\n",
              "      flex-wrap:wrap;\n",
              "      gap: 12px;\n",
              "    }\n",
              "\n",
              "    .colab-df-convert {\n",
              "      background-color: #E8F0FE;\n",
              "      border: none;\n",
              "      border-radius: 50%;\n",
              "      cursor: pointer;\n",
              "      display: none;\n",
              "      fill: #1967D2;\n",
              "      height: 32px;\n",
              "      padding: 0 0 0 0;\n",
              "      width: 32px;\n",
              "    }\n",
              "\n",
              "    .colab-df-convert:hover {\n",
              "      background-color: #E2EBFA;\n",
              "      box-shadow: 0px 1px 2px rgba(60, 64, 67, 0.3), 0px 1px 3px 1px rgba(60, 64, 67, 0.15);\n",
              "      fill: #174EA6;\n",
              "    }\n",
              "\n",
              "    [theme=dark] .colab-df-convert {\n",
              "      background-color: #3B4455;\n",
              "      fill: #D2E3FC;\n",
              "    }\n",
              "\n",
              "    [theme=dark] .colab-df-convert:hover {\n",
              "      background-color: #434B5C;\n",
              "      box-shadow: 0px 1px 3px 1px rgba(0, 0, 0, 0.15);\n",
              "      filter: drop-shadow(0px 1px 2px rgba(0, 0, 0, 0.3));\n",
              "      fill: #FFFFFF;\n",
              "    }\n",
              "  </style>\n",
              "\n",
              "      <script>\n",
              "        const buttonEl =\n",
              "          document.querySelector('#df-2fea6b0f-7527-4567-ac53-0b3d3cb09b16 button.colab-df-convert');\n",
              "        buttonEl.style.display =\n",
              "          google.colab.kernel.accessAllowed ? 'block' : 'none';\n",
              "\n",
              "        async function convertToInteractive(key) {\n",
              "          const element = document.querySelector('#df-2fea6b0f-7527-4567-ac53-0b3d3cb09b16');\n",
              "          const dataTable =\n",
              "            await google.colab.kernel.invokeFunction('convertToInteractive',\n",
              "                                                     [key], {});\n",
              "          if (!dataTable) return;\n",
              "\n",
              "          const docLinkHtml = 'Like what you see? Visit the ' +\n",
              "            '<a target=\"_blank\" href=https://colab.research.google.com/notebooks/data_table.ipynb>data table notebook</a>'\n",
              "            + ' to learn more about interactive tables.';\n",
              "          element.innerHTML = '';\n",
              "          dataTable['output_type'] = 'display_data';\n",
              "          await google.colab.output.renderOutput(dataTable, element);\n",
              "          const docLink = document.createElement('div');\n",
              "          docLink.innerHTML = docLinkHtml;\n",
              "          element.appendChild(docLink);\n",
              "        }\n",
              "      </script>\n",
              "    </div>\n",
              "  </div>\n",
              "  "
            ]
          },
          "metadata": {},
          "execution_count": 10
        }
      ],
      "source": [
        "df.head()"
      ]
    },
    {
      "cell_type": "code",
      "execution_count": 11,
      "id": "8744a139-8c3b-4a60-8570-ec0b595ba89a",
      "metadata": {
        "id": "8744a139-8c3b-4a60-8570-ec0b595ba89a",
        "outputId": "a1aad03a-17bf-485c-9cf4-785212ef4c01",
        "colab": {
          "base_uri": "https://localhost:8080/",
          "height": 423
        }
      },
      "outputs": [
        {
          "output_type": "execute_result",
          "data": {
            "text/plain": [
              "          codigo   año  mes  total_cp\n",
              "0              0  2022    1       208\n",
              "33      01000000  2022    1        19\n",
              "49      01001000  2022    1       172\n",
              "65      01002000  2022    1        20\n",
              "81      01003000  2022    1         7\n",
              "...          ...   ...  ...       ...\n",
              "146965  Z9050DJG  2023    4         1\n",
              "146969  Z9303XAT  2023    4         1\n",
              "146971  Z9310BDE  2023    4         1\n",
              "146990  Z9400BJA  2023    4         1\n",
              "147043  Z9403EBK  2023    4         1\n",
              "\n",
              "[147066 rows x 4 columns]"
            ],
            "text/html": [
              "\n",
              "  <div id=\"df-7cb73b9a-79f3-48d8-8645-08da7796ceba\">\n",
              "    <div class=\"colab-df-container\">\n",
              "      <div>\n",
              "<style scoped>\n",
              "    .dataframe tbody tr th:only-of-type {\n",
              "        vertical-align: middle;\n",
              "    }\n",
              "\n",
              "    .dataframe tbody tr th {\n",
              "        vertical-align: top;\n",
              "    }\n",
              "\n",
              "    .dataframe thead th {\n",
              "        text-align: right;\n",
              "    }\n",
              "</style>\n",
              "<table border=\"1\" class=\"dataframe\">\n",
              "  <thead>\n",
              "    <tr style=\"text-align: right;\">\n",
              "      <th></th>\n",
              "      <th>codigo</th>\n",
              "      <th>año</th>\n",
              "      <th>mes</th>\n",
              "      <th>total_cp</th>\n",
              "    </tr>\n",
              "  </thead>\n",
              "  <tbody>\n",
              "    <tr>\n",
              "      <th>0</th>\n",
              "      <td>0</td>\n",
              "      <td>2022</td>\n",
              "      <td>1</td>\n",
              "      <td>208</td>\n",
              "    </tr>\n",
              "    <tr>\n",
              "      <th>33</th>\n",
              "      <td>01000000</td>\n",
              "      <td>2022</td>\n",
              "      <td>1</td>\n",
              "      <td>19</td>\n",
              "    </tr>\n",
              "    <tr>\n",
              "      <th>49</th>\n",
              "      <td>01001000</td>\n",
              "      <td>2022</td>\n",
              "      <td>1</td>\n",
              "      <td>172</td>\n",
              "    </tr>\n",
              "    <tr>\n",
              "      <th>65</th>\n",
              "      <td>01002000</td>\n",
              "      <td>2022</td>\n",
              "      <td>1</td>\n",
              "      <td>20</td>\n",
              "    </tr>\n",
              "    <tr>\n",
              "      <th>81</th>\n",
              "      <td>01003000</td>\n",
              "      <td>2022</td>\n",
              "      <td>1</td>\n",
              "      <td>7</td>\n",
              "    </tr>\n",
              "    <tr>\n",
              "      <th>...</th>\n",
              "      <td>...</td>\n",
              "      <td>...</td>\n",
              "      <td>...</td>\n",
              "      <td>...</td>\n",
              "    </tr>\n",
              "    <tr>\n",
              "      <th>146965</th>\n",
              "      <td>Z9050DJG</td>\n",
              "      <td>2023</td>\n",
              "      <td>4</td>\n",
              "      <td>1</td>\n",
              "    </tr>\n",
              "    <tr>\n",
              "      <th>146969</th>\n",
              "      <td>Z9303XAT</td>\n",
              "      <td>2023</td>\n",
              "      <td>4</td>\n",
              "      <td>1</td>\n",
              "    </tr>\n",
              "    <tr>\n",
              "      <th>146971</th>\n",
              "      <td>Z9310BDE</td>\n",
              "      <td>2023</td>\n",
              "      <td>4</td>\n",
              "      <td>1</td>\n",
              "    </tr>\n",
              "    <tr>\n",
              "      <th>146990</th>\n",
              "      <td>Z9400BJA</td>\n",
              "      <td>2023</td>\n",
              "      <td>4</td>\n",
              "      <td>1</td>\n",
              "    </tr>\n",
              "    <tr>\n",
              "      <th>147043</th>\n",
              "      <td>Z9403EBK</td>\n",
              "      <td>2023</td>\n",
              "      <td>4</td>\n",
              "      <td>1</td>\n",
              "    </tr>\n",
              "  </tbody>\n",
              "</table>\n",
              "<p>147066 rows × 4 columns</p>\n",
              "</div>\n",
              "      <button class=\"colab-df-convert\" onclick=\"convertToInteractive('df-7cb73b9a-79f3-48d8-8645-08da7796ceba')\"\n",
              "              title=\"Convert this dataframe to an interactive table.\"\n",
              "              style=\"display:none;\">\n",
              "        \n",
              "  <svg xmlns=\"http://www.w3.org/2000/svg\" height=\"24px\"viewBox=\"0 0 24 24\"\n",
              "       width=\"24px\">\n",
              "    <path d=\"M0 0h24v24H0V0z\" fill=\"none\"/>\n",
              "    <path d=\"M18.56 5.44l.94 2.06.94-2.06 2.06-.94-2.06-.94-.94-2.06-.94 2.06-2.06.94zm-11 1L8.5 8.5l.94-2.06 2.06-.94-2.06-.94L8.5 2.5l-.94 2.06-2.06.94zm10 10l.94 2.06.94-2.06 2.06-.94-2.06-.94-.94-2.06-.94 2.06-2.06.94z\"/><path d=\"M17.41 7.96l-1.37-1.37c-.4-.4-.92-.59-1.43-.59-.52 0-1.04.2-1.43.59L10.3 9.45l-7.72 7.72c-.78.78-.78 2.05 0 2.83L4 21.41c.39.39.9.59 1.41.59.51 0 1.02-.2 1.41-.59l7.78-7.78 2.81-2.81c.8-.78.8-2.07 0-2.86zM5.41 20L4 18.59l7.72-7.72 1.47 1.35L5.41 20z\"/>\n",
              "  </svg>\n",
              "      </button>\n",
              "      \n",
              "  <style>\n",
              "    .colab-df-container {\n",
              "      display:flex;\n",
              "      flex-wrap:wrap;\n",
              "      gap: 12px;\n",
              "    }\n",
              "\n",
              "    .colab-df-convert {\n",
              "      background-color: #E8F0FE;\n",
              "      border: none;\n",
              "      border-radius: 50%;\n",
              "      cursor: pointer;\n",
              "      display: none;\n",
              "      fill: #1967D2;\n",
              "      height: 32px;\n",
              "      padding: 0 0 0 0;\n",
              "      width: 32px;\n",
              "    }\n",
              "\n",
              "    .colab-df-convert:hover {\n",
              "      background-color: #E2EBFA;\n",
              "      box-shadow: 0px 1px 2px rgba(60, 64, 67, 0.3), 0px 1px 3px 1px rgba(60, 64, 67, 0.15);\n",
              "      fill: #174EA6;\n",
              "    }\n",
              "\n",
              "    [theme=dark] .colab-df-convert {\n",
              "      background-color: #3B4455;\n",
              "      fill: #D2E3FC;\n",
              "    }\n",
              "\n",
              "    [theme=dark] .colab-df-convert:hover {\n",
              "      background-color: #434B5C;\n",
              "      box-shadow: 0px 1px 3px 1px rgba(0, 0, 0, 0.15);\n",
              "      filter: drop-shadow(0px 1px 2px rgba(0, 0, 0, 0.3));\n",
              "      fill: #FFFFFF;\n",
              "    }\n",
              "  </style>\n",
              "\n",
              "      <script>\n",
              "        const buttonEl =\n",
              "          document.querySelector('#df-7cb73b9a-79f3-48d8-8645-08da7796ceba button.colab-df-convert');\n",
              "        buttonEl.style.display =\n",
              "          google.colab.kernel.accessAllowed ? 'block' : 'none';\n",
              "\n",
              "        async function convertToInteractive(key) {\n",
              "          const element = document.querySelector('#df-7cb73b9a-79f3-48d8-8645-08da7796ceba');\n",
              "          const dataTable =\n",
              "            await google.colab.kernel.invokeFunction('convertToInteractive',\n",
              "                                                     [key], {});\n",
              "          if (!dataTable) return;\n",
              "\n",
              "          const docLinkHtml = 'Like what you see? Visit the ' +\n",
              "            '<a target=\"_blank\" href=https://colab.research.google.com/notebooks/data_table.ipynb>data table notebook</a>'\n",
              "            + ' to learn more about interactive tables.';\n",
              "          element.innerHTML = '';\n",
              "          dataTable['output_type'] = 'display_data';\n",
              "          await google.colab.output.renderOutput(dataTable, element);\n",
              "          const docLink = document.createElement('div');\n",
              "          docLink.innerHTML = docLinkHtml;\n",
              "          element.appendChild(docLink);\n",
              "        }\n",
              "      </script>\n",
              "    </div>\n",
              "  </div>\n",
              "  "
            ]
          },
          "metadata": {},
          "execution_count": 11
        }
      ],
      "source": [
        "df.sort_values(['año','mes'], ascending=True)"
      ]
    },
    {
      "cell_type": "markdown",
      "id": "bcd86f36-bcce-42cc-8f71-d20ff543b37f",
      "metadata": {
        "id": "bcd86f36-bcce-42cc-8f71-d20ff543b37f"
      },
      "source": [
        "#### Verificamos cantidad de registros por codigo"
      ]
    },
    {
      "cell_type": "code",
      "execution_count": 12,
      "id": "4739908b-5a93-4130-b518-8fbdd707f843",
      "metadata": {
        "id": "4739908b-5a93-4130-b518-8fbdd707f843"
      },
      "outputs": [],
      "source": [
        "codigos = df.value_counts('codigo')"
      ]
    },
    {
      "cell_type": "code",
      "execution_count": 13,
      "id": "a96d99d7-1974-40dd-87ec-98946f69d01a",
      "metadata": {
        "id": "a96d99d7-1974-40dd-87ec-98946f69d01a"
      },
      "outputs": [],
      "source": [
        "mayores_a_15 = codigos[codigos > 15]"
      ]
    },
    {
      "cell_type": "code",
      "execution_count": 14,
      "id": "2e3f7f52-03b5-4302-8fc5-a9b7caef1fee",
      "metadata": {
        "id": "2e3f7f52-03b5-4302-8fc5-a9b7caef1fee"
      },
      "outputs": [],
      "source": [
        "df = df[df['codigo'].isin(mayores_a_15.index)]"
      ]
    },
    {
      "cell_type": "code",
      "execution_count": 15,
      "id": "b9d5c753-32ef-4b0f-b17f-a513cf950f52",
      "metadata": {
        "id": "b9d5c753-32ef-4b0f-b17f-a513cf950f52",
        "outputId": "d90d0cb8-cb91-4bd0-e39a-8b4cf72770de",
        "colab": {
          "base_uri": "https://localhost:8080/",
          "height": 423
        }
      },
      "outputs": [
        {
          "output_type": "execute_result",
          "data": {
            "text/plain": [
              "          codigo   año  mes  total_cp\n",
              "0              0  2022    1       208\n",
              "1              0  2022    2       185\n",
              "2              0  2022    3       289\n",
              "3              0  2022    4       177\n",
              "4              0  2022    5       177\n",
              "...          ...   ...  ...       ...\n",
              "146961  Z9050DJG  2022   12         2\n",
              "146962  Z9050DJG  2023    1         2\n",
              "146963  Z9050DJG  2023    2         6\n",
              "146964  Z9050DJG  2023    3         1\n",
              "146965  Z9050DJG  2023    4         1\n",
              "\n",
              "[25440 rows x 4 columns]"
            ],
            "text/html": [
              "\n",
              "  <div id=\"df-8b714fc3-6841-4c9f-9848-92be69add62b\">\n",
              "    <div class=\"colab-df-container\">\n",
              "      <div>\n",
              "<style scoped>\n",
              "    .dataframe tbody tr th:only-of-type {\n",
              "        vertical-align: middle;\n",
              "    }\n",
              "\n",
              "    .dataframe tbody tr th {\n",
              "        vertical-align: top;\n",
              "    }\n",
              "\n",
              "    .dataframe thead th {\n",
              "        text-align: right;\n",
              "    }\n",
              "</style>\n",
              "<table border=\"1\" class=\"dataframe\">\n",
              "  <thead>\n",
              "    <tr style=\"text-align: right;\">\n",
              "      <th></th>\n",
              "      <th>codigo</th>\n",
              "      <th>año</th>\n",
              "      <th>mes</th>\n",
              "      <th>total_cp</th>\n",
              "    </tr>\n",
              "  </thead>\n",
              "  <tbody>\n",
              "    <tr>\n",
              "      <th>0</th>\n",
              "      <td>0</td>\n",
              "      <td>2022</td>\n",
              "      <td>1</td>\n",
              "      <td>208</td>\n",
              "    </tr>\n",
              "    <tr>\n",
              "      <th>1</th>\n",
              "      <td>0</td>\n",
              "      <td>2022</td>\n",
              "      <td>2</td>\n",
              "      <td>185</td>\n",
              "    </tr>\n",
              "    <tr>\n",
              "      <th>2</th>\n",
              "      <td>0</td>\n",
              "      <td>2022</td>\n",
              "      <td>3</td>\n",
              "      <td>289</td>\n",
              "    </tr>\n",
              "    <tr>\n",
              "      <th>3</th>\n",
              "      <td>0</td>\n",
              "      <td>2022</td>\n",
              "      <td>4</td>\n",
              "      <td>177</td>\n",
              "    </tr>\n",
              "    <tr>\n",
              "      <th>4</th>\n",
              "      <td>0</td>\n",
              "      <td>2022</td>\n",
              "      <td>5</td>\n",
              "      <td>177</td>\n",
              "    </tr>\n",
              "    <tr>\n",
              "      <th>...</th>\n",
              "      <td>...</td>\n",
              "      <td>...</td>\n",
              "      <td>...</td>\n",
              "      <td>...</td>\n",
              "    </tr>\n",
              "    <tr>\n",
              "      <th>146961</th>\n",
              "      <td>Z9050DJG</td>\n",
              "      <td>2022</td>\n",
              "      <td>12</td>\n",
              "      <td>2</td>\n",
              "    </tr>\n",
              "    <tr>\n",
              "      <th>146962</th>\n",
              "      <td>Z9050DJG</td>\n",
              "      <td>2023</td>\n",
              "      <td>1</td>\n",
              "      <td>2</td>\n",
              "    </tr>\n",
              "    <tr>\n",
              "      <th>146963</th>\n",
              "      <td>Z9050DJG</td>\n",
              "      <td>2023</td>\n",
              "      <td>2</td>\n",
              "      <td>6</td>\n",
              "    </tr>\n",
              "    <tr>\n",
              "      <th>146964</th>\n",
              "      <td>Z9050DJG</td>\n",
              "      <td>2023</td>\n",
              "      <td>3</td>\n",
              "      <td>1</td>\n",
              "    </tr>\n",
              "    <tr>\n",
              "      <th>146965</th>\n",
              "      <td>Z9050DJG</td>\n",
              "      <td>2023</td>\n",
              "      <td>4</td>\n",
              "      <td>1</td>\n",
              "    </tr>\n",
              "  </tbody>\n",
              "</table>\n",
              "<p>25440 rows × 4 columns</p>\n",
              "</div>\n",
              "      <button class=\"colab-df-convert\" onclick=\"convertToInteractive('df-8b714fc3-6841-4c9f-9848-92be69add62b')\"\n",
              "              title=\"Convert this dataframe to an interactive table.\"\n",
              "              style=\"display:none;\">\n",
              "        \n",
              "  <svg xmlns=\"http://www.w3.org/2000/svg\" height=\"24px\"viewBox=\"0 0 24 24\"\n",
              "       width=\"24px\">\n",
              "    <path d=\"M0 0h24v24H0V0z\" fill=\"none\"/>\n",
              "    <path d=\"M18.56 5.44l.94 2.06.94-2.06 2.06-.94-2.06-.94-.94-2.06-.94 2.06-2.06.94zm-11 1L8.5 8.5l.94-2.06 2.06-.94-2.06-.94L8.5 2.5l-.94 2.06-2.06.94zm10 10l.94 2.06.94-2.06 2.06-.94-2.06-.94-.94-2.06-.94 2.06-2.06.94z\"/><path d=\"M17.41 7.96l-1.37-1.37c-.4-.4-.92-.59-1.43-.59-.52 0-1.04.2-1.43.59L10.3 9.45l-7.72 7.72c-.78.78-.78 2.05 0 2.83L4 21.41c.39.39.9.59 1.41.59.51 0 1.02-.2 1.41-.59l7.78-7.78 2.81-2.81c.8-.78.8-2.07 0-2.86zM5.41 20L4 18.59l7.72-7.72 1.47 1.35L5.41 20z\"/>\n",
              "  </svg>\n",
              "      </button>\n",
              "      \n",
              "  <style>\n",
              "    .colab-df-container {\n",
              "      display:flex;\n",
              "      flex-wrap:wrap;\n",
              "      gap: 12px;\n",
              "    }\n",
              "\n",
              "    .colab-df-convert {\n",
              "      background-color: #E8F0FE;\n",
              "      border: none;\n",
              "      border-radius: 50%;\n",
              "      cursor: pointer;\n",
              "      display: none;\n",
              "      fill: #1967D2;\n",
              "      height: 32px;\n",
              "      padding: 0 0 0 0;\n",
              "      width: 32px;\n",
              "    }\n",
              "\n",
              "    .colab-df-convert:hover {\n",
              "      background-color: #E2EBFA;\n",
              "      box-shadow: 0px 1px 2px rgba(60, 64, 67, 0.3), 0px 1px 3px 1px rgba(60, 64, 67, 0.15);\n",
              "      fill: #174EA6;\n",
              "    }\n",
              "\n",
              "    [theme=dark] .colab-df-convert {\n",
              "      background-color: #3B4455;\n",
              "      fill: #D2E3FC;\n",
              "    }\n",
              "\n",
              "    [theme=dark] .colab-df-convert:hover {\n",
              "      background-color: #434B5C;\n",
              "      box-shadow: 0px 1px 3px 1px rgba(0, 0, 0, 0.15);\n",
              "      filter: drop-shadow(0px 1px 2px rgba(0, 0, 0, 0.3));\n",
              "      fill: #FFFFFF;\n",
              "    }\n",
              "  </style>\n",
              "\n",
              "      <script>\n",
              "        const buttonEl =\n",
              "          document.querySelector('#df-8b714fc3-6841-4c9f-9848-92be69add62b button.colab-df-convert');\n",
              "        buttonEl.style.display =\n",
              "          google.colab.kernel.accessAllowed ? 'block' : 'none';\n",
              "\n",
              "        async function convertToInteractive(key) {\n",
              "          const element = document.querySelector('#df-8b714fc3-6841-4c9f-9848-92be69add62b');\n",
              "          const dataTable =\n",
              "            await google.colab.kernel.invokeFunction('convertToInteractive',\n",
              "                                                     [key], {});\n",
              "          if (!dataTable) return;\n",
              "\n",
              "          const docLinkHtml = 'Like what you see? Visit the ' +\n",
              "            '<a target=\"_blank\" href=https://colab.research.google.com/notebooks/data_table.ipynb>data table notebook</a>'\n",
              "            + ' to learn more about interactive tables.';\n",
              "          element.innerHTML = '';\n",
              "          dataTable['output_type'] = 'display_data';\n",
              "          await google.colab.output.renderOutput(dataTable, element);\n",
              "          const docLink = document.createElement('div');\n",
              "          docLink.innerHTML = docLinkHtml;\n",
              "          element.appendChild(docLink);\n",
              "        }\n",
              "      </script>\n",
              "    </div>\n",
              "  </div>\n",
              "  "
            ]
          },
          "metadata": {},
          "execution_count": 15
        }
      ],
      "source": [
        "df"
      ]
    },
    {
      "cell_type": "markdown",
      "id": "a8b9b789-aa2c-4414-bcd4-f01e7f78a50d",
      "metadata": {
        "id": "a8b9b789-aa2c-4414-bcd4-f01e7f78a50d"
      },
      "source": [
        "### Transformacion"
      ]
    },
    {
      "cell_type": "markdown",
      "id": "8bf74931-311d-4603-8b11-98ca271eaa0c",
      "metadata": {
        "id": "8bf74931-311d-4603-8b11-98ca271eaa0c"
      },
      "source": [
        "#### LabelEncoder"
      ]
    },
    {
      "cell_type": "code",
      "execution_count": 16,
      "id": "1b1d8803-8fb0-48c4-814d-e5231a213670",
      "metadata": {
        "id": "1b1d8803-8fb0-48c4-814d-e5231a213670"
      },
      "outputs": [],
      "source": [
        "from sklearn.preprocessing import LabelEncoder"
      ]
    },
    {
      "cell_type": "code",
      "execution_count": 17,
      "id": "74b3f540-7c43-4f12-88fc-c021c18c66e1",
      "metadata": {
        "id": "74b3f540-7c43-4f12-88fc-c021c18c66e1"
      },
      "outputs": [],
      "source": [
        "# Crear una instancia de OneHotEncoder\n",
        "encoder = LabelEncoder()"
      ]
    },
    {
      "cell_type": "code",
      "execution_count": 18,
      "id": "0260c28a-e390-429b-8c16-f783c050c34e",
      "metadata": {
        "tags": [],
        "id": "0260c28a-e390-429b-8c16-f783c050c34e"
      },
      "outputs": [],
      "source": [
        "# Codificar los valores alfanuméricos\n",
        "X_encoded = encoder.fit_transform(df.codigo.values.reshape(-1,))"
      ]
    },
    {
      "cell_type": "code",
      "execution_count": 19,
      "id": "d90043c0-4ae8-40b1-93c8-b446358d229f",
      "metadata": {
        "id": "d90043c0-4ae8-40b1-93c8-b446358d229f",
        "outputId": "0b36dfd6-8b36-4177-9d00-e8bdb1709a84",
        "colab": {
          "base_uri": "https://localhost:8080/"
        }
      },
      "outputs": [
        {
          "output_type": "execute_result",
          "data": {
            "text/plain": [
              "(25440,)"
            ]
          },
          "metadata": {},
          "execution_count": 19
        }
      ],
      "source": [
        "X_encoded.shape"
      ]
    },
    {
      "cell_type": "code",
      "execution_count": 20,
      "id": "bccd055b-8e15-4cb2-84b2-128aa02a32cb",
      "metadata": {
        "id": "bccd055b-8e15-4cb2-84b2-128aa02a32cb",
        "outputId": "29149ae8-6ee2-452f-c329-1dc061c79590",
        "colab": {
          "base_uri": "https://localhost:8080/",
          "height": 423
        }
      },
      "outputs": [
        {
          "output_type": "execute_result",
          "data": {
            "text/plain": [
              "          0\n",
              "0         0\n",
              "1         0\n",
              "2         0\n",
              "3         0\n",
              "4         0\n",
              "...     ...\n",
              "25435  1589\n",
              "25436  1589\n",
              "25437  1589\n",
              "25438  1589\n",
              "25439  1589\n",
              "\n",
              "[25440 rows x 1 columns]"
            ],
            "text/html": [
              "\n",
              "  <div id=\"df-3fd56f9b-600e-4717-bc9b-8237bc0096b4\">\n",
              "    <div class=\"colab-df-container\">\n",
              "      <div>\n",
              "<style scoped>\n",
              "    .dataframe tbody tr th:only-of-type {\n",
              "        vertical-align: middle;\n",
              "    }\n",
              "\n",
              "    .dataframe tbody tr th {\n",
              "        vertical-align: top;\n",
              "    }\n",
              "\n",
              "    .dataframe thead th {\n",
              "        text-align: right;\n",
              "    }\n",
              "</style>\n",
              "<table border=\"1\" class=\"dataframe\">\n",
              "  <thead>\n",
              "    <tr style=\"text-align: right;\">\n",
              "      <th></th>\n",
              "      <th>0</th>\n",
              "    </tr>\n",
              "  </thead>\n",
              "  <tbody>\n",
              "    <tr>\n",
              "      <th>0</th>\n",
              "      <td>0</td>\n",
              "    </tr>\n",
              "    <tr>\n",
              "      <th>1</th>\n",
              "      <td>0</td>\n",
              "    </tr>\n",
              "    <tr>\n",
              "      <th>2</th>\n",
              "      <td>0</td>\n",
              "    </tr>\n",
              "    <tr>\n",
              "      <th>3</th>\n",
              "      <td>0</td>\n",
              "    </tr>\n",
              "    <tr>\n",
              "      <th>4</th>\n",
              "      <td>0</td>\n",
              "    </tr>\n",
              "    <tr>\n",
              "      <th>...</th>\n",
              "      <td>...</td>\n",
              "    </tr>\n",
              "    <tr>\n",
              "      <th>25435</th>\n",
              "      <td>1589</td>\n",
              "    </tr>\n",
              "    <tr>\n",
              "      <th>25436</th>\n",
              "      <td>1589</td>\n",
              "    </tr>\n",
              "    <tr>\n",
              "      <th>25437</th>\n",
              "      <td>1589</td>\n",
              "    </tr>\n",
              "    <tr>\n",
              "      <th>25438</th>\n",
              "      <td>1589</td>\n",
              "    </tr>\n",
              "    <tr>\n",
              "      <th>25439</th>\n",
              "      <td>1589</td>\n",
              "    </tr>\n",
              "  </tbody>\n",
              "</table>\n",
              "<p>25440 rows × 1 columns</p>\n",
              "</div>\n",
              "      <button class=\"colab-df-convert\" onclick=\"convertToInteractive('df-3fd56f9b-600e-4717-bc9b-8237bc0096b4')\"\n",
              "              title=\"Convert this dataframe to an interactive table.\"\n",
              "              style=\"display:none;\">\n",
              "        \n",
              "  <svg xmlns=\"http://www.w3.org/2000/svg\" height=\"24px\"viewBox=\"0 0 24 24\"\n",
              "       width=\"24px\">\n",
              "    <path d=\"M0 0h24v24H0V0z\" fill=\"none\"/>\n",
              "    <path d=\"M18.56 5.44l.94 2.06.94-2.06 2.06-.94-2.06-.94-.94-2.06-.94 2.06-2.06.94zm-11 1L8.5 8.5l.94-2.06 2.06-.94-2.06-.94L8.5 2.5l-.94 2.06-2.06.94zm10 10l.94 2.06.94-2.06 2.06-.94-2.06-.94-.94-2.06-.94 2.06-2.06.94z\"/><path d=\"M17.41 7.96l-1.37-1.37c-.4-.4-.92-.59-1.43-.59-.52 0-1.04.2-1.43.59L10.3 9.45l-7.72 7.72c-.78.78-.78 2.05 0 2.83L4 21.41c.39.39.9.59 1.41.59.51 0 1.02-.2 1.41-.59l7.78-7.78 2.81-2.81c.8-.78.8-2.07 0-2.86zM5.41 20L4 18.59l7.72-7.72 1.47 1.35L5.41 20z\"/>\n",
              "  </svg>\n",
              "      </button>\n",
              "      \n",
              "  <style>\n",
              "    .colab-df-container {\n",
              "      display:flex;\n",
              "      flex-wrap:wrap;\n",
              "      gap: 12px;\n",
              "    }\n",
              "\n",
              "    .colab-df-convert {\n",
              "      background-color: #E8F0FE;\n",
              "      border: none;\n",
              "      border-radius: 50%;\n",
              "      cursor: pointer;\n",
              "      display: none;\n",
              "      fill: #1967D2;\n",
              "      height: 32px;\n",
              "      padding: 0 0 0 0;\n",
              "      width: 32px;\n",
              "    }\n",
              "\n",
              "    .colab-df-convert:hover {\n",
              "      background-color: #E2EBFA;\n",
              "      box-shadow: 0px 1px 2px rgba(60, 64, 67, 0.3), 0px 1px 3px 1px rgba(60, 64, 67, 0.15);\n",
              "      fill: #174EA6;\n",
              "    }\n",
              "\n",
              "    [theme=dark] .colab-df-convert {\n",
              "      background-color: #3B4455;\n",
              "      fill: #D2E3FC;\n",
              "    }\n",
              "\n",
              "    [theme=dark] .colab-df-convert:hover {\n",
              "      background-color: #434B5C;\n",
              "      box-shadow: 0px 1px 3px 1px rgba(0, 0, 0, 0.15);\n",
              "      filter: drop-shadow(0px 1px 2px rgba(0, 0, 0, 0.3));\n",
              "      fill: #FFFFFF;\n",
              "    }\n",
              "  </style>\n",
              "\n",
              "      <script>\n",
              "        const buttonEl =\n",
              "          document.querySelector('#df-3fd56f9b-600e-4717-bc9b-8237bc0096b4 button.colab-df-convert');\n",
              "        buttonEl.style.display =\n",
              "          google.colab.kernel.accessAllowed ? 'block' : 'none';\n",
              "\n",
              "        async function convertToInteractive(key) {\n",
              "          const element = document.querySelector('#df-3fd56f9b-600e-4717-bc9b-8237bc0096b4');\n",
              "          const dataTable =\n",
              "            await google.colab.kernel.invokeFunction('convertToInteractive',\n",
              "                                                     [key], {});\n",
              "          if (!dataTable) return;\n",
              "\n",
              "          const docLinkHtml = 'Like what you see? Visit the ' +\n",
              "            '<a target=\"_blank\" href=https://colab.research.google.com/notebooks/data_table.ipynb>data table notebook</a>'\n",
              "            + ' to learn more about interactive tables.';\n",
              "          element.innerHTML = '';\n",
              "          dataTable['output_type'] = 'display_data';\n",
              "          await google.colab.output.renderOutput(dataTable, element);\n",
              "          const docLink = document.createElement('div');\n",
              "          docLink.innerHTML = docLinkHtml;\n",
              "          element.appendChild(docLink);\n",
              "        }\n",
              "      </script>\n",
              "    </div>\n",
              "  </div>\n",
              "  "
            ]
          },
          "metadata": {},
          "execution_count": 20
        }
      ],
      "source": [
        "pd.DataFrame(X_encoded)"
      ]
    },
    {
      "cell_type": "markdown",
      "id": "c7aeb951-b8e7-4e6b-9eea-15ca3d61513b",
      "metadata": {
        "id": "c7aeb951-b8e7-4e6b-9eea-15ca3d61513b"
      },
      "source": [
        "#### Embeddings"
      ]
    },
    {
      "cell_type": "code",
      "execution_count": 21,
      "id": "993b6bc0-be93-48c4-a22c-528fee7ef3de",
      "metadata": {
        "id": "993b6bc0-be93-48c4-a22c-528fee7ef3de"
      },
      "outputs": [],
      "source": [
        "tamano_embedding = 10"
      ]
    },
    {
      "cell_type": "code",
      "execution_count": 22,
      "id": "418dc630-a060-4fde-9da8-e3b1217ba441",
      "metadata": {
        "id": "418dc630-a060-4fde-9da8-e3b1217ba441"
      },
      "outputs": [],
      "source": [
        "matriz_embedding = np.random.rand(len(encoder.classes_), tamano_embedding)"
      ]
    },
    {
      "cell_type": "code",
      "execution_count": 23,
      "id": "282b545d-0753-4055-8716-8493b7022ac9",
      "metadata": {
        "id": "282b545d-0753-4055-8716-8493b7022ac9",
        "outputId": "2652b7cf-ce92-4738-ab02-a6ebd670a03c",
        "colab": {
          "base_uri": "https://localhost:8080/"
        }
      },
      "outputs": [
        {
          "output_type": "execute_result",
          "data": {
            "text/plain": [
              "array([[0.9972881 , 0.72233924, 0.49182979, ..., 0.88863781, 0.69317164,\n",
              "        0.62230811],\n",
              "       [0.51032343, 0.65583849, 0.10267409, ..., 0.6957942 , 0.02132704,\n",
              "        0.51997728],\n",
              "       [0.78814412, 0.45233526, 0.3380074 , ..., 0.04235339, 0.91624229,\n",
              "        0.70736322],\n",
              "       ...,\n",
              "       [0.83825385, 0.70435301, 0.71854348, ..., 0.3023683 , 0.76401081,\n",
              "        0.77783333],\n",
              "       [0.36578891, 0.42850548, 0.80623576, ..., 0.22089083, 0.32580229,\n",
              "        0.8933824 ],\n",
              "       [0.67077806, 0.35671467, 0.74049862, ..., 0.9087803 , 0.4662387 ,\n",
              "        0.54555108]])"
            ]
          },
          "metadata": {},
          "execution_count": 23
        }
      ],
      "source": [
        "matriz_embedding"
      ]
    },
    {
      "cell_type": "code",
      "execution_count": 24,
      "id": "0a70927e-2f4e-47b1-b756-306f0921fba8",
      "metadata": {
        "id": "0a70927e-2f4e-47b1-b756-306f0921fba8",
        "outputId": "7d72d0c0-bfc6-4f4d-ac5d-4cb4df78cbb3",
        "colab": {
          "base_uri": "https://localhost:8080/"
        }
      },
      "outputs": [
        {
          "output_type": "execute_result",
          "data": {
            "text/plain": [
              "array(['0', '01000000', '01001000', ..., 'Y4612JYI', 'Y4612XAI',\n",
              "       'Z9050DJG'], dtype=object)"
            ]
          },
          "metadata": {},
          "execution_count": 24
        }
      ],
      "source": [
        "encoder.classes_"
      ]
    },
    {
      "cell_type": "code",
      "execution_count": 25,
      "id": "9353964d-a402-4647-b703-71af49a76533",
      "metadata": {
        "id": "9353964d-a402-4647-b703-71af49a76533"
      },
      "outputs": [],
      "source": [
        "# Vectores de embeddings asociados a un valor por cada atributo\n",
        "atributos_embeddings = matriz_embedding[X_encoded]"
      ]
    },
    {
      "cell_type": "code",
      "execution_count": 26,
      "id": "c2e59222-deec-42e5-aab8-76deba25d7f5",
      "metadata": {
        "id": "c2e59222-deec-42e5-aab8-76deba25d7f5",
        "outputId": "2d5decac-f397-4732-9d30-b211e9500bb8",
        "colab": {
          "base_uri": "https://localhost:8080/"
        }
      },
      "outputs": [
        {
          "output_type": "execute_result",
          "data": {
            "text/plain": [
              "(25440, 10)"
            ]
          },
          "metadata": {},
          "execution_count": 26
        }
      ],
      "source": [
        "atributos_embeddings.shape"
      ]
    },
    {
      "cell_type": "markdown",
      "id": "24abcfb3-f8c8-4d7e-b1bd-2fa670d27749",
      "metadata": {
        "id": "24abcfb3-f8c8-4d7e-b1bd-2fa670d27749"
      },
      "source": [
        "#### Verificacion embeddings"
      ]
    },
    {
      "cell_type": "code",
      "execution_count": 27,
      "id": "8c5df68f-afe7-469c-826c-1fe17580b1ed",
      "metadata": {
        "id": "8c5df68f-afe7-469c-826c-1fe17580b1ed",
        "outputId": "7d9b94f0-7731-4f5c-aaa0-b98f4d899738",
        "colab": {
          "base_uri": "https://localhost:8080/",
          "height": 36
        }
      },
      "outputs": [
        {
          "output_type": "execute_result",
          "data": {
            "text/plain": [
              "'0'"
            ],
            "application/vnd.google.colaboratory.intrinsic+json": {
              "type": "string"
            }
          },
          "metadata": {},
          "execution_count": 27
        }
      ],
      "source": [
        "i = 0\n",
        "encoder.classes_[i]"
      ]
    },
    {
      "cell_type": "code",
      "execution_count": 28,
      "id": "ee15331d-fee9-498c-9371-e191bb062aba",
      "metadata": {
        "id": "ee15331d-fee9-498c-9371-e191bb062aba",
        "outputId": "fc30fb2d-8707-4219-c7cc-33d0c710d6de",
        "colab": {
          "base_uri": "https://localhost:8080/"
        }
      },
      "outputs": [
        {
          "output_type": "execute_result",
          "data": {
            "text/plain": [
              "array([0.9972881 , 0.72233924, 0.49182979, 0.48438267, 0.30315496,\n",
              "       0.89499204, 0.64328349, 0.88863781, 0.69317164, 0.62230811])"
            ]
          },
          "metadata": {},
          "execution_count": 28
        }
      ],
      "source": [
        "matriz_embedding[i]"
      ]
    },
    {
      "cell_type": "code",
      "execution_count": 29,
      "id": "8a04dd88-cc0c-4674-8f31-afa0fe8b6c36",
      "metadata": {
        "id": "8a04dd88-cc0c-4674-8f31-afa0fe8b6c36",
        "outputId": "a6d93f68-bf61-47b3-e8b3-b461d52b5c55",
        "colab": {
          "base_uri": "https://localhost:8080/"
        }
      },
      "outputs": [
        {
          "output_type": "execute_result",
          "data": {
            "text/plain": [
              "(1590, 10)"
            ]
          },
          "metadata": {},
          "execution_count": 29
        }
      ],
      "source": [
        "matriz_embedding.shape"
      ]
    },
    {
      "cell_type": "markdown",
      "id": "6cf83f6d-a9a5-4aee-8de2-db60660d7689",
      "metadata": {
        "id": "6cf83f6d-a9a5-4aee-8de2-db60660d7689"
      },
      "source": [
        "#### Dataframe con datos de embeddings"
      ]
    },
    {
      "cell_type": "code",
      "execution_count": 30,
      "id": "5754823a-7335-44d8-b262-d38f5edd80ce",
      "metadata": {
        "id": "5754823a-7335-44d8-b262-d38f5edd80ce"
      },
      "outputs": [],
      "source": [
        "# Creamos un nuevo dataframe con los valores del embedding\n",
        "embedding_df = pd.DataFrame(matriz_embedding, columns=[f'emb_{i}' for i in range(matriz_embedding.shape[1])])"
      ]
    },
    {
      "cell_type": "code",
      "execution_count": 31,
      "id": "20c22010-61cc-446d-b9e2-2971d18c512c",
      "metadata": {
        "id": "20c22010-61cc-446d-b9e2-2971d18c512c",
        "outputId": "0beaa733-0112-4634-99fe-66d9118c2138",
        "colab": {
          "base_uri": "https://localhost:8080/",
          "height": 423
        }
      },
      "outputs": [
        {
          "output_type": "execute_result",
          "data": {
            "text/plain": [
              "         emb_0     emb_1     emb_2     emb_3     emb_4     emb_5     emb_6  \\\n",
              "0     0.997288  0.722339  0.491830  0.484383  0.303155  0.894992  0.643283   \n",
              "1     0.510323  0.655838  0.102674  0.804542  0.425487  0.969067  0.802337   \n",
              "2     0.788144  0.452335  0.338007  0.441840  0.056449  0.944821  0.179504   \n",
              "3     0.756796  0.765164  0.449317  0.206615  0.605037  0.715834  0.713558   \n",
              "4     0.468919  0.612125  0.511812  0.665943  0.174710  0.120879  0.137432   \n",
              "...        ...       ...       ...       ...       ...       ...       ...   \n",
              "1585  0.140246  0.064964  0.434317  0.350513  0.053225  0.073855  0.559453   \n",
              "1586  0.876218  0.336936  0.606793  0.933386  0.530643  0.352442  0.335586   \n",
              "1587  0.838254  0.704353  0.718543  0.540439  0.384442  0.698131  0.314242   \n",
              "1588  0.365789  0.428505  0.806236  0.007564  0.284903  0.359390  0.091089   \n",
              "1589  0.670778  0.356715  0.740499  0.282629  0.124600  0.505185  0.269567   \n",
              "\n",
              "         emb_7     emb_8     emb_9  \n",
              "0     0.888638  0.693172  0.622308  \n",
              "1     0.695794  0.021327  0.519977  \n",
              "2     0.042353  0.916242  0.707363  \n",
              "3     0.672896  0.835298  0.619509  \n",
              "4     0.087904  0.412039  0.510312  \n",
              "...        ...       ...       ...  \n",
              "1585  0.171776  0.260084  0.780671  \n",
              "1586  0.903331  0.344642  0.477357  \n",
              "1587  0.302368  0.764011  0.777833  \n",
              "1588  0.220891  0.325802  0.893382  \n",
              "1589  0.908780  0.466239  0.545551  \n",
              "\n",
              "[1590 rows x 10 columns]"
            ],
            "text/html": [
              "\n",
              "  <div id=\"df-5f5b3305-57f2-49ff-b748-3fb0ceb0bce8\">\n",
              "    <div class=\"colab-df-container\">\n",
              "      <div>\n",
              "<style scoped>\n",
              "    .dataframe tbody tr th:only-of-type {\n",
              "        vertical-align: middle;\n",
              "    }\n",
              "\n",
              "    .dataframe tbody tr th {\n",
              "        vertical-align: top;\n",
              "    }\n",
              "\n",
              "    .dataframe thead th {\n",
              "        text-align: right;\n",
              "    }\n",
              "</style>\n",
              "<table border=\"1\" class=\"dataframe\">\n",
              "  <thead>\n",
              "    <tr style=\"text-align: right;\">\n",
              "      <th></th>\n",
              "      <th>emb_0</th>\n",
              "      <th>emb_1</th>\n",
              "      <th>emb_2</th>\n",
              "      <th>emb_3</th>\n",
              "      <th>emb_4</th>\n",
              "      <th>emb_5</th>\n",
              "      <th>emb_6</th>\n",
              "      <th>emb_7</th>\n",
              "      <th>emb_8</th>\n",
              "      <th>emb_9</th>\n",
              "    </tr>\n",
              "  </thead>\n",
              "  <tbody>\n",
              "    <tr>\n",
              "      <th>0</th>\n",
              "      <td>0.997288</td>\n",
              "      <td>0.722339</td>\n",
              "      <td>0.491830</td>\n",
              "      <td>0.484383</td>\n",
              "      <td>0.303155</td>\n",
              "      <td>0.894992</td>\n",
              "      <td>0.643283</td>\n",
              "      <td>0.888638</td>\n",
              "      <td>0.693172</td>\n",
              "      <td>0.622308</td>\n",
              "    </tr>\n",
              "    <tr>\n",
              "      <th>1</th>\n",
              "      <td>0.510323</td>\n",
              "      <td>0.655838</td>\n",
              "      <td>0.102674</td>\n",
              "      <td>0.804542</td>\n",
              "      <td>0.425487</td>\n",
              "      <td>0.969067</td>\n",
              "      <td>0.802337</td>\n",
              "      <td>0.695794</td>\n",
              "      <td>0.021327</td>\n",
              "      <td>0.519977</td>\n",
              "    </tr>\n",
              "    <tr>\n",
              "      <th>2</th>\n",
              "      <td>0.788144</td>\n",
              "      <td>0.452335</td>\n",
              "      <td>0.338007</td>\n",
              "      <td>0.441840</td>\n",
              "      <td>0.056449</td>\n",
              "      <td>0.944821</td>\n",
              "      <td>0.179504</td>\n",
              "      <td>0.042353</td>\n",
              "      <td>0.916242</td>\n",
              "      <td>0.707363</td>\n",
              "    </tr>\n",
              "    <tr>\n",
              "      <th>3</th>\n",
              "      <td>0.756796</td>\n",
              "      <td>0.765164</td>\n",
              "      <td>0.449317</td>\n",
              "      <td>0.206615</td>\n",
              "      <td>0.605037</td>\n",
              "      <td>0.715834</td>\n",
              "      <td>0.713558</td>\n",
              "      <td>0.672896</td>\n",
              "      <td>0.835298</td>\n",
              "      <td>0.619509</td>\n",
              "    </tr>\n",
              "    <tr>\n",
              "      <th>4</th>\n",
              "      <td>0.468919</td>\n",
              "      <td>0.612125</td>\n",
              "      <td>0.511812</td>\n",
              "      <td>0.665943</td>\n",
              "      <td>0.174710</td>\n",
              "      <td>0.120879</td>\n",
              "      <td>0.137432</td>\n",
              "      <td>0.087904</td>\n",
              "      <td>0.412039</td>\n",
              "      <td>0.510312</td>\n",
              "    </tr>\n",
              "    <tr>\n",
              "      <th>...</th>\n",
              "      <td>...</td>\n",
              "      <td>...</td>\n",
              "      <td>...</td>\n",
              "      <td>...</td>\n",
              "      <td>...</td>\n",
              "      <td>...</td>\n",
              "      <td>...</td>\n",
              "      <td>...</td>\n",
              "      <td>...</td>\n",
              "      <td>...</td>\n",
              "    </tr>\n",
              "    <tr>\n",
              "      <th>1585</th>\n",
              "      <td>0.140246</td>\n",
              "      <td>0.064964</td>\n",
              "      <td>0.434317</td>\n",
              "      <td>0.350513</td>\n",
              "      <td>0.053225</td>\n",
              "      <td>0.073855</td>\n",
              "      <td>0.559453</td>\n",
              "      <td>0.171776</td>\n",
              "      <td>0.260084</td>\n",
              "      <td>0.780671</td>\n",
              "    </tr>\n",
              "    <tr>\n",
              "      <th>1586</th>\n",
              "      <td>0.876218</td>\n",
              "      <td>0.336936</td>\n",
              "      <td>0.606793</td>\n",
              "      <td>0.933386</td>\n",
              "      <td>0.530643</td>\n",
              "      <td>0.352442</td>\n",
              "      <td>0.335586</td>\n",
              "      <td>0.903331</td>\n",
              "      <td>0.344642</td>\n",
              "      <td>0.477357</td>\n",
              "    </tr>\n",
              "    <tr>\n",
              "      <th>1587</th>\n",
              "      <td>0.838254</td>\n",
              "      <td>0.704353</td>\n",
              "      <td>0.718543</td>\n",
              "      <td>0.540439</td>\n",
              "      <td>0.384442</td>\n",
              "      <td>0.698131</td>\n",
              "      <td>0.314242</td>\n",
              "      <td>0.302368</td>\n",
              "      <td>0.764011</td>\n",
              "      <td>0.777833</td>\n",
              "    </tr>\n",
              "    <tr>\n",
              "      <th>1588</th>\n",
              "      <td>0.365789</td>\n",
              "      <td>0.428505</td>\n",
              "      <td>0.806236</td>\n",
              "      <td>0.007564</td>\n",
              "      <td>0.284903</td>\n",
              "      <td>0.359390</td>\n",
              "      <td>0.091089</td>\n",
              "      <td>0.220891</td>\n",
              "      <td>0.325802</td>\n",
              "      <td>0.893382</td>\n",
              "    </tr>\n",
              "    <tr>\n",
              "      <th>1589</th>\n",
              "      <td>0.670778</td>\n",
              "      <td>0.356715</td>\n",
              "      <td>0.740499</td>\n",
              "      <td>0.282629</td>\n",
              "      <td>0.124600</td>\n",
              "      <td>0.505185</td>\n",
              "      <td>0.269567</td>\n",
              "      <td>0.908780</td>\n",
              "      <td>0.466239</td>\n",
              "      <td>0.545551</td>\n",
              "    </tr>\n",
              "  </tbody>\n",
              "</table>\n",
              "<p>1590 rows × 10 columns</p>\n",
              "</div>\n",
              "      <button class=\"colab-df-convert\" onclick=\"convertToInteractive('df-5f5b3305-57f2-49ff-b748-3fb0ceb0bce8')\"\n",
              "              title=\"Convert this dataframe to an interactive table.\"\n",
              "              style=\"display:none;\">\n",
              "        \n",
              "  <svg xmlns=\"http://www.w3.org/2000/svg\" height=\"24px\"viewBox=\"0 0 24 24\"\n",
              "       width=\"24px\">\n",
              "    <path d=\"M0 0h24v24H0V0z\" fill=\"none\"/>\n",
              "    <path d=\"M18.56 5.44l.94 2.06.94-2.06 2.06-.94-2.06-.94-.94-2.06-.94 2.06-2.06.94zm-11 1L8.5 8.5l.94-2.06 2.06-.94-2.06-.94L8.5 2.5l-.94 2.06-2.06.94zm10 10l.94 2.06.94-2.06 2.06-.94-2.06-.94-.94-2.06-.94 2.06-2.06.94z\"/><path d=\"M17.41 7.96l-1.37-1.37c-.4-.4-.92-.59-1.43-.59-.52 0-1.04.2-1.43.59L10.3 9.45l-7.72 7.72c-.78.78-.78 2.05 0 2.83L4 21.41c.39.39.9.59 1.41.59.51 0 1.02-.2 1.41-.59l7.78-7.78 2.81-2.81c.8-.78.8-2.07 0-2.86zM5.41 20L4 18.59l7.72-7.72 1.47 1.35L5.41 20z\"/>\n",
              "  </svg>\n",
              "      </button>\n",
              "      \n",
              "  <style>\n",
              "    .colab-df-container {\n",
              "      display:flex;\n",
              "      flex-wrap:wrap;\n",
              "      gap: 12px;\n",
              "    }\n",
              "\n",
              "    .colab-df-convert {\n",
              "      background-color: #E8F0FE;\n",
              "      border: none;\n",
              "      border-radius: 50%;\n",
              "      cursor: pointer;\n",
              "      display: none;\n",
              "      fill: #1967D2;\n",
              "      height: 32px;\n",
              "      padding: 0 0 0 0;\n",
              "      width: 32px;\n",
              "    }\n",
              "\n",
              "    .colab-df-convert:hover {\n",
              "      background-color: #E2EBFA;\n",
              "      box-shadow: 0px 1px 2px rgba(60, 64, 67, 0.3), 0px 1px 3px 1px rgba(60, 64, 67, 0.15);\n",
              "      fill: #174EA6;\n",
              "    }\n",
              "\n",
              "    [theme=dark] .colab-df-convert {\n",
              "      background-color: #3B4455;\n",
              "      fill: #D2E3FC;\n",
              "    }\n",
              "\n",
              "    [theme=dark] .colab-df-convert:hover {\n",
              "      background-color: #434B5C;\n",
              "      box-shadow: 0px 1px 3px 1px rgba(0, 0, 0, 0.15);\n",
              "      filter: drop-shadow(0px 1px 2px rgba(0, 0, 0, 0.3));\n",
              "      fill: #FFFFFF;\n",
              "    }\n",
              "  </style>\n",
              "\n",
              "      <script>\n",
              "        const buttonEl =\n",
              "          document.querySelector('#df-5f5b3305-57f2-49ff-b748-3fb0ceb0bce8 button.colab-df-convert');\n",
              "        buttonEl.style.display =\n",
              "          google.colab.kernel.accessAllowed ? 'block' : 'none';\n",
              "\n",
              "        async function convertToInteractive(key) {\n",
              "          const element = document.querySelector('#df-5f5b3305-57f2-49ff-b748-3fb0ceb0bce8');\n",
              "          const dataTable =\n",
              "            await google.colab.kernel.invokeFunction('convertToInteractive',\n",
              "                                                     [key], {});\n",
              "          if (!dataTable) return;\n",
              "\n",
              "          const docLinkHtml = 'Like what you see? Visit the ' +\n",
              "            '<a target=\"_blank\" href=https://colab.research.google.com/notebooks/data_table.ipynb>data table notebook</a>'\n",
              "            + ' to learn more about interactive tables.';\n",
              "          element.innerHTML = '';\n",
              "          dataTable['output_type'] = 'display_data';\n",
              "          await google.colab.output.renderOutput(dataTable, element);\n",
              "          const docLink = document.createElement('div');\n",
              "          docLink.innerHTML = docLinkHtml;\n",
              "          element.appendChild(docLink);\n",
              "        }\n",
              "      </script>\n",
              "    </div>\n",
              "  </div>\n",
              "  "
            ]
          },
          "metadata": {},
          "execution_count": 31
        }
      ],
      "source": [
        "embedding_df"
      ]
    },
    {
      "cell_type": "code",
      "execution_count": 32,
      "id": "8b71eb08-a1c5-45e4-b0db-1a9b19a265f2",
      "metadata": {
        "id": "8b71eb08-a1c5-45e4-b0db-1a9b19a265f2"
      },
      "outputs": [],
      "source": [
        "embedding_df['codigo'] = encoder.classes_"
      ]
    },
    {
      "cell_type": "code",
      "execution_count": 33,
      "id": "5aa9996b-5a9a-4c4e-a43d-938731f83ea8",
      "metadata": {
        "id": "5aa9996b-5a9a-4c4e-a43d-938731f83ea8",
        "outputId": "8fbc4cbf-6dfa-4124-e385-d2d862517bc2",
        "colab": {
          "base_uri": "https://localhost:8080/",
          "height": 455
        }
      },
      "outputs": [
        {
          "output_type": "execute_result",
          "data": {
            "text/plain": [
              "             emb_0     emb_1     emb_2     emb_3     emb_4     emb_5  \\\n",
              "codigo                                                                 \n",
              "0         0.997288  0.722339  0.491830  0.484383  0.303155  0.894992   \n",
              "01000000  0.510323  0.655838  0.102674  0.804542  0.425487  0.969067   \n",
              "01001000  0.788144  0.452335  0.338007  0.441840  0.056449  0.944821   \n",
              "01002000  0.756796  0.765164  0.449317  0.206615  0.605037  0.715834   \n",
              "01003000  0.468919  0.612125  0.511812  0.665943  0.174710  0.120879   \n",
              "...            ...       ...       ...       ...       ...       ...   \n",
              "Y4604CJC  0.140246  0.064964  0.434317  0.350513  0.053225  0.073855   \n",
              "Y4610XAH  0.876218  0.336936  0.606793  0.933386  0.530643  0.352442   \n",
              "Y4612JYI  0.838254  0.704353  0.718543  0.540439  0.384442  0.698131   \n",
              "Y4612XAI  0.365789  0.428505  0.806236  0.007564  0.284903  0.359390   \n",
              "Z9050DJG  0.670778  0.356715  0.740499  0.282629  0.124600  0.505185   \n",
              "\n",
              "             emb_6     emb_7     emb_8     emb_9  \n",
              "codigo                                            \n",
              "0         0.643283  0.888638  0.693172  0.622308  \n",
              "01000000  0.802337  0.695794  0.021327  0.519977  \n",
              "01001000  0.179504  0.042353  0.916242  0.707363  \n",
              "01002000  0.713558  0.672896  0.835298  0.619509  \n",
              "01003000  0.137432  0.087904  0.412039  0.510312  \n",
              "...            ...       ...       ...       ...  \n",
              "Y4604CJC  0.559453  0.171776  0.260084  0.780671  \n",
              "Y4610XAH  0.335586  0.903331  0.344642  0.477357  \n",
              "Y4612JYI  0.314242  0.302368  0.764011  0.777833  \n",
              "Y4612XAI  0.091089  0.220891  0.325802  0.893382  \n",
              "Z9050DJG  0.269567  0.908780  0.466239  0.545551  \n",
              "\n",
              "[1590 rows x 10 columns]"
            ],
            "text/html": [
              "\n",
              "  <div id=\"df-75597ddd-4d4b-4a8f-9677-132392d60639\">\n",
              "    <div class=\"colab-df-container\">\n",
              "      <div>\n",
              "<style scoped>\n",
              "    .dataframe tbody tr th:only-of-type {\n",
              "        vertical-align: middle;\n",
              "    }\n",
              "\n",
              "    .dataframe tbody tr th {\n",
              "        vertical-align: top;\n",
              "    }\n",
              "\n",
              "    .dataframe thead th {\n",
              "        text-align: right;\n",
              "    }\n",
              "</style>\n",
              "<table border=\"1\" class=\"dataframe\">\n",
              "  <thead>\n",
              "    <tr style=\"text-align: right;\">\n",
              "      <th></th>\n",
              "      <th>emb_0</th>\n",
              "      <th>emb_1</th>\n",
              "      <th>emb_2</th>\n",
              "      <th>emb_3</th>\n",
              "      <th>emb_4</th>\n",
              "      <th>emb_5</th>\n",
              "      <th>emb_6</th>\n",
              "      <th>emb_7</th>\n",
              "      <th>emb_8</th>\n",
              "      <th>emb_9</th>\n",
              "    </tr>\n",
              "    <tr>\n",
              "      <th>codigo</th>\n",
              "      <th></th>\n",
              "      <th></th>\n",
              "      <th></th>\n",
              "      <th></th>\n",
              "      <th></th>\n",
              "      <th></th>\n",
              "      <th></th>\n",
              "      <th></th>\n",
              "      <th></th>\n",
              "      <th></th>\n",
              "    </tr>\n",
              "  </thead>\n",
              "  <tbody>\n",
              "    <tr>\n",
              "      <th>0</th>\n",
              "      <td>0.997288</td>\n",
              "      <td>0.722339</td>\n",
              "      <td>0.491830</td>\n",
              "      <td>0.484383</td>\n",
              "      <td>0.303155</td>\n",
              "      <td>0.894992</td>\n",
              "      <td>0.643283</td>\n",
              "      <td>0.888638</td>\n",
              "      <td>0.693172</td>\n",
              "      <td>0.622308</td>\n",
              "    </tr>\n",
              "    <tr>\n",
              "      <th>01000000</th>\n",
              "      <td>0.510323</td>\n",
              "      <td>0.655838</td>\n",
              "      <td>0.102674</td>\n",
              "      <td>0.804542</td>\n",
              "      <td>0.425487</td>\n",
              "      <td>0.969067</td>\n",
              "      <td>0.802337</td>\n",
              "      <td>0.695794</td>\n",
              "      <td>0.021327</td>\n",
              "      <td>0.519977</td>\n",
              "    </tr>\n",
              "    <tr>\n",
              "      <th>01001000</th>\n",
              "      <td>0.788144</td>\n",
              "      <td>0.452335</td>\n",
              "      <td>0.338007</td>\n",
              "      <td>0.441840</td>\n",
              "      <td>0.056449</td>\n",
              "      <td>0.944821</td>\n",
              "      <td>0.179504</td>\n",
              "      <td>0.042353</td>\n",
              "      <td>0.916242</td>\n",
              "      <td>0.707363</td>\n",
              "    </tr>\n",
              "    <tr>\n",
              "      <th>01002000</th>\n",
              "      <td>0.756796</td>\n",
              "      <td>0.765164</td>\n",
              "      <td>0.449317</td>\n",
              "      <td>0.206615</td>\n",
              "      <td>0.605037</td>\n",
              "      <td>0.715834</td>\n",
              "      <td>0.713558</td>\n",
              "      <td>0.672896</td>\n",
              "      <td>0.835298</td>\n",
              "      <td>0.619509</td>\n",
              "    </tr>\n",
              "    <tr>\n",
              "      <th>01003000</th>\n",
              "      <td>0.468919</td>\n",
              "      <td>0.612125</td>\n",
              "      <td>0.511812</td>\n",
              "      <td>0.665943</td>\n",
              "      <td>0.174710</td>\n",
              "      <td>0.120879</td>\n",
              "      <td>0.137432</td>\n",
              "      <td>0.087904</td>\n",
              "      <td>0.412039</td>\n",
              "      <td>0.510312</td>\n",
              "    </tr>\n",
              "    <tr>\n",
              "      <th>...</th>\n",
              "      <td>...</td>\n",
              "      <td>...</td>\n",
              "      <td>...</td>\n",
              "      <td>...</td>\n",
              "      <td>...</td>\n",
              "      <td>...</td>\n",
              "      <td>...</td>\n",
              "      <td>...</td>\n",
              "      <td>...</td>\n",
              "      <td>...</td>\n",
              "    </tr>\n",
              "    <tr>\n",
              "      <th>Y4604CJC</th>\n",
              "      <td>0.140246</td>\n",
              "      <td>0.064964</td>\n",
              "      <td>0.434317</td>\n",
              "      <td>0.350513</td>\n",
              "      <td>0.053225</td>\n",
              "      <td>0.073855</td>\n",
              "      <td>0.559453</td>\n",
              "      <td>0.171776</td>\n",
              "      <td>0.260084</td>\n",
              "      <td>0.780671</td>\n",
              "    </tr>\n",
              "    <tr>\n",
              "      <th>Y4610XAH</th>\n",
              "      <td>0.876218</td>\n",
              "      <td>0.336936</td>\n",
              "      <td>0.606793</td>\n",
              "      <td>0.933386</td>\n",
              "      <td>0.530643</td>\n",
              "      <td>0.352442</td>\n",
              "      <td>0.335586</td>\n",
              "      <td>0.903331</td>\n",
              "      <td>0.344642</td>\n",
              "      <td>0.477357</td>\n",
              "    </tr>\n",
              "    <tr>\n",
              "      <th>Y4612JYI</th>\n",
              "      <td>0.838254</td>\n",
              "      <td>0.704353</td>\n",
              "      <td>0.718543</td>\n",
              "      <td>0.540439</td>\n",
              "      <td>0.384442</td>\n",
              "      <td>0.698131</td>\n",
              "      <td>0.314242</td>\n",
              "      <td>0.302368</td>\n",
              "      <td>0.764011</td>\n",
              "      <td>0.777833</td>\n",
              "    </tr>\n",
              "    <tr>\n",
              "      <th>Y4612XAI</th>\n",
              "      <td>0.365789</td>\n",
              "      <td>0.428505</td>\n",
              "      <td>0.806236</td>\n",
              "      <td>0.007564</td>\n",
              "      <td>0.284903</td>\n",
              "      <td>0.359390</td>\n",
              "      <td>0.091089</td>\n",
              "      <td>0.220891</td>\n",
              "      <td>0.325802</td>\n",
              "      <td>0.893382</td>\n",
              "    </tr>\n",
              "    <tr>\n",
              "      <th>Z9050DJG</th>\n",
              "      <td>0.670778</td>\n",
              "      <td>0.356715</td>\n",
              "      <td>0.740499</td>\n",
              "      <td>0.282629</td>\n",
              "      <td>0.124600</td>\n",
              "      <td>0.505185</td>\n",
              "      <td>0.269567</td>\n",
              "      <td>0.908780</td>\n",
              "      <td>0.466239</td>\n",
              "      <td>0.545551</td>\n",
              "    </tr>\n",
              "  </tbody>\n",
              "</table>\n",
              "<p>1590 rows × 10 columns</p>\n",
              "</div>\n",
              "      <button class=\"colab-df-convert\" onclick=\"convertToInteractive('df-75597ddd-4d4b-4a8f-9677-132392d60639')\"\n",
              "              title=\"Convert this dataframe to an interactive table.\"\n",
              "              style=\"display:none;\">\n",
              "        \n",
              "  <svg xmlns=\"http://www.w3.org/2000/svg\" height=\"24px\"viewBox=\"0 0 24 24\"\n",
              "       width=\"24px\">\n",
              "    <path d=\"M0 0h24v24H0V0z\" fill=\"none\"/>\n",
              "    <path d=\"M18.56 5.44l.94 2.06.94-2.06 2.06-.94-2.06-.94-.94-2.06-.94 2.06-2.06.94zm-11 1L8.5 8.5l.94-2.06 2.06-.94-2.06-.94L8.5 2.5l-.94 2.06-2.06.94zm10 10l.94 2.06.94-2.06 2.06-.94-2.06-.94-.94-2.06-.94 2.06-2.06.94z\"/><path d=\"M17.41 7.96l-1.37-1.37c-.4-.4-.92-.59-1.43-.59-.52 0-1.04.2-1.43.59L10.3 9.45l-7.72 7.72c-.78.78-.78 2.05 0 2.83L4 21.41c.39.39.9.59 1.41.59.51 0 1.02-.2 1.41-.59l7.78-7.78 2.81-2.81c.8-.78.8-2.07 0-2.86zM5.41 20L4 18.59l7.72-7.72 1.47 1.35L5.41 20z\"/>\n",
              "  </svg>\n",
              "      </button>\n",
              "      \n",
              "  <style>\n",
              "    .colab-df-container {\n",
              "      display:flex;\n",
              "      flex-wrap:wrap;\n",
              "      gap: 12px;\n",
              "    }\n",
              "\n",
              "    .colab-df-convert {\n",
              "      background-color: #E8F0FE;\n",
              "      border: none;\n",
              "      border-radius: 50%;\n",
              "      cursor: pointer;\n",
              "      display: none;\n",
              "      fill: #1967D2;\n",
              "      height: 32px;\n",
              "      padding: 0 0 0 0;\n",
              "      width: 32px;\n",
              "    }\n",
              "\n",
              "    .colab-df-convert:hover {\n",
              "      background-color: #E2EBFA;\n",
              "      box-shadow: 0px 1px 2px rgba(60, 64, 67, 0.3), 0px 1px 3px 1px rgba(60, 64, 67, 0.15);\n",
              "      fill: #174EA6;\n",
              "    }\n",
              "\n",
              "    [theme=dark] .colab-df-convert {\n",
              "      background-color: #3B4455;\n",
              "      fill: #D2E3FC;\n",
              "    }\n",
              "\n",
              "    [theme=dark] .colab-df-convert:hover {\n",
              "      background-color: #434B5C;\n",
              "      box-shadow: 0px 1px 3px 1px rgba(0, 0, 0, 0.15);\n",
              "      filter: drop-shadow(0px 1px 2px rgba(0, 0, 0, 0.3));\n",
              "      fill: #FFFFFF;\n",
              "    }\n",
              "  </style>\n",
              "\n",
              "      <script>\n",
              "        const buttonEl =\n",
              "          document.querySelector('#df-75597ddd-4d4b-4a8f-9677-132392d60639 button.colab-df-convert');\n",
              "        buttonEl.style.display =\n",
              "          google.colab.kernel.accessAllowed ? 'block' : 'none';\n",
              "\n",
              "        async function convertToInteractive(key) {\n",
              "          const element = document.querySelector('#df-75597ddd-4d4b-4a8f-9677-132392d60639');\n",
              "          const dataTable =\n",
              "            await google.colab.kernel.invokeFunction('convertToInteractive',\n",
              "                                                     [key], {});\n",
              "          if (!dataTable) return;\n",
              "\n",
              "          const docLinkHtml = 'Like what you see? Visit the ' +\n",
              "            '<a target=\"_blank\" href=https://colab.research.google.com/notebooks/data_table.ipynb>data table notebook</a>'\n",
              "            + ' to learn more about interactive tables.';\n",
              "          element.innerHTML = '';\n",
              "          dataTable['output_type'] = 'display_data';\n",
              "          await google.colab.output.renderOutput(dataTable, element);\n",
              "          const docLink = document.createElement('div');\n",
              "          docLink.innerHTML = docLinkHtml;\n",
              "          element.appendChild(docLink);\n",
              "        }\n",
              "      </script>\n",
              "    </div>\n",
              "  </div>\n",
              "  "
            ]
          },
          "metadata": {},
          "execution_count": 33
        }
      ],
      "source": [
        "# Utilizamos el codigo como indice (para joinear)\n",
        "embedding_df = embedding_df.set_index('codigo')\n",
        "embedding_df"
      ]
    },
    {
      "cell_type": "code",
      "execution_count": 34,
      "id": "de7d0abe-e5b7-49b9-b41a-6273d49f00d8",
      "metadata": {
        "id": "de7d0abe-e5b7-49b9-b41a-6273d49f00d8",
        "outputId": "89da5ba0-67d9-4b55-d24b-c6a115203edd",
        "colab": {
          "base_uri": "https://localhost:8080/",
          "height": 455
        }
      },
      "outputs": [
        {
          "output_type": "execute_result",
          "data": {
            "text/plain": [
              "           año  mes  total_cp\n",
              "codigo                       \n",
              "0         2022    1       208\n",
              "0         2022    2       185\n",
              "0         2022    3       289\n",
              "0         2022    4       177\n",
              "0         2022    5       177\n",
              "...        ...  ...       ...\n",
              "Z9050DJG  2022   12         2\n",
              "Z9050DJG  2023    1         2\n",
              "Z9050DJG  2023    2         6\n",
              "Z9050DJG  2023    3         1\n",
              "Z9050DJG  2023    4         1\n",
              "\n",
              "[25440 rows x 3 columns]"
            ],
            "text/html": [
              "\n",
              "  <div id=\"df-87b2f4c6-ff77-4bea-b048-0d49580cc661\">\n",
              "    <div class=\"colab-df-container\">\n",
              "      <div>\n",
              "<style scoped>\n",
              "    .dataframe tbody tr th:only-of-type {\n",
              "        vertical-align: middle;\n",
              "    }\n",
              "\n",
              "    .dataframe tbody tr th {\n",
              "        vertical-align: top;\n",
              "    }\n",
              "\n",
              "    .dataframe thead th {\n",
              "        text-align: right;\n",
              "    }\n",
              "</style>\n",
              "<table border=\"1\" class=\"dataframe\">\n",
              "  <thead>\n",
              "    <tr style=\"text-align: right;\">\n",
              "      <th></th>\n",
              "      <th>año</th>\n",
              "      <th>mes</th>\n",
              "      <th>total_cp</th>\n",
              "    </tr>\n",
              "    <tr>\n",
              "      <th>codigo</th>\n",
              "      <th></th>\n",
              "      <th></th>\n",
              "      <th></th>\n",
              "    </tr>\n",
              "  </thead>\n",
              "  <tbody>\n",
              "    <tr>\n",
              "      <th>0</th>\n",
              "      <td>2022</td>\n",
              "      <td>1</td>\n",
              "      <td>208</td>\n",
              "    </tr>\n",
              "    <tr>\n",
              "      <th>0</th>\n",
              "      <td>2022</td>\n",
              "      <td>2</td>\n",
              "      <td>185</td>\n",
              "    </tr>\n",
              "    <tr>\n",
              "      <th>0</th>\n",
              "      <td>2022</td>\n",
              "      <td>3</td>\n",
              "      <td>289</td>\n",
              "    </tr>\n",
              "    <tr>\n",
              "      <th>0</th>\n",
              "      <td>2022</td>\n",
              "      <td>4</td>\n",
              "      <td>177</td>\n",
              "    </tr>\n",
              "    <tr>\n",
              "      <th>0</th>\n",
              "      <td>2022</td>\n",
              "      <td>5</td>\n",
              "      <td>177</td>\n",
              "    </tr>\n",
              "    <tr>\n",
              "      <th>...</th>\n",
              "      <td>...</td>\n",
              "      <td>...</td>\n",
              "      <td>...</td>\n",
              "    </tr>\n",
              "    <tr>\n",
              "      <th>Z9050DJG</th>\n",
              "      <td>2022</td>\n",
              "      <td>12</td>\n",
              "      <td>2</td>\n",
              "    </tr>\n",
              "    <tr>\n",
              "      <th>Z9050DJG</th>\n",
              "      <td>2023</td>\n",
              "      <td>1</td>\n",
              "      <td>2</td>\n",
              "    </tr>\n",
              "    <tr>\n",
              "      <th>Z9050DJG</th>\n",
              "      <td>2023</td>\n",
              "      <td>2</td>\n",
              "      <td>6</td>\n",
              "    </tr>\n",
              "    <tr>\n",
              "      <th>Z9050DJG</th>\n",
              "      <td>2023</td>\n",
              "      <td>3</td>\n",
              "      <td>1</td>\n",
              "    </tr>\n",
              "    <tr>\n",
              "      <th>Z9050DJG</th>\n",
              "      <td>2023</td>\n",
              "      <td>4</td>\n",
              "      <td>1</td>\n",
              "    </tr>\n",
              "  </tbody>\n",
              "</table>\n",
              "<p>25440 rows × 3 columns</p>\n",
              "</div>\n",
              "      <button class=\"colab-df-convert\" onclick=\"convertToInteractive('df-87b2f4c6-ff77-4bea-b048-0d49580cc661')\"\n",
              "              title=\"Convert this dataframe to an interactive table.\"\n",
              "              style=\"display:none;\">\n",
              "        \n",
              "  <svg xmlns=\"http://www.w3.org/2000/svg\" height=\"24px\"viewBox=\"0 0 24 24\"\n",
              "       width=\"24px\">\n",
              "    <path d=\"M0 0h24v24H0V0z\" fill=\"none\"/>\n",
              "    <path d=\"M18.56 5.44l.94 2.06.94-2.06 2.06-.94-2.06-.94-.94-2.06-.94 2.06-2.06.94zm-11 1L8.5 8.5l.94-2.06 2.06-.94-2.06-.94L8.5 2.5l-.94 2.06-2.06.94zm10 10l.94 2.06.94-2.06 2.06-.94-2.06-.94-.94-2.06-.94 2.06-2.06.94z\"/><path d=\"M17.41 7.96l-1.37-1.37c-.4-.4-.92-.59-1.43-.59-.52 0-1.04.2-1.43.59L10.3 9.45l-7.72 7.72c-.78.78-.78 2.05 0 2.83L4 21.41c.39.39.9.59 1.41.59.51 0 1.02-.2 1.41-.59l7.78-7.78 2.81-2.81c.8-.78.8-2.07 0-2.86zM5.41 20L4 18.59l7.72-7.72 1.47 1.35L5.41 20z\"/>\n",
              "  </svg>\n",
              "      </button>\n",
              "      \n",
              "  <style>\n",
              "    .colab-df-container {\n",
              "      display:flex;\n",
              "      flex-wrap:wrap;\n",
              "      gap: 12px;\n",
              "    }\n",
              "\n",
              "    .colab-df-convert {\n",
              "      background-color: #E8F0FE;\n",
              "      border: none;\n",
              "      border-radius: 50%;\n",
              "      cursor: pointer;\n",
              "      display: none;\n",
              "      fill: #1967D2;\n",
              "      height: 32px;\n",
              "      padding: 0 0 0 0;\n",
              "      width: 32px;\n",
              "    }\n",
              "\n",
              "    .colab-df-convert:hover {\n",
              "      background-color: #E2EBFA;\n",
              "      box-shadow: 0px 1px 2px rgba(60, 64, 67, 0.3), 0px 1px 3px 1px rgba(60, 64, 67, 0.15);\n",
              "      fill: #174EA6;\n",
              "    }\n",
              "\n",
              "    [theme=dark] .colab-df-convert {\n",
              "      background-color: #3B4455;\n",
              "      fill: #D2E3FC;\n",
              "    }\n",
              "\n",
              "    [theme=dark] .colab-df-convert:hover {\n",
              "      background-color: #434B5C;\n",
              "      box-shadow: 0px 1px 3px 1px rgba(0, 0, 0, 0.15);\n",
              "      filter: drop-shadow(0px 1px 2px rgba(0, 0, 0, 0.3));\n",
              "      fill: #FFFFFF;\n",
              "    }\n",
              "  </style>\n",
              "\n",
              "      <script>\n",
              "        const buttonEl =\n",
              "          document.querySelector('#df-87b2f4c6-ff77-4bea-b048-0d49580cc661 button.colab-df-convert');\n",
              "        buttonEl.style.display =\n",
              "          google.colab.kernel.accessAllowed ? 'block' : 'none';\n",
              "\n",
              "        async function convertToInteractive(key) {\n",
              "          const element = document.querySelector('#df-87b2f4c6-ff77-4bea-b048-0d49580cc661');\n",
              "          const dataTable =\n",
              "            await google.colab.kernel.invokeFunction('convertToInteractive',\n",
              "                                                     [key], {});\n",
              "          if (!dataTable) return;\n",
              "\n",
              "          const docLinkHtml = 'Like what you see? Visit the ' +\n",
              "            '<a target=\"_blank\" href=https://colab.research.google.com/notebooks/data_table.ipynb>data table notebook</a>'\n",
              "            + ' to learn more about interactive tables.';\n",
              "          element.innerHTML = '';\n",
              "          dataTable['output_type'] = 'display_data';\n",
              "          await google.colab.output.renderOutput(dataTable, element);\n",
              "          const docLink = document.createElement('div');\n",
              "          docLink.innerHTML = docLinkHtml;\n",
              "          element.appendChild(docLink);\n",
              "        }\n",
              "      </script>\n",
              "    </div>\n",
              "  </div>\n",
              "  "
            ]
          },
          "metadata": {},
          "execution_count": 34
        }
      ],
      "source": [
        "# Utilizamos el codigo como indice (para joinear)\n",
        "df = df.set_index('codigo')\n",
        "df"
      ]
    },
    {
      "cell_type": "code",
      "execution_count": 35,
      "id": "792d6816-0e44-4fc8-919c-667b43583d03",
      "metadata": {
        "id": "792d6816-0e44-4fc8-919c-667b43583d03",
        "outputId": "7985894e-2671-490c-d969-4c62694f8d0d",
        "colab": {
          "base_uri": "https://localhost:8080/"
        }
      },
      "outputs": [
        {
          "output_type": "execute_result",
          "data": {
            "text/plain": [
              "5314"
            ]
          },
          "metadata": {},
          "execution_count": 35
        }
      ],
      "source": [
        "df.total_cp.max()"
      ]
    },
    {
      "cell_type": "markdown",
      "id": "b29bd253-4ff0-47be-92aa-0dfc6ba19bea",
      "metadata": {
        "id": "b29bd253-4ff0-47be-92aa-0dfc6ba19bea"
      },
      "source": [
        "#### Transformar la variable de salida"
      ]
    },
    {
      "cell_type": "code",
      "execution_count": 36,
      "id": "64933084-18cd-4f5f-9eda-f3d1c0254b16",
      "metadata": {
        "id": "64933084-18cd-4f5f-9eda-f3d1c0254b16"
      },
      "outputs": [],
      "source": [
        "mmscaler = MinMaxScaler()"
      ]
    },
    {
      "cell_type": "code",
      "execution_count": 37,
      "id": "6add66f7-c110-45cc-8b98-4008a4e03af8",
      "metadata": {
        "id": "6add66f7-c110-45cc-8b98-4008a4e03af8"
      },
      "outputs": [],
      "source": [
        "df['total_cp'] = mmscaler.fit_transform(df['total_cp'].values.reshape(-1,1))"
      ]
    },
    {
      "cell_type": "code",
      "execution_count": 38,
      "id": "65d01212-9a9d-4260-a3c4-0863be94a49b",
      "metadata": {
        "id": "65d01212-9a9d-4260-a3c4-0863be94a49b",
        "outputId": "25cf281a-19ea-4657-87c0-a70b9ea68949",
        "colab": {
          "base_uri": "https://localhost:8080/",
          "height": 237
        }
      },
      "outputs": [
        {
          "output_type": "execute_result",
          "data": {
            "text/plain": [
              "         año  mes  total_cp\n",
              "codigo                     \n",
              "0       2022    1  0.038961\n",
              "0       2022    2  0.034632\n",
              "0       2022    3  0.054207\n",
              "0       2022    4  0.033126\n",
              "0       2022    5  0.033126"
            ],
            "text/html": [
              "\n",
              "  <div id=\"df-0c82fc14-b3d6-46c9-92f5-d480a4776974\">\n",
              "    <div class=\"colab-df-container\">\n",
              "      <div>\n",
              "<style scoped>\n",
              "    .dataframe tbody tr th:only-of-type {\n",
              "        vertical-align: middle;\n",
              "    }\n",
              "\n",
              "    .dataframe tbody tr th {\n",
              "        vertical-align: top;\n",
              "    }\n",
              "\n",
              "    .dataframe thead th {\n",
              "        text-align: right;\n",
              "    }\n",
              "</style>\n",
              "<table border=\"1\" class=\"dataframe\">\n",
              "  <thead>\n",
              "    <tr style=\"text-align: right;\">\n",
              "      <th></th>\n",
              "      <th>año</th>\n",
              "      <th>mes</th>\n",
              "      <th>total_cp</th>\n",
              "    </tr>\n",
              "    <tr>\n",
              "      <th>codigo</th>\n",
              "      <th></th>\n",
              "      <th></th>\n",
              "      <th></th>\n",
              "    </tr>\n",
              "  </thead>\n",
              "  <tbody>\n",
              "    <tr>\n",
              "      <th>0</th>\n",
              "      <td>2022</td>\n",
              "      <td>1</td>\n",
              "      <td>0.038961</td>\n",
              "    </tr>\n",
              "    <tr>\n",
              "      <th>0</th>\n",
              "      <td>2022</td>\n",
              "      <td>2</td>\n",
              "      <td>0.034632</td>\n",
              "    </tr>\n",
              "    <tr>\n",
              "      <th>0</th>\n",
              "      <td>2022</td>\n",
              "      <td>3</td>\n",
              "      <td>0.054207</td>\n",
              "    </tr>\n",
              "    <tr>\n",
              "      <th>0</th>\n",
              "      <td>2022</td>\n",
              "      <td>4</td>\n",
              "      <td>0.033126</td>\n",
              "    </tr>\n",
              "    <tr>\n",
              "      <th>0</th>\n",
              "      <td>2022</td>\n",
              "      <td>5</td>\n",
              "      <td>0.033126</td>\n",
              "    </tr>\n",
              "  </tbody>\n",
              "</table>\n",
              "</div>\n",
              "      <button class=\"colab-df-convert\" onclick=\"convertToInteractive('df-0c82fc14-b3d6-46c9-92f5-d480a4776974')\"\n",
              "              title=\"Convert this dataframe to an interactive table.\"\n",
              "              style=\"display:none;\">\n",
              "        \n",
              "  <svg xmlns=\"http://www.w3.org/2000/svg\" height=\"24px\"viewBox=\"0 0 24 24\"\n",
              "       width=\"24px\">\n",
              "    <path d=\"M0 0h24v24H0V0z\" fill=\"none\"/>\n",
              "    <path d=\"M18.56 5.44l.94 2.06.94-2.06 2.06-.94-2.06-.94-.94-2.06-.94 2.06-2.06.94zm-11 1L8.5 8.5l.94-2.06 2.06-.94-2.06-.94L8.5 2.5l-.94 2.06-2.06.94zm10 10l.94 2.06.94-2.06 2.06-.94-2.06-.94-.94-2.06-.94 2.06-2.06.94z\"/><path d=\"M17.41 7.96l-1.37-1.37c-.4-.4-.92-.59-1.43-.59-.52 0-1.04.2-1.43.59L10.3 9.45l-7.72 7.72c-.78.78-.78 2.05 0 2.83L4 21.41c.39.39.9.59 1.41.59.51 0 1.02-.2 1.41-.59l7.78-7.78 2.81-2.81c.8-.78.8-2.07 0-2.86zM5.41 20L4 18.59l7.72-7.72 1.47 1.35L5.41 20z\"/>\n",
              "  </svg>\n",
              "      </button>\n",
              "      \n",
              "  <style>\n",
              "    .colab-df-container {\n",
              "      display:flex;\n",
              "      flex-wrap:wrap;\n",
              "      gap: 12px;\n",
              "    }\n",
              "\n",
              "    .colab-df-convert {\n",
              "      background-color: #E8F0FE;\n",
              "      border: none;\n",
              "      border-radius: 50%;\n",
              "      cursor: pointer;\n",
              "      display: none;\n",
              "      fill: #1967D2;\n",
              "      height: 32px;\n",
              "      padding: 0 0 0 0;\n",
              "      width: 32px;\n",
              "    }\n",
              "\n",
              "    .colab-df-convert:hover {\n",
              "      background-color: #E2EBFA;\n",
              "      box-shadow: 0px 1px 2px rgba(60, 64, 67, 0.3), 0px 1px 3px 1px rgba(60, 64, 67, 0.15);\n",
              "      fill: #174EA6;\n",
              "    }\n",
              "\n",
              "    [theme=dark] .colab-df-convert {\n",
              "      background-color: #3B4455;\n",
              "      fill: #D2E3FC;\n",
              "    }\n",
              "\n",
              "    [theme=dark] .colab-df-convert:hover {\n",
              "      background-color: #434B5C;\n",
              "      box-shadow: 0px 1px 3px 1px rgba(0, 0, 0, 0.15);\n",
              "      filter: drop-shadow(0px 1px 2px rgba(0, 0, 0, 0.3));\n",
              "      fill: #FFFFFF;\n",
              "    }\n",
              "  </style>\n",
              "\n",
              "      <script>\n",
              "        const buttonEl =\n",
              "          document.querySelector('#df-0c82fc14-b3d6-46c9-92f5-d480a4776974 button.colab-df-convert');\n",
              "        buttonEl.style.display =\n",
              "          google.colab.kernel.accessAllowed ? 'block' : 'none';\n",
              "\n",
              "        async function convertToInteractive(key) {\n",
              "          const element = document.querySelector('#df-0c82fc14-b3d6-46c9-92f5-d480a4776974');\n",
              "          const dataTable =\n",
              "            await google.colab.kernel.invokeFunction('convertToInteractive',\n",
              "                                                     [key], {});\n",
              "          if (!dataTable) return;\n",
              "\n",
              "          const docLinkHtml = 'Like what you see? Visit the ' +\n",
              "            '<a target=\"_blank\" href=https://colab.research.google.com/notebooks/data_table.ipynb>data table notebook</a>'\n",
              "            + ' to learn more about interactive tables.';\n",
              "          element.innerHTML = '';\n",
              "          dataTable['output_type'] = 'display_data';\n",
              "          await google.colab.output.renderOutput(dataTable, element);\n",
              "          const docLink = document.createElement('div');\n",
              "          docLink.innerHTML = docLinkHtml;\n",
              "          element.appendChild(docLink);\n",
              "        }\n",
              "      </script>\n",
              "    </div>\n",
              "  </div>\n",
              "  "
            ]
          },
          "metadata": {},
          "execution_count": 38
        }
      ],
      "source": [
        "df.head()"
      ]
    },
    {
      "cell_type": "markdown",
      "id": "a5fa13a1-6f0b-4394-8fcc-6a61cac55306",
      "metadata": {
        "id": "a5fa13a1-6f0b-4394-8fcc-6a61cac55306"
      },
      "source": [
        "#### Joins de Dataframes"
      ]
    },
    {
      "cell_type": "code",
      "execution_count": 39,
      "id": "26605f6a-2321-4f63-a449-58433a9c2aa6",
      "metadata": {
        "id": "26605f6a-2321-4f63-a449-58433a9c2aa6",
        "outputId": "7f24e493-a608-4804-923e-1067671f65f5",
        "colab": {
          "base_uri": "https://localhost:8080/",
          "height": 455
        }
      },
      "outputs": [
        {
          "output_type": "execute_result",
          "data": {
            "text/plain": [
              "             emb_0     emb_1     emb_2     emb_3     emb_4     emb_5  \\\n",
              "codigo                                                                 \n",
              "0         0.997288  0.722339  0.491830  0.484383  0.303155  0.894992   \n",
              "0         0.997288  0.722339  0.491830  0.484383  0.303155  0.894992   \n",
              "0         0.997288  0.722339  0.491830  0.484383  0.303155  0.894992   \n",
              "0         0.997288  0.722339  0.491830  0.484383  0.303155  0.894992   \n",
              "0         0.997288  0.722339  0.491830  0.484383  0.303155  0.894992   \n",
              "...            ...       ...       ...       ...       ...       ...   \n",
              "Z9050DJG  0.670778  0.356715  0.740499  0.282629  0.124600  0.505185   \n",
              "Z9050DJG  0.670778  0.356715  0.740499  0.282629  0.124600  0.505185   \n",
              "Z9050DJG  0.670778  0.356715  0.740499  0.282629  0.124600  0.505185   \n",
              "Z9050DJG  0.670778  0.356715  0.740499  0.282629  0.124600  0.505185   \n",
              "Z9050DJG  0.670778  0.356715  0.740499  0.282629  0.124600  0.505185   \n",
              "\n",
              "             emb_6     emb_7     emb_8     emb_9   año  mes  total_cp  \n",
              "codigo                                                                 \n",
              "0         0.643283  0.888638  0.693172  0.622308  2022    1  0.038961  \n",
              "0         0.643283  0.888638  0.693172  0.622308  2022    2  0.034632  \n",
              "0         0.643283  0.888638  0.693172  0.622308  2022    3  0.054207  \n",
              "0         0.643283  0.888638  0.693172  0.622308  2022    4  0.033126  \n",
              "0         0.643283  0.888638  0.693172  0.622308  2022    5  0.033126  \n",
              "...            ...       ...       ...       ...   ...  ...       ...  \n",
              "Z9050DJG  0.269567  0.908780  0.466239  0.545551  2022   12  0.000188  \n",
              "Z9050DJG  0.269567  0.908780  0.466239  0.545551  2023    1  0.000188  \n",
              "Z9050DJG  0.269567  0.908780  0.466239  0.545551  2023    2  0.000941  \n",
              "Z9050DJG  0.269567  0.908780  0.466239  0.545551  2023    3  0.000000  \n",
              "Z9050DJG  0.269567  0.908780  0.466239  0.545551  2023    4  0.000000  \n",
              "\n",
              "[25440 rows x 13 columns]"
            ],
            "text/html": [
              "\n",
              "  <div id=\"df-f4c45237-31e8-44b7-aec3-0e2ce8cb09c2\">\n",
              "    <div class=\"colab-df-container\">\n",
              "      <div>\n",
              "<style scoped>\n",
              "    .dataframe tbody tr th:only-of-type {\n",
              "        vertical-align: middle;\n",
              "    }\n",
              "\n",
              "    .dataframe tbody tr th {\n",
              "        vertical-align: top;\n",
              "    }\n",
              "\n",
              "    .dataframe thead th {\n",
              "        text-align: right;\n",
              "    }\n",
              "</style>\n",
              "<table border=\"1\" class=\"dataframe\">\n",
              "  <thead>\n",
              "    <tr style=\"text-align: right;\">\n",
              "      <th></th>\n",
              "      <th>emb_0</th>\n",
              "      <th>emb_1</th>\n",
              "      <th>emb_2</th>\n",
              "      <th>emb_3</th>\n",
              "      <th>emb_4</th>\n",
              "      <th>emb_5</th>\n",
              "      <th>emb_6</th>\n",
              "      <th>emb_7</th>\n",
              "      <th>emb_8</th>\n",
              "      <th>emb_9</th>\n",
              "      <th>año</th>\n",
              "      <th>mes</th>\n",
              "      <th>total_cp</th>\n",
              "    </tr>\n",
              "    <tr>\n",
              "      <th>codigo</th>\n",
              "      <th></th>\n",
              "      <th></th>\n",
              "      <th></th>\n",
              "      <th></th>\n",
              "      <th></th>\n",
              "      <th></th>\n",
              "      <th></th>\n",
              "      <th></th>\n",
              "      <th></th>\n",
              "      <th></th>\n",
              "      <th></th>\n",
              "      <th></th>\n",
              "      <th></th>\n",
              "    </tr>\n",
              "  </thead>\n",
              "  <tbody>\n",
              "    <tr>\n",
              "      <th>0</th>\n",
              "      <td>0.997288</td>\n",
              "      <td>0.722339</td>\n",
              "      <td>0.491830</td>\n",
              "      <td>0.484383</td>\n",
              "      <td>0.303155</td>\n",
              "      <td>0.894992</td>\n",
              "      <td>0.643283</td>\n",
              "      <td>0.888638</td>\n",
              "      <td>0.693172</td>\n",
              "      <td>0.622308</td>\n",
              "      <td>2022</td>\n",
              "      <td>1</td>\n",
              "      <td>0.038961</td>\n",
              "    </tr>\n",
              "    <tr>\n",
              "      <th>0</th>\n",
              "      <td>0.997288</td>\n",
              "      <td>0.722339</td>\n",
              "      <td>0.491830</td>\n",
              "      <td>0.484383</td>\n",
              "      <td>0.303155</td>\n",
              "      <td>0.894992</td>\n",
              "      <td>0.643283</td>\n",
              "      <td>0.888638</td>\n",
              "      <td>0.693172</td>\n",
              "      <td>0.622308</td>\n",
              "      <td>2022</td>\n",
              "      <td>2</td>\n",
              "      <td>0.034632</td>\n",
              "    </tr>\n",
              "    <tr>\n",
              "      <th>0</th>\n",
              "      <td>0.997288</td>\n",
              "      <td>0.722339</td>\n",
              "      <td>0.491830</td>\n",
              "      <td>0.484383</td>\n",
              "      <td>0.303155</td>\n",
              "      <td>0.894992</td>\n",
              "      <td>0.643283</td>\n",
              "      <td>0.888638</td>\n",
              "      <td>0.693172</td>\n",
              "      <td>0.622308</td>\n",
              "      <td>2022</td>\n",
              "      <td>3</td>\n",
              "      <td>0.054207</td>\n",
              "    </tr>\n",
              "    <tr>\n",
              "      <th>0</th>\n",
              "      <td>0.997288</td>\n",
              "      <td>0.722339</td>\n",
              "      <td>0.491830</td>\n",
              "      <td>0.484383</td>\n",
              "      <td>0.303155</td>\n",
              "      <td>0.894992</td>\n",
              "      <td>0.643283</td>\n",
              "      <td>0.888638</td>\n",
              "      <td>0.693172</td>\n",
              "      <td>0.622308</td>\n",
              "      <td>2022</td>\n",
              "      <td>4</td>\n",
              "      <td>0.033126</td>\n",
              "    </tr>\n",
              "    <tr>\n",
              "      <th>0</th>\n",
              "      <td>0.997288</td>\n",
              "      <td>0.722339</td>\n",
              "      <td>0.491830</td>\n",
              "      <td>0.484383</td>\n",
              "      <td>0.303155</td>\n",
              "      <td>0.894992</td>\n",
              "      <td>0.643283</td>\n",
              "      <td>0.888638</td>\n",
              "      <td>0.693172</td>\n",
              "      <td>0.622308</td>\n",
              "      <td>2022</td>\n",
              "      <td>5</td>\n",
              "      <td>0.033126</td>\n",
              "    </tr>\n",
              "    <tr>\n",
              "      <th>...</th>\n",
              "      <td>...</td>\n",
              "      <td>...</td>\n",
              "      <td>...</td>\n",
              "      <td>...</td>\n",
              "      <td>...</td>\n",
              "      <td>...</td>\n",
              "      <td>...</td>\n",
              "      <td>...</td>\n",
              "      <td>...</td>\n",
              "      <td>...</td>\n",
              "      <td>...</td>\n",
              "      <td>...</td>\n",
              "      <td>...</td>\n",
              "    </tr>\n",
              "    <tr>\n",
              "      <th>Z9050DJG</th>\n",
              "      <td>0.670778</td>\n",
              "      <td>0.356715</td>\n",
              "      <td>0.740499</td>\n",
              "      <td>0.282629</td>\n",
              "      <td>0.124600</td>\n",
              "      <td>0.505185</td>\n",
              "      <td>0.269567</td>\n",
              "      <td>0.908780</td>\n",
              "      <td>0.466239</td>\n",
              "      <td>0.545551</td>\n",
              "      <td>2022</td>\n",
              "      <td>12</td>\n",
              "      <td>0.000188</td>\n",
              "    </tr>\n",
              "    <tr>\n",
              "      <th>Z9050DJG</th>\n",
              "      <td>0.670778</td>\n",
              "      <td>0.356715</td>\n",
              "      <td>0.740499</td>\n",
              "      <td>0.282629</td>\n",
              "      <td>0.124600</td>\n",
              "      <td>0.505185</td>\n",
              "      <td>0.269567</td>\n",
              "      <td>0.908780</td>\n",
              "      <td>0.466239</td>\n",
              "      <td>0.545551</td>\n",
              "      <td>2023</td>\n",
              "      <td>1</td>\n",
              "      <td>0.000188</td>\n",
              "    </tr>\n",
              "    <tr>\n",
              "      <th>Z9050DJG</th>\n",
              "      <td>0.670778</td>\n",
              "      <td>0.356715</td>\n",
              "      <td>0.740499</td>\n",
              "      <td>0.282629</td>\n",
              "      <td>0.124600</td>\n",
              "      <td>0.505185</td>\n",
              "      <td>0.269567</td>\n",
              "      <td>0.908780</td>\n",
              "      <td>0.466239</td>\n",
              "      <td>0.545551</td>\n",
              "      <td>2023</td>\n",
              "      <td>2</td>\n",
              "      <td>0.000941</td>\n",
              "    </tr>\n",
              "    <tr>\n",
              "      <th>Z9050DJG</th>\n",
              "      <td>0.670778</td>\n",
              "      <td>0.356715</td>\n",
              "      <td>0.740499</td>\n",
              "      <td>0.282629</td>\n",
              "      <td>0.124600</td>\n",
              "      <td>0.505185</td>\n",
              "      <td>0.269567</td>\n",
              "      <td>0.908780</td>\n",
              "      <td>0.466239</td>\n",
              "      <td>0.545551</td>\n",
              "      <td>2023</td>\n",
              "      <td>3</td>\n",
              "      <td>0.000000</td>\n",
              "    </tr>\n",
              "    <tr>\n",
              "      <th>Z9050DJG</th>\n",
              "      <td>0.670778</td>\n",
              "      <td>0.356715</td>\n",
              "      <td>0.740499</td>\n",
              "      <td>0.282629</td>\n",
              "      <td>0.124600</td>\n",
              "      <td>0.505185</td>\n",
              "      <td>0.269567</td>\n",
              "      <td>0.908780</td>\n",
              "      <td>0.466239</td>\n",
              "      <td>0.545551</td>\n",
              "      <td>2023</td>\n",
              "      <td>4</td>\n",
              "      <td>0.000000</td>\n",
              "    </tr>\n",
              "  </tbody>\n",
              "</table>\n",
              "<p>25440 rows × 13 columns</p>\n",
              "</div>\n",
              "      <button class=\"colab-df-convert\" onclick=\"convertToInteractive('df-f4c45237-31e8-44b7-aec3-0e2ce8cb09c2')\"\n",
              "              title=\"Convert this dataframe to an interactive table.\"\n",
              "              style=\"display:none;\">\n",
              "        \n",
              "  <svg xmlns=\"http://www.w3.org/2000/svg\" height=\"24px\"viewBox=\"0 0 24 24\"\n",
              "       width=\"24px\">\n",
              "    <path d=\"M0 0h24v24H0V0z\" fill=\"none\"/>\n",
              "    <path d=\"M18.56 5.44l.94 2.06.94-2.06 2.06-.94-2.06-.94-.94-2.06-.94 2.06-2.06.94zm-11 1L8.5 8.5l.94-2.06 2.06-.94-2.06-.94L8.5 2.5l-.94 2.06-2.06.94zm10 10l.94 2.06.94-2.06 2.06-.94-2.06-.94-.94-2.06-.94 2.06-2.06.94z\"/><path d=\"M17.41 7.96l-1.37-1.37c-.4-.4-.92-.59-1.43-.59-.52 0-1.04.2-1.43.59L10.3 9.45l-7.72 7.72c-.78.78-.78 2.05 0 2.83L4 21.41c.39.39.9.59 1.41.59.51 0 1.02-.2 1.41-.59l7.78-7.78 2.81-2.81c.8-.78.8-2.07 0-2.86zM5.41 20L4 18.59l7.72-7.72 1.47 1.35L5.41 20z\"/>\n",
              "  </svg>\n",
              "      </button>\n",
              "      \n",
              "  <style>\n",
              "    .colab-df-container {\n",
              "      display:flex;\n",
              "      flex-wrap:wrap;\n",
              "      gap: 12px;\n",
              "    }\n",
              "\n",
              "    .colab-df-convert {\n",
              "      background-color: #E8F0FE;\n",
              "      border: none;\n",
              "      border-radius: 50%;\n",
              "      cursor: pointer;\n",
              "      display: none;\n",
              "      fill: #1967D2;\n",
              "      height: 32px;\n",
              "      padding: 0 0 0 0;\n",
              "      width: 32px;\n",
              "    }\n",
              "\n",
              "    .colab-df-convert:hover {\n",
              "      background-color: #E2EBFA;\n",
              "      box-shadow: 0px 1px 2px rgba(60, 64, 67, 0.3), 0px 1px 3px 1px rgba(60, 64, 67, 0.15);\n",
              "      fill: #174EA6;\n",
              "    }\n",
              "\n",
              "    [theme=dark] .colab-df-convert {\n",
              "      background-color: #3B4455;\n",
              "      fill: #D2E3FC;\n",
              "    }\n",
              "\n",
              "    [theme=dark] .colab-df-convert:hover {\n",
              "      background-color: #434B5C;\n",
              "      box-shadow: 0px 1px 3px 1px rgba(0, 0, 0, 0.15);\n",
              "      filter: drop-shadow(0px 1px 2px rgba(0, 0, 0, 0.3));\n",
              "      fill: #FFFFFF;\n",
              "    }\n",
              "  </style>\n",
              "\n",
              "      <script>\n",
              "        const buttonEl =\n",
              "          document.querySelector('#df-f4c45237-31e8-44b7-aec3-0e2ce8cb09c2 button.colab-df-convert');\n",
              "        buttonEl.style.display =\n",
              "          google.colab.kernel.accessAllowed ? 'block' : 'none';\n",
              "\n",
              "        async function convertToInteractive(key) {\n",
              "          const element = document.querySelector('#df-f4c45237-31e8-44b7-aec3-0e2ce8cb09c2');\n",
              "          const dataTable =\n",
              "            await google.colab.kernel.invokeFunction('convertToInteractive',\n",
              "                                                     [key], {});\n",
              "          if (!dataTable) return;\n",
              "\n",
              "          const docLinkHtml = 'Like what you see? Visit the ' +\n",
              "            '<a target=\"_blank\" href=https://colab.research.google.com/notebooks/data_table.ipynb>data table notebook</a>'\n",
              "            + ' to learn more about interactive tables.';\n",
              "          element.innerHTML = '';\n",
              "          dataTable['output_type'] = 'display_data';\n",
              "          await google.colab.output.renderOutput(dataTable, element);\n",
              "          const docLink = document.createElement('div');\n",
              "          docLink.innerHTML = docLinkHtml;\n",
              "          element.appendChild(docLink);\n",
              "        }\n",
              "      </script>\n",
              "    </div>\n",
              "  </div>\n",
              "  "
            ]
          },
          "metadata": {},
          "execution_count": 39
        }
      ],
      "source": [
        "df_join = embedding_df.join(df, lsuffix='_izq', rsuffix='_der')\n",
        "df_join"
      ]
    },
    {
      "cell_type": "markdown",
      "id": "2a1d9b7a-7527-4ee9-ae04-1d86dfbab1a9",
      "metadata": {
        "id": "2a1d9b7a-7527-4ee9-ae04-1d86dfbab1a9"
      },
      "source": [
        "#### Datos de entrenamiento"
      ]
    },
    {
      "cell_type": "code",
      "execution_count": 40,
      "id": "ce22e1bb-c05a-4ce5-9d5b-ba319f3a0265",
      "metadata": {
        "id": "ce22e1bb-c05a-4ce5-9d5b-ba319f3a0265",
        "outputId": "bf478174-862b-42d9-c3d7-ff699b6c3314",
        "colab": {
          "base_uri": "https://localhost:8080/",
          "height": 423
        }
      },
      "outputs": [
        {
          "output_type": "execute_result",
          "data": {
            "text/plain": [
              "         codigo     emb_0     emb_1     emb_2     emb_3     emb_4     emb_5  \\\n",
              "0             0  0.997288  0.722339  0.491830  0.484383  0.303155  0.894992   \n",
              "1             0  0.997288  0.722339  0.491830  0.484383  0.303155  0.894992   \n",
              "2             0  0.997288  0.722339  0.491830  0.484383  0.303155  0.894992   \n",
              "3             0  0.997288  0.722339  0.491830  0.484383  0.303155  0.894992   \n",
              "4             0  0.997288  0.722339  0.491830  0.484383  0.303155  0.894992   \n",
              "...         ...       ...       ...       ...       ...       ...       ...   \n",
              "25435  Z9050DJG  0.670778  0.356715  0.740499  0.282629  0.124600  0.505185   \n",
              "25436  Z9050DJG  0.670778  0.356715  0.740499  0.282629  0.124600  0.505185   \n",
              "25437  Z9050DJG  0.670778  0.356715  0.740499  0.282629  0.124600  0.505185   \n",
              "25438  Z9050DJG  0.670778  0.356715  0.740499  0.282629  0.124600  0.505185   \n",
              "25439  Z9050DJG  0.670778  0.356715  0.740499  0.282629  0.124600  0.505185   \n",
              "\n",
              "          emb_6     emb_7     emb_8     emb_9   año  mes  total_cp  \n",
              "0      0.643283  0.888638  0.693172  0.622308  2022    1  0.038961  \n",
              "1      0.643283  0.888638  0.693172  0.622308  2022    2  0.034632  \n",
              "2      0.643283  0.888638  0.693172  0.622308  2022    3  0.054207  \n",
              "3      0.643283  0.888638  0.693172  0.622308  2022    4  0.033126  \n",
              "4      0.643283  0.888638  0.693172  0.622308  2022    5  0.033126  \n",
              "...         ...       ...       ...       ...   ...  ...       ...  \n",
              "25435  0.269567  0.908780  0.466239  0.545551  2022   12  0.000188  \n",
              "25436  0.269567  0.908780  0.466239  0.545551  2023    1  0.000188  \n",
              "25437  0.269567  0.908780  0.466239  0.545551  2023    2  0.000941  \n",
              "25438  0.269567  0.908780  0.466239  0.545551  2023    3  0.000000  \n",
              "25439  0.269567  0.908780  0.466239  0.545551  2023    4  0.000000  \n",
              "\n",
              "[25440 rows x 14 columns]"
            ],
            "text/html": [
              "\n",
              "  <div id=\"df-3dc844a2-4041-4dcf-985d-b305be7f6fde\">\n",
              "    <div class=\"colab-df-container\">\n",
              "      <div>\n",
              "<style scoped>\n",
              "    .dataframe tbody tr th:only-of-type {\n",
              "        vertical-align: middle;\n",
              "    }\n",
              "\n",
              "    .dataframe tbody tr th {\n",
              "        vertical-align: top;\n",
              "    }\n",
              "\n",
              "    .dataframe thead th {\n",
              "        text-align: right;\n",
              "    }\n",
              "</style>\n",
              "<table border=\"1\" class=\"dataframe\">\n",
              "  <thead>\n",
              "    <tr style=\"text-align: right;\">\n",
              "      <th></th>\n",
              "      <th>codigo</th>\n",
              "      <th>emb_0</th>\n",
              "      <th>emb_1</th>\n",
              "      <th>emb_2</th>\n",
              "      <th>emb_3</th>\n",
              "      <th>emb_4</th>\n",
              "      <th>emb_5</th>\n",
              "      <th>emb_6</th>\n",
              "      <th>emb_7</th>\n",
              "      <th>emb_8</th>\n",
              "      <th>emb_9</th>\n",
              "      <th>año</th>\n",
              "      <th>mes</th>\n",
              "      <th>total_cp</th>\n",
              "    </tr>\n",
              "  </thead>\n",
              "  <tbody>\n",
              "    <tr>\n",
              "      <th>0</th>\n",
              "      <td>0</td>\n",
              "      <td>0.997288</td>\n",
              "      <td>0.722339</td>\n",
              "      <td>0.491830</td>\n",
              "      <td>0.484383</td>\n",
              "      <td>0.303155</td>\n",
              "      <td>0.894992</td>\n",
              "      <td>0.643283</td>\n",
              "      <td>0.888638</td>\n",
              "      <td>0.693172</td>\n",
              "      <td>0.622308</td>\n",
              "      <td>2022</td>\n",
              "      <td>1</td>\n",
              "      <td>0.038961</td>\n",
              "    </tr>\n",
              "    <tr>\n",
              "      <th>1</th>\n",
              "      <td>0</td>\n",
              "      <td>0.997288</td>\n",
              "      <td>0.722339</td>\n",
              "      <td>0.491830</td>\n",
              "      <td>0.484383</td>\n",
              "      <td>0.303155</td>\n",
              "      <td>0.894992</td>\n",
              "      <td>0.643283</td>\n",
              "      <td>0.888638</td>\n",
              "      <td>0.693172</td>\n",
              "      <td>0.622308</td>\n",
              "      <td>2022</td>\n",
              "      <td>2</td>\n",
              "      <td>0.034632</td>\n",
              "    </tr>\n",
              "    <tr>\n",
              "      <th>2</th>\n",
              "      <td>0</td>\n",
              "      <td>0.997288</td>\n",
              "      <td>0.722339</td>\n",
              "      <td>0.491830</td>\n",
              "      <td>0.484383</td>\n",
              "      <td>0.303155</td>\n",
              "      <td>0.894992</td>\n",
              "      <td>0.643283</td>\n",
              "      <td>0.888638</td>\n",
              "      <td>0.693172</td>\n",
              "      <td>0.622308</td>\n",
              "      <td>2022</td>\n",
              "      <td>3</td>\n",
              "      <td>0.054207</td>\n",
              "    </tr>\n",
              "    <tr>\n",
              "      <th>3</th>\n",
              "      <td>0</td>\n",
              "      <td>0.997288</td>\n",
              "      <td>0.722339</td>\n",
              "      <td>0.491830</td>\n",
              "      <td>0.484383</td>\n",
              "      <td>0.303155</td>\n",
              "      <td>0.894992</td>\n",
              "      <td>0.643283</td>\n",
              "      <td>0.888638</td>\n",
              "      <td>0.693172</td>\n",
              "      <td>0.622308</td>\n",
              "      <td>2022</td>\n",
              "      <td>4</td>\n",
              "      <td>0.033126</td>\n",
              "    </tr>\n",
              "    <tr>\n",
              "      <th>4</th>\n",
              "      <td>0</td>\n",
              "      <td>0.997288</td>\n",
              "      <td>0.722339</td>\n",
              "      <td>0.491830</td>\n",
              "      <td>0.484383</td>\n",
              "      <td>0.303155</td>\n",
              "      <td>0.894992</td>\n",
              "      <td>0.643283</td>\n",
              "      <td>0.888638</td>\n",
              "      <td>0.693172</td>\n",
              "      <td>0.622308</td>\n",
              "      <td>2022</td>\n",
              "      <td>5</td>\n",
              "      <td>0.033126</td>\n",
              "    </tr>\n",
              "    <tr>\n",
              "      <th>...</th>\n",
              "      <td>...</td>\n",
              "      <td>...</td>\n",
              "      <td>...</td>\n",
              "      <td>...</td>\n",
              "      <td>...</td>\n",
              "      <td>...</td>\n",
              "      <td>...</td>\n",
              "      <td>...</td>\n",
              "      <td>...</td>\n",
              "      <td>...</td>\n",
              "      <td>...</td>\n",
              "      <td>...</td>\n",
              "      <td>...</td>\n",
              "      <td>...</td>\n",
              "    </tr>\n",
              "    <tr>\n",
              "      <th>25435</th>\n",
              "      <td>Z9050DJG</td>\n",
              "      <td>0.670778</td>\n",
              "      <td>0.356715</td>\n",
              "      <td>0.740499</td>\n",
              "      <td>0.282629</td>\n",
              "      <td>0.124600</td>\n",
              "      <td>0.505185</td>\n",
              "      <td>0.269567</td>\n",
              "      <td>0.908780</td>\n",
              "      <td>0.466239</td>\n",
              "      <td>0.545551</td>\n",
              "      <td>2022</td>\n",
              "      <td>12</td>\n",
              "      <td>0.000188</td>\n",
              "    </tr>\n",
              "    <tr>\n",
              "      <th>25436</th>\n",
              "      <td>Z9050DJG</td>\n",
              "      <td>0.670778</td>\n",
              "      <td>0.356715</td>\n",
              "      <td>0.740499</td>\n",
              "      <td>0.282629</td>\n",
              "      <td>0.124600</td>\n",
              "      <td>0.505185</td>\n",
              "      <td>0.269567</td>\n",
              "      <td>0.908780</td>\n",
              "      <td>0.466239</td>\n",
              "      <td>0.545551</td>\n",
              "      <td>2023</td>\n",
              "      <td>1</td>\n",
              "      <td>0.000188</td>\n",
              "    </tr>\n",
              "    <tr>\n",
              "      <th>25437</th>\n",
              "      <td>Z9050DJG</td>\n",
              "      <td>0.670778</td>\n",
              "      <td>0.356715</td>\n",
              "      <td>0.740499</td>\n",
              "      <td>0.282629</td>\n",
              "      <td>0.124600</td>\n",
              "      <td>0.505185</td>\n",
              "      <td>0.269567</td>\n",
              "      <td>0.908780</td>\n",
              "      <td>0.466239</td>\n",
              "      <td>0.545551</td>\n",
              "      <td>2023</td>\n",
              "      <td>2</td>\n",
              "      <td>0.000941</td>\n",
              "    </tr>\n",
              "    <tr>\n",
              "      <th>25438</th>\n",
              "      <td>Z9050DJG</td>\n",
              "      <td>0.670778</td>\n",
              "      <td>0.356715</td>\n",
              "      <td>0.740499</td>\n",
              "      <td>0.282629</td>\n",
              "      <td>0.124600</td>\n",
              "      <td>0.505185</td>\n",
              "      <td>0.269567</td>\n",
              "      <td>0.908780</td>\n",
              "      <td>0.466239</td>\n",
              "      <td>0.545551</td>\n",
              "      <td>2023</td>\n",
              "      <td>3</td>\n",
              "      <td>0.000000</td>\n",
              "    </tr>\n",
              "    <tr>\n",
              "      <th>25439</th>\n",
              "      <td>Z9050DJG</td>\n",
              "      <td>0.670778</td>\n",
              "      <td>0.356715</td>\n",
              "      <td>0.740499</td>\n",
              "      <td>0.282629</td>\n",
              "      <td>0.124600</td>\n",
              "      <td>0.505185</td>\n",
              "      <td>0.269567</td>\n",
              "      <td>0.908780</td>\n",
              "      <td>0.466239</td>\n",
              "      <td>0.545551</td>\n",
              "      <td>2023</td>\n",
              "      <td>4</td>\n",
              "      <td>0.000000</td>\n",
              "    </tr>\n",
              "  </tbody>\n",
              "</table>\n",
              "<p>25440 rows × 14 columns</p>\n",
              "</div>\n",
              "      <button class=\"colab-df-convert\" onclick=\"convertToInteractive('df-3dc844a2-4041-4dcf-985d-b305be7f6fde')\"\n",
              "              title=\"Convert this dataframe to an interactive table.\"\n",
              "              style=\"display:none;\">\n",
              "        \n",
              "  <svg xmlns=\"http://www.w3.org/2000/svg\" height=\"24px\"viewBox=\"0 0 24 24\"\n",
              "       width=\"24px\">\n",
              "    <path d=\"M0 0h24v24H0V0z\" fill=\"none\"/>\n",
              "    <path d=\"M18.56 5.44l.94 2.06.94-2.06 2.06-.94-2.06-.94-.94-2.06-.94 2.06-2.06.94zm-11 1L8.5 8.5l.94-2.06 2.06-.94-2.06-.94L8.5 2.5l-.94 2.06-2.06.94zm10 10l.94 2.06.94-2.06 2.06-.94-2.06-.94-.94-2.06-.94 2.06-2.06.94z\"/><path d=\"M17.41 7.96l-1.37-1.37c-.4-.4-.92-.59-1.43-.59-.52 0-1.04.2-1.43.59L10.3 9.45l-7.72 7.72c-.78.78-.78 2.05 0 2.83L4 21.41c.39.39.9.59 1.41.59.51 0 1.02-.2 1.41-.59l7.78-7.78 2.81-2.81c.8-.78.8-2.07 0-2.86zM5.41 20L4 18.59l7.72-7.72 1.47 1.35L5.41 20z\"/>\n",
              "  </svg>\n",
              "      </button>\n",
              "      \n",
              "  <style>\n",
              "    .colab-df-container {\n",
              "      display:flex;\n",
              "      flex-wrap:wrap;\n",
              "      gap: 12px;\n",
              "    }\n",
              "\n",
              "    .colab-df-convert {\n",
              "      background-color: #E8F0FE;\n",
              "      border: none;\n",
              "      border-radius: 50%;\n",
              "      cursor: pointer;\n",
              "      display: none;\n",
              "      fill: #1967D2;\n",
              "      height: 32px;\n",
              "      padding: 0 0 0 0;\n",
              "      width: 32px;\n",
              "    }\n",
              "\n",
              "    .colab-df-convert:hover {\n",
              "      background-color: #E2EBFA;\n",
              "      box-shadow: 0px 1px 2px rgba(60, 64, 67, 0.3), 0px 1px 3px 1px rgba(60, 64, 67, 0.15);\n",
              "      fill: #174EA6;\n",
              "    }\n",
              "\n",
              "    [theme=dark] .colab-df-convert {\n",
              "      background-color: #3B4455;\n",
              "      fill: #D2E3FC;\n",
              "    }\n",
              "\n",
              "    [theme=dark] .colab-df-convert:hover {\n",
              "      background-color: #434B5C;\n",
              "      box-shadow: 0px 1px 3px 1px rgba(0, 0, 0, 0.15);\n",
              "      filter: drop-shadow(0px 1px 2px rgba(0, 0, 0, 0.3));\n",
              "      fill: #FFFFFF;\n",
              "    }\n",
              "  </style>\n",
              "\n",
              "      <script>\n",
              "        const buttonEl =\n",
              "          document.querySelector('#df-3dc844a2-4041-4dcf-985d-b305be7f6fde button.colab-df-convert');\n",
              "        buttonEl.style.display =\n",
              "          google.colab.kernel.accessAllowed ? 'block' : 'none';\n",
              "\n",
              "        async function convertToInteractive(key) {\n",
              "          const element = document.querySelector('#df-3dc844a2-4041-4dcf-985d-b305be7f6fde');\n",
              "          const dataTable =\n",
              "            await google.colab.kernel.invokeFunction('convertToInteractive',\n",
              "                                                     [key], {});\n",
              "          if (!dataTable) return;\n",
              "\n",
              "          const docLinkHtml = 'Like what you see? Visit the ' +\n",
              "            '<a target=\"_blank\" href=https://colab.research.google.com/notebooks/data_table.ipynb>data table notebook</a>'\n",
              "            + ' to learn more about interactive tables.';\n",
              "          element.innerHTML = '';\n",
              "          dataTable['output_type'] = 'display_data';\n",
              "          await google.colab.output.renderOutput(dataTable, element);\n",
              "          const docLink = document.createElement('div');\n",
              "          docLink.innerHTML = docLinkHtml;\n",
              "          element.appendChild(docLink);\n",
              "        }\n",
              "      </script>\n",
              "    </div>\n",
              "  </div>\n",
              "  "
            ]
          },
          "metadata": {},
          "execution_count": 40
        }
      ],
      "source": [
        "df_final = df_join.reset_index()\n",
        "df_final"
      ]
    },
    {
      "cell_type": "code",
      "execution_count": 41,
      "id": "a98680dd-bc07-4218-9c40-f923f2bb739a",
      "metadata": {
        "id": "a98680dd-bc07-4218-9c40-f923f2bb739a"
      },
      "outputs": [],
      "source": [
        "X_data = df_final.drop(['codigo','total_cp'], axis=1).to_numpy()"
      ]
    },
    {
      "cell_type": "code",
      "execution_count": 42,
      "id": "6a9af926-b09f-40fd-8e75-e68442e89b92",
      "metadata": {
        "id": "6a9af926-b09f-40fd-8e75-e68442e89b92",
        "outputId": "0a298498-0ce1-44ad-fb57-40218f9af956",
        "colab": {
          "base_uri": "https://localhost:8080/"
        }
      },
      "outputs": [
        {
          "output_type": "execute_result",
          "data": {
            "text/plain": [
              "(25440, 12)"
            ]
          },
          "metadata": {},
          "execution_count": 42
        }
      ],
      "source": [
        "X_data.shape"
      ]
    },
    {
      "cell_type": "code",
      "execution_count": 43,
      "id": "3d5c6ff5-38a6-4ac5-88ef-9d21042899c7",
      "metadata": {
        "id": "3d5c6ff5-38a6-4ac5-88ef-9d21042899c7"
      },
      "outputs": [],
      "source": [
        "y_data = df_final['total_cp'].to_numpy()"
      ]
    },
    {
      "cell_type": "code",
      "execution_count": 44,
      "id": "a74cee1a-fdd6-4375-afb5-e2b6a8ca8846",
      "metadata": {
        "id": "a74cee1a-fdd6-4375-afb5-e2b6a8ca8846",
        "outputId": "f47d8878-3f32-4863-bd21-6e02dae79c8b",
        "colab": {
          "base_uri": "https://localhost:8080/"
        }
      },
      "outputs": [
        {
          "output_type": "execute_result",
          "data": {
            "text/plain": [
              "array([0.03896104, 0.03463203, 0.05420666, ..., 0.00094109, 0.        ,\n",
              "       0.        ])"
            ]
          },
          "metadata": {},
          "execution_count": 44
        }
      ],
      "source": [
        "y_data"
      ]
    },
    {
      "cell_type": "code",
      "execution_count": 45,
      "id": "c8b17084-0463-40c5-b2d0-4c7530afeff9",
      "metadata": {
        "id": "c8b17084-0463-40c5-b2d0-4c7530afeff9"
      },
      "outputs": [],
      "source": [
        "X_train, X_test, y_train, y_test = train_test_split( X_data, y_data, test_size=0.30, random_state=43) "
      ]
    },
    {
      "cell_type": "markdown",
      "id": "ff6622e5-f697-4293-b865-ba1a8b33e4fd",
      "metadata": {
        "id": "ff6622e5-f697-4293-b865-ba1a8b33e4fd"
      },
      "source": [
        "### Modelo"
      ]
    },
    {
      "cell_type": "code",
      "execution_count": 46,
      "id": "7ac2df38-42d9-486a-a146-e5286115c9a8",
      "metadata": {
        "id": "7ac2df38-42d9-486a-a146-e5286115c9a8"
      },
      "outputs": [],
      "source": [
        "regr_1 = DecisionTreeRegressor(max_depth=5)\n",
        "regr_2 = DecisionTreeRegressor(max_depth=15)\n",
        "regr_3 = RandomForestRegressor(max_depth=5)\n",
        "regr_4 = ExtraTreesRegressor(max_depth=5)"
      ]
    },
    {
      "cell_type": "markdown",
      "source": [
        "### Entrenamiento"
      ],
      "metadata": {
        "id": "lpptFgrzHQAs"
      },
      "id": "lpptFgrzHQAs"
    },
    {
      "cell_type": "code",
      "source": [
        "regr_1.fit(X_train, y_train)\n",
        "regr_2.fit(X_train, y_train)\n",
        "regr_3.fit(X_train, y_train)\n",
        "regr_4.fit(X_train, y_train)"
      ],
      "metadata": {
        "id": "VNr8eOpRHT7o",
        "outputId": "42a0f790-a8e1-4ace-cb4a-257666aeeb06",
        "colab": {
          "base_uri": "https://localhost:8080/",
          "height": 74
        }
      },
      "id": "VNr8eOpRHT7o",
      "execution_count": 47,
      "outputs": [
        {
          "output_type": "execute_result",
          "data": {
            "text/plain": [
              "ExtraTreesRegressor(max_depth=5)"
            ],
            "text/html": [
              "<style>#sk-container-id-1 {color: black;background-color: white;}#sk-container-id-1 pre{padding: 0;}#sk-container-id-1 div.sk-toggleable {background-color: white;}#sk-container-id-1 label.sk-toggleable__label {cursor: pointer;display: block;width: 100%;margin-bottom: 0;padding: 0.3em;box-sizing: border-box;text-align: center;}#sk-container-id-1 label.sk-toggleable__label-arrow:before {content: \"▸\";float: left;margin-right: 0.25em;color: #696969;}#sk-container-id-1 label.sk-toggleable__label-arrow:hover:before {color: black;}#sk-container-id-1 div.sk-estimator:hover label.sk-toggleable__label-arrow:before {color: black;}#sk-container-id-1 div.sk-toggleable__content {max-height: 0;max-width: 0;overflow: hidden;text-align: left;background-color: #f0f8ff;}#sk-container-id-1 div.sk-toggleable__content pre {margin: 0.2em;color: black;border-radius: 0.25em;background-color: #f0f8ff;}#sk-container-id-1 input.sk-toggleable__control:checked~div.sk-toggleable__content {max-height: 200px;max-width: 100%;overflow: auto;}#sk-container-id-1 input.sk-toggleable__control:checked~label.sk-toggleable__label-arrow:before {content: \"▾\";}#sk-container-id-1 div.sk-estimator input.sk-toggleable__control:checked~label.sk-toggleable__label {background-color: #d4ebff;}#sk-container-id-1 div.sk-label input.sk-toggleable__control:checked~label.sk-toggleable__label {background-color: #d4ebff;}#sk-container-id-1 input.sk-hidden--visually {border: 0;clip: rect(1px 1px 1px 1px);clip: rect(1px, 1px, 1px, 1px);height: 1px;margin: -1px;overflow: hidden;padding: 0;position: absolute;width: 1px;}#sk-container-id-1 div.sk-estimator {font-family: monospace;background-color: #f0f8ff;border: 1px dotted black;border-radius: 0.25em;box-sizing: border-box;margin-bottom: 0.5em;}#sk-container-id-1 div.sk-estimator:hover {background-color: #d4ebff;}#sk-container-id-1 div.sk-parallel-item::after {content: \"\";width: 100%;border-bottom: 1px solid gray;flex-grow: 1;}#sk-container-id-1 div.sk-label:hover label.sk-toggleable__label {background-color: #d4ebff;}#sk-container-id-1 div.sk-serial::before {content: \"\";position: absolute;border-left: 1px solid gray;box-sizing: border-box;top: 0;bottom: 0;left: 50%;z-index: 0;}#sk-container-id-1 div.sk-serial {display: flex;flex-direction: column;align-items: center;background-color: white;padding-right: 0.2em;padding-left: 0.2em;position: relative;}#sk-container-id-1 div.sk-item {position: relative;z-index: 1;}#sk-container-id-1 div.sk-parallel {display: flex;align-items: stretch;justify-content: center;background-color: white;position: relative;}#sk-container-id-1 div.sk-item::before, #sk-container-id-1 div.sk-parallel-item::before {content: \"\";position: absolute;border-left: 1px solid gray;box-sizing: border-box;top: 0;bottom: 0;left: 50%;z-index: -1;}#sk-container-id-1 div.sk-parallel-item {display: flex;flex-direction: column;z-index: 1;position: relative;background-color: white;}#sk-container-id-1 div.sk-parallel-item:first-child::after {align-self: flex-end;width: 50%;}#sk-container-id-1 div.sk-parallel-item:last-child::after {align-self: flex-start;width: 50%;}#sk-container-id-1 div.sk-parallel-item:only-child::after {width: 0;}#sk-container-id-1 div.sk-dashed-wrapped {border: 1px dashed gray;margin: 0 0.4em 0.5em 0.4em;box-sizing: border-box;padding-bottom: 0.4em;background-color: white;}#sk-container-id-1 div.sk-label label {font-family: monospace;font-weight: bold;display: inline-block;line-height: 1.2em;}#sk-container-id-1 div.sk-label-container {text-align: center;}#sk-container-id-1 div.sk-container {/* jupyter's `normalize.less` sets `[hidden] { display: none; }` but bootstrap.min.css set `[hidden] { display: none !important; }` so we also need the `!important` here to be able to override the default hidden behavior on the sphinx rendered scikit-learn.org. See: https://github.com/scikit-learn/scikit-learn/issues/21755 */display: inline-block !important;position: relative;}#sk-container-id-1 div.sk-text-repr-fallback {display: none;}</style><div id=\"sk-container-id-1\" class=\"sk-top-container\"><div class=\"sk-text-repr-fallback\"><pre>ExtraTreesRegressor(max_depth=5)</pre><b>In a Jupyter environment, please rerun this cell to show the HTML representation or trust the notebook. <br />On GitHub, the HTML representation is unable to render, please try loading this page with nbviewer.org.</b></div><div class=\"sk-container\" hidden><div class=\"sk-item\"><div class=\"sk-estimator sk-toggleable\"><input class=\"sk-toggleable__control sk-hidden--visually\" id=\"sk-estimator-id-1\" type=\"checkbox\" checked><label for=\"sk-estimator-id-1\" class=\"sk-toggleable__label sk-toggleable__label-arrow\">ExtraTreesRegressor</label><div class=\"sk-toggleable__content\"><pre>ExtraTreesRegressor(max_depth=5)</pre></div></div></div></div></div>"
            ]
          },
          "metadata": {},
          "execution_count": 47
        }
      ]
    },
    {
      "cell_type": "markdown",
      "id": "bc7f3cac-c3e4-434e-8099-41af38990fbc",
      "metadata": {
        "id": "bc7f3cac-c3e4-434e-8099-41af38990fbc"
      },
      "source": [
        "### Validacion"
      ]
    },
    {
      "cell_type": "markdown",
      "source": [
        "##### DecisionTreeRegressor(max_depth=5)"
      ],
      "metadata": {
        "id": "lyxbIw1xJoqv"
      },
      "id": "lyxbIw1xJoqv"
    },
    {
      "cell_type": "code",
      "execution_count": 48,
      "id": "3e7b989c-f7fb-4b99-a257-b2bf0acbc715",
      "metadata": {
        "id": "3e7b989c-f7fb-4b99-a257-b2bf0acbc715"
      },
      "outputs": [],
      "source": [
        "pred_1_train = regr_1.predict(X_train)\n",
        "pred_1_test = regr_1.predict(X_test)"
      ]
    },
    {
      "cell_type": "code",
      "source": [
        "mse_1_train = mean_squared_error(y_train, pred_1_train)\n",
        "mse_1_test  = mean_squared_error(y_test, pred_1_test)"
      ],
      "metadata": {
        "id": "plsSCnY7IeWB"
      },
      "id": "plsSCnY7IeWB",
      "execution_count": 49,
      "outputs": []
    },
    {
      "cell_type": "code",
      "source": [
        "mse_1_train, mse_1_test"
      ],
      "metadata": {
        "colab": {
          "base_uri": "https://localhost:8080/"
        },
        "id": "TX5crXASI0yX",
        "outputId": "d47d9ef4-b133-4280-ba63-3b1bc757e811"
      },
      "id": "TX5crXASI0yX",
      "execution_count": 50,
      "outputs": [
        {
          "output_type": "execute_result",
          "data": {
            "text/plain": [
              "(0.00021235894805338835, 0.00015811660446849308)"
            ]
          },
          "metadata": {},
          "execution_count": 50
        }
      ]
    },
    {
      "cell_type": "code",
      "source": [
        "rmse_1_train = np.sqrt(mse_1_train)\n",
        "rmse_1_test  = np.sqrt(mse_1_test)\n",
        "print('RMSE:', round(rmse_1_train,4), round(rmse_1_test,4))"
      ],
      "metadata": {
        "colab": {
          "base_uri": "https://localhost:8080/"
        },
        "id": "KRaLkxRdI6qx",
        "outputId": "628a77c5-9af7-42f6-90e2-834c51b36b63"
      },
      "id": "KRaLkxRdI6qx",
      "execution_count": 51,
      "outputs": [
        {
          "output_type": "stream",
          "name": "stdout",
          "text": [
            "RMSE: 0.0146 0.0126\n"
          ]
        }
      ]
    },
    {
      "cell_type": "code",
      "source": [
        "score_1 = r2_score(y_test, pred_1_test)\n",
        "print(f'R2 score: {score_1:.5f}')"
      ],
      "metadata": {
        "colab": {
          "base_uri": "https://localhost:8080/"
        },
        "id": "3sMptfEkJPRM",
        "outputId": "29fb1075-abde-4c3d-bde6-03ae2920b383"
      },
      "id": "3sMptfEkJPRM",
      "execution_count": 52,
      "outputs": [
        {
          "output_type": "stream",
          "name": "stdout",
          "text": [
            "R2 score: 0.21821\n"
          ]
        }
      ]
    },
    {
      "cell_type": "markdown",
      "source": [
        "##### DecisionTreeRegressor(max_depth=15)"
      ],
      "metadata": {
        "id": "t8ZV7xaLJ_D1"
      },
      "id": "t8ZV7xaLJ_D1"
    },
    {
      "cell_type": "code",
      "execution_count": 53,
      "metadata": {
        "id": "t503RGtmJ_D2"
      },
      "outputs": [],
      "source": [
        "pred_2_train = regr_2.predict(X_train)\n",
        "pred_2_test = regr_2.predict(X_test)"
      ],
      "id": "t503RGtmJ_D2"
    },
    {
      "cell_type": "code",
      "source": [
        "mse_2_train = mean_squared_error(y_train, pred_2_train)\n",
        "mse_2_test  = mean_squared_error(y_test, pred_2_test)"
      ],
      "metadata": {
        "id": "jDeuyofOJ_D2"
      },
      "execution_count": 54,
      "outputs": [],
      "id": "jDeuyofOJ_D2"
    },
    {
      "cell_type": "code",
      "source": [
        "mse_2_train, mse_2_test"
      ],
      "metadata": {
        "outputId": "cf180a59-f8b2-4250-f3f8-7fce5d9ada4d",
        "colab": {
          "base_uri": "https://localhost:8080/"
        },
        "id": "E64fZQxvJ_D3"
      },
      "execution_count": 55,
      "outputs": [
        {
          "output_type": "execute_result",
          "data": {
            "text/plain": [
              "(1.8072800399503134e-05, 0.00010929026092005595)"
            ]
          },
          "metadata": {},
          "execution_count": 55
        }
      ],
      "id": "E64fZQxvJ_D3"
    },
    {
      "cell_type": "code",
      "source": [
        "rmse_2_train = np.sqrt(mse_2_train)\n",
        "rmse_2_test  = np.sqrt(mse_2_test)\n",
        "print('RMSE:', round(rmse_2_train,4), round(rmse_2_test,4))"
      ],
      "metadata": {
        "outputId": "53edb586-7b57-4d83-be12-ff913092f6f0",
        "colab": {
          "base_uri": "https://localhost:8080/"
        },
        "id": "C7QnoKr5J_D3"
      },
      "execution_count": 56,
      "outputs": [
        {
          "output_type": "stream",
          "name": "stdout",
          "text": [
            "RMSE: 0.0043 0.0105\n"
          ]
        }
      ],
      "id": "C7QnoKr5J_D3"
    },
    {
      "cell_type": "code",
      "source": [
        "score_2 = r2_score(y_test, pred_2_test)\n",
        "print(f'R2 score: {score_2:.5f}')"
      ],
      "metadata": {
        "outputId": "c02ad1b6-88cc-4365-e29f-2baaee4e744d",
        "colab": {
          "base_uri": "https://localhost:8080/"
        },
        "id": "iZhQkq8dJ_D4"
      },
      "execution_count": 57,
      "outputs": [
        {
          "output_type": "stream",
          "name": "stdout",
          "text": [
            "R2 score: 0.45962\n"
          ]
        }
      ],
      "id": "iZhQkq8dJ_D4"
    },
    {
      "cell_type": "markdown",
      "source": [
        "##### RandomForestRegressor(max_depth=5)"
      ],
      "metadata": {
        "id": "4Eqjbpl9KYPC"
      },
      "id": "4Eqjbpl9KYPC"
    },
    {
      "cell_type": "code",
      "execution_count": 58,
      "metadata": {
        "id": "oKxDVrsMKYPD"
      },
      "outputs": [],
      "source": [
        "pred_3_train = regr_3.predict(X_train)\n",
        "pred_3_test = regr_3.predict(X_test)"
      ],
      "id": "oKxDVrsMKYPD"
    },
    {
      "cell_type": "code",
      "source": [
        "mse_3_train = mean_squared_error(y_train, pred_3_train)\n",
        "mse_3_test  = mean_squared_error(y_test, pred_3_test)"
      ],
      "metadata": {
        "id": "72YvklfFKYPE"
      },
      "execution_count": 59,
      "outputs": [],
      "id": "72YvklfFKYPE"
    },
    {
      "cell_type": "code",
      "source": [
        "mse_3_train, mse_3_test"
      ],
      "metadata": {
        "outputId": "2ead3fd7-d575-43eb-e2fc-ed91afa4b374",
        "colab": {
          "base_uri": "https://localhost:8080/"
        },
        "id": "y2BJi1r1KYPF"
      },
      "execution_count": 60,
      "outputs": [
        {
          "output_type": "execute_result",
          "data": {
            "text/plain": [
              "(0.00017402446832294377, 0.00013288472070425945)"
            ]
          },
          "metadata": {},
          "execution_count": 60
        }
      ],
      "id": "y2BJi1r1KYPF"
    },
    {
      "cell_type": "code",
      "source": [
        "rmse_3_train = np.sqrt(mse_3_train)\n",
        "rmse_3_test  = np.sqrt(mse_3_test)\n",
        "print('RMSE:', round(rmse_3_train,4), round(rmse_3_test,4))"
      ],
      "metadata": {
        "outputId": "b76a9934-8413-4a22-d6f2-11ee16af2bb5",
        "colab": {
          "base_uri": "https://localhost:8080/"
        },
        "id": "9q3MHZ5fKYPG"
      },
      "execution_count": 61,
      "outputs": [
        {
          "output_type": "stream",
          "name": "stdout",
          "text": [
            "RMSE: 0.0132 0.0115\n"
          ]
        }
      ],
      "id": "9q3MHZ5fKYPG"
    },
    {
      "cell_type": "code",
      "source": [
        "score_3 = r2_score(y_test, pred_3_test)\n",
        "print(f'R2 score: {score_3:.5f}')"
      ],
      "metadata": {
        "outputId": "90dae67f-86a8-46c9-fb6b-ce78ccb6623d",
        "colab": {
          "base_uri": "https://localhost:8080/"
        },
        "id": "lP0U9tdyKYPH"
      },
      "execution_count": 62,
      "outputs": [
        {
          "output_type": "stream",
          "name": "stdout",
          "text": [
            "R2 score: 0.34296\n"
          ]
        }
      ],
      "id": "lP0U9tdyKYPH"
    },
    {
      "cell_type": "markdown",
      "source": [
        "##### ExtraTreesRegressor(max_depth=5)"
      ],
      "metadata": {
        "id": "jU02raumKymN"
      },
      "id": "jU02raumKymN"
    },
    {
      "cell_type": "code",
      "execution_count": 63,
      "metadata": {
        "id": "Gp64b-JZKymU"
      },
      "outputs": [],
      "source": [
        "pred_4_train = regr_4.predict(X_train)\n",
        "pred_4_test = regr_4.predict(X_test)"
      ],
      "id": "Gp64b-JZKymU"
    },
    {
      "cell_type": "code",
      "source": [
        "mse_4_train = mean_squared_error(y_train, pred_4_train)\n",
        "mse_4_test  = mean_squared_error(y_test, pred_4_test)"
      ],
      "metadata": {
        "id": "Mkt7HNTAKymU"
      },
      "execution_count": 64,
      "outputs": [],
      "id": "Mkt7HNTAKymU"
    },
    {
      "cell_type": "code",
      "source": [
        "mse_4_train, mse_4_test"
      ],
      "metadata": {
        "outputId": "48b6d2af-6986-431a-81e3-de4b6b928c87",
        "colab": {
          "base_uri": "https://localhost:8080/"
        },
        "id": "0LnZoHQNKymU"
      },
      "execution_count": 65,
      "outputs": [
        {
          "output_type": "execute_result",
          "data": {
            "text/plain": [
              "(0.00024200105631414244, 0.00018706083130671844)"
            ]
          },
          "metadata": {},
          "execution_count": 65
        }
      ],
      "id": "0LnZoHQNKymU"
    },
    {
      "cell_type": "code",
      "source": [
        "rmse_4_train = np.sqrt(mse_4_train)\n",
        "rmse_4_test  = np.sqrt(mse_4_test)\n",
        "print('RMSE:', round(rmse_4_train,4), round(rmse_4_test,4))"
      ],
      "metadata": {
        "outputId": "91fa52fa-5990-400b-9152-4fb6810eba5d",
        "colab": {
          "base_uri": "https://localhost:8080/"
        },
        "id": "9HyfBdipKymU"
      },
      "execution_count": 66,
      "outputs": [
        {
          "output_type": "stream",
          "name": "stdout",
          "text": [
            "RMSE: 0.0156 0.0137\n"
          ]
        }
      ],
      "id": "9HyfBdipKymU"
    },
    {
      "cell_type": "code",
      "source": [
        "score_4 = r2_score(y_test, pred_4_test)\n",
        "print(f'R2 score: {score_4:.5f}')"
      ],
      "metadata": {
        "outputId": "17aba660-e85d-4503-d255-539fd40510e6",
        "colab": {
          "base_uri": "https://localhost:8080/"
        },
        "id": "SIDDc2EtKymV"
      },
      "execution_count": 67,
      "outputs": [
        {
          "output_type": "stream",
          "name": "stdout",
          "text": [
            "R2 score: 0.07510\n"
          ]
        }
      ],
      "id": "SIDDc2EtKymV"
    },
    {
      "cell_type": "markdown",
      "id": "27e04255-9478-4357-b040-bf0857399938",
      "metadata": {
        "id": "27e04255-9478-4357-b040-bf0857399938"
      },
      "source": [
        "### Prediccion"
      ]
    },
    {
      "cell_type": "code",
      "execution_count": 68,
      "id": "54d33b74-7ada-431b-9ad0-af0f8851695a",
      "metadata": {
        "tags": [],
        "id": "54d33b74-7ada-431b-9ad0-af0f8851695a"
      },
      "outputs": [],
      "source": [
        "# Ingresar codigo\n",
        "codigo_in = random.choice(encoder.classes_) \n",
        "new_codigo_in = encoder.transform([codigo_in])\n",
        "new_codigo_embedding = matriz_embedding[new_codigo_in]\n"
      ]
    },
    {
      "cell_type": "code",
      "execution_count": 69,
      "id": "ec881062-b0d8-4515-a58b-61a32626b52a",
      "metadata": {
        "id": "ec881062-b0d8-4515-a58b-61a32626b52a"
      },
      "outputs": [],
      "source": [
        "# Ingresar año y mes\n",
        "anio_in = 2023\n",
        "mes_in = 6"
      ]
    },
    {
      "cell_type": "code",
      "execution_count": 70,
      "id": "3257d88c-3982-4bf6-a988-10b7928d6048",
      "metadata": {
        "id": "3257d88c-3982-4bf6-a988-10b7928d6048"
      },
      "outputs": [],
      "source": [
        "atributos_in = np.concatenate((new_codigo_embedding, anio_in, mes_in), axis=None)"
      ]
    },
    {
      "cell_type": "code",
      "execution_count": 71,
      "id": "6b831671-48a7-4249-94d6-2a4c37e0f89b",
      "metadata": {
        "id": "6b831671-48a7-4249-94d6-2a4c37e0f89b"
      },
      "outputs": [],
      "source": [
        "atributos_in = atributos_in.reshape(1, 12)"
      ]
    },
    {
      "cell_type": "code",
      "execution_count": 82,
      "id": "4d229b8e-7c5e-4482-8fb6-a862c78dc8b2",
      "metadata": {
        "id": "4d229b8e-7c5e-4482-8fb6-a862c78dc8b2"
      },
      "outputs": [],
      "source": [
        "pred = regr_2.predict(atributos_in)"
      ]
    },
    {
      "cell_type": "code",
      "execution_count": 83,
      "id": "545a56db-34ab-45a7-86dd-2de0d4c8f969",
      "metadata": {
        "id": "545a56db-34ab-45a7-86dd-2de0d4c8f969"
      },
      "outputs": [],
      "source": [
        "pred = mmscaler.inverse_transform(pred.reshape(-1, 1))"
      ]
    },
    {
      "cell_type": "code",
      "execution_count": 84,
      "id": "987d26b9-c056-49e2-b14b-4903a2b28e66",
      "metadata": {
        "id": "987d26b9-c056-49e2-b14b-4903a2b28e66",
        "outputId": "5e680fcf-9730-462b-b065-6b692533eaa6",
        "colab": {
          "base_uri": "https://localhost:8080/"
        }
      },
      "outputs": [
        {
          "output_type": "stream",
          "name": "stdout",
          "text": [
            "Prediccion para el código 05400000 Año 2023 Mes 6: 39.9 incidentes\n"
          ]
        }
      ],
      "source": [
        "print(f\"Prediccion para el código {codigo_in} Año {anio_in} Mes {mes_in}: {np.round(pred[0][0],2)} incidentes\")  "
      ]
    },
    {
      "cell_type": "markdown",
      "id": "3317a867-e395-4c16-9404-750afed0e780",
      "metadata": {
        "id": "3317a867-e395-4c16-9404-750afed0e780"
      },
      "source": [
        "### Verificacion grafica"
      ]
    },
    {
      "cell_type": "code",
      "execution_count": 85,
      "id": "fbf28d30-1618-4714-903c-732f3d2de2a9",
      "metadata": {
        "id": "fbf28d30-1618-4714-903c-732f3d2de2a9",
        "outputId": "57727c21-0bde-4d6f-a834-a14cc25a1ad5",
        "colab": {
          "base_uri": "https://localhost:8080/",
          "height": 551
        }
      },
      "outputs": [
        {
          "output_type": "execute_result",
          "data": {
            "text/plain": [
              "        codigo     emb_0     emb_1     emb_2     emb_3     emb_4     emb_5  \\\n",
              "6528  05400000  0.453772  0.555922  0.916904  0.594283  0.582402  0.091814   \n",
              "6529  05400000  0.453772  0.555922  0.916904  0.594283  0.582402  0.091814   \n",
              "6530  05400000  0.453772  0.555922  0.916904  0.594283  0.582402  0.091814   \n",
              "6531  05400000  0.453772  0.555922  0.916904  0.594283  0.582402  0.091814   \n",
              "6532  05400000  0.453772  0.555922  0.916904  0.594283  0.582402  0.091814   \n",
              "6533  05400000  0.453772  0.555922  0.916904  0.594283  0.582402  0.091814   \n",
              "6534  05400000  0.453772  0.555922  0.916904  0.594283  0.582402  0.091814   \n",
              "6535  05400000  0.453772  0.555922  0.916904  0.594283  0.582402  0.091814   \n",
              "6536  05400000  0.453772  0.555922  0.916904  0.594283  0.582402  0.091814   \n",
              "6537  05400000  0.453772  0.555922  0.916904  0.594283  0.582402  0.091814   \n",
              "6538  05400000  0.453772  0.555922  0.916904  0.594283  0.582402  0.091814   \n",
              "6539  05400000  0.453772  0.555922  0.916904  0.594283  0.582402  0.091814   \n",
              "6540  05400000  0.453772  0.555922  0.916904  0.594283  0.582402  0.091814   \n",
              "6541  05400000  0.453772  0.555922  0.916904  0.594283  0.582402  0.091814   \n",
              "6542  05400000  0.453772  0.555922  0.916904  0.594283  0.582402  0.091814   \n",
              "6543  05400000  0.453772  0.555922  0.916904  0.594283  0.582402  0.091814   \n",
              "\n",
              "         emb_6     emb_7     emb_8     emb_9   año  mes  total_cp  \n",
              "6528  0.031852  0.125088  0.106501  0.822224  2022    1  0.030303  \n",
              "6529  0.031852  0.125088  0.106501  0.822224  2022    2  0.012234  \n",
              "6530  0.031852  0.125088  0.106501  0.822224  2022    3  0.018257  \n",
              "6531  0.031852  0.125088  0.106501  0.822224  2022    4  0.016375  \n",
              "6532  0.031852  0.125088  0.106501  0.822224  2022    5  0.016751  \n",
              "6533  0.031852  0.125088  0.106501  0.822224  2022    6  0.015998  \n",
              "6534  0.031852  0.125088  0.106501  0.822224  2022    7  0.017881  \n",
              "6535  0.031852  0.125088  0.106501  0.822224  2022    8  0.019386  \n",
              "6536  0.031852  0.125088  0.106501  0.822224  2022    9  0.019386  \n",
              "6537  0.031852  0.125088  0.106501  0.822224  2022   10  0.014681  \n",
              "6538  0.031852  0.125088  0.106501  0.822224  2022   11  0.019198  \n",
              "6539  0.031852  0.125088  0.106501  0.822224  2022   12  0.018257  \n",
              "6540  0.031852  0.125088  0.106501  0.822224  2023    1  0.014869  \n",
              "6541  0.031852  0.125088  0.106501  0.822224  2023    2  0.015246  \n",
              "6542  0.031852  0.125088  0.106501  0.822224  2023    3  0.021457  \n",
              "6543  0.031852  0.125088  0.106501  0.822224  2023    4  0.007152  "
            ],
            "text/html": [
              "\n",
              "  <div id=\"df-3f25e164-6b83-455e-8688-b15d7126b967\">\n",
              "    <div class=\"colab-df-container\">\n",
              "      <div>\n",
              "<style scoped>\n",
              "    .dataframe tbody tr th:only-of-type {\n",
              "        vertical-align: middle;\n",
              "    }\n",
              "\n",
              "    .dataframe tbody tr th {\n",
              "        vertical-align: top;\n",
              "    }\n",
              "\n",
              "    .dataframe thead th {\n",
              "        text-align: right;\n",
              "    }\n",
              "</style>\n",
              "<table border=\"1\" class=\"dataframe\">\n",
              "  <thead>\n",
              "    <tr style=\"text-align: right;\">\n",
              "      <th></th>\n",
              "      <th>codigo</th>\n",
              "      <th>emb_0</th>\n",
              "      <th>emb_1</th>\n",
              "      <th>emb_2</th>\n",
              "      <th>emb_3</th>\n",
              "      <th>emb_4</th>\n",
              "      <th>emb_5</th>\n",
              "      <th>emb_6</th>\n",
              "      <th>emb_7</th>\n",
              "      <th>emb_8</th>\n",
              "      <th>emb_9</th>\n",
              "      <th>año</th>\n",
              "      <th>mes</th>\n",
              "      <th>total_cp</th>\n",
              "    </tr>\n",
              "  </thead>\n",
              "  <tbody>\n",
              "    <tr>\n",
              "      <th>6528</th>\n",
              "      <td>05400000</td>\n",
              "      <td>0.453772</td>\n",
              "      <td>0.555922</td>\n",
              "      <td>0.916904</td>\n",
              "      <td>0.594283</td>\n",
              "      <td>0.582402</td>\n",
              "      <td>0.091814</td>\n",
              "      <td>0.031852</td>\n",
              "      <td>0.125088</td>\n",
              "      <td>0.106501</td>\n",
              "      <td>0.822224</td>\n",
              "      <td>2022</td>\n",
              "      <td>1</td>\n",
              "      <td>0.030303</td>\n",
              "    </tr>\n",
              "    <tr>\n",
              "      <th>6529</th>\n",
              "      <td>05400000</td>\n",
              "      <td>0.453772</td>\n",
              "      <td>0.555922</td>\n",
              "      <td>0.916904</td>\n",
              "      <td>0.594283</td>\n",
              "      <td>0.582402</td>\n",
              "      <td>0.091814</td>\n",
              "      <td>0.031852</td>\n",
              "      <td>0.125088</td>\n",
              "      <td>0.106501</td>\n",
              "      <td>0.822224</td>\n",
              "      <td>2022</td>\n",
              "      <td>2</td>\n",
              "      <td>0.012234</td>\n",
              "    </tr>\n",
              "    <tr>\n",
              "      <th>6530</th>\n",
              "      <td>05400000</td>\n",
              "      <td>0.453772</td>\n",
              "      <td>0.555922</td>\n",
              "      <td>0.916904</td>\n",
              "      <td>0.594283</td>\n",
              "      <td>0.582402</td>\n",
              "      <td>0.091814</td>\n",
              "      <td>0.031852</td>\n",
              "      <td>0.125088</td>\n",
              "      <td>0.106501</td>\n",
              "      <td>0.822224</td>\n",
              "      <td>2022</td>\n",
              "      <td>3</td>\n",
              "      <td>0.018257</td>\n",
              "    </tr>\n",
              "    <tr>\n",
              "      <th>6531</th>\n",
              "      <td>05400000</td>\n",
              "      <td>0.453772</td>\n",
              "      <td>0.555922</td>\n",
              "      <td>0.916904</td>\n",
              "      <td>0.594283</td>\n",
              "      <td>0.582402</td>\n",
              "      <td>0.091814</td>\n",
              "      <td>0.031852</td>\n",
              "      <td>0.125088</td>\n",
              "      <td>0.106501</td>\n",
              "      <td>0.822224</td>\n",
              "      <td>2022</td>\n",
              "      <td>4</td>\n",
              "      <td>0.016375</td>\n",
              "    </tr>\n",
              "    <tr>\n",
              "      <th>6532</th>\n",
              "      <td>05400000</td>\n",
              "      <td>0.453772</td>\n",
              "      <td>0.555922</td>\n",
              "      <td>0.916904</td>\n",
              "      <td>0.594283</td>\n",
              "      <td>0.582402</td>\n",
              "      <td>0.091814</td>\n",
              "      <td>0.031852</td>\n",
              "      <td>0.125088</td>\n",
              "      <td>0.106501</td>\n",
              "      <td>0.822224</td>\n",
              "      <td>2022</td>\n",
              "      <td>5</td>\n",
              "      <td>0.016751</td>\n",
              "    </tr>\n",
              "    <tr>\n",
              "      <th>6533</th>\n",
              "      <td>05400000</td>\n",
              "      <td>0.453772</td>\n",
              "      <td>0.555922</td>\n",
              "      <td>0.916904</td>\n",
              "      <td>0.594283</td>\n",
              "      <td>0.582402</td>\n",
              "      <td>0.091814</td>\n",
              "      <td>0.031852</td>\n",
              "      <td>0.125088</td>\n",
              "      <td>0.106501</td>\n",
              "      <td>0.822224</td>\n",
              "      <td>2022</td>\n",
              "      <td>6</td>\n",
              "      <td>0.015998</td>\n",
              "    </tr>\n",
              "    <tr>\n",
              "      <th>6534</th>\n",
              "      <td>05400000</td>\n",
              "      <td>0.453772</td>\n",
              "      <td>0.555922</td>\n",
              "      <td>0.916904</td>\n",
              "      <td>0.594283</td>\n",
              "      <td>0.582402</td>\n",
              "      <td>0.091814</td>\n",
              "      <td>0.031852</td>\n",
              "      <td>0.125088</td>\n",
              "      <td>0.106501</td>\n",
              "      <td>0.822224</td>\n",
              "      <td>2022</td>\n",
              "      <td>7</td>\n",
              "      <td>0.017881</td>\n",
              "    </tr>\n",
              "    <tr>\n",
              "      <th>6535</th>\n",
              "      <td>05400000</td>\n",
              "      <td>0.453772</td>\n",
              "      <td>0.555922</td>\n",
              "      <td>0.916904</td>\n",
              "      <td>0.594283</td>\n",
              "      <td>0.582402</td>\n",
              "      <td>0.091814</td>\n",
              "      <td>0.031852</td>\n",
              "      <td>0.125088</td>\n",
              "      <td>0.106501</td>\n",
              "      <td>0.822224</td>\n",
              "      <td>2022</td>\n",
              "      <td>8</td>\n",
              "      <td>0.019386</td>\n",
              "    </tr>\n",
              "    <tr>\n",
              "      <th>6536</th>\n",
              "      <td>05400000</td>\n",
              "      <td>0.453772</td>\n",
              "      <td>0.555922</td>\n",
              "      <td>0.916904</td>\n",
              "      <td>0.594283</td>\n",
              "      <td>0.582402</td>\n",
              "      <td>0.091814</td>\n",
              "      <td>0.031852</td>\n",
              "      <td>0.125088</td>\n",
              "      <td>0.106501</td>\n",
              "      <td>0.822224</td>\n",
              "      <td>2022</td>\n",
              "      <td>9</td>\n",
              "      <td>0.019386</td>\n",
              "    </tr>\n",
              "    <tr>\n",
              "      <th>6537</th>\n",
              "      <td>05400000</td>\n",
              "      <td>0.453772</td>\n",
              "      <td>0.555922</td>\n",
              "      <td>0.916904</td>\n",
              "      <td>0.594283</td>\n",
              "      <td>0.582402</td>\n",
              "      <td>0.091814</td>\n",
              "      <td>0.031852</td>\n",
              "      <td>0.125088</td>\n",
              "      <td>0.106501</td>\n",
              "      <td>0.822224</td>\n",
              "      <td>2022</td>\n",
              "      <td>10</td>\n",
              "      <td>0.014681</td>\n",
              "    </tr>\n",
              "    <tr>\n",
              "      <th>6538</th>\n",
              "      <td>05400000</td>\n",
              "      <td>0.453772</td>\n",
              "      <td>0.555922</td>\n",
              "      <td>0.916904</td>\n",
              "      <td>0.594283</td>\n",
              "      <td>0.582402</td>\n",
              "      <td>0.091814</td>\n",
              "      <td>0.031852</td>\n",
              "      <td>0.125088</td>\n",
              "      <td>0.106501</td>\n",
              "      <td>0.822224</td>\n",
              "      <td>2022</td>\n",
              "      <td>11</td>\n",
              "      <td>0.019198</td>\n",
              "    </tr>\n",
              "    <tr>\n",
              "      <th>6539</th>\n",
              "      <td>05400000</td>\n",
              "      <td>0.453772</td>\n",
              "      <td>0.555922</td>\n",
              "      <td>0.916904</td>\n",
              "      <td>0.594283</td>\n",
              "      <td>0.582402</td>\n",
              "      <td>0.091814</td>\n",
              "      <td>0.031852</td>\n",
              "      <td>0.125088</td>\n",
              "      <td>0.106501</td>\n",
              "      <td>0.822224</td>\n",
              "      <td>2022</td>\n",
              "      <td>12</td>\n",
              "      <td>0.018257</td>\n",
              "    </tr>\n",
              "    <tr>\n",
              "      <th>6540</th>\n",
              "      <td>05400000</td>\n",
              "      <td>0.453772</td>\n",
              "      <td>0.555922</td>\n",
              "      <td>0.916904</td>\n",
              "      <td>0.594283</td>\n",
              "      <td>0.582402</td>\n",
              "      <td>0.091814</td>\n",
              "      <td>0.031852</td>\n",
              "      <td>0.125088</td>\n",
              "      <td>0.106501</td>\n",
              "      <td>0.822224</td>\n",
              "      <td>2023</td>\n",
              "      <td>1</td>\n",
              "      <td>0.014869</td>\n",
              "    </tr>\n",
              "    <tr>\n",
              "      <th>6541</th>\n",
              "      <td>05400000</td>\n",
              "      <td>0.453772</td>\n",
              "      <td>0.555922</td>\n",
              "      <td>0.916904</td>\n",
              "      <td>0.594283</td>\n",
              "      <td>0.582402</td>\n",
              "      <td>0.091814</td>\n",
              "      <td>0.031852</td>\n",
              "      <td>0.125088</td>\n",
              "      <td>0.106501</td>\n",
              "      <td>0.822224</td>\n",
              "      <td>2023</td>\n",
              "      <td>2</td>\n",
              "      <td>0.015246</td>\n",
              "    </tr>\n",
              "    <tr>\n",
              "      <th>6542</th>\n",
              "      <td>05400000</td>\n",
              "      <td>0.453772</td>\n",
              "      <td>0.555922</td>\n",
              "      <td>0.916904</td>\n",
              "      <td>0.594283</td>\n",
              "      <td>0.582402</td>\n",
              "      <td>0.091814</td>\n",
              "      <td>0.031852</td>\n",
              "      <td>0.125088</td>\n",
              "      <td>0.106501</td>\n",
              "      <td>0.822224</td>\n",
              "      <td>2023</td>\n",
              "      <td>3</td>\n",
              "      <td>0.021457</td>\n",
              "    </tr>\n",
              "    <tr>\n",
              "      <th>6543</th>\n",
              "      <td>05400000</td>\n",
              "      <td>0.453772</td>\n",
              "      <td>0.555922</td>\n",
              "      <td>0.916904</td>\n",
              "      <td>0.594283</td>\n",
              "      <td>0.582402</td>\n",
              "      <td>0.091814</td>\n",
              "      <td>0.031852</td>\n",
              "      <td>0.125088</td>\n",
              "      <td>0.106501</td>\n",
              "      <td>0.822224</td>\n",
              "      <td>2023</td>\n",
              "      <td>4</td>\n",
              "      <td>0.007152</td>\n",
              "    </tr>\n",
              "  </tbody>\n",
              "</table>\n",
              "</div>\n",
              "      <button class=\"colab-df-convert\" onclick=\"convertToInteractive('df-3f25e164-6b83-455e-8688-b15d7126b967')\"\n",
              "              title=\"Convert this dataframe to an interactive table.\"\n",
              "              style=\"display:none;\">\n",
              "        \n",
              "  <svg xmlns=\"http://www.w3.org/2000/svg\" height=\"24px\"viewBox=\"0 0 24 24\"\n",
              "       width=\"24px\">\n",
              "    <path d=\"M0 0h24v24H0V0z\" fill=\"none\"/>\n",
              "    <path d=\"M18.56 5.44l.94 2.06.94-2.06 2.06-.94-2.06-.94-.94-2.06-.94 2.06-2.06.94zm-11 1L8.5 8.5l.94-2.06 2.06-.94-2.06-.94L8.5 2.5l-.94 2.06-2.06.94zm10 10l.94 2.06.94-2.06 2.06-.94-2.06-.94-.94-2.06-.94 2.06-2.06.94z\"/><path d=\"M17.41 7.96l-1.37-1.37c-.4-.4-.92-.59-1.43-.59-.52 0-1.04.2-1.43.59L10.3 9.45l-7.72 7.72c-.78.78-.78 2.05 0 2.83L4 21.41c.39.39.9.59 1.41.59.51 0 1.02-.2 1.41-.59l7.78-7.78 2.81-2.81c.8-.78.8-2.07 0-2.86zM5.41 20L4 18.59l7.72-7.72 1.47 1.35L5.41 20z\"/>\n",
              "  </svg>\n",
              "      </button>\n",
              "      \n",
              "  <style>\n",
              "    .colab-df-container {\n",
              "      display:flex;\n",
              "      flex-wrap:wrap;\n",
              "      gap: 12px;\n",
              "    }\n",
              "\n",
              "    .colab-df-convert {\n",
              "      background-color: #E8F0FE;\n",
              "      border: none;\n",
              "      border-radius: 50%;\n",
              "      cursor: pointer;\n",
              "      display: none;\n",
              "      fill: #1967D2;\n",
              "      height: 32px;\n",
              "      padding: 0 0 0 0;\n",
              "      width: 32px;\n",
              "    }\n",
              "\n",
              "    .colab-df-convert:hover {\n",
              "      background-color: #E2EBFA;\n",
              "      box-shadow: 0px 1px 2px rgba(60, 64, 67, 0.3), 0px 1px 3px 1px rgba(60, 64, 67, 0.15);\n",
              "      fill: #174EA6;\n",
              "    }\n",
              "\n",
              "    [theme=dark] .colab-df-convert {\n",
              "      background-color: #3B4455;\n",
              "      fill: #D2E3FC;\n",
              "    }\n",
              "\n",
              "    [theme=dark] .colab-df-convert:hover {\n",
              "      background-color: #434B5C;\n",
              "      box-shadow: 0px 1px 3px 1px rgba(0, 0, 0, 0.15);\n",
              "      filter: drop-shadow(0px 1px 2px rgba(0, 0, 0, 0.3));\n",
              "      fill: #FFFFFF;\n",
              "    }\n",
              "  </style>\n",
              "\n",
              "      <script>\n",
              "        const buttonEl =\n",
              "          document.querySelector('#df-3f25e164-6b83-455e-8688-b15d7126b967 button.colab-df-convert');\n",
              "        buttonEl.style.display =\n",
              "          google.colab.kernel.accessAllowed ? 'block' : 'none';\n",
              "\n",
              "        async function convertToInteractive(key) {\n",
              "          const element = document.querySelector('#df-3f25e164-6b83-455e-8688-b15d7126b967');\n",
              "          const dataTable =\n",
              "            await google.colab.kernel.invokeFunction('convertToInteractive',\n",
              "                                                     [key], {});\n",
              "          if (!dataTable) return;\n",
              "\n",
              "          const docLinkHtml = 'Like what you see? Visit the ' +\n",
              "            '<a target=\"_blank\" href=https://colab.research.google.com/notebooks/data_table.ipynb>data table notebook</a>'\n",
              "            + ' to learn more about interactive tables.';\n",
              "          element.innerHTML = '';\n",
              "          dataTable['output_type'] = 'display_data';\n",
              "          await google.colab.output.renderOutput(dataTable, element);\n",
              "          const docLink = document.createElement('div');\n",
              "          docLink.innerHTML = docLinkHtml;\n",
              "          element.appendChild(docLink);\n",
              "        }\n",
              "      </script>\n",
              "    </div>\n",
              "  </div>\n",
              "  "
            ]
          },
          "metadata": {},
          "execution_count": 85
        }
      ],
      "source": [
        "filtro = df_final['codigo'] == codigo_in\n",
        "df_filtrado = df_final[filtro]\n",
        "df_filtrado"
      ]
    },
    {
      "cell_type": "code",
      "execution_count": 86,
      "id": "82674daf-0247-4395-8173-ed022df31e12",
      "metadata": {
        "id": "82674daf-0247-4395-8173-ed022df31e12"
      },
      "outputs": [],
      "source": [
        "df_filtrado = df_filtrado.sort_values(['año','mes'], ascending=True)"
      ]
    },
    {
      "cell_type": "code",
      "execution_count": 87,
      "id": "4b9d2c2c-321f-4cf2-8028-8de987cc3476",
      "metadata": {
        "id": "4b9d2c2c-321f-4cf2-8028-8de987cc3476"
      },
      "outputs": [],
      "source": [
        "fechas = []\n",
        "totales = []\n",
        "\n",
        "for row in df_filtrado.iterrows():\n",
        "    fechas.append(str(row[1][11])+'-'+str(row[1][12])+'-01')\n",
        "    totales.append(row[1][13])"
      ]
    },
    {
      "cell_type": "code",
      "execution_count": 88,
      "id": "ecebec5d-cb0c-4b37-9585-dad10b0f0195",
      "metadata": {
        "id": "ecebec5d-cb0c-4b37-9585-dad10b0f0195",
        "outputId": "7b7d0436-33a2-406e-85e2-8ce395400150",
        "colab": {
          "base_uri": "https://localhost:8080/",
          "height": 36
        }
      },
      "outputs": [
        {
          "output_type": "execute_result",
          "data": {
            "text/plain": [
              "'2022-1-01'"
            ],
            "application/vnd.google.colaboratory.intrinsic+json": {
              "type": "string"
            }
          },
          "metadata": {},
          "execution_count": 88
        }
      ],
      "source": [
        "fechas[0]"
      ]
    },
    {
      "cell_type": "code",
      "execution_count": 89,
      "id": "a9b207af-98f5-4ac3-be03-3ee78d3d7673",
      "metadata": {
        "id": "a9b207af-98f5-4ac3-be03-3ee78d3d7673"
      },
      "outputs": [],
      "source": [
        "totales = mmscaler.inverse_transform([totales])"
      ]
    },
    {
      "cell_type": "code",
      "execution_count": 90,
      "id": "399c9268-be5b-4f0b-bae9-30f60f5c999e",
      "metadata": {
        "id": "399c9268-be5b-4f0b-bae9-30f60f5c999e"
      },
      "outputs": [],
      "source": [
        "df_graf = pd.DataFrame({'fechas':fechas, 'totales':totales.reshape(-1,)})"
      ]
    },
    {
      "cell_type": "code",
      "execution_count": 91,
      "id": "b0655391-a500-45c2-9df0-3d3139cca347",
      "metadata": {
        "id": "b0655391-a500-45c2-9df0-3d3139cca347",
        "outputId": "e154ed02-b924-4054-dafa-0e7f9370c7e8",
        "colab": {
          "base_uri": "https://localhost:8080/",
          "height": 565
        }
      },
      "outputs": [
        {
          "output_type": "display_data",
          "data": {
            "text/plain": [
              "<Figure size 2000x500 with 1 Axes>"
            ],
            "image/png": "[encoded data removed]"
          },
          "metadata": {}
        }
      ],
      "source": [
        "plt.figure(figsize=(20, 5))\n",
        "sns.set(color_codes=True)\n",
        "plt.xticks(rotation=90)\n",
        "sns.scatterplot(x='fechas', y='totales', data=df_graf)\n",
        "plt.scatter(x=(str(anio_in)+'-'+str(mes_in)+'-01'), y=pred, color='red')\n",
        "plt.plot(df_graf.fechas, df_graf.totales)\n",
        "plt.title(\"Codigo: \"+codigo_in)\n",
        "plt.show()"
      ]
    },
    {
      "cell_type": "code",
      "source": [],
      "metadata": {
        "id": "94XZ8bxd54Kp"
      },
      "id": "94XZ8bxd54Kp",
      "execution_count": null,
      "outputs": []
    }
  ],
  "metadata": {
    "kernelspec": {
      "display_name": "Python 3 (ipykernel)",
      "language": "python",
      "name": "python3"
    },
    "language_info": {
      "codemirror_mode": {
        "name": "ipython",
        "version": 3
      },
      "file_extension": ".py",
      "mimetype": "text/x-python",
      "name": "python",
      "nbconvert_exporter": "python",
      "pygments_lexer": "ipython3",
      "version": "3.8.12"
    },
    "toc-autonumbering": false,
    "toc-showcode": false,
    "toc-showmarkdowntxt": false,
    "colab": {
      "provenance": [],
      "include_colab_link": true
    }
  },
  "nbformat": 4,
  "nbformat_minor": 5
}